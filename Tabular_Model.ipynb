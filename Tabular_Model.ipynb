{
 "cells": [
  {
   "cell_type": "code",
   "execution_count": 1,
   "metadata": {},
   "outputs": [],
   "source": [
    "import os\n",
    "import torch\n",
    "import copy\n",
    "import random\n",
    "import itertools\n",
    "import numpy as np\n",
    "import pandas as pd\n",
    "import seaborn as sns\n",
    "import matplotlib.pyplot as plt\n",
    "from torch.utils.tensorboard import SummaryWriter\n",
    "from sklearn.model_selection import train_test_split\n",
    "from pytorch_tabnet.tab_model import TabNetRegressor\n",
    "from sklearn.metrics import r2_score, mean_squared_error\n",
    "\n",
    "def fix_random(seed: int) -> None:\n",
    "    np.random.seed(seed)\n",
    "    random.seed(seed)\n",
    "    torch.manual_seed(seed)\n",
    "    torch.cuda.manual_seed(seed)\n",
    "\n",
    "    torch.backends.cudnn.benchmark = False\n",
    "    torch.backends.cudnn.deterministic = True  # slower\n",
    "\n",
    "fix_random(42)\n",
    "\n",
    "if not os.path.exists('tabularML'):\n",
    "    os.makedirs('tabularML')"
   ]
  },
  {
   "cell_type": "code",
   "execution_count": 2,
   "metadata": {},
   "outputs": [
    {
     "name": "stdout",
     "output_type": "stream",
     "text": [
      "Using device: cuda\n"
     ]
    }
   ],
   "source": [
    "df = pd.read_csv('dataset.csv')\n",
    "\n",
    "# PyTorch Device\n",
    "if torch.cuda.is_available():\n",
    "    device = torch.device('cuda')\n",
    "elif torch.backends.mps.is_available():\n",
    "    device = torch.device('mps')\n",
    "else:\n",
    "    device = torch.device('cpu')\n",
    "print('Using device:', device)"
   ]
  },
  {
   "cell_type": "code",
   "execution_count": 3,
   "metadata": {},
   "outputs": [],
   "source": [
    "#print only the year column\n",
    "df.drop(['year','rating_count'], axis=1, inplace=True)"
   ]
  },
  {
   "cell_type": "code",
   "execution_count": 4,
   "metadata": {},
   "outputs": [
    {
     "name": "stdout",
     "output_type": "stream",
     "text": [
      "Number of training samples: 9934\n",
      "Number of validation samples: 1104\n",
      "Number of testing samples: 2760\n",
      "\n",
      "Number of features: 1148\n"
     ]
    }
   ],
   "source": [
    "X = df.drop('rating', axis=1)\n",
    "Y = df['rating']\n",
    "\n",
    "X_train, X_test, Y_train, Y_test = train_test_split(X, Y, test_size=0.2, random_state=42)\n",
    "X_train, X_val, Y_train, Y_val = train_test_split(X_train, Y_train, test_size=0.1, random_state=42)\n",
    "\n",
    "X_train = X_train.to_numpy()\n",
    "X_val = X_val.to_numpy()\n",
    "X_test = X_test.to_numpy()\n",
    "Y_train = Y_train.to_numpy()\n",
    "Y_val = Y_val.to_numpy()\n",
    "Y_test = Y_test.to_numpy()\n",
    "\n",
    "Y_train = Y_train.reshape(-1, 1)\n",
    "Y_val = Y_val.reshape(-1, 1)\n",
    "print(f'Number of training samples: {X_train.shape[0]}')\n",
    "print(f'Number of validation samples: {X_val.shape[0]}')\n",
    "print(f'Number of testing samples: {X_test.shape[0]}')\n",
    "print(f'\\nNumber of features: {X_train.shape[1]}')"
   ]
  },
  {
   "cell_type": "code",
   "execution_count": 5,
   "metadata": {},
   "outputs": [
    {
     "name": "stdout",
     "output_type": "stream",
     "text": [
      "Number of hyperparameter combinations: 120\n"
     ]
    }
   ],
   "source": [
    "# Hyperparameters\n",
    "nums_epochs = [100]\n",
    "batch_sizes = [64,128]\n",
    "patience = [10]\n",
    "n_d_a = [8,16,32]\n",
    "n_shared = [2,3]\n",
    "n_indipendent = [2,3]\n",
    "n_step = [3,4,5,6,7]\n",
    "gamma = [1.3]\n",
    "epsilon = [1e-8]\n",
    "\n",
    "hyperparameters = itertools.product(n_d_a, n_step,n_indipendent,n_shared, gamma, epsilon,nums_epochs, batch_sizes)\n",
    "n_comb = len(n_d_a)*len(n_step)*len(n_indipendent)*len(n_shared)*len(gamma)*len(epsilon)*len(nums_epochs)*len(batch_sizes)\n",
    "print (f'Number of hyperparameter combinations: {n_comb}')"
   ]
  },
  {
   "cell_type": "code",
   "execution_count": 6,
   "metadata": {},
   "outputs": [],
   "source": [
    "def get_model(n_d_a, n_step,n_indipendent,n_shared, gamma, epsilon):\n",
    "    model = TabNetRegressor(\n",
    "        n_d=n_d_a,\n",
    "        n_a=n_d_a,\n",
    "        n_steps=n_step,\n",
    "        gamma=gamma,\n",
    "        optimizer_fn=torch.optim.Adam,\n",
    "        n_independent=n_indipendent,\n",
    "        n_shared=n_shared,\n",
    "        epsilon=epsilon,\n",
    "        seed=42    \n",
    "    )\n",
    "    return model"
   ]
  },
  {
   "cell_type": "code",
   "execution_count": 7,
   "metadata": {},
   "outputs": [
    {
     "name": "stdout",
     "output_type": "stream",
     "text": [
      "\n",
      "Iterations 1/120 - Hyperparameters:  batch_sizes=64, nums_epochs=100, n_d=8, n_a=8, n_step=3, n_indipendent=2, n_shared=2, gamma=1.3, epsilon=1e-08\n"
     ]
    },
    {
     "name": "stderr",
     "output_type": "stream",
     "text": [
      "C:\\Users\\franc\\AppData\\Local\\Packages\\PythonSoftwareFoundation.Python.3.10_qbz5n2kfra8p0\\LocalCache\\local-packages\\Python310\\site-packages\\pytorch_tabnet\\abstract_model.py:75: UserWarning: Device used : cuda\n",
      "  warnings.warn(f\"Device used : {self.device}\")\n"
     ]
    },
    {
     "name": "stdout",
     "output_type": "stream",
     "text": [
      "epoch 0  | loss: 0.82736 | val_0_mse: 0.22076 |  0:00:10s\n",
      "epoch 1  | loss: 0.11293 | val_0_mse: 0.11419 |  0:00:17s\n",
      "epoch 2  | loss: 0.08793 | val_0_mse: 0.05898 |  0:00:24s\n",
      "epoch 3  | loss: 0.06261 | val_0_mse: 0.04983 |  0:00:30s\n",
      "epoch 4  | loss: 0.04976 | val_0_mse: 0.03972 |  0:00:37s\n",
      "epoch 5  | loss: 0.03588 | val_0_mse: 0.02088 |  0:00:43s\n",
      "epoch 6  | loss: 0.02648 | val_0_mse: 0.01735 |  0:00:49s\n",
      "epoch 7  | loss: 0.02457 | val_0_mse: 0.03767 |  0:00:54s\n",
      "epoch 8  | loss: 0.02418 | val_0_mse: 0.01295 |  0:01:00s\n",
      "epoch 9  | loss: 0.021   | val_0_mse: 0.01947 |  0:01:05s\n",
      "epoch 10 | loss: 0.02029 | val_0_mse: 0.03073 |  0:01:11s\n",
      "epoch 11 | loss: 0.01729 | val_0_mse: 0.00913 |  0:01:16s\n",
      "epoch 12 | loss: 0.01894 | val_0_mse: 0.0241  |  0:01:22s\n",
      "epoch 13 | loss: 0.02272 | val_0_mse: 0.03062 |  0:01:27s\n",
      "epoch 14 | loss: 0.0156  | val_0_mse: 0.01045 |  0:01:33s\n",
      "epoch 15 | loss: 0.01981 | val_0_mse: 0.00983 |  0:01:38s\n",
      "epoch 16 | loss: 0.02114 | val_0_mse: 0.01652 |  0:01:44s\n",
      "epoch 17 | loss: 0.01671 | val_0_mse: 0.01165 |  0:01:49s\n",
      "epoch 18 | loss: 0.01796 | val_0_mse: 0.01159 |  0:01:55s\n",
      "epoch 19 | loss: 0.01758 | val_0_mse: 0.0085  |  0:02:00s\n",
      "epoch 20 | loss: 0.0165  | val_0_mse: 0.01824 |  0:02:06s\n",
      "epoch 21 | loss: 0.01428 | val_0_mse: 0.01358 |  0:02:11s\n",
      "epoch 22 | loss: 0.01857 | val_0_mse: 0.01819 |  0:02:17s\n",
      "epoch 23 | loss: 0.01709 | val_0_mse: 0.03733 |  0:02:22s\n",
      "epoch 24 | loss: 0.01757 | val_0_mse: 0.01859 |  0:02:27s\n",
      "epoch 25 | loss: 0.01666 | val_0_mse: 0.01427 |  0:02:33s\n",
      "epoch 26 | loss: 0.0158  | val_0_mse: 0.01338 |  0:02:38s\n",
      "epoch 27 | loss: 0.01489 | val_0_mse: 0.02048 |  0:02:44s\n",
      "epoch 28 | loss: 0.01354 | val_0_mse: 0.02595 |  0:02:49s\n",
      "epoch 29 | loss: 0.01691 | val_0_mse: 0.0066  |  0:02:55s\n",
      "epoch 30 | loss: 0.01658 | val_0_mse: 0.04079 |  0:03:00s\n",
      "epoch 31 | loss: 0.02255 | val_0_mse: 0.01266 |  0:03:06s\n",
      "epoch 32 | loss: 0.02055 | val_0_mse: 0.07664 |  0:03:11s\n",
      "epoch 33 | loss: 0.01898 | val_0_mse: 0.01023 |  0:03:17s\n",
      "epoch 34 | loss: 0.01857 | val_0_mse: 0.00747 |  0:03:22s\n",
      "epoch 35 | loss: 0.01979 | val_0_mse: 0.00732 |  0:03:28s\n",
      "epoch 36 | loss: 0.01688 | val_0_mse: 0.00613 |  0:03:33s\n",
      "epoch 37 | loss: 0.01707 | val_0_mse: 0.00754 |  0:03:39s\n",
      "epoch 38 | loss: 0.01503 | val_0_mse: 0.00927 |  0:03:44s\n",
      "epoch 39 | loss: 0.01404 | val_0_mse: 0.0148  |  0:03:50s\n",
      "epoch 40 | loss: 0.01627 | val_0_mse: 0.00782 |  0:03:55s\n",
      "epoch 41 | loss: 0.01464 | val_0_mse: 0.00958 |  0:04:01s\n",
      "epoch 42 | loss: 0.01718 | val_0_mse: 0.03365 |  0:04:06s\n",
      "epoch 43 | loss: 0.01686 | val_0_mse: 0.03229 |  0:04:12s\n",
      "epoch 44 | loss: 0.01774 | val_0_mse: 0.01006 |  0:04:17s\n",
      "epoch 45 | loss: 0.01384 | val_0_mse: 0.01608 |  0:04:23s\n",
      "epoch 46 | loss: 0.01512 | val_0_mse: 0.00921 |  0:04:28s\n",
      "\n",
      "Early stopping occurred at epoch 46 with best_epoch = 36 and best_val_0_mse = 0.00613\n"
     ]
    },
    {
     "name": "stderr",
     "output_type": "stream",
     "text": [
      "C:\\Users\\franc\\AppData\\Local\\Packages\\PythonSoftwareFoundation.Python.3.10_qbz5n2kfra8p0\\LocalCache\\local-packages\\Python310\\site-packages\\pytorch_tabnet\\callbacks.py:172: UserWarning: Best weights from best epoch are automatically used!\n",
      "  warnings.warn(wrn_msg)\n"
     ]
    },
    {
     "name": "stdout",
     "output_type": "stream",
     "text": [
      "Model MSE: 0.006265 - Best MSE: 0.006265\n",
      "Model R2 Score: 0.972224 - Best R2 Score: 0.972224\n",
      "\n",
      "Iterations 2/120 - Hyperparameters:  batch_sizes=128, nums_epochs=100, n_d=8, n_a=8, n_step=3, n_indipendent=2, n_shared=2, gamma=1.3, epsilon=1e-08\n"
     ]
    },
    {
     "name": "stderr",
     "output_type": "stream",
     "text": [
      "C:\\Users\\franc\\AppData\\Local\\Packages\\PythonSoftwareFoundation.Python.3.10_qbz5n2kfra8p0\\LocalCache\\local-packages\\Python310\\site-packages\\pytorch_tabnet\\abstract_model.py:75: UserWarning: Device used : cuda\n",
      "  warnings.warn(f\"Device used : {self.device}\")\n"
     ]
    },
    {
     "name": "stdout",
     "output_type": "stream",
     "text": [
      "epoch 0  | loss: 1.36741 | val_0_mse: 0.47183 |  0:00:02s\n",
      "epoch 1  | loss: 0.11261 | val_0_mse: 0.18066 |  0:00:05s\n",
      "epoch 2  | loss: 0.07508 | val_0_mse: 0.09658 |  0:00:08s\n",
      "epoch 3  | loss: 0.05926 | val_0_mse: 0.08747 |  0:00:10s\n",
      "epoch 4  | loss: 0.04066 | val_0_mse: 0.04918 |  0:00:13s\n",
      "epoch 5  | loss: 0.03202 | val_0_mse: 0.02952 |  0:00:16s\n",
      "epoch 6  | loss: 0.02721 | val_0_mse: 0.02604 |  0:00:19s\n",
      "epoch 7  | loss: 0.02676 | val_0_mse: 0.04442 |  0:00:22s\n",
      "epoch 8  | loss: 0.0231  | val_0_mse: 0.01359 |  0:00:24s\n",
      "epoch 9  | loss: 0.023   | val_0_mse: 0.01455 |  0:00:27s\n",
      "epoch 10 | loss: 0.01807 | val_0_mse: 0.02612 |  0:00:30s\n",
      "epoch 11 | loss: 0.01639 | val_0_mse: 0.01226 |  0:00:33s\n",
      "epoch 12 | loss: 0.01564 | val_0_mse: 0.01645 |  0:00:36s\n",
      "epoch 13 | loss: 0.01443 | val_0_mse: 0.00827 |  0:00:38s\n",
      "epoch 14 | loss: 0.01394 | val_0_mse: 0.01007 |  0:00:41s\n",
      "epoch 15 | loss: 0.01626 | val_0_mse: 0.01572 |  0:00:44s\n",
      "epoch 16 | loss: 0.01746 | val_0_mse: 0.00876 |  0:00:47s\n",
      "epoch 17 | loss: 0.01686 | val_0_mse: 0.00948 |  0:00:49s\n",
      "epoch 18 | loss: 0.01304 | val_0_mse: 0.00754 |  0:00:52s\n",
      "epoch 19 | loss: 0.01327 | val_0_mse: 0.01542 |  0:00:55s\n",
      "epoch 20 | loss: 0.01159 | val_0_mse: 0.00981 |  0:00:58s\n",
      "epoch 21 | loss: 0.01408 | val_0_mse: 0.02036 |  0:01:00s\n",
      "epoch 22 | loss: 0.01575 | val_0_mse: 0.01284 |  0:01:03s\n",
      "epoch 23 | loss: 0.01179 | val_0_mse: 0.00837 |  0:01:06s\n",
      "epoch 24 | loss: 0.01128 | val_0_mse: 0.00824 |  0:01:09s\n",
      "epoch 25 | loss: 0.01378 | val_0_mse: 0.00858 |  0:01:12s\n",
      "epoch 26 | loss: 0.01988 | val_0_mse: 0.01338 |  0:01:15s\n",
      "epoch 27 | loss: 0.00949 | val_0_mse: 0.00741 |  0:01:18s\n",
      "epoch 28 | loss: 0.01432 | val_0_mse: 0.00675 |  0:01:21s\n",
      "epoch 29 | loss: 0.01234 | val_0_mse: 0.00949 |  0:01:23s\n",
      "epoch 30 | loss: 0.01426 | val_0_mse: 0.00847 |  0:01:26s\n",
      "epoch 31 | loss: 0.01595 | val_0_mse: 0.02555 |  0:01:29s\n",
      "epoch 32 | loss: 0.01642 | val_0_mse: 0.00615 |  0:01:32s\n",
      "epoch 33 | loss: 0.01255 | val_0_mse: 0.00766 |  0:01:34s\n",
      "epoch 34 | loss: 0.01536 | val_0_mse: 0.01627 |  0:01:37s\n",
      "epoch 35 | loss: 0.01101 | val_0_mse: 0.01401 |  0:01:40s\n",
      "epoch 36 | loss: 0.00946 | val_0_mse: 0.0065  |  0:01:43s\n",
      "epoch 37 | loss: 0.00973 | val_0_mse: 0.00925 |  0:01:45s\n",
      "epoch 38 | loss: 0.01435 | val_0_mse: 0.01206 |  0:01:48s\n",
      "epoch 39 | loss: 0.00903 | val_0_mse: 0.0054  |  0:01:51s\n",
      "epoch 40 | loss: 0.01081 | val_0_mse: 0.01411 |  0:01:54s\n",
      "epoch 41 | loss: 0.01104 | val_0_mse: 0.01325 |  0:01:56s\n",
      "epoch 42 | loss: 0.01224 | val_0_mse: 0.0173  |  0:01:59s\n",
      "epoch 43 | loss: 0.01478 | val_0_mse: 0.00746 |  0:02:02s\n",
      "epoch 44 | loss: 0.01157 | val_0_mse: 0.00526 |  0:02:05s\n",
      "epoch 45 | loss: 0.01282 | val_0_mse: 0.00721 |  0:02:08s\n",
      "epoch 46 | loss: 0.01111 | val_0_mse: 0.02518 |  0:02:10s\n",
      "epoch 47 | loss: 0.01007 | val_0_mse: 0.00895 |  0:02:13s\n",
      "epoch 48 | loss: 0.01185 | val_0_mse: 0.00542 |  0:02:16s\n",
      "epoch 49 | loss: 0.01283 | val_0_mse: 0.02043 |  0:02:19s\n",
      "epoch 50 | loss: 0.01068 | val_0_mse: 0.03101 |  0:02:21s\n",
      "epoch 51 | loss: 0.00896 | val_0_mse: 0.01075 |  0:02:24s\n",
      "epoch 52 | loss: 0.011   | val_0_mse: 0.00721 |  0:02:27s\n",
      "epoch 53 | loss: 0.00998 | val_0_mse: 0.00598 |  0:02:30s\n",
      "epoch 54 | loss: 0.01308 | val_0_mse: 0.01666 |  0:02:33s\n",
      "\n",
      "Early stopping occurred at epoch 54 with best_epoch = 44 and best_val_0_mse = 0.00526\n"
     ]
    },
    {
     "name": "stderr",
     "output_type": "stream",
     "text": [
      "C:\\Users\\franc\\AppData\\Local\\Packages\\PythonSoftwareFoundation.Python.3.10_qbz5n2kfra8p0\\LocalCache\\local-packages\\Python310\\site-packages\\pytorch_tabnet\\callbacks.py:172: UserWarning: Best weights from best epoch are automatically used!\n",
      "  warnings.warn(wrn_msg)\n"
     ]
    },
    {
     "name": "stdout",
     "output_type": "stream",
     "text": [
      "Model MSE: 0.005594 - Best MSE: 0.005594\n",
      "Model R2 Score: 0.975200 - Best R2 Score: 0.975200\n",
      "\n",
      "Iterations 3/120 - Hyperparameters:  batch_sizes=64, nums_epochs=100, n_d=8, n_a=8, n_step=3, n_indipendent=2, n_shared=3, gamma=1.3, epsilon=1e-08\n"
     ]
    },
    {
     "name": "stderr",
     "output_type": "stream",
     "text": [
      "C:\\Users\\franc\\AppData\\Local\\Packages\\PythonSoftwareFoundation.Python.3.10_qbz5n2kfra8p0\\LocalCache\\local-packages\\Python310\\site-packages\\pytorch_tabnet\\abstract_model.py:75: UserWarning: Device used : cuda\n",
      "  warnings.warn(f\"Device used : {self.device}\")\n"
     ]
    },
    {
     "name": "stdout",
     "output_type": "stream",
     "text": [
      "epoch 0  | loss: 2.03336 | val_0_mse: 0.21237 |  0:00:05s\n",
      "epoch 1  | loss: 0.09691 | val_0_mse: 0.10303 |  0:00:10s\n",
      "epoch 2  | loss: 0.05352 | val_0_mse: 0.07158 |  0:00:16s\n",
      "epoch 3  | loss: 0.04313 | val_0_mse: 0.02958 |  0:00:21s\n",
      "epoch 4  | loss: 0.03159 | val_0_mse: 0.02481 |  0:00:27s\n",
      "epoch 5  | loss: 0.02675 | val_0_mse: 0.01511 |  0:00:33s\n",
      "epoch 6  | loss: 0.02448 | val_0_mse: 0.01199 |  0:00:39s\n",
      "epoch 7  | loss: 0.01991 | val_0_mse: 0.01835 |  0:00:45s\n",
      "epoch 8  | loss: 0.02123 | val_0_mse: 0.01318 |  0:00:51s\n",
      "epoch 9  | loss: 0.01789 | val_0_mse: 0.00941 |  0:00:57s\n",
      "epoch 10 | loss: 0.01535 | val_0_mse: 0.0087  |  0:01:03s\n",
      "epoch 11 | loss: 0.01665 | val_0_mse: 0.01009 |  0:01:09s\n",
      "epoch 12 | loss: 0.01665 | val_0_mse: 0.00647 |  0:01:16s\n",
      "epoch 13 | loss: 0.01623 | val_0_mse: 0.00938 |  0:01:22s\n",
      "epoch 14 | loss: 0.01633 | val_0_mse: 0.01085 |  0:01:28s\n",
      "epoch 15 | loss: 0.01694 | val_0_mse: 0.01243 |  0:01:34s\n",
      "epoch 16 | loss: 0.01839 | val_0_mse: 0.01333 |  0:01:40s\n",
      "epoch 17 | loss: 0.01752 | val_0_mse: 0.01084 |  0:01:46s\n",
      "epoch 18 | loss: 0.01455 | val_0_mse: 0.0077  |  0:01:52s\n",
      "epoch 19 | loss: 0.01441 | val_0_mse: 0.00827 |  0:01:58s\n",
      "epoch 20 | loss: 0.01664 | val_0_mse: 0.01401 |  0:02:04s\n",
      "epoch 21 | loss: 0.01663 | val_0_mse: 0.00622 |  0:02:10s\n",
      "epoch 22 | loss: 0.01454 | val_0_mse: 0.02584 |  0:02:16s\n",
      "epoch 23 | loss: 0.01499 | val_0_mse: 0.01014 |  0:02:22s\n",
      "epoch 24 | loss: 0.01405 | val_0_mse: 0.0063  |  0:02:28s\n",
      "epoch 25 | loss: 0.01453 | val_0_mse: 0.01883 |  0:02:34s\n",
      "epoch 26 | loss: 0.01344 | val_0_mse: 0.00563 |  0:02:40s\n",
      "epoch 27 | loss: 0.01469 | val_0_mse: 0.00823 |  0:02:46s\n",
      "epoch 28 | loss: 0.01332 | val_0_mse: 0.00835 |  0:02:52s\n",
      "epoch 29 | loss: 0.0199  | val_0_mse: 0.00735 |  0:02:58s\n",
      "epoch 30 | loss: 0.01392 | val_0_mse: 0.0059  |  0:03:04s\n",
      "epoch 31 | loss: 0.01491 | val_0_mse: 0.00871 |  0:03:10s\n",
      "epoch 32 | loss: 0.01567 | val_0_mse: 0.01695 |  0:03:16s\n",
      "epoch 33 | loss: 0.01461 | val_0_mse: 0.01399 |  0:03:22s\n",
      "epoch 34 | loss: 0.01523 | val_0_mse: 0.00623 |  0:03:28s\n",
      "epoch 35 | loss: 0.01458 | val_0_mse: 0.00681 |  0:03:34s\n",
      "epoch 36 | loss: 0.01416 | val_0_mse: 0.00534 |  0:03:40s\n",
      "epoch 37 | loss: 0.01526 | val_0_mse: 0.01879 |  0:03:46s\n",
      "epoch 38 | loss: 0.01261 | val_0_mse: 0.01978 |  0:03:52s\n",
      "epoch 39 | loss: 0.01414 | val_0_mse: 0.00695 |  0:03:58s\n",
      "epoch 40 | loss: 0.01541 | val_0_mse: 0.00617 |  0:04:04s\n",
      "epoch 41 | loss: 0.01557 | val_0_mse: 0.00908 |  0:04:10s\n",
      "epoch 42 | loss: 0.01357 | val_0_mse: 0.00664 |  0:04:16s\n",
      "epoch 43 | loss: 0.0156  | val_0_mse: 0.00711 |  0:04:23s\n",
      "epoch 44 | loss: 0.0153  | val_0_mse: 0.01208 |  0:04:29s\n",
      "epoch 45 | loss: 0.01457 | val_0_mse: 0.00747 |  0:04:35s\n",
      "epoch 46 | loss: 0.01405 | val_0_mse: 0.0064  |  0:04:41s\n",
      "\n",
      "Early stopping occurred at epoch 46 with best_epoch = 36 and best_val_0_mse = 0.00534\n"
     ]
    },
    {
     "name": "stderr",
     "output_type": "stream",
     "text": [
      "C:\\Users\\franc\\AppData\\Local\\Packages\\PythonSoftwareFoundation.Python.3.10_qbz5n2kfra8p0\\LocalCache\\local-packages\\Python310\\site-packages\\pytorch_tabnet\\callbacks.py:172: UserWarning: Best weights from best epoch are automatically used!\n",
      "  warnings.warn(wrn_msg)\n"
     ]
    },
    {
     "name": "stdout",
     "output_type": "stream",
     "text": [
      "Model MSE: 0.005861 - Best MSE: 0.005594\n",
      "Model R2 Score: 0.974016 - Best R2 Score: 0.975200\n",
      "\n",
      "Iterations 4/120 - Hyperparameters:  batch_sizes=128, nums_epochs=100, n_d=8, n_a=8, n_step=3, n_indipendent=2, n_shared=3, gamma=1.3, epsilon=1e-08\n"
     ]
    },
    {
     "name": "stderr",
     "output_type": "stream",
     "text": [
      "C:\\Users\\franc\\AppData\\Local\\Packages\\PythonSoftwareFoundation.Python.3.10_qbz5n2kfra8p0\\LocalCache\\local-packages\\Python310\\site-packages\\pytorch_tabnet\\abstract_model.py:75: UserWarning: Device used : cuda\n",
      "  warnings.warn(f\"Device used : {self.device}\")\n"
     ]
    },
    {
     "name": "stdout",
     "output_type": "stream",
     "text": [
      "epoch 0  | loss: 3.37668 | val_0_mse: 0.73098 |  0:00:03s\n",
      "epoch 1  | loss: 0.10515 | val_0_mse: 0.23127 |  0:00:06s\n",
      "epoch 2  | loss: 0.06871 | val_0_mse: 0.07738 |  0:00:09s\n",
      "epoch 3  | loss: 0.05222 | val_0_mse: 0.05124 |  0:00:12s\n",
      "epoch 4  | loss: 0.0381  | val_0_mse: 0.0363  |  0:00:15s\n",
      "epoch 5  | loss: 0.03309 | val_0_mse: 0.02442 |  0:00:18s\n",
      "epoch 6  | loss: 0.02553 | val_0_mse: 0.02054 |  0:00:21s\n",
      "epoch 7  | loss: 0.02049 | val_0_mse: 0.01753 |  0:00:24s\n",
      "epoch 8  | loss: 0.01921 | val_0_mse: 0.02292 |  0:00:27s\n",
      "epoch 9  | loss: 0.01598 | val_0_mse: 0.01001 |  0:00:30s\n",
      "epoch 10 | loss: 0.01539 | val_0_mse: 0.01753 |  0:00:34s\n",
      "epoch 11 | loss: 0.01544 | val_0_mse: 0.00978 |  0:00:37s\n",
      "epoch 12 | loss: 0.01621 | val_0_mse: 0.00951 |  0:00:40s\n",
      "epoch 13 | loss: 0.0145  | val_0_mse: 0.01725 |  0:00:43s\n",
      "epoch 14 | loss: 0.02159 | val_0_mse: 0.01223 |  0:00:46s\n",
      "epoch 15 | loss: 0.01355 | val_0_mse: 0.0204  |  0:00:49s\n",
      "epoch 16 | loss: 0.01337 | val_0_mse: 0.01803 |  0:00:52s\n",
      "epoch 17 | loss: 0.01491 | val_0_mse: 0.02724 |  0:00:55s\n",
      "epoch 18 | loss: 0.01439 | val_0_mse: 0.0091  |  0:00:58s\n",
      "epoch 19 | loss: 0.01279 | val_0_mse: 0.03917 |  0:01:02s\n",
      "epoch 20 | loss: 0.01481 | val_0_mse: 0.01015 |  0:01:05s\n",
      "epoch 21 | loss: 0.01128 | val_0_mse: 0.0091  |  0:01:08s\n",
      "epoch 22 | loss: 0.0104  | val_0_mse: 0.01633 |  0:01:11s\n",
      "epoch 23 | loss: 0.01131 | val_0_mse: 0.00778 |  0:01:14s\n",
      "epoch 24 | loss: 0.01137 | val_0_mse: 0.00758 |  0:01:17s\n",
      "epoch 25 | loss: 0.01178 | val_0_mse: 0.03599 |  0:01:20s\n",
      "epoch 26 | loss: 0.01473 | val_0_mse: 0.10547 |  0:01:23s\n",
      "epoch 27 | loss: 0.0126  | val_0_mse: 0.02043 |  0:01:27s\n",
      "epoch 28 | loss: 0.01195 | val_0_mse: 0.01157 |  0:01:30s\n",
      "epoch 29 | loss: 0.01092 | val_0_mse: 0.02073 |  0:01:33s\n",
      "epoch 30 | loss: 0.01449 | val_0_mse: 0.00686 |  0:01:36s\n",
      "epoch 31 | loss: 0.01151 | val_0_mse: 0.01275 |  0:01:39s\n",
      "epoch 32 | loss: 0.01268 | val_0_mse: 0.02594 |  0:01:42s\n",
      "epoch 33 | loss: 0.0108  | val_0_mse: 0.03594 |  0:01:45s\n",
      "epoch 34 | loss: 0.01121 | val_0_mse: 0.01142 |  0:01:49s\n",
      "epoch 35 | loss: 0.01212 | val_0_mse: 0.01444 |  0:01:52s\n",
      "epoch 36 | loss: 0.011   | val_0_mse: 0.00711 |  0:01:55s\n",
      "epoch 37 | loss: 0.0106  | val_0_mse: 0.00839 |  0:01:58s\n",
      "epoch 38 | loss: 0.01065 | val_0_mse: 0.00894 |  0:02:01s\n",
      "epoch 39 | loss: 0.01111 | val_0_mse: 0.01179 |  0:02:04s\n",
      "epoch 40 | loss: 0.01094 | val_0_mse: 0.00523 |  0:02:07s\n",
      "epoch 41 | loss: 0.0106  | val_0_mse: 0.00754 |  0:02:10s\n",
      "epoch 42 | loss: 0.01112 | val_0_mse: 0.0078  |  0:02:13s\n",
      "epoch 43 | loss: 0.01048 | val_0_mse: 0.00983 |  0:02:17s\n",
      "epoch 44 | loss: 0.01044 | val_0_mse: 0.00604 |  0:02:20s\n",
      "epoch 45 | loss: 0.01187 | val_0_mse: 0.00785 |  0:02:23s\n",
      "epoch 46 | loss: 0.01059 | val_0_mse: 0.00536 |  0:02:26s\n",
      "epoch 47 | loss: 0.00863 | val_0_mse: 0.02125 |  0:02:29s\n",
      "epoch 48 | loss: 0.0104  | val_0_mse: 0.03659 |  0:02:32s\n",
      "epoch 49 | loss: 0.0131  | val_0_mse: 0.01702 |  0:02:35s\n",
      "epoch 50 | loss: 0.01176 | val_0_mse: 0.00484 |  0:02:38s\n",
      "epoch 51 | loss: 0.00741 | val_0_mse: 0.00786 |  0:02:41s\n",
      "epoch 52 | loss: 0.01011 | val_0_mse: 0.00753 |  0:02:45s\n",
      "epoch 53 | loss: 0.0135  | val_0_mse: 0.02686 |  0:02:48s\n",
      "epoch 54 | loss: 0.01082 | val_0_mse: 0.009   |  0:02:51s\n",
      "epoch 55 | loss: 0.00931 | val_0_mse: 0.01646 |  0:02:54s\n",
      "epoch 56 | loss: 0.00852 | val_0_mse: 0.00591 |  0:02:57s\n",
      "epoch 57 | loss: 0.00942 | val_0_mse: 0.01832 |  0:03:00s\n",
      "epoch 58 | loss: 0.00671 | val_0_mse: 0.00507 |  0:03:03s\n",
      "epoch 59 | loss: 0.00894 | val_0_mse: 0.00522 |  0:03:06s\n",
      "epoch 60 | loss: 0.01059 | val_0_mse: 0.02401 |  0:03:09s\n",
      "\n",
      "Early stopping occurred at epoch 60 with best_epoch = 50 and best_val_0_mse = 0.00484\n"
     ]
    },
    {
     "name": "stderr",
     "output_type": "stream",
     "text": [
      "C:\\Users\\franc\\AppData\\Local\\Packages\\PythonSoftwareFoundation.Python.3.10_qbz5n2kfra8p0\\LocalCache\\local-packages\\Python310\\site-packages\\pytorch_tabnet\\callbacks.py:172: UserWarning: Best weights from best epoch are automatically used!\n",
      "  warnings.warn(wrn_msg)\n"
     ]
    },
    {
     "name": "stdout",
     "output_type": "stream",
     "text": [
      "Model MSE: 0.005431 - Best MSE: 0.005431\n",
      "Model R2 Score: 0.975922 - Best R2 Score: 0.975922\n",
      "\n",
      "Iterations 5/120 - Hyperparameters:  batch_sizes=64, nums_epochs=100, n_d=8, n_a=8, n_step=3, n_indipendent=3, n_shared=2, gamma=1.3, epsilon=1e-08\n"
     ]
    },
    {
     "name": "stderr",
     "output_type": "stream",
     "text": [
      "C:\\Users\\franc\\AppData\\Local\\Packages\\PythonSoftwareFoundation.Python.3.10_qbz5n2kfra8p0\\LocalCache\\local-packages\\Python310\\site-packages\\pytorch_tabnet\\abstract_model.py:75: UserWarning: Device used : cuda\n",
      "  warnings.warn(f\"Device used : {self.device}\")\n"
     ]
    },
    {
     "name": "stdout",
     "output_type": "stream",
     "text": [
      "epoch 0  | loss: 1.24303 | val_0_mse: 0.29429 |  0:00:05s\n",
      "epoch 1  | loss: 0.08951 | val_0_mse: 0.12917 |  0:00:12s\n",
      "epoch 2  | loss: 0.06636 | val_0_mse: 0.05118 |  0:00:18s\n",
      "epoch 3  | loss: 0.05816 | val_0_mse: 0.03464 |  0:00:25s\n",
      "epoch 4  | loss: 0.04524 | val_0_mse: 0.03225 |  0:00:31s\n",
      "epoch 5  | loss: 0.03784 | val_0_mse: 0.02898 |  0:00:37s\n",
      "epoch 6  | loss: 0.03052 | val_0_mse: 0.01717 |  0:00:44s\n",
      "epoch 7  | loss: 0.02872 | val_0_mse: 0.01229 |  0:00:50s\n",
      "epoch 8  | loss: 0.02424 | val_0_mse: 0.0285  |  0:00:57s\n",
      "epoch 9  | loss: 0.02035 | val_0_mse: 0.01526 |  0:01:04s\n",
      "epoch 10 | loss: 0.02263 | val_0_mse: 0.01441 |  0:01:11s\n",
      "epoch 11 | loss: 0.02454 | val_0_mse: 0.01675 |  0:01:18s\n",
      "epoch 12 | loss: 0.02149 | val_0_mse: 0.00929 |  0:01:25s\n",
      "epoch 13 | loss: 0.02022 | val_0_mse: 0.02274 |  0:01:32s\n",
      "epoch 14 | loss: 0.01955 | val_0_mse: 0.01741 |  0:01:39s\n",
      "epoch 15 | loss: 0.01896 | val_0_mse: 0.01298 |  0:01:46s\n",
      "epoch 16 | loss: 0.01931 | val_0_mse: 0.01335 |  0:01:53s\n",
      "epoch 17 | loss: 0.02225 | val_0_mse: 0.00609 |  0:02:00s\n",
      "epoch 18 | loss: 0.01981 | val_0_mse: 0.00734 |  0:02:07s\n",
      "epoch 19 | loss: 0.01599 | val_0_mse: 0.03692 |  0:02:14s\n",
      "epoch 20 | loss: 0.01807 | val_0_mse: 0.00608 |  0:02:21s\n",
      "epoch 21 | loss: 0.01261 | val_0_mse: 0.02517 |  0:02:28s\n",
      "epoch 22 | loss: 0.01638 | val_0_mse: 0.00674 |  0:02:35s\n",
      "epoch 23 | loss: 0.0154  | val_0_mse: 0.02371 |  0:02:42s\n",
      "epoch 24 | loss: 0.01896 | val_0_mse: 0.01842 |  0:02:49s\n",
      "epoch 25 | loss: 0.01406 | val_0_mse: 0.01942 |  0:02:56s\n",
      "epoch 26 | loss: 0.01461 | val_0_mse: 0.03328 |  0:03:03s\n",
      "epoch 27 | loss: 0.01417 | val_0_mse: 0.0118  |  0:03:10s\n",
      "epoch 28 | loss: 0.01629 | val_0_mse: 0.00873 |  0:03:17s\n",
      "epoch 29 | loss: 0.01502 | val_0_mse: 0.01271 |  0:03:25s\n",
      "epoch 30 | loss: 0.01915 | val_0_mse: 0.0082  |  0:03:32s\n",
      "\n",
      "Early stopping occurred at epoch 30 with best_epoch = 20 and best_val_0_mse = 0.00608\n"
     ]
    },
    {
     "name": "stderr",
     "output_type": "stream",
     "text": [
      "C:\\Users\\franc\\AppData\\Local\\Packages\\PythonSoftwareFoundation.Python.3.10_qbz5n2kfra8p0\\LocalCache\\local-packages\\Python310\\site-packages\\pytorch_tabnet\\callbacks.py:172: UserWarning: Best weights from best epoch are automatically used!\n",
      "  warnings.warn(wrn_msg)\n"
     ]
    },
    {
     "name": "stdout",
     "output_type": "stream",
     "text": [
      "Model MSE: 0.006151 - Best MSE: 0.005431\n",
      "Model R2 Score: 0.972732 - Best R2 Score: 0.975922\n",
      "\n",
      "Iterations 6/120 - Hyperparameters:  batch_sizes=128, nums_epochs=100, n_d=8, n_a=8, n_step=3, n_indipendent=3, n_shared=2, gamma=1.3, epsilon=1e-08\n"
     ]
    },
    {
     "name": "stderr",
     "output_type": "stream",
     "text": [
      "C:\\Users\\franc\\AppData\\Local\\Packages\\PythonSoftwareFoundation.Python.3.10_qbz5n2kfra8p0\\LocalCache\\local-packages\\Python310\\site-packages\\pytorch_tabnet\\abstract_model.py:75: UserWarning: Device used : cuda\n",
      "  warnings.warn(f\"Device used : {self.device}\")\n"
     ]
    },
    {
     "name": "stdout",
     "output_type": "stream",
     "text": [
      "epoch 0  | loss: 2.0503  | val_0_mse: 0.696   |  0:00:02s\n",
      "epoch 1  | loss: 0.08784 | val_0_mse: 0.2961  |  0:00:05s\n",
      "epoch 2  | loss: 0.06354 | val_0_mse: 0.21907 |  0:00:08s\n",
      "epoch 3  | loss: 0.05448 | val_0_mse: 0.12465 |  0:00:11s\n",
      "epoch 4  | loss: 0.06013 | val_0_mse: 0.05711 |  0:00:14s\n",
      "epoch 5  | loss: 0.04536 | val_0_mse: 0.06012 |  0:00:17s\n",
      "epoch 6  | loss: 0.04    | val_0_mse: 0.03338 |  0:00:20s\n",
      "epoch 7  | loss: 0.04093 | val_0_mse: 0.03012 |  0:00:23s\n",
      "epoch 8  | loss: 0.03466 | val_0_mse: 0.02818 |  0:00:26s\n",
      "epoch 9  | loss: 0.03166 | val_0_mse: 0.0358  |  0:00:29s\n",
      "epoch 10 | loss: 0.02754 | val_0_mse: 0.02771 |  0:00:33s\n",
      "epoch 11 | loss: 0.02462 | val_0_mse: 0.0305  |  0:00:36s\n",
      "epoch 12 | loss: 0.02499 | val_0_mse: 0.01895 |  0:00:40s\n",
      "epoch 13 | loss: 0.0184  | val_0_mse: 0.01914 |  0:00:43s\n",
      "epoch 14 | loss: 0.01677 | val_0_mse: 0.01489 |  0:00:46s\n",
      "epoch 15 | loss: 0.01646 | val_0_mse: 0.01344 |  0:00:50s\n",
      "epoch 16 | loss: 0.01456 | val_0_mse: 0.01359 |  0:00:53s\n",
      "epoch 17 | loss: 0.01532 | val_0_mse: 0.01728 |  0:00:56s\n",
      "epoch 18 | loss: 0.01665 | val_0_mse: 0.00801 |  0:00:59s\n",
      "epoch 19 | loss: 0.01232 | val_0_mse: 0.00753 |  0:01:02s\n",
      "epoch 20 | loss: 0.01536 | val_0_mse: 0.00905 |  0:01:05s\n",
      "epoch 21 | loss: 0.01068 | val_0_mse: 0.02115 |  0:01:08s\n",
      "epoch 22 | loss: 0.01131 | val_0_mse: 0.01618 |  0:01:12s\n",
      "epoch 23 | loss: 0.01216 | val_0_mse: 0.01447 |  0:01:15s\n",
      "epoch 24 | loss: 0.0135  | val_0_mse: 0.01458 |  0:01:18s\n",
      "epoch 25 | loss: 0.01217 | val_0_mse: 0.01047 |  0:01:21s\n",
      "epoch 26 | loss: 0.0109  | val_0_mse: 0.00818 |  0:01:24s\n",
      "epoch 27 | loss: 0.01204 | val_0_mse: 0.01376 |  0:01:27s\n",
      "epoch 28 | loss: 0.00998 | val_0_mse: 0.00839 |  0:01:30s\n",
      "epoch 29 | loss: 0.00987 | val_0_mse: 0.00619 |  0:01:33s\n",
      "epoch 30 | loss: 0.01154 | val_0_mse: 0.00678 |  0:01:36s\n",
      "epoch 31 | loss: 0.01251 | val_0_mse: 0.00916 |  0:01:39s\n",
      "epoch 32 | loss: 0.01111 | val_0_mse: 0.01128 |  0:01:42s\n",
      "epoch 33 | loss: 0.0092  | val_0_mse: 0.00839 |  0:01:45s\n",
      "epoch 34 | loss: 0.01088 | val_0_mse: 0.00729 |  0:01:48s\n",
      "epoch 35 | loss: 0.01045 | val_0_mse: 0.01016 |  0:01:51s\n",
      "epoch 36 | loss: 0.00984 | val_0_mse: 0.01641 |  0:01:54s\n",
      "epoch 37 | loss: 0.01024 | val_0_mse: 0.00626 |  0:01:57s\n",
      "epoch 38 | loss: 0.01378 | val_0_mse: 0.00758 |  0:02:00s\n",
      "epoch 39 | loss: 0.01058 | val_0_mse: 0.01607 |  0:02:03s\n",
      "\n",
      "Early stopping occurred at epoch 39 with best_epoch = 29 and best_val_0_mse = 0.00619\n"
     ]
    },
    {
     "name": "stderr",
     "output_type": "stream",
     "text": [
      "C:\\Users\\franc\\AppData\\Local\\Packages\\PythonSoftwareFoundation.Python.3.10_qbz5n2kfra8p0\\LocalCache\\local-packages\\Python310\\site-packages\\pytorch_tabnet\\callbacks.py:172: UserWarning: Best weights from best epoch are automatically used!\n",
      "  warnings.warn(wrn_msg)\n"
     ]
    },
    {
     "name": "stdout",
     "output_type": "stream",
     "text": [
      "Model MSE: 0.006648 - Best MSE: 0.005431\n",
      "Model R2 Score: 0.970526 - Best R2 Score: 0.975922\n",
      "\n",
      "Iterations 7/120 - Hyperparameters:  batch_sizes=64, nums_epochs=100, n_d=8, n_a=8, n_step=3, n_indipendent=3, n_shared=3, gamma=1.3, epsilon=1e-08\n"
     ]
    },
    {
     "name": "stderr",
     "output_type": "stream",
     "text": [
      "C:\\Users\\franc\\AppData\\Local\\Packages\\PythonSoftwareFoundation.Python.3.10_qbz5n2kfra8p0\\LocalCache\\local-packages\\Python310\\site-packages\\pytorch_tabnet\\abstract_model.py:75: UserWarning: Device used : cuda\n",
      "  warnings.warn(f\"Device used : {self.device}\")\n"
     ]
    },
    {
     "name": "stdout",
     "output_type": "stream",
     "text": [
      "epoch 0  | loss: 0.6027  | val_0_mse: 0.15864 |  0:00:06s\n",
      "epoch 1  | loss: 0.10649 | val_0_mse: 0.09894 |  0:00:12s\n",
      "epoch 2  | loss: 0.06475 | val_0_mse: 0.04928 |  0:00:18s\n",
      "epoch 3  | loss: 0.05145 | val_0_mse: 0.03831 |  0:00:24s\n",
      "epoch 4  | loss: 0.03425 | val_0_mse: 0.0396  |  0:00:31s\n",
      "epoch 5  | loss: 0.03023 | val_0_mse: 0.02271 |  0:00:37s\n",
      "epoch 6  | loss: 0.02994 | val_0_mse: 0.02056 |  0:00:44s\n",
      "epoch 7  | loss: 0.02493 | val_0_mse: 0.01047 |  0:00:51s\n",
      "epoch 8  | loss: 0.02292 | val_0_mse: 0.02245 |  0:00:58s\n",
      "epoch 9  | loss: 0.02856 | val_0_mse: 0.01974 |  0:01:06s\n",
      "epoch 10 | loss: 0.02084 | val_0_mse: 0.0292  |  0:01:13s\n",
      "epoch 11 | loss: 0.02174 | val_0_mse: 0.01141 |  0:01:20s\n",
      "epoch 12 | loss: 0.02189 | val_0_mse: 0.01301 |  0:01:27s\n",
      "epoch 13 | loss: 0.02085 | val_0_mse: 0.01406 |  0:01:34s\n",
      "epoch 14 | loss: 0.01937 | val_0_mse: 0.02369 |  0:01:41s\n",
      "epoch 15 | loss: 0.01996 | val_0_mse: 0.00899 |  0:01:48s\n",
      "epoch 16 | loss: 0.01707 | val_0_mse: 0.02258 |  0:01:56s\n",
      "epoch 17 | loss: 0.01813 | val_0_mse: 0.01248 |  0:02:03s\n",
      "epoch 18 | loss: 0.02055 | val_0_mse: 0.01519 |  0:02:10s\n",
      "epoch 19 | loss: 0.02088 | val_0_mse: 0.01111 |  0:02:17s\n",
      "epoch 20 | loss: 0.01906 | val_0_mse: 0.01275 |  0:02:24s\n",
      "epoch 21 | loss: 0.01915 | val_0_mse: 0.0204  |  0:02:31s\n",
      "epoch 22 | loss: 0.02016 | val_0_mse: 0.04287 |  0:02:38s\n",
      "epoch 23 | loss: 0.01984 | val_0_mse: 0.06498 |  0:02:45s\n",
      "epoch 24 | loss: 0.02269 | val_0_mse: 0.01197 |  0:02:53s\n",
      "epoch 25 | loss: 0.02314 | val_0_mse: 0.03865 |  0:03:00s\n",
      "\n",
      "Early stopping occurred at epoch 25 with best_epoch = 15 and best_val_0_mse = 0.00899\n"
     ]
    },
    {
     "name": "stderr",
     "output_type": "stream",
     "text": [
      "C:\\Users\\franc\\AppData\\Local\\Packages\\PythonSoftwareFoundation.Python.3.10_qbz5n2kfra8p0\\LocalCache\\local-packages\\Python310\\site-packages\\pytorch_tabnet\\callbacks.py:172: UserWarning: Best weights from best epoch are automatically used!\n",
      "  warnings.warn(wrn_msg)\n"
     ]
    },
    {
     "name": "stdout",
     "output_type": "stream",
     "text": [
      "Model MSE: 0.009539 - Best MSE: 0.005431\n",
      "Model R2 Score: 0.957709 - Best R2 Score: 0.975922\n",
      "\n",
      "Iterations 8/120 - Hyperparameters:  batch_sizes=128, nums_epochs=100, n_d=8, n_a=8, n_step=3, n_indipendent=3, n_shared=3, gamma=1.3, epsilon=1e-08\n"
     ]
    },
    {
     "name": "stderr",
     "output_type": "stream",
     "text": [
      "C:\\Users\\franc\\AppData\\Local\\Packages\\PythonSoftwareFoundation.Python.3.10_qbz5n2kfra8p0\\LocalCache\\local-packages\\Python310\\site-packages\\pytorch_tabnet\\abstract_model.py:75: UserWarning: Device used : cuda\n",
      "  warnings.warn(f\"Device used : {self.device}\")\n"
     ]
    },
    {
     "name": "stdout",
     "output_type": "stream",
     "text": [
      "epoch 0  | loss: 1.04606 | val_0_mse: 0.27223 |  0:00:03s\n",
      "epoch 1  | loss: 0.14274 | val_0_mse: 0.17278 |  0:00:06s\n",
      "epoch 2  | loss: 0.08992 | val_0_mse: 0.12071 |  0:00:09s\n",
      "epoch 3  | loss: 0.07032 | val_0_mse: 0.06583 |  0:00:13s\n",
      "epoch 4  | loss: 0.05443 | val_0_mse: 0.06644 |  0:00:16s\n",
      "epoch 5  | loss: 0.04699 | val_0_mse: 0.04939 |  0:00:19s\n",
      "epoch 6  | loss: 0.03777 | val_0_mse: 0.03205 |  0:00:22s\n",
      "epoch 7  | loss: 0.04148 | val_0_mse: 0.03257 |  0:00:26s\n",
      "epoch 8  | loss: 0.03302 | val_0_mse: 0.03159 |  0:00:29s\n",
      "epoch 9  | loss: 0.0313  | val_0_mse: 0.0333  |  0:00:33s\n",
      "epoch 10 | loss: 0.029   | val_0_mse: 0.02257 |  0:00:36s\n",
      "epoch 11 | loss: 0.02604 | val_0_mse: 0.02111 |  0:00:39s\n",
      "epoch 12 | loss: 0.02366 | val_0_mse: 0.0201  |  0:00:43s\n",
      "epoch 13 | loss: 0.0236  | val_0_mse: 0.01855 |  0:00:46s\n",
      "epoch 14 | loss: 0.02485 | val_0_mse: 0.01689 |  0:00:49s\n",
      "epoch 15 | loss: 0.02261 | val_0_mse: 0.01823 |  0:00:53s\n",
      "epoch 16 | loss: 0.0181  | val_0_mse: 0.01662 |  0:00:56s\n",
      "epoch 17 | loss: 0.01679 | val_0_mse: 0.05143 |  0:00:59s\n",
      "epoch 18 | loss: 0.01694 | val_0_mse: 0.07709 |  0:01:02s\n",
      "epoch 19 | loss: 0.01922 | val_0_mse: 0.01973 |  0:01:06s\n",
      "epoch 20 | loss: 0.01867 | val_0_mse: 0.01809 |  0:01:09s\n",
      "epoch 21 | loss: 0.01697 | val_0_mse: 0.01131 |  0:01:12s\n",
      "epoch 22 | loss: 0.0148  | val_0_mse: 0.01098 |  0:01:16s\n",
      "epoch 23 | loss: 0.01706 | val_0_mse: 0.02608 |  0:01:19s\n",
      "epoch 24 | loss: 0.01536 | val_0_mse: 0.01181 |  0:01:23s\n",
      "epoch 25 | loss: 0.01281 | val_0_mse: 0.01566 |  0:01:26s\n",
      "epoch 26 | loss: 0.01575 | val_0_mse: 0.0084  |  0:01:29s\n",
      "epoch 27 | loss: 0.01292 | val_0_mse: 0.00957 |  0:01:32s\n",
      "epoch 28 | loss: 0.01119 | val_0_mse: 0.00848 |  0:01:36s\n",
      "epoch 29 | loss: 0.01079 | val_0_mse: 0.00757 |  0:01:39s\n",
      "epoch 30 | loss: 0.01577 | val_0_mse: 0.00809 |  0:01:42s\n",
      "epoch 31 | loss: 0.01264 | val_0_mse: 0.00846 |  0:01:45s\n",
      "epoch 32 | loss: 0.01101 | val_0_mse: 0.00725 |  0:01:49s\n",
      "epoch 33 | loss: 0.01291 | val_0_mse: 0.0091  |  0:01:52s\n",
      "epoch 34 | loss: 0.01534 | val_0_mse: 0.00795 |  0:01:55s\n",
      "epoch 35 | loss: 0.01437 | val_0_mse: 0.0086  |  0:01:59s\n",
      "epoch 36 | loss: 0.01137 | val_0_mse: 0.00609 |  0:02:02s\n",
      "epoch 37 | loss: 0.01075 | val_0_mse: 0.01162 |  0:02:05s\n",
      "epoch 38 | loss: 0.01389 | val_0_mse: 0.00554 |  0:02:09s\n",
      "epoch 39 | loss: 0.01029 | val_0_mse: 0.00677 |  0:02:12s\n",
      "epoch 40 | loss: 0.0118  | val_0_mse: 0.01764 |  0:02:16s\n",
      "epoch 41 | loss: 0.01091 | val_0_mse: 0.01    |  0:02:19s\n",
      "epoch 42 | loss: 0.00971 | val_0_mse: 0.01059 |  0:02:22s\n",
      "epoch 43 | loss: 0.01053 | val_0_mse: 0.01484 |  0:02:25s\n",
      "epoch 44 | loss: 0.0123  | val_0_mse: 0.00766 |  0:02:29s\n",
      "epoch 45 | loss: 0.01341 | val_0_mse: 0.01253 |  0:02:32s\n",
      "epoch 46 | loss: 0.01175 | val_0_mse: 0.01248 |  0:02:35s\n",
      "epoch 47 | loss: 0.00989 | val_0_mse: 0.0079  |  0:02:38s\n",
      "epoch 48 | loss: 0.0136  | val_0_mse: 0.0086  |  0:02:42s\n",
      "\n",
      "Early stopping occurred at epoch 48 with best_epoch = 38 and best_val_0_mse = 0.00554\n"
     ]
    },
    {
     "name": "stderr",
     "output_type": "stream",
     "text": [
      "C:\\Users\\franc\\AppData\\Local\\Packages\\PythonSoftwareFoundation.Python.3.10_qbz5n2kfra8p0\\LocalCache\\local-packages\\Python310\\site-packages\\pytorch_tabnet\\callbacks.py:172: UserWarning: Best weights from best epoch are automatically used!\n",
      "  warnings.warn(wrn_msg)\n"
     ]
    },
    {
     "name": "stdout",
     "output_type": "stream",
     "text": [
      "Model MSE: 0.005542 - Best MSE: 0.005431\n",
      "Model R2 Score: 0.975430 - Best R2 Score: 0.975922\n",
      "\n",
      "Iterations 9/120 - Hyperparameters:  batch_sizes=64, nums_epochs=100, n_d=8, n_a=8, n_step=4, n_indipendent=2, n_shared=2, gamma=1.3, epsilon=1e-08\n"
     ]
    },
    {
     "name": "stderr",
     "output_type": "stream",
     "text": [
      "C:\\Users\\franc\\AppData\\Local\\Packages\\PythonSoftwareFoundation.Python.3.10_qbz5n2kfra8p0\\LocalCache\\local-packages\\Python310\\site-packages\\pytorch_tabnet\\abstract_model.py:75: UserWarning: Device used : cuda\n",
      "  warnings.warn(f\"Device used : {self.device}\")\n"
     ]
    },
    {
     "name": "stdout",
     "output_type": "stream",
     "text": [
      "epoch 0  | loss: 0.73903 | val_0_mse: 0.25106 |  0:00:06s\n",
      "epoch 1  | loss: 0.12819 | val_0_mse: 0.09848 |  0:00:13s\n",
      "epoch 2  | loss: 0.08172 | val_0_mse: 0.08797 |  0:00:19s\n",
      "epoch 3  | loss: 0.06788 | val_0_mse: 0.05856 |  0:00:26s\n",
      "epoch 4  | loss: 0.06932 | val_0_mse: 0.08301 |  0:00:33s\n",
      "epoch 5  | loss: 0.05855 | val_0_mse: 0.05183 |  0:00:40s\n",
      "epoch 6  | loss: 0.05051 | val_0_mse: 0.04685 |  0:00:47s\n",
      "epoch 7  | loss: 0.04691 | val_0_mse: 0.03571 |  0:00:53s\n",
      "epoch 8  | loss: 0.03929 | val_0_mse: 0.0302  |  0:01:00s\n",
      "epoch 9  | loss: 0.0355  | val_0_mse: 0.07583 |  0:01:07s\n",
      "epoch 10 | loss: 0.04101 | val_0_mse: 0.03515 |  0:01:14s\n",
      "epoch 11 | loss: 0.03357 | val_0_mse: 0.01842 |  0:01:21s\n",
      "epoch 12 | loss: 0.03111 | val_0_mse: 0.02913 |  0:01:27s\n",
      "epoch 13 | loss: 0.02411 | val_0_mse: 0.01152 |  0:01:34s\n",
      "epoch 14 | loss: 0.02619 | val_0_mse: 0.0158  |  0:01:41s\n",
      "epoch 15 | loss: 0.0202  | val_0_mse: 0.01427 |  0:01:48s\n",
      "epoch 16 | loss: 0.02039 | val_0_mse: 0.01486 |  0:01:55s\n",
      "epoch 17 | loss: 0.02261 | val_0_mse: 0.01894 |  0:02:01s\n",
      "epoch 18 | loss: 0.01668 | val_0_mse: 0.02663 |  0:02:08s\n",
      "epoch 19 | loss: 0.02006 | val_0_mse: 0.01479 |  0:02:15s\n",
      "epoch 20 | loss: 0.02082 | val_0_mse: 0.02754 |  0:02:22s\n",
      "epoch 21 | loss: 0.01749 | val_0_mse: 0.0094  |  0:02:28s\n",
      "epoch 22 | loss: 0.01913 | val_0_mse: 0.03001 |  0:02:35s\n",
      "epoch 23 | loss: 0.01806 | val_0_mse: 0.01755 |  0:02:42s\n",
      "epoch 24 | loss: 0.02097 | val_0_mse: 0.01336 |  0:02:49s\n",
      "epoch 25 | loss: 0.0183  | val_0_mse: 0.0321  |  0:02:56s\n",
      "epoch 26 | loss: 0.0154  | val_0_mse: 0.01095 |  0:03:03s\n",
      "epoch 27 | loss: 0.02097 | val_0_mse: 0.01083 |  0:03:09s\n",
      "epoch 28 | loss: 0.02332 | val_0_mse: 0.00962 |  0:03:16s\n",
      "epoch 29 | loss: 0.01742 | val_0_mse: 0.01043 |  0:03:23s\n",
      "epoch 30 | loss: 0.02025 | val_0_mse: 0.02203 |  0:03:30s\n",
      "epoch 31 | loss: 0.01779 | val_0_mse: 0.00744 |  0:03:36s\n",
      "epoch 32 | loss: 0.01387 | val_0_mse: 0.02767 |  0:03:43s\n",
      "epoch 33 | loss: 0.01837 | val_0_mse: 0.00655 |  0:03:50s\n",
      "epoch 34 | loss: 0.01699 | val_0_mse: 0.00988 |  0:03:57s\n",
      "epoch 35 | loss: 0.01743 | val_0_mse: 0.0116  |  0:04:04s\n",
      "epoch 36 | loss: 0.01416 | val_0_mse: 0.01835 |  0:04:10s\n",
      "epoch 37 | loss: 0.01309 | val_0_mse: 0.00909 |  0:04:17s\n",
      "epoch 38 | loss: 0.0132  | val_0_mse: 0.00934 |  0:04:24s\n",
      "epoch 39 | loss: 0.01371 | val_0_mse: 0.03143 |  0:04:31s\n",
      "epoch 40 | loss: 0.01434 | val_0_mse: 0.01571 |  0:04:38s\n",
      "epoch 41 | loss: 0.01687 | val_0_mse: 0.01828 |  0:04:44s\n",
      "epoch 42 | loss: 0.01303 | val_0_mse: 0.0099  |  0:04:51s\n",
      "epoch 43 | loss: 0.02227 | val_0_mse: 0.0083  |  0:04:58s\n",
      "\n",
      "Early stopping occurred at epoch 43 with best_epoch = 33 and best_val_0_mse = 0.00655\n"
     ]
    },
    {
     "name": "stderr",
     "output_type": "stream",
     "text": [
      "C:\\Users\\franc\\AppData\\Local\\Packages\\PythonSoftwareFoundation.Python.3.10_qbz5n2kfra8p0\\LocalCache\\local-packages\\Python310\\site-packages\\pytorch_tabnet\\callbacks.py:172: UserWarning: Best weights from best epoch are automatically used!\n",
      "  warnings.warn(wrn_msg)\n"
     ]
    },
    {
     "name": "stdout",
     "output_type": "stream",
     "text": [
      "Model MSE: 0.006662 - Best MSE: 0.005431\n",
      "Model R2 Score: 0.970465 - Best R2 Score: 0.975922\n",
      "\n",
      "Iterations 10/120 - Hyperparameters:  batch_sizes=128, nums_epochs=100, n_d=8, n_a=8, n_step=4, n_indipendent=2, n_shared=2, gamma=1.3, epsilon=1e-08\n"
     ]
    },
    {
     "name": "stderr",
     "output_type": "stream",
     "text": [
      "C:\\Users\\franc\\AppData\\Local\\Packages\\PythonSoftwareFoundation.Python.3.10_qbz5n2kfra8p0\\LocalCache\\local-packages\\Python310\\site-packages\\pytorch_tabnet\\abstract_model.py:75: UserWarning: Device used : cuda\n",
      "  warnings.warn(f\"Device used : {self.device}\")\n"
     ]
    },
    {
     "name": "stdout",
     "output_type": "stream",
     "text": [
      "epoch 0  | loss: 1.11376 | val_0_mse: 0.56314 |  0:00:03s\n",
      "epoch 1  | loss: 0.11207 | val_0_mse: 0.31259 |  0:00:06s\n",
      "epoch 2  | loss: 0.0887  | val_0_mse: 0.15549 |  0:00:10s\n",
      "epoch 3  | loss: 0.08188 | val_0_mse: 0.10156 |  0:00:13s\n",
      "epoch 4  | loss: 0.07199 | val_0_mse: 0.07243 |  0:00:17s\n",
      "epoch 5  | loss: 0.06337 | val_0_mse: 0.06841 |  0:00:20s\n",
      "epoch 6  | loss: 0.06527 | val_0_mse: 0.06038 |  0:00:23s\n",
      "epoch 7  | loss: 0.06714 | val_0_mse: 0.06881 |  0:00:27s\n",
      "epoch 8  | loss: 0.05623 | val_0_mse: 0.05226 |  0:00:30s\n",
      "epoch 9  | loss: 0.05363 | val_0_mse: 0.05037 |  0:00:34s\n",
      "epoch 10 | loss: 0.04879 | val_0_mse: 0.05397 |  0:00:37s\n",
      "epoch 11 | loss: 0.04044 | val_0_mse: 0.06522 |  0:00:40s\n",
      "epoch 12 | loss: 0.03853 | val_0_mse: 0.03978 |  0:00:44s\n",
      "epoch 13 | loss: 0.0329  | val_0_mse: 0.03274 |  0:00:47s\n",
      "epoch 14 | loss: 0.02687 | val_0_mse: 0.02963 |  0:00:51s\n",
      "epoch 15 | loss: 0.03661 | val_0_mse: 0.08576 |  0:00:54s\n",
      "epoch 16 | loss: 0.02071 | val_0_mse: 0.01403 |  0:00:57s\n",
      "epoch 17 | loss: 0.01866 | val_0_mse: 0.01659 |  0:01:01s\n",
      "epoch 18 | loss: 0.0234  | val_0_mse: 0.01979 |  0:01:04s\n",
      "epoch 19 | loss: 0.01949 | val_0_mse: 0.01405 |  0:01:07s\n",
      "epoch 20 | loss: 0.01826 | val_0_mse: 0.04307 |  0:01:11s\n",
      "epoch 21 | loss: 0.01553 | val_0_mse: 0.01328 |  0:01:14s\n",
      "epoch 22 | loss: 0.01414 | val_0_mse: 0.01174 |  0:01:17s\n",
      "epoch 23 | loss: 0.01528 | val_0_mse: 0.02528 |  0:01:21s\n",
      "epoch 24 | loss: 0.01344 | val_0_mse: 0.00961 |  0:01:24s\n",
      "epoch 25 | loss: 0.01322 | val_0_mse: 0.00714 |  0:01:27s\n",
      "epoch 26 | loss: 0.01399 | val_0_mse: 0.00915 |  0:01:31s\n",
      "epoch 27 | loss: 0.01106 | val_0_mse: 0.01657 |  0:01:34s\n",
      "epoch 28 | loss: 0.01295 | val_0_mse: 0.01093 |  0:01:38s\n",
      "epoch 29 | loss: 0.01389 | val_0_mse: 0.02004 |  0:01:41s\n",
      "epoch 30 | loss: 0.01748 | val_0_mse: 0.0367  |  0:01:44s\n",
      "epoch 31 | loss: 0.01539 | val_0_mse: 0.01019 |  0:01:48s\n",
      "epoch 32 | loss: 0.01288 | val_0_mse: 0.00711 |  0:01:51s\n",
      "epoch 33 | loss: 0.0143  | val_0_mse: 0.02467 |  0:01:55s\n",
      "epoch 34 | loss: 0.01071 | val_0_mse: 0.00613 |  0:01:58s\n",
      "epoch 35 | loss: 0.01193 | val_0_mse: 0.0065  |  0:02:01s\n",
      "epoch 36 | loss: 0.01204 | val_0_mse: 0.01003 |  0:02:05s\n",
      "epoch 37 | loss: 0.01048 | val_0_mse: 0.01337 |  0:02:08s\n",
      "epoch 38 | loss: 0.0158  | val_0_mse: 0.007   |  0:02:12s\n",
      "epoch 39 | loss: 0.01145 | val_0_mse: 0.009   |  0:02:15s\n",
      "epoch 40 | loss: 0.01217 | val_0_mse: 0.01176 |  0:02:18s\n",
      "epoch 41 | loss: 0.01081 | val_0_mse: 0.0134  |  0:02:22s\n",
      "epoch 42 | loss: 0.01165 | val_0_mse: 0.02359 |  0:02:25s\n",
      "epoch 43 | loss: 0.00974 | val_0_mse: 0.00579 |  0:02:29s\n",
      "epoch 44 | loss: 0.01035 | val_0_mse: 0.00739 |  0:02:32s\n",
      "epoch 45 | loss: 0.0096  | val_0_mse: 0.00489 |  0:02:35s\n",
      "epoch 46 | loss: 0.0175  | val_0_mse: 0.0137  |  0:02:39s\n",
      "epoch 47 | loss: 0.0107  | val_0_mse: 0.00742 |  0:02:42s\n",
      "epoch 48 | loss: 0.01204 | val_0_mse: 0.00731 |  0:02:46s\n",
      "epoch 49 | loss: 0.00933 | val_0_mse: 0.00752 |  0:02:49s\n",
      "epoch 50 | loss: 0.01146 | val_0_mse: 0.01302 |  0:02:53s\n",
      "epoch 51 | loss: 0.01064 | val_0_mse: 0.00639 |  0:02:56s\n",
      "epoch 52 | loss: 0.01139 | val_0_mse: 0.01323 |  0:02:59s\n",
      "epoch 53 | loss: 0.01202 | val_0_mse: 0.00862 |  0:03:03s\n",
      "epoch 54 | loss: 0.01374 | val_0_mse: 0.00453 |  0:03:06s\n",
      "epoch 55 | loss: 0.01097 | val_0_mse: 0.0076  |  0:03:10s\n",
      "epoch 56 | loss: 0.01101 | val_0_mse: 0.00487 |  0:03:13s\n",
      "epoch 57 | loss: 0.00922 | val_0_mse: 0.00668 |  0:03:16s\n",
      "epoch 58 | loss: 0.01044 | val_0_mse: 0.00715 |  0:03:20s\n",
      "epoch 59 | loss: 0.01258 | val_0_mse: 0.00459 |  0:03:23s\n",
      "epoch 60 | loss: 0.00881 | val_0_mse: 0.00801 |  0:03:26s\n",
      "epoch 61 | loss: 0.00838 | val_0_mse: 0.00649 |  0:03:30s\n",
      "epoch 62 | loss: 0.00785 | val_0_mse: 0.00616 |  0:03:33s\n",
      "epoch 63 | loss: 0.00793 | val_0_mse: 0.01355 |  0:03:37s\n",
      "epoch 64 | loss: 0.00955 | val_0_mse: 0.01014 |  0:03:40s\n",
      "\n",
      "Early stopping occurred at epoch 64 with best_epoch = 54 and best_val_0_mse = 0.00453\n"
     ]
    },
    {
     "name": "stderr",
     "output_type": "stream",
     "text": [
      "C:\\Users\\franc\\AppData\\Local\\Packages\\PythonSoftwareFoundation.Python.3.10_qbz5n2kfra8p0\\LocalCache\\local-packages\\Python310\\site-packages\\pytorch_tabnet\\callbacks.py:172: UserWarning: Best weights from best epoch are automatically used!\n",
      "  warnings.warn(wrn_msg)\n"
     ]
    },
    {
     "name": "stdout",
     "output_type": "stream",
     "text": [
      "Model MSE: 0.004804 - Best MSE: 0.004804\n",
      "Model R2 Score: 0.978703 - Best R2 Score: 0.978703\n",
      "\n",
      "Iterations 11/120 - Hyperparameters:  batch_sizes=64, nums_epochs=100, n_d=8, n_a=8, n_step=4, n_indipendent=2, n_shared=3, gamma=1.3, epsilon=1e-08\n"
     ]
    },
    {
     "name": "stderr",
     "output_type": "stream",
     "text": [
      "C:\\Users\\franc\\AppData\\Local\\Packages\\PythonSoftwareFoundation.Python.3.10_qbz5n2kfra8p0\\LocalCache\\local-packages\\Python310\\site-packages\\pytorch_tabnet\\abstract_model.py:75: UserWarning: Device used : cuda\n",
      "  warnings.warn(f\"Device used : {self.device}\")\n"
     ]
    },
    {
     "name": "stdout",
     "output_type": "stream",
     "text": [
      "epoch 0  | loss: 0.5709  | val_0_mse: 0.28378 |  0:00:06s\n",
      "epoch 1  | loss: 0.1189  | val_0_mse: 0.1756  |  0:00:14s\n",
      "epoch 2  | loss: 0.09055 | val_0_mse: 0.07709 |  0:00:21s\n",
      "epoch 3  | loss: 0.06683 | val_0_mse: 0.07672 |  0:00:29s\n",
      "epoch 4  | loss: 0.06283 | val_0_mse: 0.06257 |  0:00:36s\n",
      "epoch 5  | loss: 0.0544  | val_0_mse: 0.06437 |  0:00:44s\n",
      "epoch 6  | loss: 0.05478 | val_0_mse: 0.04145 |  0:00:51s\n",
      "epoch 7  | loss: 0.04435 | val_0_mse: 0.03264 |  0:00:59s\n",
      "epoch 8  | loss: 0.04463 | val_0_mse: 0.02826 |  0:01:07s\n",
      "epoch 9  | loss: 0.03977 | val_0_mse: 0.04196 |  0:01:14s\n",
      "epoch 10 | loss: 0.03339 | val_0_mse: 0.02589 |  0:01:21s\n",
      "epoch 11 | loss: 0.03116 | val_0_mse: 0.01749 |  0:01:29s\n",
      "epoch 12 | loss: 0.02236 | val_0_mse: 0.01684 |  0:01:37s\n",
      "epoch 13 | loss: 0.02269 | val_0_mse: 0.02748 |  0:01:44s\n",
      "epoch 14 | loss: 0.0246  | val_0_mse: 0.02618 |  0:01:51s\n",
      "epoch 15 | loss: 0.02385 | val_0_mse: 0.01149 |  0:01:57s\n",
      "epoch 16 | loss: 0.0238  | val_0_mse: 0.02098 |  0:02:04s\n",
      "epoch 17 | loss: 0.0216  | val_0_mse: 0.0156  |  0:02:11s\n",
      "epoch 18 | loss: 0.02137 | val_0_mse: 0.01327 |  0:02:18s\n",
      "epoch 19 | loss: 0.02    | val_0_mse: 0.01575 |  0:02:24s\n",
      "epoch 20 | loss: 0.01752 | val_0_mse: 0.00923 |  0:02:32s\n",
      "epoch 21 | loss: 0.01679 | val_0_mse: 0.01217 |  0:02:39s\n",
      "epoch 22 | loss: 0.02126 | val_0_mse: 0.01069 |  0:02:47s\n",
      "epoch 23 | loss: 0.01626 | val_0_mse: 0.02361 |  0:02:54s\n",
      "epoch 24 | loss: 0.01352 | val_0_mse: 0.01055 |  0:03:02s\n",
      "epoch 25 | loss: 0.01534 | val_0_mse: 0.01003 |  0:03:09s\n",
      "epoch 26 | loss: 0.01613 | val_0_mse: 0.03629 |  0:03:17s\n",
      "epoch 27 | loss: 0.01585 | val_0_mse: 0.08888 |  0:03:24s\n",
      "epoch 28 | loss: 0.02484 | val_0_mse: 0.01355 |  0:03:31s\n",
      "epoch 29 | loss: 0.02029 | val_0_mse: 0.01495 |  0:03:37s\n",
      "epoch 30 | loss: 0.01875 | val_0_mse: 0.00893 |  0:03:44s\n",
      "epoch 31 | loss: 0.01673 | val_0_mse: 0.01867 |  0:03:51s\n",
      "epoch 32 | loss: 0.01923 | val_0_mse: 0.0369  |  0:03:58s\n",
      "epoch 33 | loss: 0.0197  | val_0_mse: 0.00763 |  0:04:05s\n",
      "epoch 34 | loss: 0.01398 | val_0_mse: 0.00838 |  0:04:12s\n",
      "epoch 35 | loss: 0.01383 | val_0_mse: 0.0072  |  0:04:20s\n",
      "epoch 36 | loss: 0.01861 | val_0_mse: 0.00599 |  0:04:27s\n",
      "epoch 37 | loss: 0.01847 | val_0_mse: 0.05611 |  0:04:35s\n",
      "epoch 38 | loss: 0.0157  | val_0_mse: 0.00883 |  0:04:43s\n",
      "epoch 39 | loss: 0.01527 | val_0_mse: 0.01314 |  0:04:50s\n",
      "epoch 40 | loss: 0.01734 | val_0_mse: 0.01051 |  0:04:58s\n",
      "epoch 41 | loss: 0.01502 | val_0_mse: 0.05716 |  0:05:05s\n",
      "epoch 42 | loss: 0.01655 | val_0_mse: 0.0082  |  0:05:13s\n",
      "epoch 43 | loss: 0.01373 | val_0_mse: 0.01083 |  0:05:20s\n",
      "epoch 44 | loss: 0.01356 | val_0_mse: 0.04516 |  0:05:28s\n",
      "epoch 45 | loss: 0.01348 | val_0_mse: 0.00968 |  0:05:35s\n",
      "epoch 46 | loss: 0.01581 | val_0_mse: 0.01736 |  0:05:43s\n",
      "\n",
      "Early stopping occurred at epoch 46 with best_epoch = 36 and best_val_0_mse = 0.00599\n"
     ]
    },
    {
     "name": "stderr",
     "output_type": "stream",
     "text": [
      "C:\\Users\\franc\\AppData\\Local\\Packages\\PythonSoftwareFoundation.Python.3.10_qbz5n2kfra8p0\\LocalCache\\local-packages\\Python310\\site-packages\\pytorch_tabnet\\callbacks.py:172: UserWarning: Best weights from best epoch are automatically used!\n",
      "  warnings.warn(wrn_msg)\n"
     ]
    },
    {
     "name": "stdout",
     "output_type": "stream",
     "text": [
      "Model MSE: 0.006281 - Best MSE: 0.004804\n",
      "Model R2 Score: 0.972153 - Best R2 Score: 0.978703\n",
      "\n",
      "Iterations 12/120 - Hyperparameters:  batch_sizes=128, nums_epochs=100, n_d=8, n_a=8, n_step=4, n_indipendent=2, n_shared=3, gamma=1.3, epsilon=1e-08\n"
     ]
    },
    {
     "name": "stderr",
     "output_type": "stream",
     "text": [
      "C:\\Users\\franc\\AppData\\Local\\Packages\\PythonSoftwareFoundation.Python.3.10_qbz5n2kfra8p0\\LocalCache\\local-packages\\Python310\\site-packages\\pytorch_tabnet\\abstract_model.py:75: UserWarning: Device used : cuda\n",
      "  warnings.warn(f\"Device used : {self.device}\")\n"
     ]
    },
    {
     "name": "stdout",
     "output_type": "stream",
     "text": [
      "epoch 0  | loss: 0.90449 | val_0_mse: 0.27708 |  0:00:03s\n",
      "epoch 1  | loss: 0.15604 | val_0_mse: 0.16611 |  0:00:07s\n",
      "epoch 2  | loss: 0.11291 | val_0_mse: 0.15793 |  0:00:10s\n",
      "epoch 3  | loss: 0.09224 | val_0_mse: 0.07665 |  0:00:14s\n",
      "epoch 4  | loss: 0.07991 | val_0_mse: 0.08627 |  0:00:18s\n",
      "epoch 5  | loss: 0.07491 | val_0_mse: 0.07312 |  0:00:21s\n",
      "epoch 6  | loss: 0.05707 | val_0_mse: 0.04838 |  0:00:25s\n",
      "epoch 7  | loss: 0.04742 | val_0_mse: 0.05176 |  0:00:29s\n",
      "epoch 8  | loss: 0.04512 | val_0_mse: 0.03493 |  0:00:33s\n",
      "epoch 9  | loss: 0.03768 | val_0_mse: 0.03645 |  0:00:37s\n",
      "epoch 10 | loss: 0.03851 | val_0_mse: 0.03124 |  0:00:41s\n",
      "epoch 11 | loss: 0.02887 | val_0_mse: 0.03736 |  0:00:44s\n",
      "epoch 12 | loss: 0.03123 | val_0_mse: 0.01959 |  0:00:48s\n",
      "epoch 13 | loss: 0.02552 | val_0_mse: 0.02106 |  0:00:52s\n",
      "epoch 14 | loss: 0.02156 | val_0_mse: 0.0265  |  0:00:56s\n",
      "epoch 15 | loss: 0.02975 | val_0_mse: 0.03756 |  0:01:00s\n",
      "epoch 16 | loss: 0.02675 | val_0_mse: 0.03687 |  0:01:03s\n",
      "epoch 17 | loss: 0.02055 | val_0_mse: 0.01243 |  0:01:07s\n",
      "epoch 18 | loss: 0.01851 | val_0_mse: 0.02257 |  0:01:11s\n",
      "epoch 19 | loss: 0.01622 | val_0_mse: 0.01028 |  0:01:15s\n",
      "epoch 20 | loss: 0.02122 | val_0_mse: 0.01267 |  0:01:19s\n",
      "epoch 21 | loss: 0.01413 | val_0_mse: 0.01256 |  0:01:23s\n",
      "epoch 22 | loss: 0.01871 | val_0_mse: 0.02022 |  0:01:26s\n",
      "epoch 23 | loss: 0.01329 | val_0_mse: 0.00941 |  0:01:30s\n",
      "epoch 24 | loss: 0.01251 | val_0_mse: 0.019   |  0:01:34s\n",
      "epoch 25 | loss: 0.01489 | val_0_mse: 0.02721 |  0:01:38s\n",
      "epoch 26 | loss: 0.01286 | val_0_mse: 0.00754 |  0:01:42s\n",
      "epoch 27 | loss: 0.01234 | val_0_mse: 0.01271 |  0:01:46s\n",
      "epoch 28 | loss: 0.01558 | val_0_mse: 0.00877 |  0:01:49s\n",
      "epoch 29 | loss: 0.01225 | val_0_mse: 0.00956 |  0:01:53s\n",
      "epoch 30 | loss: 0.01579 | val_0_mse: 0.00893 |  0:01:57s\n",
      "epoch 31 | loss: 0.01429 | val_0_mse: 0.0083  |  0:02:01s\n",
      "epoch 32 | loss: 0.01947 | val_0_mse: 0.08583 |  0:02:05s\n",
      "epoch 33 | loss: 0.01783 | val_0_mse: 0.00877 |  0:02:09s\n",
      "epoch 34 | loss: 0.01345 | val_0_mse: 0.00743 |  0:02:12s\n",
      "epoch 35 | loss: 0.01184 | val_0_mse: 0.01302 |  0:02:16s\n",
      "epoch 36 | loss: 0.01318 | val_0_mse: 0.00641 |  0:02:20s\n",
      "epoch 37 | loss: 0.01166 | val_0_mse: 0.00842 |  0:02:24s\n",
      "epoch 38 | loss: 0.01159 | val_0_mse: 0.01408 |  0:02:28s\n",
      "epoch 39 | loss: 0.01409 | val_0_mse: 0.01211 |  0:02:32s\n",
      "epoch 40 | loss: 0.01562 | val_0_mse: 0.02641 |  0:02:35s\n",
      "epoch 41 | loss: 0.01508 | val_0_mse: 0.01234 |  0:02:39s\n",
      "epoch 42 | loss: 0.01302 | val_0_mse: 0.01573 |  0:02:43s\n",
      "epoch 43 | loss: 0.01095 | val_0_mse: 0.01588 |  0:02:47s\n",
      "epoch 44 | loss: 0.01479 | val_0_mse: 0.01082 |  0:02:51s\n",
      "epoch 45 | loss: 0.01236 | val_0_mse: 0.01152 |  0:02:54s\n",
      "epoch 46 | loss: 0.01178 | val_0_mse: 0.04666 |  0:02:58s\n",
      "\n",
      "Early stopping occurred at epoch 46 with best_epoch = 36 and best_val_0_mse = 0.00641\n"
     ]
    },
    {
     "name": "stderr",
     "output_type": "stream",
     "text": [
      "C:\\Users\\franc\\AppData\\Local\\Packages\\PythonSoftwareFoundation.Python.3.10_qbz5n2kfra8p0\\LocalCache\\local-packages\\Python310\\site-packages\\pytorch_tabnet\\callbacks.py:172: UserWarning: Best weights from best epoch are automatically used!\n",
      "  warnings.warn(wrn_msg)\n"
     ]
    },
    {
     "name": "stdout",
     "output_type": "stream",
     "text": [
      "Model MSE: 0.006593 - Best MSE: 0.004804\n",
      "Model R2 Score: 0.970771 - Best R2 Score: 0.978703\n",
      "\n",
      "Iterations 13/120 - Hyperparameters:  batch_sizes=64, nums_epochs=100, n_d=8, n_a=8, n_step=4, n_indipendent=3, n_shared=2, gamma=1.3, epsilon=1e-08\n"
     ]
    },
    {
     "name": "stderr",
     "output_type": "stream",
     "text": [
      "C:\\Users\\franc\\AppData\\Local\\Packages\\PythonSoftwareFoundation.Python.3.10_qbz5n2kfra8p0\\LocalCache\\local-packages\\Python310\\site-packages\\pytorch_tabnet\\abstract_model.py:75: UserWarning: Device used : cuda\n",
      "  warnings.warn(f\"Device used : {self.device}\")\n"
     ]
    },
    {
     "name": "stdout",
     "output_type": "stream",
     "text": [
      "epoch 0  | loss: 0.9472  | val_0_mse: 0.31562 |  0:00:06s\n",
      "epoch 1  | loss: 0.11703 | val_0_mse: 0.10042 |  0:00:13s\n",
      "epoch 2  | loss: 0.08486 | val_0_mse: 0.06653 |  0:00:21s\n",
      "epoch 3  | loss: 0.0723  | val_0_mse: 0.0638  |  0:00:29s\n",
      "epoch 4  | loss: 0.05998 | val_0_mse: 0.06179 |  0:00:37s\n",
      "epoch 5  | loss: 0.04451 | val_0_mse: 0.03281 |  0:00:44s\n",
      "epoch 6  | loss: 0.0352  | val_0_mse: 0.03096 |  0:00:52s\n",
      "epoch 7  | loss: 0.03161 | val_0_mse: 0.01771 |  0:00:59s\n",
      "epoch 8  | loss: 0.02718 | val_0_mse: 0.02048 |  0:01:06s\n",
      "epoch 9  | loss: 0.02963 | val_0_mse: 0.02235 |  0:01:14s\n",
      "epoch 10 | loss: 0.02255 | val_0_mse: 0.04405 |  0:01:22s\n",
      "epoch 11 | loss: 0.02443 | val_0_mse: 0.03026 |  0:01:30s\n",
      "epoch 12 | loss: 0.0179  | val_0_mse: 0.01693 |  0:01:37s\n",
      "epoch 13 | loss: 0.01871 | val_0_mse: 0.11859 |  0:01:45s\n",
      "epoch 14 | loss: 0.01754 | val_0_mse: 0.01208 |  0:01:53s\n",
      "epoch 15 | loss: 0.01711 | val_0_mse: 0.01208 |  0:02:00s\n",
      "epoch 16 | loss: 0.01633 | val_0_mse: 0.01109 |  0:02:08s\n",
      "epoch 17 | loss: 0.01787 | val_0_mse: 0.01786 |  0:02:16s\n",
      "epoch 18 | loss: 0.01989 | val_0_mse: 0.03576 |  0:02:24s\n",
      "epoch 19 | loss: 0.01471 | val_0_mse: 0.01068 |  0:02:31s\n",
      "epoch 20 | loss: 0.01833 | val_0_mse: 0.00802 |  0:02:39s\n",
      "epoch 21 | loss: 0.0154  | val_0_mse: 0.00699 |  0:02:47s\n",
      "epoch 22 | loss: 0.01622 | val_0_mse: 0.0102  |  0:02:55s\n",
      "epoch 23 | loss: 0.01337 | val_0_mse: 0.01028 |  0:03:02s\n",
      "epoch 24 | loss: 0.01598 | val_0_mse: 0.01028 |  0:03:10s\n",
      "epoch 25 | loss: 0.01324 | val_0_mse: 0.01795 |  0:03:18s\n",
      "epoch 26 | loss: 0.01393 | val_0_mse: 0.0092  |  0:03:26s\n",
      "epoch 27 | loss: 0.01436 | val_0_mse: 0.01042 |  0:03:34s\n",
      "epoch 28 | loss: 0.01341 | val_0_mse: 0.00694 |  0:03:41s\n",
      "epoch 29 | loss: 0.01454 | val_0_mse: 0.0173  |  0:03:49s\n",
      "epoch 30 | loss: 0.01314 | val_0_mse: 0.00841 |  0:03:57s\n",
      "epoch 31 | loss: 0.012   | val_0_mse: 0.00582 |  0:04:04s\n",
      "epoch 32 | loss: 0.01285 | val_0_mse: 0.01367 |  0:04:12s\n",
      "epoch 33 | loss: 0.0134  | val_0_mse: 0.01449 |  0:04:20s\n",
      "epoch 34 | loss: 0.01317 | val_0_mse: 0.02176 |  0:04:28s\n",
      "epoch 35 | loss: 0.01177 | val_0_mse: 0.01595 |  0:04:36s\n",
      "epoch 36 | loss: 0.01433 | val_0_mse: 0.00591 |  0:04:43s\n",
      "epoch 37 | loss: 0.01291 | val_0_mse: 0.01787 |  0:04:51s\n",
      "epoch 38 | loss: 0.01335 | val_0_mse: 0.03403 |  0:04:59s\n",
      "epoch 39 | loss: 0.01333 | val_0_mse: 0.01539 |  0:05:07s\n",
      "epoch 40 | loss: 0.01257 | val_0_mse: 0.04654 |  0:05:14s\n",
      "epoch 41 | loss: 0.01392 | val_0_mse: 0.00547 |  0:05:22s\n",
      "epoch 42 | loss: 0.01116 | val_0_mse: 0.00754 |  0:05:30s\n",
      "epoch 43 | loss: 0.01165 | val_0_mse: 0.01045 |  0:05:38s\n",
      "epoch 44 | loss: 0.01324 | val_0_mse: 0.00584 |  0:05:45s\n",
      "epoch 45 | loss: 0.01235 | val_0_mse: 0.00614 |  0:05:52s\n",
      "epoch 46 | loss: 0.0174  | val_0_mse: 0.07865 |  0:05:59s\n",
      "epoch 47 | loss: 0.01612 | val_0_mse: 0.00695 |  0:06:06s\n",
      "epoch 48 | loss: 0.01154 | val_0_mse: 0.00693 |  0:06:13s\n",
      "epoch 49 | loss: 0.01286 | val_0_mse: 0.01118 |  0:06:19s\n",
      "epoch 50 | loss: 0.01292 | val_0_mse: 0.00881 |  0:06:26s\n",
      "epoch 51 | loss: 0.01193 | val_0_mse: 0.01053 |  0:06:33s\n",
      "\n",
      "Early stopping occurred at epoch 51 with best_epoch = 41 and best_val_0_mse = 0.00547\n"
     ]
    },
    {
     "name": "stderr",
     "output_type": "stream",
     "text": [
      "C:\\Users\\franc\\AppData\\Local\\Packages\\PythonSoftwareFoundation.Python.3.10_qbz5n2kfra8p0\\LocalCache\\local-packages\\Python310\\site-packages\\pytorch_tabnet\\callbacks.py:172: UserWarning: Best weights from best epoch are automatically used!\n",
      "  warnings.warn(wrn_msg)\n"
     ]
    },
    {
     "name": "stdout",
     "output_type": "stream",
     "text": [
      "Model MSE: 0.005991 - Best MSE: 0.004804\n",
      "Model R2 Score: 0.973439 - Best R2 Score: 0.978703\n",
      "\n",
      "Iterations 14/120 - Hyperparameters:  batch_sizes=128, nums_epochs=100, n_d=8, n_a=8, n_step=4, n_indipendent=3, n_shared=2, gamma=1.3, epsilon=1e-08\n"
     ]
    },
    {
     "name": "stderr",
     "output_type": "stream",
     "text": [
      "C:\\Users\\franc\\AppData\\Local\\Packages\\PythonSoftwareFoundation.Python.3.10_qbz5n2kfra8p0\\LocalCache\\local-packages\\Python310\\site-packages\\pytorch_tabnet\\abstract_model.py:75: UserWarning: Device used : cuda\n",
      "  warnings.warn(f\"Device used : {self.device}\")\n"
     ]
    },
    {
     "name": "stdout",
     "output_type": "stream",
     "text": [
      "epoch 0  | loss: 1.47733 | val_0_mse: 0.35391 |  0:00:03s\n",
      "epoch 1  | loss: 0.14694 | val_0_mse: 0.24231 |  0:00:07s\n",
      "epoch 2  | loss: 0.07771 | val_0_mse: 0.12466 |  0:00:10s\n",
      "epoch 3  | loss: 0.06862 | val_0_mse: 0.14397 |  0:00:14s\n",
      "epoch 4  | loss: 0.05437 | val_0_mse: 0.08475 |  0:00:18s\n",
      "epoch 5  | loss: 0.0493  | val_0_mse: 0.05438 |  0:00:21s\n",
      "epoch 6  | loss: 0.04692 | val_0_mse: 0.0419  |  0:00:25s\n",
      "epoch 7  | loss: 0.0466  | val_0_mse: 0.03666 |  0:00:29s\n",
      "epoch 8  | loss: 0.04834 | val_0_mse: 0.04506 |  0:00:33s\n",
      "epoch 9  | loss: 0.04569 | val_0_mse: 0.03692 |  0:00:37s\n",
      "epoch 10 | loss: 0.0441  | val_0_mse: 0.03402 |  0:00:40s\n",
      "epoch 11 | loss: 0.04754 | val_0_mse: 0.03436 |  0:00:44s\n",
      "epoch 12 | loss: 0.04584 | val_0_mse: 0.03154 |  0:00:48s\n",
      "epoch 13 | loss: 0.04665 | val_0_mse: 0.0418  |  0:00:52s\n",
      "epoch 14 | loss: 0.04347 | val_0_mse: 0.03729 |  0:00:56s\n",
      "epoch 15 | loss: 0.04285 | val_0_mse: 0.0334  |  0:00:59s\n",
      "epoch 16 | loss: 0.04312 | val_0_mse: 0.03286 |  0:01:03s\n",
      "epoch 17 | loss: 0.04244 | val_0_mse: 0.03946 |  0:01:07s\n",
      "epoch 18 | loss: 0.04084 | val_0_mse: 0.02756 |  0:01:11s\n",
      "epoch 19 | loss: 0.03987 | val_0_mse: 0.03266 |  0:01:15s\n",
      "epoch 20 | loss: 0.04252 | val_0_mse: 0.03965 |  0:01:19s\n",
      "epoch 21 | loss: 0.0411  | val_0_mse: 0.05296 |  0:01:22s\n",
      "epoch 22 | loss: 0.03884 | val_0_mse: 0.02968 |  0:01:26s\n",
      "epoch 23 | loss: 0.03744 | val_0_mse: 0.04054 |  0:01:30s\n",
      "epoch 24 | loss: 0.03525 | val_0_mse: 0.03243 |  0:01:34s\n",
      "epoch 25 | loss: 0.03196 | val_0_mse: 0.04051 |  0:01:38s\n",
      "epoch 26 | loss: 0.03446 | val_0_mse: 0.02359 |  0:01:41s\n",
      "epoch 27 | loss: 0.02408 | val_0_mse: 0.02277 |  0:01:45s\n",
      "epoch 28 | loss: 0.02664 | val_0_mse: 0.02578 |  0:01:49s\n",
      "epoch 29 | loss: 0.02539 | val_0_mse: 0.02542 |  0:01:53s\n",
      "epoch 30 | loss: 0.02473 | val_0_mse: 0.01704 |  0:01:57s\n",
      "epoch 31 | loss: 0.02148 | val_0_mse: 0.01807 |  0:02:01s\n",
      "epoch 32 | loss: 0.02777 | val_0_mse: 0.07303 |  0:02:05s\n",
      "epoch 33 | loss: 0.03529 | val_0_mse: 0.04817 |  0:02:08s\n",
      "epoch 34 | loss: 0.03223 | val_0_mse: 0.03079 |  0:02:12s\n",
      "epoch 35 | loss: 0.02539 | val_0_mse: 0.01868 |  0:02:16s\n",
      "epoch 36 | loss: 0.02193 | val_0_mse: 0.02032 |  0:02:20s\n",
      "epoch 37 | loss: 0.0199  | val_0_mse: 0.01787 |  0:02:24s\n",
      "epoch 38 | loss: 0.02297 | val_0_mse: 0.01255 |  0:02:28s\n",
      "epoch 39 | loss: 0.02726 | val_0_mse: 0.02897 |  0:02:31s\n",
      "epoch 40 | loss: 0.02324 | val_0_mse: 0.01518 |  0:02:35s\n",
      "epoch 41 | loss: 0.01824 | val_0_mse: 0.01459 |  0:02:39s\n",
      "epoch 42 | loss: 0.02225 | val_0_mse: 0.01703 |  0:02:43s\n",
      "epoch 43 | loss: 0.01825 | val_0_mse: 0.02641 |  0:02:47s\n",
      "epoch 44 | loss: 0.01885 | val_0_mse: 0.02032 |  0:02:50s\n",
      "epoch 45 | loss: 0.01739 | val_0_mse: 0.06174 |  0:02:54s\n",
      "epoch 46 | loss: 0.01729 | val_0_mse: 0.01099 |  0:02:58s\n",
      "epoch 47 | loss: 0.01192 | val_0_mse: 0.00806 |  0:03:02s\n",
      "epoch 48 | loss: 0.01428 | val_0_mse: 0.02438 |  0:03:06s\n",
      "epoch 49 | loss: 0.01331 | val_0_mse: 0.01199 |  0:03:10s\n",
      "epoch 50 | loss: 0.01275 | val_0_mse: 0.01326 |  0:03:13s\n",
      "epoch 51 | loss: 0.0131  | val_0_mse: 0.01572 |  0:03:17s\n",
      "epoch 52 | loss: 0.01656 | val_0_mse: 0.00872 |  0:03:21s\n",
      "epoch 53 | loss: 0.01311 | val_0_mse: 0.01463 |  0:03:25s\n",
      "epoch 54 | loss: 0.0124  | val_0_mse: 0.00957 |  0:03:29s\n",
      "epoch 55 | loss: 0.01186 | val_0_mse: 0.01147 |  0:03:32s\n",
      "epoch 56 | loss: 0.0132  | val_0_mse: 0.00998 |  0:03:36s\n",
      "epoch 57 | loss: 0.01156 | val_0_mse: 0.01095 |  0:03:40s\n",
      "\n",
      "Early stopping occurred at epoch 57 with best_epoch = 47 and best_val_0_mse = 0.00806\n"
     ]
    },
    {
     "name": "stderr",
     "output_type": "stream",
     "text": [
      "C:\\Users\\franc\\AppData\\Local\\Packages\\PythonSoftwareFoundation.Python.3.10_qbz5n2kfra8p0\\LocalCache\\local-packages\\Python310\\site-packages\\pytorch_tabnet\\callbacks.py:172: UserWarning: Best weights from best epoch are automatically used!\n",
      "  warnings.warn(wrn_msg)\n"
     ]
    },
    {
     "name": "stdout",
     "output_type": "stream",
     "text": [
      "Model MSE: 0.007987 - Best MSE: 0.004804\n",
      "Model R2 Score: 0.964590 - Best R2 Score: 0.978703\n",
      "\n",
      "Iterations 15/120 - Hyperparameters:  batch_sizes=64, nums_epochs=100, n_d=8, n_a=8, n_step=4, n_indipendent=3, n_shared=3, gamma=1.3, epsilon=1e-08\n"
     ]
    },
    {
     "name": "stderr",
     "output_type": "stream",
     "text": [
      "C:\\Users\\franc\\AppData\\Local\\Packages\\PythonSoftwareFoundation.Python.3.10_qbz5n2kfra8p0\\LocalCache\\local-packages\\Python310\\site-packages\\pytorch_tabnet\\abstract_model.py:75: UserWarning: Device used : cuda\n",
      "  warnings.warn(f\"Device used : {self.device}\")\n"
     ]
    },
    {
     "name": "stdout",
     "output_type": "stream",
     "text": [
      "epoch 0  | loss: 4.15655 | val_0_mse: 0.80968 |  0:00:07s\n",
      "epoch 1  | loss: 0.10362 | val_0_mse: 0.08566 |  0:00:15s\n",
      "epoch 2  | loss: 0.08212 | val_0_mse: 0.07087 |  0:00:23s\n",
      "epoch 3  | loss: 0.0716  | val_0_mse: 0.06629 |  0:00:31s\n",
      "epoch 4  | loss: 0.0753  | val_0_mse: 0.06345 |  0:00:39s\n",
      "epoch 5  | loss: 0.07399 | val_0_mse: 0.11921 |  0:00:46s\n",
      "epoch 6  | loss: 0.07091 | val_0_mse: 0.06496 |  0:00:54s\n",
      "epoch 7  | loss: 0.07143 | val_0_mse: 0.06512 |  0:01:02s\n",
      "epoch 8  | loss: 0.07313 | val_0_mse: 0.06056 |  0:01:09s\n",
      "epoch 9  | loss: 0.06483 | val_0_mse: 0.06444 |  0:01:18s\n",
      "epoch 10 | loss: 0.05617 | val_0_mse: 0.0535  |  0:01:26s\n",
      "epoch 11 | loss: 0.05798 | val_0_mse: 0.04689 |  0:01:35s\n",
      "epoch 12 | loss: 0.04704 | val_0_mse: 0.04794 |  0:01:44s\n",
      "epoch 13 | loss: 0.04681 | val_0_mse: 0.03432 |  0:01:52s\n",
      "epoch 14 | loss: 0.03613 | val_0_mse: 0.02768 |  0:02:00s\n",
      "epoch 15 | loss: 0.03184 | val_0_mse: 0.019   |  0:02:09s\n",
      "epoch 16 | loss: 0.03052 | val_0_mse: 0.02422 |  0:02:18s\n",
      "epoch 17 | loss: 0.02213 | val_0_mse: 0.01489 |  0:02:26s\n",
      "epoch 18 | loss: 0.01957 | val_0_mse: 0.01444 |  0:02:35s\n",
      "epoch 19 | loss: 0.02586 | val_0_mse: 0.02366 |  0:02:43s\n",
      "epoch 20 | loss: 0.01791 | val_0_mse: 0.01609 |  0:02:52s\n",
      "epoch 21 | loss: 0.01654 | val_0_mse: 0.00785 |  0:03:01s\n",
      "epoch 22 | loss: 0.02269 | val_0_mse: 0.00835 |  0:03:09s\n",
      "epoch 23 | loss: 0.01368 | val_0_mse: 0.00982 |  0:03:18s\n",
      "epoch 24 | loss: 0.01548 | val_0_mse: 0.00664 |  0:03:26s\n",
      "epoch 25 | loss: 0.01596 | val_0_mse: 0.00987 |  0:03:35s\n",
      "epoch 26 | loss: 0.01401 | val_0_mse: 0.01773 |  0:03:43s\n",
      "epoch 27 | loss: 0.01433 | val_0_mse: 0.00803 |  0:03:52s\n",
      "epoch 28 | loss: 0.01378 | val_0_mse: 0.01546 |  0:04:01s\n",
      "epoch 29 | loss: 0.01951 | val_0_mse: 0.01475 |  0:04:09s\n",
      "epoch 30 | loss: 0.01414 | val_0_mse: 0.01511 |  0:04:18s\n",
      "epoch 31 | loss: 0.01274 | val_0_mse: 0.01423 |  0:04:26s\n",
      "epoch 32 | loss: 0.01518 | val_0_mse: 0.0152  |  0:04:33s\n",
      "epoch 33 | loss: 0.01413 | val_0_mse: 0.02897 |  0:04:41s\n",
      "epoch 34 | loss: 0.01384 | val_0_mse: 0.01909 |  0:04:48s\n",
      "\n",
      "Early stopping occurred at epoch 34 with best_epoch = 24 and best_val_0_mse = 0.00664\n"
     ]
    },
    {
     "name": "stderr",
     "output_type": "stream",
     "text": [
      "C:\\Users\\franc\\AppData\\Local\\Packages\\PythonSoftwareFoundation.Python.3.10_qbz5n2kfra8p0\\LocalCache\\local-packages\\Python310\\site-packages\\pytorch_tabnet\\callbacks.py:172: UserWarning: Best weights from best epoch are automatically used!\n",
      "  warnings.warn(wrn_msg)\n"
     ]
    },
    {
     "name": "stdout",
     "output_type": "stream",
     "text": [
      "Model MSE: 0.006935 - Best MSE: 0.004804\n",
      "Model R2 Score: 0.969256 - Best R2 Score: 0.978703\n",
      "\n",
      "Iterations 16/120 - Hyperparameters:  batch_sizes=128, nums_epochs=100, n_d=8, n_a=8, n_step=4, n_indipendent=3, n_shared=3, gamma=1.3, epsilon=1e-08\n"
     ]
    },
    {
     "name": "stderr",
     "output_type": "stream",
     "text": [
      "C:\\Users\\franc\\AppData\\Local\\Packages\\PythonSoftwareFoundation.Python.3.10_qbz5n2kfra8p0\\LocalCache\\local-packages\\Python310\\site-packages\\pytorch_tabnet\\abstract_model.py:75: UserWarning: Device used : cuda\n",
      "  warnings.warn(f\"Device used : {self.device}\")\n"
     ]
    },
    {
     "name": "stdout",
     "output_type": "stream",
     "text": [
      "epoch 0  | loss: 6.92955 | val_0_mse: 1.01532 |  0:00:04s\n",
      "epoch 1  | loss: 0.1869  | val_0_mse: 0.28769 |  0:00:08s\n",
      "epoch 2  | loss: 0.10335 | val_0_mse: 0.08828 |  0:00:12s\n",
      "epoch 3  | loss: 0.08195 | val_0_mse: 0.08817 |  0:00:17s\n",
      "epoch 4  | loss: 0.06316 | val_0_mse: 0.07188 |  0:00:21s\n",
      "epoch 5  | loss: 0.058   | val_0_mse: 0.04642 |  0:00:25s\n",
      "epoch 6  | loss: 0.05024 | val_0_mse: 0.04041 |  0:00:30s\n",
      "epoch 7  | loss: 0.0472  | val_0_mse: 0.038   |  0:00:34s\n",
      "epoch 8  | loss: 0.04506 | val_0_mse: 0.03791 |  0:00:38s\n",
      "epoch 9  | loss: 0.04282 | val_0_mse: 0.04305 |  0:00:43s\n",
      "epoch 10 | loss: 0.04306 | val_0_mse: 0.03382 |  0:00:47s\n",
      "epoch 11 | loss: 0.04389 | val_0_mse: 0.03325 |  0:00:51s\n",
      "epoch 12 | loss: 0.03637 | val_0_mse: 0.03164 |  0:00:55s\n",
      "epoch 13 | loss: 0.03711 | val_0_mse: 0.03535 |  0:01:00s\n",
      "epoch 14 | loss: 0.03225 | val_0_mse: 0.02734 |  0:01:04s\n",
      "epoch 15 | loss: 0.03154 | val_0_mse: 0.02816 |  0:01:08s\n",
      "epoch 16 | loss: 0.02799 | val_0_mse: 0.02509 |  0:01:12s\n",
      "epoch 17 | loss: 0.02486 | val_0_mse: 0.02586 |  0:01:17s\n",
      "epoch 18 | loss: 0.02349 | val_0_mse: 0.0211  |  0:01:21s\n",
      "epoch 19 | loss: 0.02598 | val_0_mse: 0.03148 |  0:01:25s\n",
      "epoch 20 | loss: 0.02051 | val_0_mse: 0.02169 |  0:01:29s\n",
      "epoch 21 | loss: 0.01996 | val_0_mse: 0.01437 |  0:01:34s\n",
      "epoch 22 | loss: 0.01859 | val_0_mse: 0.01561 |  0:01:38s\n",
      "epoch 23 | loss: 0.01733 | val_0_mse: 0.01151 |  0:01:42s\n",
      "epoch 24 | loss: 0.01658 | val_0_mse: 0.01236 |  0:01:46s\n",
      "epoch 25 | loss: 0.02083 | val_0_mse: 0.02001 |  0:01:51s\n",
      "epoch 26 | loss: 0.01838 | val_0_mse: 0.01536 |  0:01:55s\n",
      "epoch 27 | loss: 0.01859 | val_0_mse: 0.02301 |  0:01:59s\n",
      "epoch 28 | loss: 0.01724 | val_0_mse: 0.02052 |  0:02:03s\n",
      "epoch 29 | loss: 0.01395 | val_0_mse: 0.00891 |  0:02:08s\n",
      "epoch 30 | loss: 0.01643 | val_0_mse: 0.00888 |  0:02:12s\n",
      "epoch 31 | loss: 0.01367 | val_0_mse: 0.01272 |  0:02:16s\n",
      "epoch 32 | loss: 0.01383 | val_0_mse: 0.00836 |  0:02:20s\n",
      "epoch 33 | loss: 0.01289 | val_0_mse: 0.01121 |  0:02:25s\n",
      "epoch 34 | loss: 0.01521 | val_0_mse: 0.00938 |  0:02:29s\n",
      "epoch 35 | loss: 0.01187 | val_0_mse: 0.01397 |  0:02:33s\n",
      "epoch 36 | loss: 0.01195 | val_0_mse: 0.00907 |  0:02:38s\n",
      "epoch 37 | loss: 0.01177 | val_0_mse: 0.00692 |  0:02:42s\n",
      "epoch 38 | loss: 0.01007 | val_0_mse: 0.00884 |  0:02:46s\n",
      "epoch 39 | loss: 0.00986 | val_0_mse: 0.00672 |  0:02:50s\n",
      "epoch 40 | loss: 0.01217 | val_0_mse: 0.0125  |  0:02:55s\n",
      "epoch 41 | loss: 0.01137 | val_0_mse: 0.01401 |  0:02:59s\n",
      "epoch 42 | loss: 0.00998 | val_0_mse: 0.00853 |  0:03:03s\n",
      "epoch 43 | loss: 0.01125 | val_0_mse: 0.01103 |  0:03:08s\n",
      "epoch 44 | loss: 0.01182 | val_0_mse: 0.0069  |  0:03:12s\n",
      "epoch 45 | loss: 0.01008 | val_0_mse: 0.01394 |  0:03:16s\n",
      "epoch 46 | loss: 0.01272 | val_0_mse: 0.01541 |  0:03:20s\n",
      "epoch 47 | loss: 0.01131 | val_0_mse: 0.01001 |  0:03:25s\n",
      "epoch 48 | loss: 0.01063 | val_0_mse: 0.01464 |  0:03:29s\n",
      "epoch 49 | loss: 0.00973 | val_0_mse: 0.01385 |  0:03:33s\n",
      "\n",
      "Early stopping occurred at epoch 49 with best_epoch = 39 and best_val_0_mse = 0.00672\n"
     ]
    },
    {
     "name": "stderr",
     "output_type": "stream",
     "text": [
      "C:\\Users\\franc\\AppData\\Local\\Packages\\PythonSoftwareFoundation.Python.3.10_qbz5n2kfra8p0\\LocalCache\\local-packages\\Python310\\site-packages\\pytorch_tabnet\\callbacks.py:172: UserWarning: Best weights from best epoch are automatically used!\n",
      "  warnings.warn(wrn_msg)\n"
     ]
    },
    {
     "name": "stdout",
     "output_type": "stream",
     "text": [
      "Model MSE: 0.006777 - Best MSE: 0.004804\n",
      "Model R2 Score: 0.969954 - Best R2 Score: 0.978703\n",
      "\n",
      "Iterations 17/120 - Hyperparameters:  batch_sizes=64, nums_epochs=100, n_d=8, n_a=8, n_step=5, n_indipendent=2, n_shared=2, gamma=1.3, epsilon=1e-08\n"
     ]
    },
    {
     "name": "stderr",
     "output_type": "stream",
     "text": [
      "C:\\Users\\franc\\AppData\\Local\\Packages\\PythonSoftwareFoundation.Python.3.10_qbz5n2kfra8p0\\LocalCache\\local-packages\\Python310\\site-packages\\pytorch_tabnet\\abstract_model.py:75: UserWarning: Device used : cuda\n",
      "  warnings.warn(f\"Device used : {self.device}\")\n"
     ]
    },
    {
     "name": "stdout",
     "output_type": "stream",
     "text": [
      "epoch 0  | loss: 1.78671 | val_0_mse: 0.27063 |  0:00:07s\n",
      "epoch 1  | loss: 0.14191 | val_0_mse: 0.12936 |  0:00:15s\n",
      "epoch 2  | loss: 0.12184 | val_0_mse: 0.08365 |  0:00:23s\n",
      "epoch 3  | loss: 0.09148 | val_0_mse: 0.0587  |  0:00:31s\n",
      "epoch 4  | loss: 0.07573 | val_0_mse: 0.06185 |  0:00:39s\n",
      "epoch 5  | loss: 0.06527 | val_0_mse: 0.06612 |  0:00:47s\n",
      "epoch 6  | loss: 0.06363 | val_0_mse: 0.06007 |  0:00:55s\n",
      "epoch 7  | loss: 0.06786 | val_0_mse: 0.05301 |  0:01:04s\n",
      "epoch 8  | loss: 0.05923 | val_0_mse: 0.07177 |  0:01:12s\n",
      "epoch 9  | loss: 0.05186 | val_0_mse: 0.03709 |  0:01:20s\n",
      "epoch 10 | loss: 0.05062 | val_0_mse: 0.06912 |  0:01:28s\n",
      "epoch 11 | loss: 0.05088 | val_0_mse: 0.03753 |  0:01:36s\n",
      "epoch 12 | loss: 0.04437 | val_0_mse: 0.03666 |  0:01:44s\n",
      "epoch 13 | loss: 0.04636 | val_0_mse: 0.02986 |  0:01:52s\n",
      "epoch 14 | loss: 0.03911 | val_0_mse: 0.01909 |  0:02:00s\n",
      "epoch 15 | loss: 0.03495 | val_0_mse: 0.02051 |  0:02:09s\n",
      "epoch 16 | loss: 0.03339 | val_0_mse: 0.1689  |  0:02:17s\n",
      "epoch 17 | loss: 0.0289  | val_0_mse: 0.02563 |  0:02:25s\n",
      "epoch 18 | loss: 0.02668 | val_0_mse: 0.01322 |  0:02:33s\n",
      "epoch 19 | loss: 0.02672 | val_0_mse: 0.01314 |  0:02:41s\n",
      "epoch 20 | loss: 0.02716 | val_0_mse: 0.02096 |  0:02:50s\n",
      "epoch 21 | loss: 0.02738 | val_0_mse: 0.01765 |  0:02:58s\n",
      "epoch 22 | loss: 0.02471 | val_0_mse: 0.01497 |  0:03:06s\n",
      "epoch 23 | loss: 0.02164 | val_0_mse: 0.01198 |  0:03:14s\n",
      "epoch 24 | loss: 0.02067 | val_0_mse: 0.01238 |  0:03:22s\n",
      "epoch 25 | loss: 0.0174  | val_0_mse: 0.01062 |  0:03:31s\n",
      "epoch 26 | loss: 0.0188  | val_0_mse: 0.02829 |  0:03:39s\n",
      "epoch 27 | loss: 0.01946 | val_0_mse: 0.01862 |  0:03:47s\n",
      "epoch 28 | loss: 0.01672 | val_0_mse: 0.01593 |  0:03:55s\n",
      "epoch 29 | loss: 0.01987 | val_0_mse: 0.01779 |  0:04:03s\n",
      "epoch 30 | loss: 0.01819 | val_0_mse: 0.01024 |  0:04:12s\n",
      "epoch 31 | loss: 0.01864 | val_0_mse: 0.00884 |  0:04:20s\n",
      "epoch 32 | loss: 0.02114 | val_0_mse: 0.01135 |  0:04:28s\n",
      "epoch 33 | loss: 0.02186 | val_0_mse: 0.03248 |  0:04:36s\n",
      "epoch 34 | loss: 0.02526 | val_0_mse: 0.01409 |  0:04:44s\n",
      "epoch 35 | loss: 0.0143  | val_0_mse: 0.00705 |  0:04:52s\n",
      "epoch 36 | loss: 0.01833 | val_0_mse: 0.01095 |  0:05:00s\n",
      "epoch 37 | loss: 0.01449 | val_0_mse: 0.01117 |  0:05:09s\n",
      "epoch 38 | loss: 0.01813 | val_0_mse: 0.01347 |  0:05:17s\n",
      "epoch 39 | loss: 0.01737 | val_0_mse: 0.03571 |  0:05:25s\n",
      "epoch 40 | loss: 0.01607 | val_0_mse: 0.01    |  0:05:33s\n",
      "epoch 41 | loss: 0.01873 | val_0_mse: 0.02399 |  0:05:41s\n",
      "epoch 42 | loss: 0.01503 | val_0_mse: 0.03272 |  0:05:49s\n",
      "epoch 43 | loss: 0.02125 | val_0_mse: 0.01166 |  0:05:57s\n",
      "epoch 44 | loss: 0.015   | val_0_mse: 0.01413 |  0:06:06s\n",
      "epoch 45 | loss: 0.01621 | val_0_mse: 0.01113 |  0:06:14s\n",
      "\n",
      "Early stopping occurred at epoch 45 with best_epoch = 35 and best_val_0_mse = 0.00705\n"
     ]
    },
    {
     "name": "stderr",
     "output_type": "stream",
     "text": [
      "C:\\Users\\franc\\AppData\\Local\\Packages\\PythonSoftwareFoundation.Python.3.10_qbz5n2kfra8p0\\LocalCache\\local-packages\\Python310\\site-packages\\pytorch_tabnet\\callbacks.py:172: UserWarning: Best weights from best epoch are automatically used!\n",
      "  warnings.warn(wrn_msg)\n"
     ]
    },
    {
     "name": "stdout",
     "output_type": "stream",
     "text": [
      "Model MSE: 0.007778 - Best MSE: 0.004804\n",
      "Model R2 Score: 0.965519 - Best R2 Score: 0.978703\n",
      "\n",
      "Iterations 18/120 - Hyperparameters:  batch_sizes=128, nums_epochs=100, n_d=8, n_a=8, n_step=5, n_indipendent=2, n_shared=2, gamma=1.3, epsilon=1e-08\n"
     ]
    },
    {
     "name": "stderr",
     "output_type": "stream",
     "text": [
      "C:\\Users\\franc\\AppData\\Local\\Packages\\PythonSoftwareFoundation.Python.3.10_qbz5n2kfra8p0\\LocalCache\\local-packages\\Python310\\site-packages\\pytorch_tabnet\\abstract_model.py:75: UserWarning: Device used : cuda\n",
      "  warnings.warn(f\"Device used : {self.device}\")\n"
     ]
    },
    {
     "name": "stdout",
     "output_type": "stream",
     "text": [
      "epoch 0  | loss: 3.1616  | val_0_mse: 0.85979 |  0:00:03s\n",
      "epoch 1  | loss: 0.19071 | val_0_mse: 0.24411 |  0:00:07s\n",
      "epoch 2  | loss: 0.1192  | val_0_mse: 0.12971 |  0:00:11s\n",
      "epoch 3  | loss: 0.11379 | val_0_mse: 0.13651 |  0:00:15s\n",
      "epoch 4  | loss: 0.09465 | val_0_mse: 0.09096 |  0:00:19s\n",
      "epoch 5  | loss: 0.08086 | val_0_mse: 0.08659 |  0:00:23s\n",
      "epoch 6  | loss: 0.07972 | val_0_mse: 0.05025 |  0:00:27s\n",
      "epoch 7  | loss: 0.06613 | val_0_mse: 0.05133 |  0:00:31s\n",
      "epoch 8  | loss: 0.05668 | val_0_mse: 0.05394 |  0:00:35s\n",
      "epoch 9  | loss: 0.05169 | val_0_mse: 0.04446 |  0:00:39s\n",
      "epoch 10 | loss: 0.0589  | val_0_mse: 0.06163 |  0:00:43s\n",
      "epoch 11 | loss: 0.04964 | val_0_mse: 0.04072 |  0:00:47s\n",
      "epoch 12 | loss: 0.0479  | val_0_mse: 0.08194 |  0:00:51s\n",
      "epoch 13 | loss: 0.04869 | val_0_mse: 0.03887 |  0:00:55s\n",
      "epoch 14 | loss: 0.04362 | val_0_mse: 0.03457 |  0:00:59s\n",
      "epoch 15 | loss: 0.04322 | val_0_mse: 0.03559 |  0:01:03s\n",
      "epoch 16 | loss: 0.0413  | val_0_mse: 0.03632 |  0:01:07s\n",
      "epoch 17 | loss: 0.03999 | val_0_mse: 0.03182 |  0:01:11s\n",
      "epoch 18 | loss: 0.03835 | val_0_mse: 0.02744 |  0:01:15s\n",
      "epoch 19 | loss: 0.03648 | val_0_mse: 0.02553 |  0:01:19s\n",
      "epoch 20 | loss: 0.03621 | val_0_mse: 0.02946 |  0:01:23s\n",
      "epoch 21 | loss: 0.03136 | val_0_mse: 0.02444 |  0:01:27s\n",
      "epoch 22 | loss: 0.03172 | val_0_mse: 0.02849 |  0:01:31s\n",
      "epoch 23 | loss: 0.02563 | val_0_mse: 0.01744 |  0:01:35s\n",
      "epoch 24 | loss: 0.0292  | val_0_mse: 0.02264 |  0:01:39s\n",
      "epoch 25 | loss: 0.02769 | val_0_mse: 0.03511 |  0:01:43s\n",
      "epoch 26 | loss: 0.02495 | val_0_mse: 0.04541 |  0:01:47s\n",
      "epoch 27 | loss: 0.02321 | val_0_mse: 0.01357 |  0:01:51s\n",
      "epoch 28 | loss: 0.02233 | val_0_mse: 0.01262 |  0:01:55s\n",
      "epoch 29 | loss: 0.01914 | val_0_mse: 0.01418 |  0:01:59s\n",
      "epoch 30 | loss: 0.01719 | val_0_mse: 0.01808 |  0:02:03s\n",
      "epoch 31 | loss: 0.01745 | val_0_mse: 0.01852 |  0:02:07s\n",
      "epoch 32 | loss: 0.01799 | val_0_mse: 0.01781 |  0:02:11s\n",
      "epoch 33 | loss: 0.01484 | val_0_mse: 0.00992 |  0:02:15s\n",
      "epoch 34 | loss: 0.02182 | val_0_mse: 0.01549 |  0:02:19s\n",
      "epoch 35 | loss: 0.01985 | val_0_mse: 0.02122 |  0:02:23s\n",
      "epoch 36 | loss: 0.01746 | val_0_mse: 0.0116  |  0:02:27s\n",
      "epoch 37 | loss: 0.01659 | val_0_mse: 0.03282 |  0:02:31s\n",
      "epoch 38 | loss: 0.0209  | val_0_mse: 0.01302 |  0:02:35s\n",
      "epoch 39 | loss: 0.021   | val_0_mse: 0.03544 |  0:02:39s\n",
      "epoch 40 | loss: 0.02572 | val_0_mse: 0.0204  |  0:02:43s\n",
      "epoch 41 | loss: 0.01929 | val_0_mse: 0.0192  |  0:02:47s\n",
      "epoch 42 | loss: 0.01871 | val_0_mse: 0.01348 |  0:02:51s\n",
      "epoch 43 | loss: 0.0173  | val_0_mse: 0.02597 |  0:02:55s\n",
      "\n",
      "Early stopping occurred at epoch 43 with best_epoch = 33 and best_val_0_mse = 0.00992\n"
     ]
    },
    {
     "name": "stderr",
     "output_type": "stream",
     "text": [
      "C:\\Users\\franc\\AppData\\Local\\Packages\\PythonSoftwareFoundation.Python.3.10_qbz5n2kfra8p0\\LocalCache\\local-packages\\Python310\\site-packages\\pytorch_tabnet\\callbacks.py:172: UserWarning: Best weights from best epoch are automatically used!\n",
      "  warnings.warn(wrn_msg)\n"
     ]
    },
    {
     "name": "stdout",
     "output_type": "stream",
     "text": [
      "Model MSE: 0.009753 - Best MSE: 0.004804\n",
      "Model R2 Score: 0.956763 - Best R2 Score: 0.978703\n",
      "\n",
      "Iterations 19/120 - Hyperparameters:  batch_sizes=64, nums_epochs=100, n_d=8, n_a=8, n_step=5, n_indipendent=2, n_shared=3, gamma=1.3, epsilon=1e-08\n"
     ]
    },
    {
     "name": "stderr",
     "output_type": "stream",
     "text": [
      "C:\\Users\\franc\\AppData\\Local\\Packages\\PythonSoftwareFoundation.Python.3.10_qbz5n2kfra8p0\\LocalCache\\local-packages\\Python310\\site-packages\\pytorch_tabnet\\abstract_model.py:75: UserWarning: Device used : cuda\n",
      "  warnings.warn(f\"Device used : {self.device}\")\n"
     ]
    },
    {
     "name": "stdout",
     "output_type": "stream",
     "text": [
      "epoch 0  | loss: 1.77085 | val_0_mse: 0.17158 |  0:00:08s\n",
      "epoch 1  | loss: 0.11209 | val_0_mse: 0.12205 |  0:00:16s\n",
      "epoch 2  | loss: 0.08399 | val_0_mse: 0.07549 |  0:00:25s\n",
      "epoch 3  | loss: 0.07298 | val_0_mse: 0.05648 |  0:00:34s\n",
      "epoch 4  | loss: 0.06834 | val_0_mse: 0.07546 |  0:00:43s\n",
      "epoch 5  | loss: 0.06537 | val_0_mse: 0.04747 |  0:00:52s\n",
      "epoch 6  | loss: 0.05923 | val_0_mse: 0.04721 |  0:01:01s\n",
      "epoch 7  | loss: 0.05223 | val_0_mse: 0.0407  |  0:01:10s\n",
      "epoch 8  | loss: 0.04527 | val_0_mse: 0.06299 |  0:01:19s\n",
      "epoch 9  | loss: 0.04461 | val_0_mse: 0.03352 |  0:01:28s\n",
      "epoch 10 | loss: 0.03144 | val_0_mse: 0.02839 |  0:01:37s\n",
      "epoch 11 | loss: 0.02976 | val_0_mse: 0.01821 |  0:01:46s\n",
      "epoch 12 | loss: 0.0263  | val_0_mse: 0.01994 |  0:01:55s\n",
      "epoch 13 | loss: 0.02624 | val_0_mse: 0.01326 |  0:02:04s\n",
      "epoch 14 | loss: 0.0279  | val_0_mse: 0.03052 |  0:02:13s\n",
      "epoch 15 | loss: 0.0193  | val_0_mse: 0.00976 |  0:02:22s\n",
      "epoch 16 | loss: 0.02114 | val_0_mse: 0.02376 |  0:02:31s\n",
      "epoch 17 | loss: 0.02369 | val_0_mse: 0.01479 |  0:02:40s\n",
      "epoch 18 | loss: 0.0177  | val_0_mse: 0.01446 |  0:02:49s\n",
      "epoch 19 | loss: 0.01968 | val_0_mse: 0.01974 |  0:02:58s\n",
      "epoch 20 | loss: 0.01954 | val_0_mse: 0.01643 |  0:03:07s\n",
      "epoch 21 | loss: 0.02176 | val_0_mse: 0.04166 |  0:03:16s\n",
      "epoch 22 | loss: 0.02094 | val_0_mse: 0.0094  |  0:03:25s\n",
      "epoch 23 | loss: 0.02006 | val_0_mse: 0.00761 |  0:03:34s\n",
      "epoch 24 | loss: 0.01926 | val_0_mse: 0.03117 |  0:03:43s\n",
      "epoch 25 | loss: 0.02054 | val_0_mse: 0.02729 |  0:03:52s\n",
      "epoch 26 | loss: 0.02145 | val_0_mse: 0.0091  |  0:04:01s\n",
      "epoch 27 | loss: 0.01879 | val_0_mse: 0.00909 |  0:04:10s\n",
      "epoch 28 | loss: 0.01398 | val_0_mse: 0.01614 |  0:04:19s\n",
      "epoch 29 | loss: 0.01422 | val_0_mse: 0.01573 |  0:04:28s\n",
      "epoch 30 | loss: 0.01818 | val_0_mse: 0.0129  |  0:04:37s\n",
      "epoch 31 | loss: 0.01517 | val_0_mse: 0.00879 |  0:04:46s\n",
      "epoch 32 | loss: 0.01789 | val_0_mse: 0.01721 |  0:04:55s\n",
      "epoch 33 | loss: 0.01923 | val_0_mse: 0.00962 |  0:05:04s\n",
      "\n",
      "Early stopping occurred at epoch 33 with best_epoch = 23 and best_val_0_mse = 0.00761\n"
     ]
    },
    {
     "name": "stderr",
     "output_type": "stream",
     "text": [
      "C:\\Users\\franc\\AppData\\Local\\Packages\\PythonSoftwareFoundation.Python.3.10_qbz5n2kfra8p0\\LocalCache\\local-packages\\Python310\\site-packages\\pytorch_tabnet\\callbacks.py:172: UserWarning: Best weights from best epoch are automatically used!\n",
      "  warnings.warn(wrn_msg)\n"
     ]
    },
    {
     "name": "stdout",
     "output_type": "stream",
     "text": [
      "Model MSE: 0.007551 - Best MSE: 0.004804\n",
      "Model R2 Score: 0.966525 - Best R2 Score: 0.978703\n",
      "\n",
      "Iterations 20/120 - Hyperparameters:  batch_sizes=128, nums_epochs=100, n_d=8, n_a=8, n_step=5, n_indipendent=2, n_shared=3, gamma=1.3, epsilon=1e-08\n"
     ]
    },
    {
     "name": "stderr",
     "output_type": "stream",
     "text": [
      "C:\\Users\\franc\\AppData\\Local\\Packages\\PythonSoftwareFoundation.Python.3.10_qbz5n2kfra8p0\\LocalCache\\local-packages\\Python310\\site-packages\\pytorch_tabnet\\abstract_model.py:75: UserWarning: Device used : cuda\n",
      "  warnings.warn(f\"Device used : {self.device}\")\n"
     ]
    },
    {
     "name": "stdout",
     "output_type": "stream",
     "text": [
      "epoch 0  | loss: 3.21588 | val_0_mse: 0.94801 |  0:00:04s\n",
      "epoch 1  | loss: 0.17863 | val_0_mse: 0.21304 |  0:00:08s\n",
      "epoch 2  | loss: 0.09503 | val_0_mse: 0.10902 |  0:00:13s\n",
      "epoch 3  | loss: 0.09041 | val_0_mse: 0.11336 |  0:00:18s\n",
      "epoch 4  | loss: 0.07939 | val_0_mse: 0.10886 |  0:00:22s\n",
      "epoch 5  | loss: 0.0799  | val_0_mse: 0.06238 |  0:00:27s\n",
      "epoch 6  | loss: 0.06888 | val_0_mse: 0.06176 |  0:00:31s\n",
      "epoch 7  | loss: 0.07603 | val_0_mse: 0.05486 |  0:00:36s\n",
      "epoch 8  | loss: 0.0633  | val_0_mse: 0.07049 |  0:00:40s\n",
      "epoch 9  | loss: 0.06315 | val_0_mse: 0.05983 |  0:00:45s\n",
      "epoch 10 | loss: 0.06513 | val_0_mse: 0.06009 |  0:00:49s\n",
      "epoch 11 | loss: 0.0708  | val_0_mse: 0.06537 |  0:00:54s\n",
      "epoch 12 | loss: 0.05734 | val_0_mse: 0.04721 |  0:00:58s\n",
      "epoch 13 | loss: 0.05521 | val_0_mse: 0.07667 |  0:01:03s\n",
      "epoch 14 | loss: 0.05412 | val_0_mse: 0.05555 |  0:01:07s\n",
      "epoch 15 | loss: 0.05468 | val_0_mse: 0.0442  |  0:01:12s\n",
      "epoch 16 | loss: 0.04792 | val_0_mse: 0.04094 |  0:01:16s\n",
      "epoch 17 | loss: 0.04599 | val_0_mse: 0.03563 |  0:01:21s\n",
      "epoch 18 | loss: 0.04894 | val_0_mse: 0.03811 |  0:01:25s\n",
      "epoch 19 | loss: 0.04311 | val_0_mse: 0.04407 |  0:01:30s\n",
      "epoch 20 | loss: 0.0398  | val_0_mse: 0.02847 |  0:01:34s\n",
      "epoch 21 | loss: 0.03336 | val_0_mse: 0.02644 |  0:01:39s\n",
      "epoch 22 | loss: 0.03029 | val_0_mse: 0.03101 |  0:01:44s\n",
      "epoch 23 | loss: 0.03295 | val_0_mse: 0.02522 |  0:01:48s\n",
      "epoch 24 | loss: 0.02657 | val_0_mse: 0.01885 |  0:01:53s\n",
      "epoch 25 | loss: 0.02632 | val_0_mse: 0.02541 |  0:01:57s\n",
      "epoch 26 | loss: 0.02782 | val_0_mse: 0.0243  |  0:02:02s\n",
      "epoch 27 | loss: 0.02121 | val_0_mse: 0.01436 |  0:02:06s\n",
      "epoch 28 | loss: 0.0181  | val_0_mse: 0.02231 |  0:02:11s\n",
      "epoch 29 | loss: 0.01943 | val_0_mse: 0.01447 |  0:02:15s\n",
      "epoch 30 | loss: 0.02226 | val_0_mse: 0.02271 |  0:02:20s\n",
      "epoch 31 | loss: 0.02327 | val_0_mse: 0.02096 |  0:02:25s\n",
      "epoch 32 | loss: 0.01844 | val_0_mse: 0.01396 |  0:02:29s\n",
      "epoch 33 | loss: 0.01796 | val_0_mse: 0.01963 |  0:02:34s\n",
      "epoch 34 | loss: 0.01575 | val_0_mse: 0.01032 |  0:02:38s\n",
      "epoch 35 | loss: 0.01929 | val_0_mse: 0.02413 |  0:02:43s\n",
      "epoch 36 | loss: 0.02174 | val_0_mse: 0.0216  |  0:02:47s\n",
      "epoch 37 | loss: 0.01796 | val_0_mse: 0.02404 |  0:02:52s\n",
      "epoch 38 | loss: 0.01529 | val_0_mse: 0.01135 |  0:02:56s\n",
      "epoch 39 | loss: 0.01689 | val_0_mse: 0.02409 |  0:03:01s\n",
      "epoch 40 | loss: 0.01417 | val_0_mse: 0.01168 |  0:03:05s\n",
      "epoch 41 | loss: 0.0153  | val_0_mse: 0.00876 |  0:03:10s\n",
      "epoch 42 | loss: 0.01223 | val_0_mse: 0.00815 |  0:03:15s\n",
      "epoch 43 | loss: 0.01593 | val_0_mse: 0.00923 |  0:03:19s\n",
      "epoch 44 | loss: 0.01506 | val_0_mse: 0.00965 |  0:03:24s\n",
      "epoch 45 | loss: 0.01481 | val_0_mse: 0.00801 |  0:03:28s\n",
      "epoch 46 | loss: 0.01571 | val_0_mse: 0.01696 |  0:03:33s\n",
      "epoch 47 | loss: 0.01245 | val_0_mse: 0.00706 |  0:03:37s\n",
      "epoch 48 | loss: 0.01602 | val_0_mse: 0.02141 |  0:03:42s\n",
      "epoch 49 | loss: 0.01669 | val_0_mse: 0.00778 |  0:03:46s\n",
      "epoch 50 | loss: 0.0132  | val_0_mse: 0.01103 |  0:03:51s\n",
      "epoch 51 | loss: 0.01022 | val_0_mse: 0.0119  |  0:03:56s\n",
      "epoch 52 | loss: 0.01373 | val_0_mse: 0.00738 |  0:04:00s\n",
      "epoch 53 | loss: 0.01041 | val_0_mse: 0.02203 |  0:04:05s\n",
      "epoch 54 | loss: 0.01432 | val_0_mse: 0.01466 |  0:04:09s\n",
      "epoch 55 | loss: 0.01371 | val_0_mse: 0.00793 |  0:04:14s\n",
      "epoch 56 | loss: 0.01184 | val_0_mse: 0.01105 |  0:04:18s\n",
      "epoch 57 | loss: 0.01061 | val_0_mse: 0.01082 |  0:04:23s\n",
      "\n",
      "Early stopping occurred at epoch 57 with best_epoch = 47 and best_val_0_mse = 0.00706\n"
     ]
    },
    {
     "name": "stderr",
     "output_type": "stream",
     "text": [
      "C:\\Users\\franc\\AppData\\Local\\Packages\\PythonSoftwareFoundation.Python.3.10_qbz5n2kfra8p0\\LocalCache\\local-packages\\Python310\\site-packages\\pytorch_tabnet\\callbacks.py:172: UserWarning: Best weights from best epoch are automatically used!\n",
      "  warnings.warn(wrn_msg)\n"
     ]
    },
    {
     "name": "stdout",
     "output_type": "stream",
     "text": [
      "Model MSE: 0.007295 - Best MSE: 0.004804\n",
      "Model R2 Score: 0.967658 - Best R2 Score: 0.978703\n",
      "\n",
      "Iterations 21/120 - Hyperparameters:  batch_sizes=64, nums_epochs=100, n_d=8, n_a=8, n_step=5, n_indipendent=3, n_shared=2, gamma=1.3, epsilon=1e-08\n"
     ]
    },
    {
     "name": "stderr",
     "output_type": "stream",
     "text": [
      "C:\\Users\\franc\\AppData\\Local\\Packages\\PythonSoftwareFoundation.Python.3.10_qbz5n2kfra8p0\\LocalCache\\local-packages\\Python310\\site-packages\\pytorch_tabnet\\abstract_model.py:75: UserWarning: Device used : cuda\n",
      "  warnings.warn(f\"Device used : {self.device}\")\n"
     ]
    },
    {
     "name": "stdout",
     "output_type": "stream",
     "text": [
      "epoch 0  | loss: 0.68483 | val_0_mse: 0.57291 |  0:00:08s\n",
      "epoch 1  | loss: 0.15068 | val_0_mse: 0.10139 |  0:00:17s\n",
      "epoch 2  | loss: 0.11055 | val_0_mse: 0.09935 |  0:00:26s\n",
      "epoch 3  | loss: 0.1008  | val_0_mse: 0.13486 |  0:00:36s\n",
      "epoch 4  | loss: 0.08409 | val_0_mse: 0.06522 |  0:00:45s\n",
      "epoch 5  | loss: 0.07398 | val_0_mse: 0.057   |  0:00:54s\n",
      "epoch 6  | loss: 0.06217 | val_0_mse: 0.04926 |  0:01:04s\n",
      "epoch 7  | loss: 0.05717 | val_0_mse: 0.0374  |  0:01:13s\n",
      "epoch 8  | loss: 0.04693 | val_0_mse: 0.02874 |  0:01:22s\n",
      "epoch 9  | loss: 0.04217 | val_0_mse: 0.0327  |  0:01:31s\n",
      "epoch 10 | loss: 0.04506 | val_0_mse: 0.02934 |  0:01:41s\n",
      "epoch 11 | loss: 0.0379  | val_0_mse: 0.0235  |  0:01:50s\n",
      "epoch 12 | loss: 0.03855 | val_0_mse: 0.02437 |  0:01:59s\n",
      "epoch 13 | loss: 0.02875 | val_0_mse: 0.03134 |  0:02:08s\n",
      "epoch 14 | loss: 0.02696 | val_0_mse: 0.06588 |  0:02:17s\n",
      "epoch 15 | loss: 0.03174 | val_0_mse: 0.02532 |  0:02:27s\n",
      "epoch 16 | loss: 0.03268 | val_0_mse: 0.05991 |  0:02:36s\n",
      "epoch 17 | loss: 0.02849 | val_0_mse: 0.0226  |  0:02:45s\n",
      "epoch 18 | loss: 0.02485 | val_0_mse: 0.0189  |  0:02:54s\n",
      "epoch 19 | loss: 0.02403 | val_0_mse: 0.01757 |  0:03:03s\n",
      "epoch 20 | loss: 0.02308 | val_0_mse: 0.01012 |  0:03:13s\n",
      "epoch 21 | loss: 0.01919 | val_0_mse: 0.00961 |  0:03:22s\n",
      "epoch 22 | loss: 0.02064 | val_0_mse: 0.02004 |  0:03:31s\n",
      "epoch 23 | loss: 0.02159 | val_0_mse: 0.00913 |  0:03:40s\n",
      "epoch 24 | loss: 0.02167 | val_0_mse: 0.01162 |  0:03:50s\n",
      "epoch 25 | loss: 0.02298 | val_0_mse: 0.01962 |  0:03:59s\n",
      "epoch 26 | loss: 0.02175 | val_0_mse: 0.02431 |  0:04:08s\n",
      "epoch 27 | loss: 0.0221  | val_0_mse: 0.01843 |  0:04:17s\n",
      "epoch 28 | loss: 0.01558 | val_0_mse: 0.01089 |  0:04:27s\n",
      "epoch 29 | loss: 0.02006 | val_0_mse: 0.0153  |  0:04:36s\n",
      "epoch 30 | loss: 0.01527 | val_0_mse: 0.0073  |  0:04:45s\n",
      "epoch 31 | loss: 0.01491 | val_0_mse: 0.01673 |  0:04:54s\n",
      "epoch 32 | loss: 0.01836 | val_0_mse: 0.01437 |  0:05:03s\n",
      "epoch 33 | loss: 0.01879 | val_0_mse: 0.01363 |  0:05:13s\n",
      "epoch 34 | loss: 0.01802 | val_0_mse: 0.01229 |  0:05:22s\n",
      "epoch 35 | loss: 0.01697 | val_0_mse: 0.01604 |  0:05:31s\n",
      "epoch 36 | loss: 0.018   | val_0_mse: 0.02439 |  0:05:40s\n",
      "epoch 37 | loss: 0.01564 | val_0_mse: 0.01412 |  0:05:49s\n",
      "epoch 38 | loss: 0.01604 | val_0_mse: 0.01522 |  0:05:59s\n",
      "epoch 39 | loss: 0.0169  | val_0_mse: 0.00676 |  0:06:08s\n",
      "epoch 40 | loss: 0.01468 | val_0_mse: 0.01424 |  0:06:17s\n",
      "epoch 41 | loss: 0.01489 | val_0_mse: 0.00999 |  0:06:26s\n",
      "epoch 42 | loss: 0.01495 | val_0_mse: 0.01052 |  0:06:36s\n",
      "epoch 43 | loss: 0.01397 | val_0_mse: 0.00779 |  0:06:45s\n",
      "epoch 44 | loss: 0.0192  | val_0_mse: 0.01485 |  0:06:54s\n",
      "epoch 45 | loss: 0.0201  | val_0_mse: 0.04096 |  0:07:03s\n",
      "epoch 46 | loss: 0.02162 | val_0_mse: 0.01161 |  0:07:12s\n",
      "epoch 47 | loss: 0.01566 | val_0_mse: 0.0063  |  0:07:22s\n",
      "epoch 48 | loss: 0.0131  | val_0_mse: 0.01498 |  0:07:31s\n",
      "epoch 49 | loss: 0.01622 | val_0_mse: 0.04775 |  0:07:40s\n",
      "epoch 50 | loss: 0.01659 | val_0_mse: 0.01739 |  0:07:49s\n",
      "epoch 51 | loss: 0.01863 | val_0_mse: 0.02204 |  0:07:59s\n",
      "epoch 52 | loss: 0.01738 | val_0_mse: 0.00865 |  0:08:08s\n",
      "epoch 53 | loss: 0.03238 | val_0_mse: 0.02064 |  0:08:17s\n",
      "epoch 54 | loss: 0.01878 | val_0_mse: 0.00944 |  0:08:26s\n",
      "epoch 55 | loss: 0.01631 | val_0_mse: 0.00672 |  0:08:36s\n",
      "epoch 56 | loss: 0.01687 | val_0_mse: 0.03803 |  0:08:45s\n",
      "epoch 57 | loss: 0.01594 | val_0_mse: 0.00736 |  0:08:54s\n",
      "\n",
      "Early stopping occurred at epoch 57 with best_epoch = 47 and best_val_0_mse = 0.0063\n"
     ]
    },
    {
     "name": "stderr",
     "output_type": "stream",
     "text": [
      "C:\\Users\\franc\\AppData\\Local\\Packages\\PythonSoftwareFoundation.Python.3.10_qbz5n2kfra8p0\\LocalCache\\local-packages\\Python310\\site-packages\\pytorch_tabnet\\callbacks.py:172: UserWarning: Best weights from best epoch are automatically used!\n",
      "  warnings.warn(wrn_msg)\n"
     ]
    },
    {
     "name": "stdout",
     "output_type": "stream",
     "text": [
      "Model MSE: 0.006441 - Best MSE: 0.004804\n",
      "Model R2 Score: 0.971443 - Best R2 Score: 0.978703\n",
      "\n",
      "Iterations 22/120 - Hyperparameters:  batch_sizes=128, nums_epochs=100, n_d=8, n_a=8, n_step=5, n_indipendent=3, n_shared=2, gamma=1.3, epsilon=1e-08\n"
     ]
    },
    {
     "name": "stderr",
     "output_type": "stream",
     "text": [
      "C:\\Users\\franc\\AppData\\Local\\Packages\\PythonSoftwareFoundation.Python.3.10_qbz5n2kfra8p0\\LocalCache\\local-packages\\Python310\\site-packages\\pytorch_tabnet\\abstract_model.py:75: UserWarning: Device used : cuda\n",
      "  warnings.warn(f\"Device used : {self.device}\")\n"
     ]
    },
    {
     "name": "stdout",
     "output_type": "stream",
     "text": [
      "epoch 0  | loss: 1.03621 | val_0_mse: 0.20279 |  0:00:04s\n",
      "epoch 1  | loss: 0.17175 | val_0_mse: 0.19276 |  0:00:08s\n",
      "epoch 2  | loss: 0.09425 | val_0_mse: 0.08406 |  0:00:13s\n",
      "epoch 3  | loss: 0.06632 | val_0_mse: 0.09243 |  0:00:18s\n",
      "epoch 4  | loss: 0.06111 | val_0_mse: 0.05669 |  0:00:22s\n",
      "epoch 5  | loss: 0.05616 | val_0_mse: 0.07083 |  0:00:27s\n",
      "epoch 6  | loss: 0.06412 | val_0_mse: 0.0456  |  0:00:31s\n",
      "epoch 7  | loss: 0.06204 | val_0_mse: 0.08712 |  0:00:36s\n",
      "epoch 8  | loss: 0.05412 | val_0_mse: 0.07692 |  0:00:40s\n",
      "epoch 9  | loss: 0.04599 | val_0_mse: 0.05051 |  0:00:45s\n",
      "epoch 10 | loss: 0.03929 | val_0_mse: 0.04002 |  0:00:49s\n",
      "epoch 11 | loss: 0.03589 | val_0_mse: 0.02465 |  0:00:54s\n",
      "epoch 12 | loss: 0.0351  | val_0_mse: 0.02166 |  0:00:58s\n",
      "epoch 13 | loss: 0.03007 | val_0_mse: 0.01788 |  0:01:03s\n",
      "epoch 14 | loss: 0.02476 | val_0_mse: 0.02548 |  0:01:08s\n",
      "epoch 15 | loss: 0.02179 | val_0_mse: 0.0151  |  0:01:12s\n",
      "epoch 16 | loss: 0.02148 | val_0_mse: 0.01606 |  0:01:17s\n",
      "epoch 17 | loss: 0.01796 | val_0_mse: 0.03103 |  0:01:21s\n",
      "epoch 18 | loss: 0.01797 | val_0_mse: 0.01809 |  0:01:26s\n",
      "epoch 19 | loss: 0.0171  | val_0_mse: 0.01577 |  0:01:31s\n",
      "epoch 20 | loss: 0.01373 | val_0_mse: 0.009   |  0:01:35s\n",
      "epoch 21 | loss: 0.0175  | val_0_mse: 0.00969 |  0:01:40s\n",
      "epoch 22 | loss: 0.01311 | val_0_mse: 0.06518 |  0:01:44s\n",
      "epoch 23 | loss: 0.01884 | val_0_mse: 0.00802 |  0:01:49s\n",
      "epoch 24 | loss: 0.01315 | val_0_mse: 0.01045 |  0:01:53s\n",
      "epoch 25 | loss: 0.01759 | val_0_mse: 0.01679 |  0:01:58s\n",
      "epoch 26 | loss: 0.01362 | val_0_mse: 0.02313 |  0:02:02s\n",
      "epoch 27 | loss: 0.0175  | val_0_mse: 0.00952 |  0:02:07s\n",
      "epoch 28 | loss: 0.01027 | val_0_mse: 0.00694 |  0:02:12s\n",
      "epoch 29 | loss: 0.01363 | val_0_mse: 0.02463 |  0:02:16s\n",
      "epoch 30 | loss: 0.01204 | val_0_mse: 0.00835 |  0:02:21s\n",
      "epoch 31 | loss: 0.01079 | val_0_mse: 0.0075  |  0:02:25s\n",
      "epoch 32 | loss: 0.01067 | val_0_mse: 0.00825 |  0:02:30s\n",
      "epoch 33 | loss: 0.01114 | val_0_mse: 0.00577 |  0:02:34s\n",
      "epoch 34 | loss: 0.01009 | val_0_mse: 0.00752 |  0:02:39s\n",
      "epoch 35 | loss: 0.01288 | val_0_mse: 0.01608 |  0:02:43s\n",
      "epoch 36 | loss: 0.01672 | val_0_mse: 0.00897 |  0:02:48s\n",
      "epoch 37 | loss: 0.01204 | val_0_mse: 0.00684 |  0:02:53s\n",
      "epoch 38 | loss: 0.01251 | val_0_mse: 0.02076 |  0:02:57s\n",
      "epoch 39 | loss: 0.01062 | val_0_mse: 0.01075 |  0:03:02s\n",
      "epoch 40 | loss: 0.00899 | val_0_mse: 0.00747 |  0:03:06s\n",
      "epoch 41 | loss: 0.00997 | val_0_mse: 0.00953 |  0:03:11s\n",
      "epoch 42 | loss: 0.01085 | val_0_mse: 0.00795 |  0:03:15s\n",
      "epoch 43 | loss: 0.00888 | val_0_mse: 0.0087  |  0:03:20s\n",
      "\n",
      "Early stopping occurred at epoch 43 with best_epoch = 33 and best_val_0_mse = 0.00577\n"
     ]
    },
    {
     "name": "stderr",
     "output_type": "stream",
     "text": [
      "C:\\Users\\franc\\AppData\\Local\\Packages\\PythonSoftwareFoundation.Python.3.10_qbz5n2kfra8p0\\LocalCache\\local-packages\\Python310\\site-packages\\pytorch_tabnet\\callbacks.py:172: UserWarning: Best weights from best epoch are automatically used!\n",
      "  warnings.warn(wrn_msg)\n"
     ]
    },
    {
     "name": "stdout",
     "output_type": "stream",
     "text": [
      "Model MSE: 0.006145 - Best MSE: 0.004804\n",
      "Model R2 Score: 0.972757 - Best R2 Score: 0.978703\n",
      "\n",
      "Iterations 23/120 - Hyperparameters:  batch_sizes=64, nums_epochs=100, n_d=8, n_a=8, n_step=5, n_indipendent=3, n_shared=3, gamma=1.3, epsilon=1e-08\n"
     ]
    },
    {
     "name": "stderr",
     "output_type": "stream",
     "text": [
      "C:\\Users\\franc\\AppData\\Local\\Packages\\PythonSoftwareFoundation.Python.3.10_qbz5n2kfra8p0\\LocalCache\\local-packages\\Python310\\site-packages\\pytorch_tabnet\\abstract_model.py:75: UserWarning: Device used : cuda\n",
      "  warnings.warn(f\"Device used : {self.device}\")\n"
     ]
    },
    {
     "name": "stdout",
     "output_type": "stream",
     "text": [
      "epoch 0  | loss: 1.37425 | val_0_mse: 0.35674 |  0:00:09s\n",
      "epoch 1  | loss: 0.12727 | val_0_mse: 0.10042 |  0:00:18s\n",
      "epoch 2  | loss: 0.08636 | val_0_mse: 0.06669 |  0:00:28s\n",
      "epoch 3  | loss: 0.07996 | val_0_mse: 0.07503 |  0:00:38s\n",
      "epoch 4  | loss: 0.07673 | val_0_mse: 0.0728  |  0:00:48s\n",
      "epoch 5  | loss: 0.07247 | val_0_mse: 0.05323 |  0:00:58s\n",
      "epoch 6  | loss: 0.07244 | val_0_mse: 0.04892 |  0:01:08s\n",
      "epoch 7  | loss: 0.06561 | val_0_mse: 0.05278 |  0:01:19s\n",
      "epoch 8  | loss: 0.06192 | val_0_mse: 0.05408 |  0:01:29s\n",
      "epoch 9  | loss: 0.0545  | val_0_mse: 0.06475 |  0:01:39s\n",
      "epoch 10 | loss: 0.05613 | val_0_mse: 0.03786 |  0:01:49s\n",
      "epoch 11 | loss: 0.04296 | val_0_mse: 0.0322  |  0:01:59s\n",
      "epoch 12 | loss: 0.03896 | val_0_mse: 0.07055 |  0:02:09s\n",
      "epoch 13 | loss: 0.0341  | val_0_mse: 0.02687 |  0:02:19s\n",
      "epoch 14 | loss: 0.03742 | val_0_mse: 0.02972 |  0:02:29s\n",
      "epoch 15 | loss: 0.0334  | val_0_mse: 0.01791 |  0:02:39s\n",
      "epoch 16 | loss: 0.03319 | val_0_mse: 0.01978 |  0:02:49s\n",
      "epoch 17 | loss: 0.02801 | val_0_mse: 0.02531 |  0:03:00s\n",
      "epoch 18 | loss: 0.02426 | val_0_mse: 0.03503 |  0:03:10s\n",
      "epoch 19 | loss: 0.02747 | val_0_mse: 0.02554 |  0:03:20s\n",
      "epoch 20 | loss: 0.0266  | val_0_mse: 0.028   |  0:03:30s\n",
      "epoch 21 | loss: 0.02604 | val_0_mse: 0.01484 |  0:03:41s\n",
      "epoch 22 | loss: 0.03545 | val_0_mse: 0.02957 |  0:03:51s\n",
      "epoch 23 | loss: 0.02801 | val_0_mse: 0.02957 |  0:04:01s\n",
      "epoch 24 | loss: 0.02582 | val_0_mse: 0.01949 |  0:04:11s\n",
      "epoch 25 | loss: 0.02003 | val_0_mse: 0.0102  |  0:04:21s\n",
      "epoch 26 | loss: 0.01989 | val_0_mse: 0.02784 |  0:04:31s\n",
      "epoch 27 | loss: 0.01765 | val_0_mse: 0.01822 |  0:04:41s\n",
      "epoch 28 | loss: 0.01554 | val_0_mse: 0.01592 |  0:04:51s\n",
      "epoch 29 | loss: 0.02053 | val_0_mse: 0.03014 |  0:05:01s\n",
      "epoch 30 | loss: 0.01868 | val_0_mse: 0.00946 |  0:05:11s\n",
      "epoch 31 | loss: 0.01726 | val_0_mse: 0.01986 |  0:05:22s\n",
      "epoch 32 | loss: 0.01485 | val_0_mse: 0.00712 |  0:05:32s\n",
      "epoch 33 | loss: 0.01597 | val_0_mse: 0.00629 |  0:05:42s\n",
      "epoch 34 | loss: 0.01527 | val_0_mse: 0.01826 |  0:05:52s\n",
      "epoch 35 | loss: 0.01693 | val_0_mse: 0.01033 |  0:06:02s\n",
      "epoch 36 | loss: 0.01611 | val_0_mse: 0.01017 |  0:06:12s\n",
      "epoch 37 | loss: 0.01718 | val_0_mse: 0.01977 |  0:06:22s\n",
      "epoch 38 | loss: 0.01972 | val_0_mse: 0.0101  |  0:06:32s\n",
      "epoch 39 | loss: 0.01477 | val_0_mse: 0.00735 |  0:06:43s\n",
      "epoch 40 | loss: 0.01398 | val_0_mse: 0.03068 |  0:06:54s\n",
      "epoch 41 | loss: 0.02112 | val_0_mse: 0.01329 |  0:07:04s\n",
      "epoch 42 | loss: 0.01715 | val_0_mse: 0.01102 |  0:07:14s\n",
      "epoch 43 | loss: 0.01382 | val_0_mse: 0.00998 |  0:07:24s\n",
      "\n",
      "Early stopping occurred at epoch 43 with best_epoch = 33 and best_val_0_mse = 0.00629\n"
     ]
    },
    {
     "name": "stderr",
     "output_type": "stream",
     "text": [
      "C:\\Users\\franc\\AppData\\Local\\Packages\\PythonSoftwareFoundation.Python.3.10_qbz5n2kfra8p0\\LocalCache\\local-packages\\Python310\\site-packages\\pytorch_tabnet\\callbacks.py:172: UserWarning: Best weights from best epoch are automatically used!\n",
      "  warnings.warn(wrn_msg)\n"
     ]
    },
    {
     "name": "stdout",
     "output_type": "stream",
     "text": [
      "Model MSE: 0.006575 - Best MSE: 0.004804\n",
      "Model R2 Score: 0.970849 - Best R2 Score: 0.978703\n",
      "\n",
      "Iterations 24/120 - Hyperparameters:  batch_sizes=128, nums_epochs=100, n_d=8, n_a=8, n_step=5, n_indipendent=3, n_shared=3, gamma=1.3, epsilon=1e-08\n"
     ]
    },
    {
     "name": "stderr",
     "output_type": "stream",
     "text": [
      "C:\\Users\\franc\\AppData\\Local\\Packages\\PythonSoftwareFoundation.Python.3.10_qbz5n2kfra8p0\\LocalCache\\local-packages\\Python310\\site-packages\\pytorch_tabnet\\abstract_model.py:75: UserWarning: Device used : cuda\n",
      "  warnings.warn(f\"Device used : {self.device}\")\n"
     ]
    },
    {
     "name": "stdout",
     "output_type": "stream",
     "text": [
      "epoch 0  | loss: 2.48093 | val_0_mse: 0.46132 |  0:00:04s\n",
      "epoch 1  | loss: 0.24111 | val_0_mse: 0.23685 |  0:00:09s\n",
      "epoch 2  | loss: 0.15821 | val_0_mse: 0.14315 |  0:00:14s\n",
      "epoch 3  | loss: 0.12141 | val_0_mse: 0.12406 |  0:00:19s\n",
      "epoch 4  | loss: 0.10455 | val_0_mse: 0.08273 |  0:00:24s\n",
      "epoch 5  | loss: 0.08577 | val_0_mse: 0.06072 |  0:00:30s\n",
      "epoch 6  | loss: 0.07787 | val_0_mse: 0.06085 |  0:00:35s\n",
      "epoch 7  | loss: 0.0601  | val_0_mse: 0.04956 |  0:00:40s\n",
      "epoch 8  | loss: 0.05435 | val_0_mse: 0.04764 |  0:00:45s\n",
      "epoch 9  | loss: 0.04595 | val_0_mse: 0.03235 |  0:00:50s\n",
      "epoch 10 | loss: 0.04441 | val_0_mse: 0.03842 |  0:00:55s\n",
      "epoch 11 | loss: 0.04166 | val_0_mse: 0.02833 |  0:01:00s\n",
      "epoch 12 | loss: 0.03667 | val_0_mse: 0.02676 |  0:01:05s\n",
      "epoch 13 | loss: 0.03449 | val_0_mse: 0.03698 |  0:01:10s\n",
      "epoch 14 | loss: 0.03259 | val_0_mse: 0.02947 |  0:01:15s\n",
      "epoch 15 | loss: 0.0298  | val_0_mse: 0.05486 |  0:01:20s\n",
      "epoch 16 | loss: 0.03227 | val_0_mse: 0.01709 |  0:01:25s\n",
      "epoch 17 | loss: 0.02512 | val_0_mse: 0.01612 |  0:01:30s\n",
      "epoch 18 | loss: 0.02395 | val_0_mse: 0.01997 |  0:01:35s\n",
      "epoch 19 | loss: 0.03111 | val_0_mse: 0.02578 |  0:01:40s\n",
      "epoch 20 | loss: 0.03602 | val_0_mse: 0.04549 |  0:01:45s\n",
      "epoch 21 | loss: 0.03175 | val_0_mse: 0.02495 |  0:01:50s\n",
      "epoch 22 | loss: 0.02174 | val_0_mse: 0.02649 |  0:01:55s\n",
      "epoch 23 | loss: 0.02158 | val_0_mse: 0.01588 |  0:02:01s\n",
      "epoch 24 | loss: 0.01922 | val_0_mse: 0.01243 |  0:02:06s\n",
      "epoch 25 | loss: 0.016   | val_0_mse: 0.01217 |  0:02:11s\n",
      "epoch 26 | loss: 0.02124 | val_0_mse: 0.01519 |  0:02:16s\n",
      "epoch 27 | loss: 0.01504 | val_0_mse: 0.04731 |  0:02:21s\n",
      "epoch 28 | loss: 0.02483 | val_0_mse: 0.01221 |  0:02:26s\n",
      "epoch 29 | loss: 0.01893 | val_0_mse: 0.03245 |  0:02:31s\n",
      "epoch 30 | loss: 0.02357 | val_0_mse: 0.01649 |  0:02:36s\n",
      "epoch 31 | loss: 0.02637 | val_0_mse: 0.02493 |  0:02:41s\n",
      "epoch 32 | loss: 0.01898 | val_0_mse: 0.04379 |  0:02:46s\n",
      "epoch 33 | loss: 0.01771 | val_0_mse: 0.04418 |  0:02:51s\n",
      "epoch 34 | loss: 0.01756 | val_0_mse: 0.01754 |  0:02:56s\n",
      "epoch 35 | loss: 0.01442 | val_0_mse: 0.01004 |  0:03:01s\n",
      "epoch 36 | loss: 0.01689 | val_0_mse: 0.01104 |  0:03:06s\n",
      "epoch 37 | loss: 0.0129  | val_0_mse: 0.0081  |  0:03:11s\n",
      "epoch 38 | loss: 0.01572 | val_0_mse: 0.00758 |  0:03:16s\n",
      "epoch 39 | loss: 0.01095 | val_0_mse: 0.0079  |  0:03:21s\n",
      "epoch 40 | loss: 0.01185 | val_0_mse: 0.00864 |  0:03:26s\n",
      "epoch 41 | loss: 0.01302 | val_0_mse: 0.00596 |  0:03:31s\n",
      "epoch 42 | loss: 0.01282 | val_0_mse: 0.01049 |  0:03:36s\n",
      "epoch 43 | loss: 0.01177 | val_0_mse: 0.03671 |  0:03:41s\n",
      "epoch 44 | loss: 0.01516 | val_0_mse: 0.00851 |  0:03:46s\n",
      "epoch 45 | loss: 0.01128 | val_0_mse: 0.00657 |  0:03:52s\n",
      "epoch 46 | loss: 0.01226 | val_0_mse: 0.0164  |  0:03:57s\n",
      "epoch 47 | loss: 0.01234 | val_0_mse: 0.00596 |  0:04:02s\n",
      "epoch 48 | loss: 0.01361 | val_0_mse: 0.00735 |  0:04:07s\n",
      "epoch 49 | loss: 0.00968 | val_0_mse: 0.01177 |  0:04:12s\n",
      "epoch 50 | loss: 0.0138  | val_0_mse: 0.00691 |  0:04:17s\n",
      "epoch 51 | loss: 0.01485 | val_0_mse: 0.00712 |  0:04:22s\n",
      "epoch 52 | loss: 0.01374 | val_0_mse: 0.00566 |  0:04:27s\n",
      "epoch 53 | loss: 0.01191 | val_0_mse: 0.0071  |  0:04:32s\n",
      "epoch 54 | loss: 0.01011 | val_0_mse: 0.01451 |  0:04:37s\n",
      "epoch 55 | loss: 0.01534 | val_0_mse: 0.01532 |  0:04:42s\n",
      "epoch 56 | loss: 0.01002 | val_0_mse: 0.0069  |  0:04:47s\n",
      "epoch 57 | loss: 0.01257 | val_0_mse: 0.00924 |  0:04:52s\n",
      "epoch 58 | loss: 0.01113 | val_0_mse: 0.0058  |  0:04:57s\n",
      "epoch 59 | loss: 0.0093  | val_0_mse: 0.01391 |  0:05:02s\n",
      "epoch 60 | loss: 0.01018 | val_0_mse: 0.00978 |  0:05:07s\n",
      "epoch 61 | loss: 0.00826 | val_0_mse: 0.01393 |  0:05:12s\n",
      "epoch 62 | loss: 0.00968 | val_0_mse: 0.00934 |  0:05:17s\n",
      "\n",
      "Early stopping occurred at epoch 62 with best_epoch = 52 and best_val_0_mse = 0.00566\n"
     ]
    },
    {
     "name": "stderr",
     "output_type": "stream",
     "text": [
      "C:\\Users\\franc\\AppData\\Local\\Packages\\PythonSoftwareFoundation.Python.3.10_qbz5n2kfra8p0\\LocalCache\\local-packages\\Python310\\site-packages\\pytorch_tabnet\\callbacks.py:172: UserWarning: Best weights from best epoch are automatically used!\n",
      "  warnings.warn(wrn_msg)\n"
     ]
    },
    {
     "name": "stdout",
     "output_type": "stream",
     "text": [
      "Model MSE: 0.005951 - Best MSE: 0.004804\n",
      "Model R2 Score: 0.973619 - Best R2 Score: 0.978703\n",
      "\n",
      "Iterations 25/120 - Hyperparameters:  batch_sizes=64, nums_epochs=100, n_d=8, n_a=8, n_step=6, n_indipendent=2, n_shared=2, gamma=1.3, epsilon=1e-08\n"
     ]
    },
    {
     "name": "stderr",
     "output_type": "stream",
     "text": [
      "C:\\Users\\franc\\AppData\\Local\\Packages\\PythonSoftwareFoundation.Python.3.10_qbz5n2kfra8p0\\LocalCache\\local-packages\\Python310\\site-packages\\pytorch_tabnet\\abstract_model.py:75: UserWarning: Device used : cuda\n",
      "  warnings.warn(f\"Device used : {self.device}\")\n"
     ]
    },
    {
     "name": "stdout",
     "output_type": "stream",
     "text": [
      "epoch 0  | loss: 0.6442  | val_0_mse: 0.22891 |  0:00:09s\n",
      "epoch 1  | loss: 0.19837 | val_0_mse: 0.14118 |  0:00:18s\n",
      "epoch 2  | loss: 0.14323 | val_0_mse: 0.16574 |  0:00:28s\n",
      "epoch 3  | loss: 0.12714 | val_0_mse: 0.13682 |  0:00:37s\n",
      "epoch 4  | loss: 0.11024 | val_0_mse: 0.08674 |  0:00:47s\n",
      "epoch 5  | loss: 0.097   | val_0_mse: 0.08046 |  0:00:55s\n",
      "epoch 6  | loss: 0.08628 | val_0_mse: 0.05893 |  0:01:04s\n",
      "epoch 7  | loss: 0.06702 | val_0_mse: 0.0903  |  0:01:12s\n",
      "epoch 8  | loss: 0.05736 | val_0_mse: 0.05248 |  0:01:20s\n",
      "epoch 9  | loss: 0.04326 | val_0_mse: 0.04097 |  0:01:28s\n",
      "epoch 10 | loss: 0.04797 | val_0_mse: 0.03458 |  0:01:37s\n",
      "epoch 11 | loss: 0.0407  | val_0_mse: 0.03286 |  0:01:46s\n",
      "epoch 12 | loss: 0.03339 | val_0_mse: 0.02365 |  0:01:54s\n",
      "epoch 13 | loss: 0.03195 | val_0_mse: 0.04652 |  0:02:02s\n",
      "epoch 14 | loss: 0.04631 | val_0_mse: 0.02794 |  0:02:10s\n",
      "epoch 15 | loss: 0.0287  | val_0_mse: 0.0277  |  0:02:18s\n",
      "epoch 16 | loss: 0.02433 | val_0_mse: 0.03703 |  0:02:27s\n",
      "epoch 17 | loss: 0.02217 | val_0_mse: 0.01107 |  0:02:37s\n",
      "epoch 18 | loss: 0.02606 | val_0_mse: 0.0549  |  0:02:46s\n",
      "epoch 19 | loss: 0.02129 | val_0_mse: 0.03461 |  0:02:56s\n",
      "epoch 20 | loss: 0.0206  | val_0_mse: 0.00945 |  0:03:05s\n",
      "epoch 21 | loss: 0.01887 | val_0_mse: 0.02159 |  0:03:15s\n",
      "epoch 22 | loss: 0.02338 | val_0_mse: 0.0136  |  0:03:24s\n",
      "epoch 23 | loss: 0.02093 | val_0_mse: 0.03073 |  0:03:34s\n",
      "epoch 24 | loss: 0.02161 | val_0_mse: 0.01814 |  0:03:43s\n",
      "epoch 25 | loss: 0.02033 | val_0_mse: 0.03358 |  0:03:53s\n",
      "epoch 26 | loss: 0.01623 | val_0_mse: 0.01831 |  0:04:02s\n",
      "epoch 27 | loss: 0.01762 | val_0_mse: 0.03824 |  0:04:12s\n",
      "epoch 28 | loss: 0.01611 | val_0_mse: 0.01693 |  0:04:21s\n",
      "epoch 29 | loss: 0.01542 | val_0_mse: 0.02427 |  0:04:31s\n",
      "epoch 30 | loss: 0.01473 | val_0_mse: 0.01105 |  0:04:40s\n",
      "\n",
      "Early stopping occurred at epoch 30 with best_epoch = 20 and best_val_0_mse = 0.00945\n"
     ]
    },
    {
     "name": "stderr",
     "output_type": "stream",
     "text": [
      "C:\\Users\\franc\\AppData\\Local\\Packages\\PythonSoftwareFoundation.Python.3.10_qbz5n2kfra8p0\\LocalCache\\local-packages\\Python310\\site-packages\\pytorch_tabnet\\callbacks.py:172: UserWarning: Best weights from best epoch are automatically used!\n",
      "  warnings.warn(wrn_msg)\n"
     ]
    },
    {
     "name": "stdout",
     "output_type": "stream",
     "text": [
      "Model MSE: 0.009994 - Best MSE: 0.004804\n",
      "Model R2 Score: 0.955692 - Best R2 Score: 0.978703\n",
      "\n",
      "Iterations 26/120 - Hyperparameters:  batch_sizes=128, nums_epochs=100, n_d=8, n_a=8, n_step=6, n_indipendent=2, n_shared=2, gamma=1.3, epsilon=1e-08\n"
     ]
    },
    {
     "name": "stderr",
     "output_type": "stream",
     "text": [
      "C:\\Users\\franc\\AppData\\Local\\Packages\\PythonSoftwareFoundation.Python.3.10_qbz5n2kfra8p0\\LocalCache\\local-packages\\Python310\\site-packages\\pytorch_tabnet\\abstract_model.py:75: UserWarning: Device used : cuda\n",
      "  warnings.warn(f\"Device used : {self.device}\")\n"
     ]
    },
    {
     "name": "stdout",
     "output_type": "stream",
     "text": [
      "epoch 0  | loss: 0.91251 | val_0_mse: 0.38879 |  0:00:04s\n",
      "epoch 1  | loss: 0.20253 | val_0_mse: 0.19572 |  0:00:08s\n",
      "epoch 2  | loss: 0.12097 | val_0_mse: 0.12415 |  0:00:13s\n",
      "epoch 3  | loss: 0.09933 | val_0_mse: 0.09772 |  0:00:18s\n",
      "epoch 4  | loss: 0.07897 | val_0_mse: 0.08569 |  0:00:22s\n",
      "epoch 5  | loss: 0.08156 | val_0_mse: 0.07898 |  0:00:27s\n",
      "epoch 6  | loss: 0.08184 | val_0_mse: 0.07075 |  0:00:31s\n",
      "epoch 7  | loss: 0.07084 | val_0_mse: 0.06688 |  0:00:36s\n",
      "epoch 8  | loss: 0.0711  | val_0_mse: 0.05981 |  0:00:41s\n",
      "epoch 9  | loss: 0.06303 | val_0_mse: 0.07248 |  0:00:45s\n",
      "epoch 10 | loss: 0.06121 | val_0_mse: 0.07875 |  0:00:50s\n",
      "epoch 11 | loss: 0.05613 | val_0_mse: 0.05127 |  0:00:54s\n",
      "epoch 12 | loss: 0.05464 | val_0_mse: 0.04477 |  0:00:59s\n",
      "epoch 13 | loss: 0.05128 | val_0_mse: 0.04403 |  0:01:04s\n",
      "epoch 14 | loss: 0.049   | val_0_mse: 0.03862 |  0:01:08s\n",
      "epoch 15 | loss: 0.04232 | val_0_mse: 0.03702 |  0:01:13s\n",
      "epoch 16 | loss: 0.04554 | val_0_mse: 0.05423 |  0:01:18s\n",
      "epoch 17 | loss: 0.03879 | val_0_mse: 0.03633 |  0:01:22s\n",
      "epoch 18 | loss: 0.03581 | val_0_mse: 0.0375  |  0:01:27s\n",
      "epoch 19 | loss: 0.03117 | val_0_mse: 0.02743 |  0:01:31s\n",
      "epoch 20 | loss: 0.02991 | val_0_mse: 0.03141 |  0:01:36s\n",
      "epoch 21 | loss: 0.02572 | val_0_mse: 0.03556 |  0:01:41s\n",
      "epoch 22 | loss: 0.02618 | val_0_mse: 0.01606 |  0:01:45s\n",
      "epoch 23 | loss: 0.02236 | val_0_mse: 0.01795 |  0:01:50s\n",
      "epoch 24 | loss: 0.02928 | val_0_mse: 0.02615 |  0:01:54s\n",
      "epoch 25 | loss: 0.02224 | val_0_mse: 0.01624 |  0:01:59s\n",
      "epoch 26 | loss: 0.02183 | val_0_mse: 0.02113 |  0:02:04s\n",
      "epoch 27 | loss: 0.01824 | val_0_mse: 0.02344 |  0:02:08s\n",
      "epoch 28 | loss: 0.01632 | val_0_mse: 0.01097 |  0:02:13s\n",
      "epoch 29 | loss: 0.01502 | val_0_mse: 0.01446 |  0:02:18s\n",
      "epoch 30 | loss: 0.01793 | val_0_mse: 0.01084 |  0:02:22s\n",
      "epoch 31 | loss: 0.01696 | val_0_mse: 0.01675 |  0:02:27s\n",
      "epoch 32 | loss: 0.01524 | val_0_mse: 0.01003 |  0:02:32s\n",
      "epoch 33 | loss: 0.02228 | val_0_mse: 0.01037 |  0:02:37s\n",
      "epoch 34 | loss: 0.01655 | val_0_mse: 0.04787 |  0:02:42s\n",
      "epoch 35 | loss: 0.02396 | val_0_mse: 0.02012 |  0:02:46s\n",
      "epoch 36 | loss: 0.02212 | val_0_mse: 0.01401 |  0:02:51s\n",
      "epoch 37 | loss: 0.01857 | val_0_mse: 0.01571 |  0:02:56s\n",
      "epoch 38 | loss: 0.01537 | val_0_mse: 0.012   |  0:03:00s\n",
      "epoch 39 | loss: 0.01646 | val_0_mse: 0.0089  |  0:03:05s\n",
      "epoch 40 | loss: 0.01691 | val_0_mse: 0.01125 |  0:03:10s\n",
      "epoch 41 | loss: 0.01703 | val_0_mse: 0.00987 |  0:03:14s\n",
      "epoch 42 | loss: 0.01463 | val_0_mse: 0.01237 |  0:03:19s\n",
      "epoch 43 | loss: 0.01571 | val_0_mse: 0.04497 |  0:03:24s\n",
      "epoch 44 | loss: 0.02713 | val_0_mse: 0.01511 |  0:03:28s\n",
      "epoch 45 | loss: 0.02168 | val_0_mse: 0.01892 |  0:03:33s\n",
      "epoch 46 | loss: 0.01503 | val_0_mse: 0.026   |  0:03:37s\n",
      "epoch 47 | loss: 0.01548 | val_0_mse: 0.01032 |  0:03:42s\n",
      "epoch 48 | loss: 0.01255 | val_0_mse: 0.01423 |  0:03:47s\n",
      "epoch 49 | loss: 0.01161 | val_0_mse: 0.00794 |  0:03:51s\n",
      "epoch 50 | loss: 0.01288 | val_0_mse: 0.00803 |  0:03:56s\n",
      "epoch 51 | loss: 0.01043 | val_0_mse: 0.00863 |  0:04:00s\n",
      "epoch 52 | loss: 0.0137  | val_0_mse: 0.01202 |  0:04:05s\n",
      "epoch 53 | loss: 0.01079 | val_0_mse: 0.01289 |  0:04:10s\n",
      "epoch 54 | loss: 0.01124 | val_0_mse: 0.01805 |  0:04:14s\n",
      "epoch 55 | loss: 0.00975 | val_0_mse: 0.02328 |  0:04:19s\n",
      "epoch 56 | loss: 0.01367 | val_0_mse: 0.00771 |  0:04:23s\n",
      "epoch 57 | loss: 0.01502 | val_0_mse: 0.00609 |  0:04:28s\n",
      "epoch 58 | loss: 0.01147 | val_0_mse: 0.0085  |  0:04:33s\n",
      "epoch 59 | loss: 0.0122  | val_0_mse: 0.01386 |  0:04:37s\n",
      "epoch 60 | loss: 0.00967 | val_0_mse: 0.01138 |  0:04:42s\n",
      "epoch 61 | loss: 0.01068 | val_0_mse: 0.01657 |  0:04:46s\n",
      "epoch 62 | loss: 0.00913 | val_0_mse: 0.00955 |  0:04:51s\n",
      "epoch 63 | loss: 0.00981 | val_0_mse: 0.00761 |  0:04:56s\n",
      "epoch 64 | loss: 0.01056 | val_0_mse: 0.00935 |  0:05:00s\n",
      "epoch 65 | loss: 0.01145 | val_0_mse: 0.00604 |  0:05:05s\n",
      "epoch 66 | loss: 0.00861 | val_0_mse: 0.00509 |  0:05:10s\n",
      "epoch 67 | loss: 0.0099  | val_0_mse: 0.01403 |  0:05:14s\n",
      "epoch 68 | loss: 0.00756 | val_0_mse: 0.00573 |  0:05:19s\n",
      "epoch 69 | loss: 0.00888 | val_0_mse: 0.01665 |  0:05:23s\n",
      "epoch 70 | loss: 0.00993 | val_0_mse: 0.00615 |  0:05:28s\n",
      "epoch 71 | loss: 0.01017 | val_0_mse: 0.00663 |  0:05:32s\n",
      "epoch 72 | loss: 0.01008 | val_0_mse: 0.02671 |  0:05:37s\n",
      "epoch 73 | loss: 0.01093 | val_0_mse: 0.01392 |  0:05:42s\n",
      "epoch 74 | loss: 0.00883 | val_0_mse: 0.00728 |  0:05:46s\n",
      "epoch 75 | loss: 0.01221 | val_0_mse: 0.00894 |  0:05:51s\n",
      "epoch 76 | loss: 0.01156 | val_0_mse: 0.00792 |  0:05:55s\n",
      "\n",
      "Early stopping occurred at epoch 76 with best_epoch = 66 and best_val_0_mse = 0.00509\n"
     ]
    },
    {
     "name": "stderr",
     "output_type": "stream",
     "text": [
      "C:\\Users\\franc\\AppData\\Local\\Packages\\PythonSoftwareFoundation.Python.3.10_qbz5n2kfra8p0\\LocalCache\\local-packages\\Python310\\site-packages\\pytorch_tabnet\\callbacks.py:172: UserWarning: Best weights from best epoch are automatically used!\n",
      "  warnings.warn(wrn_msg)\n"
     ]
    },
    {
     "name": "stdout",
     "output_type": "stream",
     "text": [
      "Model MSE: 0.005397 - Best MSE: 0.004804\n",
      "Model R2 Score: 0.976072 - Best R2 Score: 0.978703\n",
      "\n",
      "Iterations 27/120 - Hyperparameters:  batch_sizes=64, nums_epochs=100, n_d=8, n_a=8, n_step=6, n_indipendent=2, n_shared=3, gamma=1.3, epsilon=1e-08\n"
     ]
    },
    {
     "name": "stderr",
     "output_type": "stream",
     "text": [
      "C:\\Users\\franc\\AppData\\Local\\Packages\\PythonSoftwareFoundation.Python.3.10_qbz5n2kfra8p0\\LocalCache\\local-packages\\Python310\\site-packages\\pytorch_tabnet\\abstract_model.py:75: UserWarning: Device used : cuda\n",
      "  warnings.warn(f\"Device used : {self.device}\")\n"
     ]
    },
    {
     "name": "stdout",
     "output_type": "stream",
     "text": [
      "epoch 0  | loss: 1.25289 | val_0_mse: 0.42716 |  0:00:09s\n",
      "epoch 1  | loss: 0.12503 | val_0_mse: 0.10957 |  0:00:19s\n",
      "epoch 2  | loss: 0.10134 | val_0_mse: 0.09528 |  0:00:29s\n",
      "epoch 3  | loss: 0.0931  | val_0_mse: 0.0832  |  0:00:40s\n",
      "epoch 4  | loss: 0.0846  | val_0_mse: 0.07549 |  0:00:50s\n",
      "epoch 5  | loss: 0.07872 | val_0_mse: 0.10049 |  0:01:01s\n",
      "epoch 6  | loss: 0.07351 | val_0_mse: 0.09434 |  0:01:11s\n",
      "epoch 7  | loss: 0.06791 | val_0_mse: 0.05272 |  0:01:21s\n",
      "epoch 8  | loss: 0.05386 | val_0_mse: 0.05698 |  0:01:32s\n",
      "epoch 9  | loss: 0.05357 | val_0_mse: 0.04091 |  0:01:42s\n",
      "epoch 10 | loss: 0.04578 | val_0_mse: 0.06821 |  0:01:52s\n",
      "epoch 11 | loss: 0.03831 | val_0_mse: 0.03174 |  0:02:02s\n",
      "epoch 12 | loss: 0.03174 | val_0_mse: 0.04556 |  0:02:13s\n",
      "epoch 13 | loss: 0.03218 | val_0_mse: 0.0182  |  0:02:23s\n",
      "epoch 14 | loss: 0.03014 | val_0_mse: 0.02577 |  0:02:34s\n",
      "epoch 15 | loss: 0.02516 | val_0_mse: 0.01359 |  0:02:44s\n",
      "epoch 16 | loss: 0.02271 | val_0_mse: 0.02014 |  0:02:54s\n",
      "epoch 17 | loss: 0.02218 | val_0_mse: 0.0226  |  0:03:05s\n",
      "epoch 18 | loss: 0.02591 | val_0_mse: 0.01846 |  0:03:15s\n",
      "epoch 19 | loss: 0.01942 | val_0_mse: 0.0565  |  0:03:25s\n",
      "epoch 20 | loss: 0.02477 | val_0_mse: 0.01073 |  0:03:36s\n",
      "epoch 21 | loss: 0.01664 | val_0_mse: 0.01559 |  0:03:46s\n",
      "epoch 22 | loss: 0.01533 | val_0_mse: 0.01154 |  0:03:56s\n",
      "epoch 23 | loss: 0.01718 | val_0_mse: 0.01836 |  0:04:07s\n",
      "epoch 24 | loss: 0.0195  | val_0_mse: 0.01007 |  0:04:17s\n",
      "epoch 25 | loss: 0.01855 | val_0_mse: 0.00705 |  0:04:27s\n",
      "epoch 26 | loss: 0.01673 | val_0_mse: 0.05227 |  0:04:38s\n",
      "epoch 27 | loss: 0.01469 | val_0_mse: 0.03646 |  0:04:48s\n",
      "epoch 28 | loss: 0.02217 | val_0_mse: 0.01612 |  0:04:58s\n",
      "epoch 29 | loss: 0.01673 | val_0_mse: 0.01475 |  0:05:10s\n",
      "epoch 30 | loss: 0.01573 | val_0_mse: 0.00801 |  0:05:21s\n",
      "epoch 31 | loss: 0.02117 | val_0_mse: 0.01374 |  0:05:32s\n",
      "epoch 32 | loss: 0.02146 | val_0_mse: 0.01077 |  0:05:43s\n",
      "epoch 33 | loss: 0.01514 | val_0_mse: 0.01162 |  0:05:53s\n",
      "epoch 34 | loss: 0.02052 | val_0_mse: 0.04059 |  0:06:04s\n",
      "epoch 35 | loss: 0.01959 | val_0_mse: 0.01793 |  0:06:14s\n",
      "\n",
      "Early stopping occurred at epoch 35 with best_epoch = 25 and best_val_0_mse = 0.00705\n"
     ]
    },
    {
     "name": "stderr",
     "output_type": "stream",
     "text": [
      "C:\\Users\\franc\\AppData\\Local\\Packages\\PythonSoftwareFoundation.Python.3.10_qbz5n2kfra8p0\\LocalCache\\local-packages\\Python310\\site-packages\\pytorch_tabnet\\callbacks.py:172: UserWarning: Best weights from best epoch are automatically used!\n",
      "  warnings.warn(wrn_msg)\n"
     ]
    },
    {
     "name": "stdout",
     "output_type": "stream",
     "text": [
      "Model MSE: 0.007757 - Best MSE: 0.004804\n",
      "Model R2 Score: 0.965609 - Best R2 Score: 0.978703\n",
      "\n",
      "Iterations 28/120 - Hyperparameters:  batch_sizes=128, nums_epochs=100, n_d=8, n_a=8, n_step=6, n_indipendent=2, n_shared=3, gamma=1.3, epsilon=1e-08\n"
     ]
    },
    {
     "name": "stderr",
     "output_type": "stream",
     "text": [
      "C:\\Users\\franc\\AppData\\Local\\Packages\\PythonSoftwareFoundation.Python.3.10_qbz5n2kfra8p0\\LocalCache\\local-packages\\Python310\\site-packages\\pytorch_tabnet\\abstract_model.py:75: UserWarning: Device used : cuda\n",
      "  warnings.warn(f\"Device used : {self.device}\")\n"
     ]
    },
    {
     "name": "stdout",
     "output_type": "stream",
     "text": [
      "epoch 0  | loss: 2.38013 | val_0_mse: 0.314   |  0:00:05s\n",
      "epoch 1  | loss: 0.23081 | val_0_mse: 0.20457 |  0:00:10s\n",
      "epoch 2  | loss: 0.14509 | val_0_mse: 0.14762 |  0:00:15s\n",
      "epoch 3  | loss: 0.09899 | val_0_mse: 0.09513 |  0:00:21s\n",
      "epoch 4  | loss: 0.08386 | val_0_mse: 0.10686 |  0:00:26s\n",
      "epoch 5  | loss: 0.08229 | val_0_mse: 0.0802  |  0:00:31s\n",
      "epoch 6  | loss: 0.06893 | val_0_mse: 0.06721 |  0:00:36s\n",
      "epoch 7  | loss: 0.06807 | val_0_mse: 0.06222 |  0:00:42s\n",
      "epoch 8  | loss: 0.06562 | val_0_mse: 0.08704 |  0:00:47s\n",
      "epoch 9  | loss: 0.06697 | val_0_mse: 0.07498 |  0:00:52s\n",
      "epoch 10 | loss: 0.05981 | val_0_mse: 0.06952 |  0:00:57s\n",
      "epoch 11 | loss: 0.05645 | val_0_mse: 0.05666 |  0:01:03s\n",
      "epoch 12 | loss: 0.05166 | val_0_mse: 0.04414 |  0:01:08s\n",
      "epoch 13 | loss: 0.0473  | val_0_mse: 0.04095 |  0:01:13s\n",
      "epoch 14 | loss: 0.04414 | val_0_mse: 0.0334  |  0:01:19s\n",
      "epoch 15 | loss: 0.04684 | val_0_mse: 0.04489 |  0:01:24s\n",
      "epoch 16 | loss: 0.0405  | val_0_mse: 0.03354 |  0:01:29s\n",
      "epoch 17 | loss: 0.03343 | val_0_mse: 0.02793 |  0:01:35s\n",
      "epoch 18 | loss: 0.03253 | val_0_mse: 0.0291  |  0:01:40s\n",
      "epoch 19 | loss: 0.03009 | val_0_mse: 0.04121 |  0:01:45s\n",
      "epoch 20 | loss: 0.03373 | val_0_mse: 0.02619 |  0:01:50s\n",
      "epoch 21 | loss: 0.02961 | val_0_mse: 0.02965 |  0:01:55s\n",
      "epoch 22 | loss: 0.02574 | val_0_mse: 0.01788 |  0:02:01s\n",
      "epoch 23 | loss: 0.02329 | val_0_mse: 0.01914 |  0:02:06s\n",
      "epoch 24 | loss: 0.02109 | val_0_mse: 0.02023 |  0:02:11s\n",
      "epoch 25 | loss: 0.01999 | val_0_mse: 0.01764 |  0:02:16s\n",
      "epoch 26 | loss: 0.01946 | val_0_mse: 0.01415 |  0:02:21s\n",
      "epoch 27 | loss: 0.01856 | val_0_mse: 0.01351 |  0:02:27s\n",
      "epoch 28 | loss: 0.01858 | val_0_mse: 0.01554 |  0:02:32s\n",
      "epoch 29 | loss: 0.02089 | val_0_mse: 0.01454 |  0:02:37s\n",
      "epoch 30 | loss: 0.01292 | val_0_mse: 0.0171  |  0:02:43s\n",
      "epoch 31 | loss: 0.01446 | val_0_mse: 0.01964 |  0:02:48s\n",
      "epoch 32 | loss: 0.01715 | val_0_mse: 0.01351 |  0:02:53s\n",
      "epoch 33 | loss: 0.0126  | val_0_mse: 0.01216 |  0:02:59s\n",
      "epoch 34 | loss: 0.01486 | val_0_mse: 0.01236 |  0:03:04s\n",
      "epoch 35 | loss: 0.01322 | val_0_mse: 0.0129  |  0:03:09s\n",
      "epoch 36 | loss: 0.01387 | val_0_mse: 0.01825 |  0:03:14s\n",
      "epoch 37 | loss: 0.01217 | val_0_mse: 0.01234 |  0:03:20s\n",
      "epoch 38 | loss: 0.01582 | val_0_mse: 0.01247 |  0:03:25s\n",
      "epoch 39 | loss: 0.0138  | val_0_mse: 0.00997 |  0:03:30s\n",
      "epoch 40 | loss: 0.01396 | val_0_mse: 0.01255 |  0:03:36s\n",
      "epoch 41 | loss: 0.02981 | val_0_mse: 0.03291 |  0:03:41s\n",
      "epoch 42 | loss: 0.01674 | val_0_mse: 0.01157 |  0:03:46s\n",
      "epoch 43 | loss: 0.01895 | val_0_mse: 0.01001 |  0:03:51s\n",
      "epoch 44 | loss: 0.02329 | val_0_mse: 0.03702 |  0:03:56s\n",
      "epoch 45 | loss: 0.02074 | val_0_mse: 0.01694 |  0:04:02s\n",
      "epoch 46 | loss: 0.01601 | val_0_mse: 0.01473 |  0:04:07s\n",
      "epoch 47 | loss: 0.01228 | val_0_mse: 0.01058 |  0:04:12s\n",
      "epoch 48 | loss: 0.01343 | val_0_mse: 0.01011 |  0:04:17s\n",
      "epoch 49 | loss: 0.01353 | val_0_mse: 0.00939 |  0:04:23s\n",
      "epoch 50 | loss: 0.01261 | val_0_mse: 0.01533 |  0:04:28s\n",
      "epoch 51 | loss: 0.01438 | val_0_mse: 0.00788 |  0:04:33s\n",
      "epoch 52 | loss: 0.01088 | val_0_mse: 0.00887 |  0:04:38s\n",
      "epoch 53 | loss: 0.01036 | val_0_mse: 0.01433 |  0:04:44s\n",
      "epoch 54 | loss: 0.01282 | val_0_mse: 0.01748 |  0:04:49s\n",
      "epoch 55 | loss: 0.01041 | val_0_mse: 0.00798 |  0:04:54s\n",
      "epoch 56 | loss: 0.01081 | val_0_mse: 0.00766 |  0:04:59s\n",
      "epoch 57 | loss: 0.01097 | val_0_mse: 0.02478 |  0:05:04s\n",
      "epoch 58 | loss: 0.01262 | val_0_mse: 0.00612 |  0:05:10s\n",
      "epoch 59 | loss: 0.0136  | val_0_mse: 0.01502 |  0:05:15s\n",
      "epoch 60 | loss: 0.01469 | val_0_mse: 0.01144 |  0:05:20s\n",
      "epoch 61 | loss: 0.01125 | val_0_mse: 0.0063  |  0:05:25s\n",
      "epoch 62 | loss: 0.01377 | val_0_mse: 0.0078  |  0:05:30s\n",
      "epoch 63 | loss: 0.01156 | val_0_mse: 0.00839 |  0:05:35s\n",
      "epoch 64 | loss: 0.01361 | val_0_mse: 0.08478 |  0:05:41s\n",
      "epoch 65 | loss: 0.01487 | val_0_mse: 0.00954 |  0:05:46s\n",
      "epoch 66 | loss: 0.01085 | val_0_mse: 0.01081 |  0:05:51s\n",
      "epoch 67 | loss: 0.01079 | val_0_mse: 0.01572 |  0:05:56s\n",
      "epoch 68 | loss: 0.01169 | val_0_mse: 0.00734 |  0:06:01s\n",
      "\n",
      "Early stopping occurred at epoch 68 with best_epoch = 58 and best_val_0_mse = 0.00612\n"
     ]
    },
    {
     "name": "stderr",
     "output_type": "stream",
     "text": [
      "C:\\Users\\franc\\AppData\\Local\\Packages\\PythonSoftwareFoundation.Python.3.10_qbz5n2kfra8p0\\LocalCache\\local-packages\\Python310\\site-packages\\pytorch_tabnet\\callbacks.py:172: UserWarning: Best weights from best epoch are automatically used!\n",
      "  warnings.warn(wrn_msg)\n"
     ]
    },
    {
     "name": "stdout",
     "output_type": "stream",
     "text": [
      "Model MSE: 0.006254 - Best MSE: 0.004804\n",
      "Model R2 Score: 0.972275 - Best R2 Score: 0.978703\n",
      "\n",
      "Iterations 29/120 - Hyperparameters:  batch_sizes=64, nums_epochs=100, n_d=8, n_a=8, n_step=6, n_indipendent=3, n_shared=2, gamma=1.3, epsilon=1e-08\n"
     ]
    },
    {
     "name": "stderr",
     "output_type": "stream",
     "text": [
      "C:\\Users\\franc\\AppData\\Local\\Packages\\PythonSoftwareFoundation.Python.3.10_qbz5n2kfra8p0\\LocalCache\\local-packages\\Python310\\site-packages\\pytorch_tabnet\\abstract_model.py:75: UserWarning: Device used : cuda\n",
      "  warnings.warn(f\"Device used : {self.device}\")\n"
     ]
    },
    {
     "name": "stdout",
     "output_type": "stream",
     "text": [
      "epoch 0  | loss: 1.31754 | val_0_mse: 0.43255 |  0:00:10s\n",
      "epoch 1  | loss: 0.13279 | val_0_mse: 0.1263  |  0:00:20s\n",
      "epoch 2  | loss: 0.0926  | val_0_mse: 0.07762 |  0:00:31s\n",
      "epoch 3  | loss: 0.08068 | val_0_mse: 0.10118 |  0:00:42s\n",
      "epoch 4  | loss: 0.07689 | val_0_mse: 0.06421 |  0:00:52s\n",
      "epoch 5  | loss: 0.07541 | val_0_mse: 0.10872 |  0:01:03s\n",
      "epoch 6  | loss: 0.07422 | val_0_mse: 0.06624 |  0:01:14s\n",
      "epoch 7  | loss: 0.06494 | val_0_mse: 0.05492 |  0:01:24s\n",
      "epoch 8  | loss: 0.0631  | val_0_mse: 0.05664 |  0:01:35s\n",
      "epoch 9  | loss: 0.05097 | val_0_mse: 0.0593  |  0:01:46s\n",
      "epoch 10 | loss: 0.04485 | val_0_mse: 0.04124 |  0:01:57s\n",
      "epoch 11 | loss: 0.04317 | val_0_mse: 0.03935 |  0:02:07s\n",
      "epoch 12 | loss: 0.04216 | val_0_mse: 0.12206 |  0:02:18s\n",
      "epoch 13 | loss: 0.03799 | val_0_mse: 0.02478 |  0:02:29s\n",
      "epoch 14 | loss: 0.0315  | val_0_mse: 0.02949 |  0:02:40s\n",
      "epoch 15 | loss: 0.02726 | val_0_mse: 0.02346 |  0:02:50s\n",
      "epoch 16 | loss: 0.03095 | val_0_mse: 0.02456 |  0:03:01s\n",
      "epoch 17 | loss: 0.0243  | val_0_mse: 0.02305 |  0:03:12s\n",
      "epoch 18 | loss: 0.02719 | val_0_mse: 0.01385 |  0:03:22s\n",
      "epoch 19 | loss: 0.01956 | val_0_mse: 0.01155 |  0:03:31s\n",
      "epoch 20 | loss: 0.01884 | val_0_mse: 0.00979 |  0:03:41s\n",
      "epoch 21 | loss: 0.01564 | val_0_mse: 0.0142  |  0:03:50s\n",
      "epoch 22 | loss: 0.02134 | val_0_mse: 0.00915 |  0:04:00s\n",
      "epoch 23 | loss: 0.01534 | val_0_mse: 0.00969 |  0:04:10s\n",
      "epoch 24 | loss: 0.02263 | val_0_mse: 0.01061 |  0:04:20s\n",
      "epoch 25 | loss: 0.01911 | val_0_mse: 0.01081 |  0:04:31s\n",
      "epoch 26 | loss: 0.01635 | val_0_mse: 0.01105 |  0:04:42s\n",
      "epoch 27 | loss: 0.01575 | val_0_mse: 0.01502 |  0:04:52s\n",
      "epoch 28 | loss: 0.01746 | val_0_mse: 0.02149 |  0:05:03s\n",
      "epoch 29 | loss: 0.01876 | val_0_mse: 0.01408 |  0:05:14s\n",
      "epoch 30 | loss: 0.0166  | val_0_mse: 0.0128  |  0:05:25s\n",
      "epoch 31 | loss: 0.01656 | val_0_mse: 0.02702 |  0:05:35s\n",
      "epoch 32 | loss: 0.01746 | val_0_mse: 0.0144  |  0:05:46s\n",
      "\n",
      "Early stopping occurred at epoch 32 with best_epoch = 22 and best_val_0_mse = 0.00915\n"
     ]
    },
    {
     "name": "stderr",
     "output_type": "stream",
     "text": [
      "C:\\Users\\franc\\AppData\\Local\\Packages\\PythonSoftwareFoundation.Python.3.10_qbz5n2kfra8p0\\LocalCache\\local-packages\\Python310\\site-packages\\pytorch_tabnet\\callbacks.py:172: UserWarning: Best weights from best epoch are automatically used!\n",
      "  warnings.warn(wrn_msg)\n"
     ]
    },
    {
     "name": "stdout",
     "output_type": "stream",
     "text": [
      "Model MSE: 0.008962 - Best MSE: 0.004804\n",
      "Model R2 Score: 0.960270 - Best R2 Score: 0.978703\n",
      "\n",
      "Iterations 30/120 - Hyperparameters:  batch_sizes=128, nums_epochs=100, n_d=8, n_a=8, n_step=6, n_indipendent=3, n_shared=2, gamma=1.3, epsilon=1e-08\n"
     ]
    },
    {
     "name": "stderr",
     "output_type": "stream",
     "text": [
      "C:\\Users\\franc\\AppData\\Local\\Packages\\PythonSoftwareFoundation.Python.3.10_qbz5n2kfra8p0\\LocalCache\\local-packages\\Python310\\site-packages\\pytorch_tabnet\\abstract_model.py:75: UserWarning: Device used : cuda\n",
      "  warnings.warn(f\"Device used : {self.device}\")\n"
     ]
    },
    {
     "name": "stdout",
     "output_type": "stream",
     "text": [
      "epoch 0  | loss: 2.22955 | val_0_mse: 0.38928 |  0:00:05s\n",
      "epoch 1  | loss: 0.24382 | val_0_mse: 0.30048 |  0:00:10s\n",
      "epoch 2  | loss: 0.14034 | val_0_mse: 0.18771 |  0:00:15s\n",
      "epoch 3  | loss: 0.11709 | val_0_mse: 0.12567 |  0:00:20s\n",
      "epoch 4  | loss: 0.09885 | val_0_mse: 0.08312 |  0:00:25s\n",
      "epoch 5  | loss: 0.08993 | val_0_mse: 0.08909 |  0:00:30s\n",
      "epoch 6  | loss: 0.08078 | val_0_mse: 0.08034 |  0:00:36s\n",
      "epoch 7  | loss: 0.07934 | val_0_mse: 0.06082 |  0:00:41s\n",
      "epoch 8  | loss: 0.07673 | val_0_mse: 0.07467 |  0:00:46s\n",
      "epoch 9  | loss: 0.0728  | val_0_mse: 0.06854 |  0:00:51s\n",
      "epoch 10 | loss: 0.06766 | val_0_mse: 0.06003 |  0:00:56s\n",
      "epoch 11 | loss: 0.05959 | val_0_mse: 0.05887 |  0:01:02s\n",
      "epoch 12 | loss: 0.05083 | val_0_mse: 0.04178 |  0:01:07s\n",
      "epoch 13 | loss: 0.04766 | val_0_mse: 0.06433 |  0:01:12s\n",
      "epoch 14 | loss: 0.04295 | val_0_mse: 0.04288 |  0:01:17s\n",
      "epoch 15 | loss: 0.03597 | val_0_mse: 0.04053 |  0:01:22s\n",
      "epoch 16 | loss: 0.03593 | val_0_mse: 0.02746 |  0:01:28s\n",
      "epoch 17 | loss: 0.03005 | val_0_mse: 0.02128 |  0:01:33s\n",
      "epoch 18 | loss: 0.02639 | val_0_mse: 0.01913 |  0:01:38s\n",
      "epoch 19 | loss: 0.03755 | val_0_mse: 0.0327  |  0:01:43s\n",
      "epoch 20 | loss: 0.02945 | val_0_mse: 0.027   |  0:01:49s\n",
      "epoch 21 | loss: 0.02875 | val_0_mse: 0.02402 |  0:01:54s\n",
      "epoch 22 | loss: 0.02747 | val_0_mse: 0.03021 |  0:01:59s\n",
      "epoch 23 | loss: 0.0267  | val_0_mse: 0.05248 |  0:02:04s\n",
      "epoch 24 | loss: 0.02423 | val_0_mse: 0.01921 |  0:02:09s\n",
      "epoch 25 | loss: 0.02006 | val_0_mse: 0.01375 |  0:02:15s\n",
      "epoch 26 | loss: 0.0187  | val_0_mse: 0.04213 |  0:02:20s\n",
      "epoch 27 | loss: 0.01793 | val_0_mse: 0.01166 |  0:02:25s\n",
      "epoch 28 | loss: 0.02276 | val_0_mse: 0.01261 |  0:02:31s\n",
      "epoch 29 | loss: 0.01584 | val_0_mse: 0.03121 |  0:02:36s\n",
      "epoch 30 | loss: 0.01551 | val_0_mse: 0.01445 |  0:02:41s\n",
      "epoch 31 | loss: 0.01631 | val_0_mse: 0.0137  |  0:02:46s\n",
      "epoch 32 | loss: 0.01539 | val_0_mse: 0.00738 |  0:02:51s\n",
      "epoch 33 | loss: 0.01492 | val_0_mse: 0.00751 |  0:02:57s\n",
      "epoch 34 | loss: 0.01507 | val_0_mse: 0.04432 |  0:03:02s\n",
      "epoch 35 | loss: 0.01718 | val_0_mse: 0.0267  |  0:03:07s\n",
      "epoch 36 | loss: 0.01433 | val_0_mse: 0.00999 |  0:03:12s\n",
      "epoch 37 | loss: 0.01566 | val_0_mse: 0.01024 |  0:03:17s\n",
      "epoch 38 | loss: 0.0184  | val_0_mse: 0.06182 |  0:03:23s\n",
      "epoch 39 | loss: 0.0219  | val_0_mse: 0.01446 |  0:03:28s\n",
      "epoch 40 | loss: 0.01585 | val_0_mse: 0.0102  |  0:03:33s\n",
      "epoch 41 | loss: 0.01708 | val_0_mse: 0.01176 |  0:03:38s\n",
      "epoch 42 | loss: 0.01613 | val_0_mse: 0.02197 |  0:03:44s\n",
      "\n",
      "Early stopping occurred at epoch 42 with best_epoch = 32 and best_val_0_mse = 0.00738\n"
     ]
    },
    {
     "name": "stderr",
     "output_type": "stream",
     "text": [
      "C:\\Users\\franc\\AppData\\Local\\Packages\\PythonSoftwareFoundation.Python.3.10_qbz5n2kfra8p0\\LocalCache\\local-packages\\Python310\\site-packages\\pytorch_tabnet\\callbacks.py:172: UserWarning: Best weights from best epoch are automatically used!\n",
      "  warnings.warn(wrn_msg)\n"
     ]
    },
    {
     "name": "stdout",
     "output_type": "stream",
     "text": [
      "Model MSE: 0.008055 - Best MSE: 0.004804\n",
      "Model R2 Score: 0.964287 - Best R2 Score: 0.978703\n",
      "\n",
      "Iterations 31/120 - Hyperparameters:  batch_sizes=64, nums_epochs=100, n_d=8, n_a=8, n_step=6, n_indipendent=3, n_shared=3, gamma=1.3, epsilon=1e-08\n"
     ]
    },
    {
     "name": "stderr",
     "output_type": "stream",
     "text": [
      "C:\\Users\\franc\\AppData\\Local\\Packages\\PythonSoftwareFoundation.Python.3.10_qbz5n2kfra8p0\\LocalCache\\local-packages\\Python310\\site-packages\\pytorch_tabnet\\abstract_model.py:75: UserWarning: Device used : cuda\n",
      "  warnings.warn(f\"Device used : {self.device}\")\n"
     ]
    },
    {
     "name": "stdout",
     "output_type": "stream",
     "text": [
      "epoch 0  | loss: 1.18137 | val_0_mse: 0.25674 |  0:00:11s\n",
      "epoch 1  | loss: 0.21028 | val_0_mse: 0.21504 |  0:00:22s\n",
      "epoch 2  | loss: 0.13628 | val_0_mse: 0.13711 |  0:00:34s\n",
      "epoch 3  | loss: 0.11916 | val_0_mse: 0.10272 |  0:00:46s\n",
      "epoch 4  | loss: 0.10663 | val_0_mse: 0.09276 |  0:00:58s\n",
      "epoch 5  | loss: 0.09179 | val_0_mse: 0.08594 |  0:01:09s\n",
      "epoch 6  | loss: 0.09781 | val_0_mse: 0.07398 |  0:01:21s\n",
      "epoch 7  | loss: 0.07907 | val_0_mse: 0.06797 |  0:01:33s\n",
      "epoch 8  | loss: 0.07763 | val_0_mse: 0.06894 |  0:01:44s\n",
      "epoch 9  | loss: 0.07665 | val_0_mse: 0.06492 |  0:01:56s\n",
      "epoch 10 | loss: 0.07562 | val_0_mse: 0.07423 |  0:02:08s\n",
      "epoch 11 | loss: 0.05931 | val_0_mse: 0.04403 |  0:02:20s\n",
      "epoch 12 | loss: 0.05037 | val_0_mse: 0.042   |  0:02:32s\n",
      "epoch 13 | loss: 0.04099 | val_0_mse: 0.05522 |  0:02:44s\n",
      "epoch 14 | loss: 0.03933 | val_0_mse: 0.02449 |  0:02:55s\n",
      "epoch 15 | loss: 0.03978 | val_0_mse: 0.10443 |  0:03:07s\n",
      "epoch 16 | loss: 0.0365  | val_0_mse: 0.08003 |  0:03:19s\n",
      "epoch 17 | loss: 0.03759 | val_0_mse: 0.03169 |  0:03:31s\n",
      "epoch 18 | loss: 0.04096 | val_0_mse: 0.02868 |  0:03:43s\n",
      "epoch 19 | loss: 0.03783 | val_0_mse: 0.06859 |  0:03:54s\n",
      "epoch 20 | loss: 0.03097 | val_0_mse: 0.03999 |  0:04:06s\n",
      "epoch 21 | loss: 0.0239  | val_0_mse: 0.02845 |  0:04:18s\n",
      "epoch 22 | loss: 0.02488 | val_0_mse: 0.02138 |  0:04:30s\n",
      "epoch 23 | loss: 0.02225 | val_0_mse: 0.03895 |  0:04:41s\n",
      "epoch 24 | loss: 0.01844 | val_0_mse: 0.01927 |  0:04:53s\n",
      "epoch 25 | loss: 0.02133 | val_0_mse: 0.02016 |  0:05:03s\n",
      "epoch 26 | loss: 0.01892 | val_0_mse: 0.01211 |  0:05:14s\n",
      "epoch 27 | loss: 0.02232 | val_0_mse: 0.02191 |  0:05:25s\n",
      "epoch 28 | loss: 0.02243 | val_0_mse: 0.07048 |  0:05:35s\n",
      "epoch 29 | loss: 0.01893 | val_0_mse: 0.03888 |  0:05:47s\n",
      "epoch 30 | loss: 0.01875 | val_0_mse: 0.04052 |  0:05:59s\n",
      "epoch 31 | loss: 0.02069 | val_0_mse: 0.02358 |  0:06:11s\n",
      "epoch 32 | loss: 0.02328 | val_0_mse: 0.06405 |  0:06:23s\n",
      "epoch 33 | loss: 0.02278 | val_0_mse: 0.03527 |  0:06:34s\n",
      "epoch 34 | loss: 0.02166 | val_0_mse: 0.02863 |  0:06:46s\n",
      "epoch 35 | loss: 0.01873 | val_0_mse: 0.02687 |  0:06:58s\n",
      "epoch 36 | loss: 0.02041 | val_0_mse: 0.02114 |  0:07:09s\n",
      "\n",
      "Early stopping occurred at epoch 36 with best_epoch = 26 and best_val_0_mse = 0.01211\n"
     ]
    },
    {
     "name": "stderr",
     "output_type": "stream",
     "text": [
      "C:\\Users\\franc\\AppData\\Local\\Packages\\PythonSoftwareFoundation.Python.3.10_qbz5n2kfra8p0\\LocalCache\\local-packages\\Python310\\site-packages\\pytorch_tabnet\\callbacks.py:172: UserWarning: Best weights from best epoch are automatically used!\n",
      "  warnings.warn(wrn_msg)\n"
     ]
    },
    {
     "name": "stdout",
     "output_type": "stream",
     "text": [
      "Model MSE: 0.012750 - Best MSE: 0.004804\n",
      "Model R2 Score: 0.943474 - Best R2 Score: 0.978703\n",
      "\n",
      "Iterations 32/120 - Hyperparameters:  batch_sizes=128, nums_epochs=100, n_d=8, n_a=8, n_step=6, n_indipendent=3, n_shared=3, gamma=1.3, epsilon=1e-08\n"
     ]
    },
    {
     "name": "stderr",
     "output_type": "stream",
     "text": [
      "C:\\Users\\franc\\AppData\\Local\\Packages\\PythonSoftwareFoundation.Python.3.10_qbz5n2kfra8p0\\LocalCache\\local-packages\\Python310\\site-packages\\pytorch_tabnet\\abstract_model.py:75: UserWarning: Device used : cuda\n",
      "  warnings.warn(f\"Device used : {self.device}\")\n"
     ]
    },
    {
     "name": "stdout",
     "output_type": "stream",
     "text": [
      "epoch 0  | loss: 1.89603 | val_0_mse: 0.97485 |  0:00:05s\n",
      "epoch 1  | loss: 0.24421 | val_0_mse: 0.41541 |  0:00:11s\n",
      "epoch 2  | loss: 0.1236  | val_0_mse: 0.24007 |  0:00:17s\n",
      "epoch 3  | loss: 0.08806 | val_0_mse: 0.11725 |  0:00:23s\n",
      "epoch 4  | loss: 0.07311 | val_0_mse: 0.21234 |  0:00:29s\n",
      "epoch 5  | loss: 0.07955 | val_0_mse: 0.08301 |  0:00:35s\n",
      "epoch 6  | loss: 0.06923 | val_0_mse: 0.10168 |  0:00:41s\n",
      "epoch 7  | loss: 0.06007 | val_0_mse: 0.0575  |  0:00:47s\n",
      "epoch 8  | loss: 0.05956 | val_0_mse: 0.05828 |  0:00:53s\n",
      "epoch 9  | loss: 0.0681  | val_0_mse: 0.06317 |  0:00:58s\n",
      "epoch 10 | loss: 0.06734 | val_0_mse: 0.05059 |  0:01:04s\n",
      "epoch 11 | loss: 0.0561  | val_0_mse: 0.04989 |  0:01:10s\n",
      "epoch 12 | loss: 0.05557 | val_0_mse: 0.04447 |  0:01:16s\n",
      "epoch 13 | loss: 0.06321 | val_0_mse: 0.0627  |  0:01:22s\n",
      "epoch 14 | loss: 0.05004 | val_0_mse: 0.04956 |  0:01:28s\n",
      "epoch 15 | loss: 0.04631 | val_0_mse: 0.03844 |  0:01:33s\n",
      "epoch 16 | loss: 0.04283 | val_0_mse: 0.03958 |  0:01:39s\n",
      "epoch 17 | loss: 0.04197 | val_0_mse: 0.03904 |  0:01:45s\n",
      "epoch 18 | loss: 0.04074 | val_0_mse: 0.03385 |  0:01:51s\n",
      "epoch 19 | loss: 0.0344  | val_0_mse: 0.03451 |  0:01:57s\n",
      "epoch 20 | loss: 0.03152 | val_0_mse: 0.02675 |  0:02:03s\n",
      "epoch 21 | loss: 0.02848 | val_0_mse: 0.02348 |  0:02:09s\n",
      "epoch 22 | loss: 0.027   | val_0_mse: 0.02592 |  0:02:14s\n",
      "epoch 23 | loss: 0.03117 | val_0_mse: 0.03396 |  0:02:20s\n",
      "epoch 24 | loss: 0.02424 | val_0_mse: 0.02135 |  0:02:26s\n",
      "epoch 25 | loss: 0.02257 | val_0_mse: 0.02567 |  0:02:32s\n",
      "epoch 26 | loss: 0.02353 | val_0_mse: 0.02118 |  0:02:38s\n",
      "epoch 27 | loss: 0.01813 | val_0_mse: 0.0139  |  0:02:44s\n",
      "epoch 28 | loss: 0.01979 | val_0_mse: 0.04279 |  0:02:50s\n",
      "epoch 29 | loss: 0.02504 | val_0_mse: 0.01217 |  0:02:56s\n",
      "epoch 30 | loss: 0.01942 | val_0_mse: 0.02127 |  0:03:02s\n",
      "epoch 31 | loss: 0.01756 | val_0_mse: 0.01491 |  0:03:07s\n",
      "epoch 32 | loss: 0.01869 | val_0_mse: 0.00896 |  0:03:13s\n",
      "epoch 33 | loss: 0.01354 | val_0_mse: 0.01165 |  0:03:19s\n",
      "epoch 34 | loss: 0.01527 | val_0_mse: 0.01259 |  0:03:25s\n",
      "epoch 35 | loss: 0.01428 | val_0_mse: 0.013   |  0:03:31s\n",
      "epoch 36 | loss: 0.01413 | val_0_mse: 0.00778 |  0:03:37s\n",
      "epoch 37 | loss: 0.01706 | val_0_mse: 0.01223 |  0:03:43s\n",
      "epoch 38 | loss: 0.0154  | val_0_mse: 0.01453 |  0:03:48s\n",
      "epoch 39 | loss: 0.01463 | val_0_mse: 0.00652 |  0:03:54s\n",
      "epoch 40 | loss: 0.01349 | val_0_mse: 0.00868 |  0:04:00s\n",
      "epoch 41 | loss: 0.01648 | val_0_mse: 0.01012 |  0:04:06s\n",
      "epoch 42 | loss: 0.01681 | val_0_mse: 0.00906 |  0:04:12s\n",
      "epoch 43 | loss: 0.01395 | val_0_mse: 0.01071 |  0:04:18s\n",
      "epoch 44 | loss: 0.01322 | val_0_mse: 0.01838 |  0:04:24s\n",
      "epoch 45 | loss: 0.01522 | val_0_mse: 0.03042 |  0:04:30s\n",
      "epoch 46 | loss: 0.01429 | val_0_mse: 0.07328 |  0:04:35s\n",
      "epoch 47 | loss: 0.01186 | val_0_mse: 0.02795 |  0:04:41s\n",
      "epoch 48 | loss: 0.01123 | val_0_mse: 0.01124 |  0:04:47s\n",
      "epoch 49 | loss: 0.01421 | val_0_mse: 0.01261 |  0:04:53s\n",
      "\n",
      "Early stopping occurred at epoch 49 with best_epoch = 39 and best_val_0_mse = 0.00652\n"
     ]
    },
    {
     "name": "stderr",
     "output_type": "stream",
     "text": [
      "C:\\Users\\franc\\AppData\\Local\\Packages\\PythonSoftwareFoundation.Python.3.10_qbz5n2kfra8p0\\LocalCache\\local-packages\\Python310\\site-packages\\pytorch_tabnet\\callbacks.py:172: UserWarning: Best weights from best epoch are automatically used!\n",
      "  warnings.warn(wrn_msg)\n"
     ]
    },
    {
     "name": "stdout",
     "output_type": "stream",
     "text": [
      "Model MSE: 0.006917 - Best MSE: 0.004804\n",
      "Model R2 Score: 0.969335 - Best R2 Score: 0.978703\n",
      "\n",
      "Iterations 33/120 - Hyperparameters:  batch_sizes=64, nums_epochs=100, n_d=8, n_a=8, n_step=7, n_indipendent=2, n_shared=2, gamma=1.3, epsilon=1e-08\n"
     ]
    },
    {
     "name": "stderr",
     "output_type": "stream",
     "text": [
      "C:\\Users\\franc\\AppData\\Local\\Packages\\PythonSoftwareFoundation.Python.3.10_qbz5n2kfra8p0\\LocalCache\\local-packages\\Python310\\site-packages\\pytorch_tabnet\\abstract_model.py:75: UserWarning: Device used : cuda\n",
      "  warnings.warn(f\"Device used : {self.device}\")\n"
     ]
    },
    {
     "name": "stdout",
     "output_type": "stream",
     "text": [
      "epoch 0  | loss: 1.06447 | val_0_mse: 0.20226 |  0:00:09s\n",
      "epoch 1  | loss: 0.20924 | val_0_mse: 0.12915 |  0:00:19s\n",
      "epoch 2  | loss: 0.11272 | val_0_mse: 0.15098 |  0:00:28s\n",
      "epoch 3  | loss: 0.12854 | val_0_mse: 0.09774 |  0:00:38s\n",
      "epoch 4  | loss: 0.10635 | val_0_mse: 0.09485 |  0:00:47s\n",
      "epoch 5  | loss: 0.09767 | val_0_mse: 0.11214 |  0:00:57s\n",
      "epoch 6  | loss: 0.08568 | val_0_mse: 0.13413 |  0:01:07s\n",
      "epoch 7  | loss: 0.0836  | val_0_mse: 0.12812 |  0:01:16s\n",
      "epoch 8  | loss: 0.0809  | val_0_mse: 0.07087 |  0:01:25s\n",
      "epoch 9  | loss: 0.06758 | val_0_mse: 0.05419 |  0:01:35s\n",
      "epoch 10 | loss: 0.06107 | val_0_mse: 0.06004 |  0:01:44s\n",
      "epoch 11 | loss: 0.07913 | val_0_mse: 0.06713 |  0:01:54s\n",
      "epoch 12 | loss: 0.06175 | val_0_mse: 0.05048 |  0:02:05s\n",
      "epoch 13 | loss: 0.05221 | val_0_mse: 0.04587 |  0:02:16s\n",
      "epoch 14 | loss: 0.04274 | val_0_mse: 0.05263 |  0:02:27s\n",
      "epoch 15 | loss: 0.03613 | val_0_mse: 0.04692 |  0:02:37s\n",
      "epoch 16 | loss: 0.03492 | val_0_mse: 0.02042 |  0:02:48s\n",
      "epoch 17 | loss: 0.03022 | val_0_mse: 0.02596 |  0:02:59s\n",
      "epoch 18 | loss: 0.02871 | val_0_mse: 0.01846 |  0:03:10s\n",
      "epoch 19 | loss: 0.02964 | val_0_mse: 0.03127 |  0:03:20s\n",
      "epoch 20 | loss: 0.02564 | val_0_mse: 0.01853 |  0:03:31s\n",
      "epoch 21 | loss: 0.02291 | val_0_mse: 0.01303 |  0:03:42s\n",
      "epoch 22 | loss: 0.02375 | val_0_mse: 0.0366  |  0:03:53s\n",
      "epoch 23 | loss: 0.02082 | val_0_mse: 0.01373 |  0:04:03s\n",
      "epoch 24 | loss: 0.01938 | val_0_mse: 0.01205 |  0:04:14s\n",
      "epoch 25 | loss: 0.02023 | val_0_mse: 0.00902 |  0:04:25s\n",
      "epoch 26 | loss: 0.01723 | val_0_mse: 0.01151 |  0:04:36s\n",
      "epoch 27 | loss: 0.02109 | val_0_mse: 0.02314 |  0:04:46s\n",
      "epoch 28 | loss: 0.01969 | val_0_mse: 0.00949 |  0:04:57s\n",
      "epoch 29 | loss: 0.01742 | val_0_mse: 0.00967 |  0:05:08s\n",
      "epoch 30 | loss: 0.01879 | val_0_mse: 0.00786 |  0:05:18s\n",
      "epoch 31 | loss: 0.01642 | val_0_mse: 0.0115  |  0:05:29s\n",
      "epoch 32 | loss: 0.01957 | val_0_mse: 0.01348 |  0:05:40s\n",
      "epoch 33 | loss: 0.02172 | val_0_mse: 0.00788 |  0:05:51s\n",
      "epoch 34 | loss: 0.0149  | val_0_mse: 0.00913 |  0:06:01s\n",
      "epoch 35 | loss: 0.01385 | val_0_mse: 0.00823 |  0:06:12s\n",
      "epoch 36 | loss: 0.01676 | val_0_mse: 0.00761 |  0:06:23s\n",
      "epoch 37 | loss: 0.01717 | val_0_mse: 0.00757 |  0:06:34s\n",
      "epoch 38 | loss: 0.01597 | val_0_mse: 0.0085  |  0:06:44s\n",
      "epoch 39 | loss: 0.0176  | val_0_mse: 0.01191 |  0:06:55s\n",
      "epoch 40 | loss: 0.01445 | val_0_mse: 0.02052 |  0:07:06s\n",
      "epoch 41 | loss: 0.01425 | val_0_mse: 0.00947 |  0:07:16s\n",
      "epoch 42 | loss: 0.01469 | val_0_mse: 0.01521 |  0:07:27s\n",
      "epoch 43 | loss: 0.01501 | val_0_mse: 0.00702 |  0:07:38s\n",
      "epoch 44 | loss: 0.01331 | val_0_mse: 0.01661 |  0:07:49s\n",
      "epoch 45 | loss: 0.01535 | val_0_mse: 0.01526 |  0:07:59s\n",
      "epoch 46 | loss: 0.01295 | val_0_mse: 0.00617 |  0:08:10s\n",
      "epoch 47 | loss: 0.01373 | val_0_mse: 0.00628 |  0:08:21s\n",
      "epoch 48 | loss: 0.01304 | val_0_mse: 0.01188 |  0:08:32s\n",
      "epoch 49 | loss: 0.01446 | val_0_mse: 0.01003 |  0:08:42s\n",
      "epoch 50 | loss: 0.01146 | val_0_mse: 0.00643 |  0:08:53s\n",
      "epoch 51 | loss: 0.01521 | val_0_mse: 0.0085  |  0:09:04s\n",
      "epoch 52 | loss: 0.01368 | val_0_mse: 0.01446 |  0:09:15s\n",
      "epoch 53 | loss: 0.01372 | val_0_mse: 0.01399 |  0:09:26s\n",
      "epoch 54 | loss: 0.01363 | val_0_mse: 0.01612 |  0:09:36s\n",
      "epoch 55 | loss: 0.01553 | val_0_mse: 0.00891 |  0:09:47s\n",
      "epoch 56 | loss: 0.0155  | val_0_mse: 0.00625 |  0:09:58s\n",
      "\n",
      "Early stopping occurred at epoch 56 with best_epoch = 46 and best_val_0_mse = 0.00617\n"
     ]
    },
    {
     "name": "stderr",
     "output_type": "stream",
     "text": [
      "C:\\Users\\franc\\AppData\\Local\\Packages\\PythonSoftwareFoundation.Python.3.10_qbz5n2kfra8p0\\LocalCache\\local-packages\\Python310\\site-packages\\pytorch_tabnet\\callbacks.py:172: UserWarning: Best weights from best epoch are automatically used!\n",
      "  warnings.warn(wrn_msg)\n"
     ]
    },
    {
     "name": "stdout",
     "output_type": "stream",
     "text": [
      "Model MSE: 0.006703 - Best MSE: 0.004804\n",
      "Model R2 Score: 0.970282 - Best R2 Score: 0.978703\n",
      "\n",
      "Iterations 34/120 - Hyperparameters:  batch_sizes=128, nums_epochs=100, n_d=8, n_a=8, n_step=7, n_indipendent=2, n_shared=2, gamma=1.3, epsilon=1e-08\n"
     ]
    },
    {
     "name": "stderr",
     "output_type": "stream",
     "text": [
      "C:\\Users\\franc\\AppData\\Local\\Packages\\PythonSoftwareFoundation.Python.3.10_qbz5n2kfra8p0\\LocalCache\\local-packages\\Python310\\site-packages\\pytorch_tabnet\\abstract_model.py:75: UserWarning: Device used : cuda\n",
      "  warnings.warn(f\"Device used : {self.device}\")\n"
     ]
    },
    {
     "name": "stdout",
     "output_type": "stream",
     "text": [
      "epoch 0  | loss: 1.46166 | val_0_mse: 0.19137 |  0:00:05s\n",
      "epoch 1  | loss: 0.51115 | val_0_mse: 0.18372 |  0:00:10s\n",
      "epoch 2  | loss: 0.23868 | val_0_mse: 0.21363 |  0:00:15s\n",
      "epoch 3  | loss: 0.11417 | val_0_mse: 0.1333  |  0:00:20s\n",
      "epoch 4  | loss: 0.10817 | val_0_mse: 0.11393 |  0:00:25s\n",
      "epoch 5  | loss: 0.0894  | val_0_mse: 0.10425 |  0:00:30s\n",
      "epoch 6  | loss: 0.08824 | val_0_mse: 0.07821 |  0:00:35s\n",
      "epoch 7  | loss: 0.08473 | val_0_mse: 0.08427 |  0:00:40s\n",
      "epoch 8  | loss: 0.08053 | val_0_mse: 0.07235 |  0:00:44s\n",
      "epoch 9  | loss: 0.07496 | val_0_mse: 0.06617 |  0:00:49s\n",
      "epoch 10 | loss: 0.06642 | val_0_mse: 0.0764  |  0:00:54s\n",
      "epoch 11 | loss: 0.06952 | val_0_mse: 0.06288 |  0:01:00s\n",
      "epoch 12 | loss: 0.06551 | val_0_mse: 0.0681  |  0:01:05s\n",
      "epoch 13 | loss: 0.06375 | val_0_mse: 0.07341 |  0:01:10s\n",
      "epoch 14 | loss: 0.06191 | val_0_mse: 0.11702 |  0:01:16s\n",
      "epoch 15 | loss: 0.05505 | val_0_mse: 0.04809 |  0:01:21s\n",
      "epoch 16 | loss: 0.05275 | val_0_mse: 0.05237 |  0:01:26s\n",
      "epoch 17 | loss: 0.04712 | val_0_mse: 0.04337 |  0:01:31s\n",
      "epoch 18 | loss: 0.03803 | val_0_mse: 0.02889 |  0:01:37s\n",
      "epoch 19 | loss: 0.03818 | val_0_mse: 0.05315 |  0:01:42s\n",
      "epoch 20 | loss: 0.03681 | val_0_mse: 0.02886 |  0:01:47s\n",
      "epoch 21 | loss: 0.04172 | val_0_mse: 0.02397 |  0:01:52s\n",
      "epoch 22 | loss: 0.02913 | val_0_mse: 0.02611 |  0:01:58s\n",
      "epoch 23 | loss: 0.0281  | val_0_mse: 0.02153 |  0:02:03s\n",
      "epoch 24 | loss: 0.03231 | val_0_mse: 0.02051 |  0:02:08s\n",
      "epoch 25 | loss: 0.02639 | val_0_mse: 0.02154 |  0:02:13s\n",
      "epoch 26 | loss: 0.02439 | val_0_mse: 0.01611 |  0:02:19s\n",
      "epoch 27 | loss: 0.02906 | val_0_mse: 0.03303 |  0:02:24s\n",
      "epoch 28 | loss: 0.02349 | val_0_mse: 0.02553 |  0:02:29s\n",
      "epoch 29 | loss: 0.02453 | val_0_mse: 0.02074 |  0:02:34s\n",
      "epoch 30 | loss: 0.02026 | val_0_mse: 0.0311  |  0:02:40s\n",
      "epoch 31 | loss: 0.02832 | val_0_mse: 0.01738 |  0:02:45s\n",
      "epoch 32 | loss: 0.01993 | val_0_mse: 0.06798 |  0:02:50s\n",
      "epoch 33 | loss: 0.02037 | val_0_mse: 0.01056 |  0:02:55s\n",
      "epoch 34 | loss: 0.01791 | val_0_mse: 0.01522 |  0:03:01s\n",
      "epoch 35 | loss: 0.01835 | val_0_mse: 0.01567 |  0:03:06s\n",
      "epoch 36 | loss: 0.017   | val_0_mse: 0.01036 |  0:03:11s\n",
      "epoch 37 | loss: 0.01757 | val_0_mse: 0.00993 |  0:03:16s\n",
      "epoch 38 | loss: 0.019   | val_0_mse: 0.01339 |  0:03:22s\n",
      "epoch 39 | loss: 0.01733 | val_0_mse: 0.06527 |  0:03:27s\n",
      "epoch 40 | loss: 0.01681 | val_0_mse: 0.01109 |  0:03:32s\n",
      "epoch 41 | loss: 0.01235 | val_0_mse: 0.01125 |  0:03:38s\n",
      "epoch 42 | loss: 0.01828 | val_0_mse: 0.058   |  0:03:43s\n",
      "epoch 43 | loss: 0.01791 | val_0_mse: 0.02527 |  0:03:48s\n",
      "epoch 44 | loss: 0.01641 | val_0_mse: 0.01394 |  0:03:53s\n",
      "epoch 45 | loss: 0.01886 | val_0_mse: 0.03402 |  0:03:59s\n",
      "epoch 46 | loss: 0.01759 | val_0_mse: 0.01163 |  0:04:04s\n",
      "epoch 47 | loss: 0.01722 | val_0_mse: 0.04719 |  0:04:09s\n",
      "\n",
      "Early stopping occurred at epoch 47 with best_epoch = 37 and best_val_0_mse = 0.00993\n"
     ]
    },
    {
     "name": "stderr",
     "output_type": "stream",
     "text": [
      "C:\\Users\\franc\\AppData\\Local\\Packages\\PythonSoftwareFoundation.Python.3.10_qbz5n2kfra8p0\\LocalCache\\local-packages\\Python310\\site-packages\\pytorch_tabnet\\callbacks.py:172: UserWarning: Best weights from best epoch are automatically used!\n",
      "  warnings.warn(wrn_msg)\n"
     ]
    },
    {
     "name": "stdout",
     "output_type": "stream",
     "text": [
      "Model MSE: 0.009875 - Best MSE: 0.004804\n",
      "Model R2 Score: 0.956222 - Best R2 Score: 0.978703\n",
      "\n",
      "Iterations 35/120 - Hyperparameters:  batch_sizes=64, nums_epochs=100, n_d=8, n_a=8, n_step=7, n_indipendent=2, n_shared=3, gamma=1.3, epsilon=1e-08\n"
     ]
    },
    {
     "name": "stderr",
     "output_type": "stream",
     "text": [
      "C:\\Users\\franc\\AppData\\Local\\Packages\\PythonSoftwareFoundation.Python.3.10_qbz5n2kfra8p0\\LocalCache\\local-packages\\Python310\\site-packages\\pytorch_tabnet\\abstract_model.py:75: UserWarning: Device used : cuda\n",
      "  warnings.warn(f\"Device used : {self.device}\")\n"
     ]
    },
    {
     "name": "stdout",
     "output_type": "stream",
     "text": [
      "epoch 0  | loss: 0.8607  | val_0_mse: 0.18243 |  0:00:11s\n",
      "epoch 1  | loss: 0.24313 | val_0_mse: 0.14008 |  0:00:23s\n",
      "epoch 2  | loss: 0.14357 | val_0_mse: 0.12479 |  0:00:35s\n",
      "epoch 3  | loss: 0.12728 | val_0_mse: 0.10043 |  0:00:46s\n",
      "epoch 4  | loss: 0.12002 | val_0_mse: 0.13468 |  0:00:58s\n",
      "epoch 5  | loss: 0.11361 | val_0_mse: 0.08755 |  0:01:10s\n",
      "epoch 6  | loss: 0.08628 | val_0_mse: 0.08695 |  0:01:22s\n",
      "epoch 7  | loss: 0.07797 | val_0_mse: 0.07721 |  0:01:34s\n",
      "epoch 8  | loss: 0.08104 | val_0_mse: 0.05538 |  0:01:45s\n",
      "epoch 9  | loss: 0.05953 | val_0_mse: 0.04456 |  0:01:57s\n",
      "epoch 10 | loss: 0.05703 | val_0_mse: 0.04564 |  0:02:09s\n",
      "epoch 11 | loss: 0.04823 | val_0_mse: 0.03389 |  0:02:21s\n",
      "epoch 12 | loss: 0.04119 | val_0_mse: 0.03424 |  0:02:32s\n",
      "epoch 13 | loss: 0.03184 | val_0_mse: 0.03714 |  0:02:43s\n",
      "epoch 14 | loss: 0.02475 | val_0_mse: 0.0178  |  0:02:53s\n",
      "epoch 15 | loss: 0.0236  | val_0_mse: 0.01254 |  0:03:04s\n",
      "epoch 16 | loss: 0.02388 | val_0_mse: 0.02081 |  0:03:16s\n",
      "epoch 17 | loss: 0.02104 | val_0_mse: 0.01559 |  0:03:27s\n",
      "epoch 18 | loss: 0.01806 | val_0_mse: 0.0101  |  0:03:39s\n",
      "epoch 19 | loss: 0.0164  | val_0_mse: 0.03541 |  0:03:51s\n",
      "epoch 20 | loss: 0.01852 | val_0_mse: 0.01665 |  0:04:02s\n",
      "epoch 21 | loss: 0.01787 | val_0_mse: 0.0214  |  0:04:14s\n",
      "epoch 22 | loss: 0.01997 | val_0_mse: 0.00921 |  0:04:26s\n",
      "epoch 23 | loss: 0.02208 | val_0_mse: 0.01361 |  0:04:38s\n",
      "epoch 24 | loss: 0.01626 | val_0_mse: 0.02682 |  0:04:49s\n",
      "epoch 25 | loss: 0.01705 | val_0_mse: 0.01166 |  0:05:01s\n",
      "epoch 26 | loss: 0.01403 | val_0_mse: 0.00631 |  0:05:13s\n",
      "epoch 27 | loss: 0.01792 | val_0_mse: 0.13262 |  0:05:25s\n",
      "epoch 28 | loss: 0.01972 | val_0_mse: 0.01547 |  0:05:37s\n",
      "epoch 29 | loss: 0.01883 | val_0_mse: 0.00715 |  0:05:48s\n",
      "epoch 30 | loss: 0.01667 | val_0_mse: 0.00759 |  0:06:00s\n",
      "epoch 31 | loss: 0.01491 | val_0_mse: 0.01164 |  0:06:12s\n",
      "epoch 32 | loss: 0.01432 | val_0_mse: 0.0207  |  0:06:23s\n",
      "epoch 33 | loss: 0.01409 | val_0_mse: 0.01083 |  0:06:35s\n",
      "epoch 34 | loss: 0.01383 | val_0_mse: 0.01344 |  0:06:47s\n",
      "epoch 35 | loss: 0.01629 | val_0_mse: 0.00731 |  0:06:59s\n",
      "epoch 36 | loss: 0.01365 | val_0_mse: 0.01067 |  0:07:10s\n",
      "\n",
      "Early stopping occurred at epoch 36 with best_epoch = 26 and best_val_0_mse = 0.00631\n"
     ]
    },
    {
     "name": "stderr",
     "output_type": "stream",
     "text": [
      "C:\\Users\\franc\\AppData\\Local\\Packages\\PythonSoftwareFoundation.Python.3.10_qbz5n2kfra8p0\\LocalCache\\local-packages\\Python310\\site-packages\\pytorch_tabnet\\callbacks.py:172: UserWarning: Best weights from best epoch are automatically used!\n",
      "  warnings.warn(wrn_msg)\n"
     ]
    },
    {
     "name": "stdout",
     "output_type": "stream",
     "text": [
      "Model MSE: 0.006400 - Best MSE: 0.004804\n",
      "Model R2 Score: 0.971624 - Best R2 Score: 0.978703\n",
      "\n",
      "Iterations 36/120 - Hyperparameters:  batch_sizes=128, nums_epochs=100, n_d=8, n_a=8, n_step=7, n_indipendent=2, n_shared=3, gamma=1.3, epsilon=1e-08\n"
     ]
    },
    {
     "name": "stderr",
     "output_type": "stream",
     "text": [
      "C:\\Users\\franc\\AppData\\Local\\Packages\\PythonSoftwareFoundation.Python.3.10_qbz5n2kfra8p0\\LocalCache\\local-packages\\Python310\\site-packages\\pytorch_tabnet\\abstract_model.py:75: UserWarning: Device used : cuda\n",
      "  warnings.warn(f\"Device used : {self.device}\")\n"
     ]
    },
    {
     "name": "stdout",
     "output_type": "stream",
     "text": [
      "epoch 0  | loss: 1.16933 | val_0_mse: 0.31659 |  0:00:05s\n",
      "epoch 1  | loss: 0.25772 | val_0_mse: 0.19219 |  0:00:11s\n",
      "epoch 2  | loss: 0.1436  | val_0_mse: 0.12844 |  0:00:17s\n",
      "epoch 3  | loss: 0.09657 | val_0_mse: 0.13373 |  0:00:23s\n",
      "epoch 4  | loss: 0.08388 | val_0_mse: 0.07375 |  0:00:29s\n",
      "epoch 5  | loss: 0.07438 | val_0_mse: 0.07107 |  0:00:35s\n",
      "epoch 6  | loss: 0.06996 | val_0_mse: 0.05434 |  0:00:41s\n",
      "epoch 7  | loss: 0.07277 | val_0_mse: 0.06025 |  0:00:47s\n",
      "epoch 8  | loss: 0.06235 | val_0_mse: 0.06506 |  0:00:53s\n",
      "epoch 9  | loss: 0.06198 | val_0_mse: 0.05234 |  0:00:59s\n",
      "epoch 10 | loss: 0.06287 | val_0_mse: 0.052   |  0:01:05s\n",
      "epoch 11 | loss: 0.06449 | val_0_mse: 0.05283 |  0:01:11s\n",
      "epoch 12 | loss: 0.05729 | val_0_mse: 0.05826 |  0:01:17s\n",
      "epoch 13 | loss: 0.05973 | val_0_mse: 0.05507 |  0:01:23s\n",
      "epoch 14 | loss: 0.06202 | val_0_mse: 0.05936 |  0:01:29s\n",
      "epoch 15 | loss: 0.05918 | val_0_mse: 0.05386 |  0:01:35s\n",
      "epoch 16 | loss: 0.05646 | val_0_mse: 0.09481 |  0:01:41s\n",
      "epoch 17 | loss: 0.05662 | val_0_mse: 0.06217 |  0:01:47s\n",
      "epoch 18 | loss: 0.05827 | val_0_mse: 0.06688 |  0:01:52s\n",
      "epoch 19 | loss: 0.05502 | val_0_mse: 0.04698 |  0:01:58s\n",
      "epoch 20 | loss: 0.05265 | val_0_mse: 0.04388 |  0:02:04s\n",
      "epoch 21 | loss: 0.04891 | val_0_mse: 0.04564 |  0:02:10s\n",
      "epoch 22 | loss: 0.04915 | val_0_mse: 0.06633 |  0:02:16s\n",
      "epoch 23 | loss: 0.05262 | val_0_mse: 0.04606 |  0:02:22s\n",
      "epoch 24 | loss: 0.04761 | val_0_mse: 0.04298 |  0:02:28s\n",
      "epoch 25 | loss: 0.04086 | val_0_mse: 0.03944 |  0:02:34s\n",
      "epoch 26 | loss: 0.03767 | val_0_mse: 0.03757 |  0:02:40s\n",
      "epoch 27 | loss: 0.03878 | val_0_mse: 0.05221 |  0:02:46s\n",
      "epoch 28 | loss: 0.04078 | val_0_mse: 0.03394 |  0:02:52s\n",
      "epoch 29 | loss: 0.03245 | val_0_mse: 0.03662 |  0:02:58s\n",
      "epoch 30 | loss: 0.03107 | val_0_mse: 0.02707 |  0:03:04s\n",
      "epoch 31 | loss: 0.02801 | val_0_mse: 0.02907 |  0:03:09s\n",
      "epoch 32 | loss: 0.02558 | val_0_mse: 0.02328 |  0:03:15s\n",
      "epoch 33 | loss: 0.02165 | val_0_mse: 0.02401 |  0:03:21s\n",
      "epoch 34 | loss: 0.01939 | val_0_mse: 0.01438 |  0:03:27s\n",
      "epoch 35 | loss: 0.01907 | val_0_mse: 0.01323 |  0:03:33s\n",
      "epoch 36 | loss: 0.02052 | val_0_mse: 0.01819 |  0:03:39s\n",
      "epoch 37 | loss: 0.01638 | val_0_mse: 0.01164 |  0:03:45s\n",
      "epoch 38 | loss: 0.01526 | val_0_mse: 0.01274 |  0:03:51s\n",
      "epoch 39 | loss: 0.01305 | val_0_mse: 0.01246 |  0:03:57s\n",
      "epoch 40 | loss: 0.0128  | val_0_mse: 0.02552 |  0:04:03s\n",
      "epoch 41 | loss: 0.01372 | val_0_mse: 0.00888 |  0:04:09s\n",
      "epoch 42 | loss: 0.0137  | val_0_mse: 0.01008 |  0:04:15s\n",
      "epoch 43 | loss: 0.01516 | val_0_mse: 0.01514 |  0:04:21s\n",
      "epoch 44 | loss: 0.01646 | val_0_mse: 0.02634 |  0:04:27s\n",
      "epoch 45 | loss: 0.01402 | val_0_mse: 0.0151  |  0:04:33s\n",
      "epoch 46 | loss: 0.01151 | val_0_mse: 0.00673 |  0:04:39s\n",
      "epoch 47 | loss: 0.01014 | val_0_mse: 0.01325 |  0:04:45s\n",
      "epoch 48 | loss: 0.01135 | val_0_mse: 0.01614 |  0:04:51s\n",
      "epoch 49 | loss: 0.01263 | val_0_mse: 0.01024 |  0:04:57s\n",
      "epoch 50 | loss: 0.01033 | val_0_mse: 0.00667 |  0:05:03s\n",
      "epoch 51 | loss: 0.01276 | val_0_mse: 0.00738 |  0:05:09s\n",
      "epoch 52 | loss: 0.01008 | val_0_mse: 0.00619 |  0:05:15s\n",
      "epoch 53 | loss: 0.01079 | val_0_mse: 0.00601 |  0:05:20s\n",
      "epoch 54 | loss: 0.00983 | val_0_mse: 0.01406 |  0:05:26s\n",
      "epoch 55 | loss: 0.01296 | val_0_mse: 0.01176 |  0:05:32s\n",
      "epoch 56 | loss: 0.00925 | val_0_mse: 0.01105 |  0:05:38s\n",
      "epoch 57 | loss: 0.00918 | val_0_mse: 0.00754 |  0:05:44s\n",
      "epoch 58 | loss: 0.00869 | val_0_mse: 0.00662 |  0:05:50s\n",
      "epoch 59 | loss: 0.00891 | val_0_mse: 0.00549 |  0:05:56s\n",
      "epoch 60 | loss: 0.00904 | val_0_mse: 0.00506 |  0:06:02s\n",
      "epoch 61 | loss: 0.00865 | val_0_mse: 0.00648 |  0:06:08s\n",
      "epoch 62 | loss: 0.01176 | val_0_mse: 0.00594 |  0:06:14s\n",
      "epoch 63 | loss: 0.00817 | val_0_mse: 0.00891 |  0:06:20s\n",
      "epoch 64 | loss: 0.00827 | val_0_mse: 0.0169  |  0:06:26s\n",
      "epoch 65 | loss: 0.00691 | val_0_mse: 0.00652 |  0:06:32s\n",
      "epoch 66 | loss: 0.00721 | val_0_mse: 0.00667 |  0:06:38s\n",
      "epoch 67 | loss: 0.00859 | val_0_mse: 0.00878 |  0:06:44s\n",
      "epoch 68 | loss: 0.01052 | val_0_mse: 0.00811 |  0:06:50s\n",
      "epoch 69 | loss: 0.00926 | val_0_mse: 0.00878 |  0:06:56s\n",
      "epoch 70 | loss: 0.01023 | val_0_mse: 0.00881 |  0:07:01s\n",
      "\n",
      "Early stopping occurred at epoch 70 with best_epoch = 60 and best_val_0_mse = 0.00506\n"
     ]
    },
    {
     "name": "stderr",
     "output_type": "stream",
     "text": [
      "C:\\Users\\franc\\AppData\\Local\\Packages\\PythonSoftwareFoundation.Python.3.10_qbz5n2kfra8p0\\LocalCache\\local-packages\\Python310\\site-packages\\pytorch_tabnet\\callbacks.py:172: UserWarning: Best weights from best epoch are automatically used!\n",
      "  warnings.warn(wrn_msg)\n"
     ]
    },
    {
     "name": "stdout",
     "output_type": "stream",
     "text": [
      "Model MSE: 0.005186 - Best MSE: 0.004804\n",
      "Model R2 Score: 0.977009 - Best R2 Score: 0.978703\n",
      "\n",
      "Iterations 37/120 - Hyperparameters:  batch_sizes=64, nums_epochs=100, n_d=8, n_a=8, n_step=7, n_indipendent=3, n_shared=2, gamma=1.3, epsilon=1e-08\n"
     ]
    },
    {
     "name": "stderr",
     "output_type": "stream",
     "text": [
      "C:\\Users\\franc\\AppData\\Local\\Packages\\PythonSoftwareFoundation.Python.3.10_qbz5n2kfra8p0\\LocalCache\\local-packages\\Python310\\site-packages\\pytorch_tabnet\\abstract_model.py:75: UserWarning: Device used : cuda\n",
      "  warnings.warn(f\"Device used : {self.device}\")\n"
     ]
    },
    {
     "name": "stdout",
     "output_type": "stream",
     "text": [
      "epoch 0  | loss: 1.28022 | val_0_mse: 0.19407 |  0:00:10s\n",
      "epoch 1  | loss: 0.19071 | val_0_mse: 0.14122 |  0:00:21s\n",
      "epoch 2  | loss: 0.13627 | val_0_mse: 0.14486 |  0:00:34s\n",
      "epoch 3  | loss: 0.13796 | val_0_mse: 0.1946  |  0:00:46s\n",
      "epoch 4  | loss: 0.10969 | val_0_mse: 0.10859 |  0:00:58s\n",
      "epoch 5  | loss: 0.1094  | val_0_mse: 0.09352 |  0:01:10s\n",
      "epoch 6  | loss: 0.08472 | val_0_mse: 0.06929 |  0:01:23s\n",
      "epoch 7  | loss: 0.08375 | val_0_mse: 0.06957 |  0:01:35s\n",
      "epoch 8  | loss: 0.06695 | val_0_mse: 0.05525 |  0:01:47s\n",
      "epoch 9  | loss: 0.05715 | val_0_mse: 0.05638 |  0:01:59s\n",
      "epoch 10 | loss: 0.05897 | val_0_mse: 0.05545 |  0:02:12s\n",
      "epoch 11 | loss: 0.05333 | val_0_mse: 0.04884 |  0:02:24s\n",
      "epoch 12 | loss: 0.05173 | val_0_mse: 0.03937 |  0:02:36s\n",
      "epoch 13 | loss: 0.04869 | val_0_mse: 0.05079 |  0:02:48s\n",
      "epoch 14 | loss: 0.04605 | val_0_mse: 0.03649 |  0:03:01s\n",
      "epoch 15 | loss: 0.04675 | val_0_mse: 0.05497 |  0:03:13s\n",
      "epoch 16 | loss: 0.04981 | val_0_mse: 0.03867 |  0:03:25s\n",
      "epoch 17 | loss: 0.04126 | val_0_mse: 0.06209 |  0:03:37s\n",
      "epoch 18 | loss: 0.04903 | val_0_mse: 0.02856 |  0:03:50s\n",
      "epoch 19 | loss: 0.03534 | val_0_mse: 0.02818 |  0:04:02s\n",
      "epoch 20 | loss: 0.03197 | val_0_mse: 0.05787 |  0:04:14s\n",
      "epoch 21 | loss: 0.03432 | val_0_mse: 0.02651 |  0:04:26s\n",
      "epoch 22 | loss: 0.029   | val_0_mse: 0.01561 |  0:04:39s\n",
      "epoch 23 | loss: 0.02593 | val_0_mse: 0.01519 |  0:04:51s\n",
      "epoch 24 | loss: 0.02293 | val_0_mse: 0.01264 |  0:05:03s\n",
      "epoch 25 | loss: 0.0233  | val_0_mse: 0.03717 |  0:05:15s\n",
      "epoch 26 | loss: 0.02464 | val_0_mse: 0.0132  |  0:05:27s\n",
      "epoch 27 | loss: 0.02257 | val_0_mse: 0.0223  |  0:05:40s\n",
      "epoch 28 | loss: 0.01967 | val_0_mse: 0.01413 |  0:05:52s\n",
      "epoch 29 | loss: 0.0209  | val_0_mse: 0.01167 |  0:06:04s\n",
      "epoch 30 | loss: 0.02297 | val_0_mse: 0.02414 |  0:06:16s\n",
      "epoch 31 | loss: 0.02682 | val_0_mse: 0.02916 |  0:06:29s\n",
      "epoch 32 | loss: 0.02135 | val_0_mse: 0.01718 |  0:06:41s\n",
      "epoch 33 | loss: 0.02065 | val_0_mse: 0.03912 |  0:06:53s\n",
      "epoch 34 | loss: 0.01981 | val_0_mse: 0.01188 |  0:07:05s\n",
      "epoch 35 | loss: 0.02123 | val_0_mse: 0.0131  |  0:07:17s\n",
      "epoch 36 | loss: 0.0176  | val_0_mse: 0.011   |  0:07:30s\n",
      "epoch 37 | loss: 0.0167  | val_0_mse: 0.01205 |  0:07:42s\n",
      "epoch 38 | loss: 0.01692 | val_0_mse: 0.00935 |  0:07:54s\n",
      "epoch 39 | loss: 0.02277 | val_0_mse: 0.01223 |  0:08:06s\n",
      "epoch 40 | loss: 0.01853 | val_0_mse: 0.02193 |  0:08:19s\n",
      "epoch 41 | loss: 0.01777 | val_0_mse: 0.01061 |  0:08:31s\n",
      "epoch 42 | loss: 0.01616 | val_0_mse: 0.01697 |  0:08:43s\n",
      "epoch 43 | loss: 0.01704 | val_0_mse: 0.00867 |  0:08:56s\n",
      "epoch 44 | loss: 0.01537 | val_0_mse: 0.01366 |  0:09:08s\n",
      "epoch 45 | loss: 0.01881 | val_0_mse: 0.00774 |  0:09:20s\n",
      "epoch 46 | loss: 0.01987 | val_0_mse: 0.01526 |  0:09:32s\n",
      "epoch 47 | loss: 0.01494 | val_0_mse: 0.00597 |  0:09:45s\n",
      "epoch 48 | loss: 0.01745 | val_0_mse: 0.01115 |  0:09:57s\n",
      "epoch 49 | loss: 0.01877 | val_0_mse: 0.01601 |  0:10:09s\n",
      "epoch 50 | loss: 0.0168  | val_0_mse: 0.01449 |  0:10:21s\n",
      "epoch 51 | loss: 0.01566 | val_0_mse: 0.01589 |  0:10:34s\n",
      "epoch 52 | loss: 0.0143  | val_0_mse: 0.01479 |  0:10:46s\n",
      "epoch 53 | loss: 0.01303 | val_0_mse: 0.01182 |  0:10:58s\n",
      "epoch 54 | loss: 0.01701 | val_0_mse: 0.01125 |  0:11:10s\n",
      "epoch 55 | loss: 0.01847 | val_0_mse: 0.01304 |  0:11:22s\n",
      "epoch 56 | loss: 0.01426 | val_0_mse: 0.02344 |  0:11:35s\n",
      "epoch 57 | loss: 0.01297 | val_0_mse: 0.01555 |  0:11:47s\n",
      "\n",
      "Early stopping occurred at epoch 57 with best_epoch = 47 and best_val_0_mse = 0.00597\n"
     ]
    },
    {
     "name": "stderr",
     "output_type": "stream",
     "text": [
      "C:\\Users\\franc\\AppData\\Local\\Packages\\PythonSoftwareFoundation.Python.3.10_qbz5n2kfra8p0\\LocalCache\\local-packages\\Python310\\site-packages\\pytorch_tabnet\\callbacks.py:172: UserWarning: Best weights from best epoch are automatically used!\n",
      "  warnings.warn(wrn_msg)\n"
     ]
    },
    {
     "name": "stdout",
     "output_type": "stream",
     "text": [
      "Model MSE: 0.005912 - Best MSE: 0.004804\n",
      "Model R2 Score: 0.973788 - Best R2 Score: 0.978703\n",
      "\n",
      "Iterations 38/120 - Hyperparameters:  batch_sizes=128, nums_epochs=100, n_d=8, n_a=8, n_step=7, n_indipendent=3, n_shared=2, gamma=1.3, epsilon=1e-08\n"
     ]
    },
    {
     "name": "stderr",
     "output_type": "stream",
     "text": [
      "C:\\Users\\franc\\AppData\\Local\\Packages\\PythonSoftwareFoundation.Python.3.10_qbz5n2kfra8p0\\LocalCache\\local-packages\\Python310\\site-packages\\pytorch_tabnet\\abstract_model.py:75: UserWarning: Device used : cuda\n",
      "  warnings.warn(f\"Device used : {self.device}\")\n"
     ]
    },
    {
     "name": "stdout",
     "output_type": "stream",
     "text": [
      "epoch 0  | loss: 2.21763 | val_0_mse: 0.41716 |  0:00:05s\n",
      "epoch 1  | loss: 0.27686 | val_0_mse: 0.16411 |  0:00:11s\n",
      "epoch 2  | loss: 0.13878 | val_0_mse: 0.13369 |  0:00:18s\n",
      "epoch 3  | loss: 0.0881  | val_0_mse: 0.15108 |  0:00:24s\n",
      "epoch 4  | loss: 0.08139 | val_0_mse: 0.1056  |  0:00:29s\n",
      "epoch 5  | loss: 0.08787 | val_0_mse: 0.07903 |  0:00:35s\n",
      "epoch 6  | loss: 0.07534 | val_0_mse: 0.06665 |  0:00:42s\n",
      "epoch 7  | loss: 0.07343 | val_0_mse: 0.06802 |  0:00:48s\n",
      "epoch 8  | loss: 0.07382 | val_0_mse: 0.05928 |  0:00:53s\n",
      "epoch 9  | loss: 0.06385 | val_0_mse: 0.08249 |  0:01:00s\n",
      "epoch 10 | loss: 0.07047 | val_0_mse: 0.06306 |  0:01:06s\n",
      "epoch 11 | loss: 0.06976 | val_0_mse: 0.0528  |  0:01:12s\n",
      "epoch 12 | loss: 0.06609 | val_0_mse: 0.04924 |  0:01:18s\n",
      "epoch 13 | loss: 0.06679 | val_0_mse: 0.04578 |  0:01:24s\n",
      "epoch 14 | loss: 0.06029 | val_0_mse: 0.05831 |  0:01:30s\n",
      "epoch 15 | loss: 0.05642 | val_0_mse: 0.04108 |  0:01:36s\n",
      "epoch 16 | loss: 0.05428 | val_0_mse: 0.0618  |  0:01:42s\n",
      "epoch 17 | loss: 0.05202 | val_0_mse: 0.03832 |  0:01:48s\n",
      "epoch 18 | loss: 0.0477  | val_0_mse: 0.04582 |  0:01:53s\n",
      "epoch 19 | loss: 0.04678 | val_0_mse: 0.03738 |  0:01:59s\n",
      "epoch 20 | loss: 0.04319 | val_0_mse: 0.03799 |  0:02:05s\n",
      "epoch 21 | loss: 0.05604 | val_0_mse: 0.04318 |  0:02:11s\n",
      "epoch 22 | loss: 0.04138 | val_0_mse: 0.03603 |  0:02:17s\n",
      "epoch 23 | loss: 0.04076 | val_0_mse: 0.04267 |  0:02:23s\n",
      "epoch 24 | loss: 0.03839 | val_0_mse: 0.03977 |  0:02:29s\n",
      "epoch 25 | loss: 0.04197 | val_0_mse: 0.02724 |  0:02:35s\n",
      "epoch 26 | loss: 0.03396 | val_0_mse: 0.03645 |  0:02:41s\n",
      "epoch 27 | loss: 0.02937 | val_0_mse: 0.03834 |  0:02:47s\n",
      "epoch 28 | loss: 0.03425 | val_0_mse: 0.03151 |  0:02:53s\n",
      "epoch 29 | loss: 0.02963 | val_0_mse: 0.01919 |  0:02:59s\n",
      "epoch 30 | loss: 0.0278  | val_0_mse: 0.01602 |  0:03:05s\n",
      "epoch 31 | loss: 0.02565 | val_0_mse: 0.01396 |  0:03:11s\n",
      "epoch 32 | loss: 0.02372 | val_0_mse: 0.01815 |  0:03:17s\n",
      "epoch 33 | loss: 0.02013 | val_0_mse: 0.01588 |  0:03:23s\n",
      "epoch 34 | loss: 0.01867 | val_0_mse: 0.01435 |  0:03:29s\n",
      "epoch 35 | loss: 0.01689 | val_0_mse: 0.02613 |  0:03:35s\n",
      "epoch 36 | loss: 0.02058 | val_0_mse: 0.01715 |  0:03:41s\n",
      "epoch 37 | loss: 0.01517 | val_0_mse: 0.01001 |  0:03:47s\n",
      "epoch 38 | loss: 0.01971 | val_0_mse: 0.01883 |  0:03:53s\n",
      "epoch 39 | loss: 0.01776 | val_0_mse: 0.01157 |  0:03:59s\n",
      "epoch 40 | loss: 0.01375 | val_0_mse: 0.01214 |  0:04:05s\n",
      "epoch 41 | loss: 0.01636 | val_0_mse: 0.0136  |  0:04:11s\n",
      "epoch 42 | loss: 0.01275 | val_0_mse: 0.01399 |  0:04:17s\n",
      "epoch 43 | loss: 0.0149  | val_0_mse: 0.01644 |  0:04:23s\n",
      "epoch 44 | loss: 0.01489 | val_0_mse: 0.00842 |  0:04:29s\n",
      "epoch 45 | loss: 0.01318 | val_0_mse: 0.00769 |  0:04:35s\n",
      "epoch 46 | loss: 0.01489 | val_0_mse: 0.01382 |  0:04:41s\n",
      "epoch 47 | loss: 0.01246 | val_0_mse: 0.01365 |  0:04:47s\n",
      "epoch 48 | loss: 0.01266 | val_0_mse: 0.01086 |  0:04:53s\n",
      "epoch 49 | loss: 0.02579 | val_0_mse: 0.01018 |  0:04:59s\n",
      "epoch 50 | loss: 0.01867 | val_0_mse: 0.04057 |  0:05:05s\n",
      "epoch 51 | loss: 0.02222 | val_0_mse: 0.05974 |  0:05:11s\n",
      "epoch 52 | loss: 0.02327 | val_0_mse: 0.01452 |  0:05:17s\n",
      "epoch 53 | loss: 0.01753 | val_0_mse: 0.01002 |  0:05:23s\n",
      "epoch 54 | loss: 0.01505 | val_0_mse: 0.01074 |  0:05:29s\n",
      "epoch 55 | loss: 0.01489 | val_0_mse: 0.01502 |  0:05:35s\n",
      "\n",
      "Early stopping occurred at epoch 55 with best_epoch = 45 and best_val_0_mse = 0.00769\n"
     ]
    },
    {
     "name": "stderr",
     "output_type": "stream",
     "text": [
      "C:\\Users\\franc\\AppData\\Local\\Packages\\PythonSoftwareFoundation.Python.3.10_qbz5n2kfra8p0\\LocalCache\\local-packages\\Python310\\site-packages\\pytorch_tabnet\\callbacks.py:172: UserWarning: Best weights from best epoch are automatically used!\n",
      "  warnings.warn(wrn_msg)\n"
     ]
    },
    {
     "name": "stdout",
     "output_type": "stream",
     "text": [
      "Model MSE: 0.008513 - Best MSE: 0.004804\n",
      "Model R2 Score: 0.962256 - Best R2 Score: 0.978703\n",
      "\n",
      "Iterations 39/120 - Hyperparameters:  batch_sizes=64, nums_epochs=100, n_d=8, n_a=8, n_step=7, n_indipendent=3, n_shared=3, gamma=1.3, epsilon=1e-08\n"
     ]
    },
    {
     "name": "stderr",
     "output_type": "stream",
     "text": [
      "C:\\Users\\franc\\AppData\\Local\\Packages\\PythonSoftwareFoundation.Python.3.10_qbz5n2kfra8p0\\LocalCache\\local-packages\\Python310\\site-packages\\pytorch_tabnet\\abstract_model.py:75: UserWarning: Device used : cuda\n",
      "  warnings.warn(f\"Device used : {self.device}\")\n"
     ]
    },
    {
     "name": "stdout",
     "output_type": "stream",
     "text": [
      "epoch 0  | loss: 0.65766 | val_0_mse: 0.29284 |  0:00:12s\n",
      "epoch 1  | loss: 0.17547 | val_0_mse: 0.14746 |  0:00:25s\n",
      "epoch 2  | loss: 0.11016 | val_0_mse: 0.09227 |  0:00:38s\n",
      "epoch 3  | loss: 0.09879 | val_0_mse: 0.06571 |  0:00:52s\n",
      "epoch 4  | loss: 0.10073 | val_0_mse: 0.10917 |  0:01:05s\n",
      "epoch 5  | loss: 0.08599 | val_0_mse: 0.07566 |  0:01:18s\n",
      "epoch 6  | loss: 0.08419 | val_0_mse: 0.0768  |  0:01:32s\n",
      "epoch 7  | loss: 0.07802 | val_0_mse: 0.06413 |  0:01:45s\n",
      "epoch 8  | loss: 0.07973 | val_0_mse: 0.06119 |  0:01:58s\n",
      "epoch 9  | loss: 0.07053 | val_0_mse: 0.07741 |  0:02:11s\n",
      "epoch 10 | loss: 0.06796 | val_0_mse: 0.05577 |  0:02:25s\n",
      "epoch 11 | loss: 0.06917 | val_0_mse: 0.1196  |  0:02:38s\n",
      "epoch 12 | loss: 0.07547 | val_0_mse: 0.06125 |  0:02:51s\n",
      "epoch 13 | loss: 0.06641 | val_0_mse: 0.07861 |  0:03:04s\n",
      "epoch 14 | loss: 0.0669  | val_0_mse: 0.07278 |  0:03:18s\n",
      "epoch 15 | loss: 0.05724 | val_0_mse: 0.04453 |  0:03:31s\n",
      "epoch 16 | loss: 0.05369 | val_0_mse: 0.06739 |  0:03:44s\n",
      "epoch 17 | loss: 0.06621 | val_0_mse: 0.07827 |  0:03:57s\n",
      "epoch 18 | loss: 0.05188 | val_0_mse: 0.04788 |  0:04:11s\n",
      "epoch 19 | loss: 0.04459 | val_0_mse: 0.03191 |  0:04:24s\n",
      "epoch 20 | loss: 0.03462 | val_0_mse: 0.05309 |  0:04:37s\n",
      "epoch 21 | loss: 0.0308  | val_0_mse: 0.0577  |  0:04:51s\n",
      "epoch 22 | loss: 0.03818 | val_0_mse: 0.04506 |  0:05:04s\n",
      "epoch 23 | loss: 0.03443 | val_0_mse: 0.04439 |  0:05:17s\n",
      "epoch 24 | loss: 0.03054 | val_0_mse: 0.01559 |  0:05:29s\n",
      "epoch 25 | loss: 0.02414 | val_0_mse: 0.02619 |  0:05:41s\n",
      "epoch 26 | loss: 0.02374 | val_0_mse: 0.0172  |  0:05:54s\n",
      "epoch 27 | loss: 0.02127 | val_0_mse: 0.01121 |  0:06:06s\n",
      "epoch 28 | loss: 0.01963 | val_0_mse: 0.02073 |  0:06:19s\n",
      "epoch 29 | loss: 0.024   | val_0_mse: 0.02391 |  0:06:33s\n",
      "epoch 30 | loss: 0.02688 | val_0_mse: 0.01154 |  0:06:46s\n",
      "epoch 31 | loss: 0.02491 | val_0_mse: 0.05163 |  0:06:59s\n",
      "epoch 32 | loss: 0.02709 | val_0_mse: 0.02014 |  0:07:13s\n",
      "epoch 33 | loss: 0.02283 | val_0_mse: 0.0205  |  0:07:26s\n",
      "epoch 34 | loss: 0.02502 | val_0_mse: 0.14169 |  0:07:39s\n",
      "epoch 35 | loss: 0.02073 | val_0_mse: 0.03913 |  0:07:52s\n",
      "epoch 36 | loss: 0.02007 | val_0_mse: 0.02215 |  0:08:05s\n",
      "epoch 37 | loss: 0.01992 | val_0_mse: 0.03333 |  0:08:19s\n",
      "\n",
      "Early stopping occurred at epoch 37 with best_epoch = 27 and best_val_0_mse = 0.01121\n"
     ]
    },
    {
     "name": "stderr",
     "output_type": "stream",
     "text": [
      "C:\\Users\\franc\\AppData\\Local\\Packages\\PythonSoftwareFoundation.Python.3.10_qbz5n2kfra8p0\\LocalCache\\local-packages\\Python310\\site-packages\\pytorch_tabnet\\callbacks.py:172: UserWarning: Best weights from best epoch are automatically used!\n",
      "  warnings.warn(wrn_msg)\n"
     ]
    },
    {
     "name": "stdout",
     "output_type": "stream",
     "text": [
      "Model MSE: 0.011265 - Best MSE: 0.004804\n",
      "Model R2 Score: 0.950058 - Best R2 Score: 0.978703\n",
      "\n",
      "Iterations 40/120 - Hyperparameters:  batch_sizes=128, nums_epochs=100, n_d=8, n_a=8, n_step=7, n_indipendent=3, n_shared=3, gamma=1.3, epsilon=1e-08\n"
     ]
    },
    {
     "name": "stderr",
     "output_type": "stream",
     "text": [
      "C:\\Users\\franc\\AppData\\Local\\Packages\\PythonSoftwareFoundation.Python.3.10_qbz5n2kfra8p0\\LocalCache\\local-packages\\Python310\\site-packages\\pytorch_tabnet\\abstract_model.py:75: UserWarning: Device used : cuda\n",
      "  warnings.warn(f\"Device used : {self.device}\")\n"
     ]
    },
    {
     "name": "stdout",
     "output_type": "stream",
     "text": [
      "epoch 0  | loss: 0.94349 | val_0_mse: 0.40231 |  0:00:06s\n",
      "epoch 1  | loss: 0.30335 | val_0_mse: 0.22315 |  0:00:13s\n",
      "epoch 2  | loss: 0.16097 | val_0_mse: 0.14448 |  0:00:20s\n",
      "epoch 3  | loss: 0.1317  | val_0_mse: 0.1306  |  0:00:26s\n",
      "epoch 4  | loss: 0.10404 | val_0_mse: 0.08791 |  0:00:33s\n",
      "epoch 5  | loss: 0.08337 | val_0_mse: 0.07155 |  0:00:40s\n",
      "epoch 6  | loss: 0.06266 | val_0_mse: 0.04757 |  0:00:47s\n",
      "epoch 7  | loss: 0.04879 | val_0_mse: 0.03883 |  0:00:53s\n",
      "epoch 8  | loss: 0.05714 | val_0_mse: 0.06459 |  0:01:00s\n",
      "epoch 9  | loss: 0.06894 | val_0_mse: 0.06748 |  0:01:07s\n",
      "epoch 10 | loss: 0.04964 | val_0_mse: 0.03352 |  0:01:13s\n",
      "epoch 11 | loss: 0.0351  | val_0_mse: 0.03389 |  0:01:20s\n",
      "epoch 12 | loss: 0.03263 | val_0_mse: 0.0229  |  0:01:27s\n",
      "epoch 13 | loss: 0.03214 | val_0_mse: 0.04094 |  0:01:33s\n",
      "epoch 14 | loss: 0.03294 | val_0_mse: 0.02059 |  0:01:40s\n",
      "epoch 15 | loss: 0.0258  | val_0_mse: 0.04098 |  0:01:46s\n",
      "epoch 16 | loss: 0.02375 | val_0_mse: 0.01279 |  0:01:53s\n",
      "epoch 17 | loss: 0.02412 | val_0_mse: 0.01353 |  0:02:00s\n",
      "epoch 18 | loss: 0.02558 | val_0_mse: 0.03123 |  0:02:06s\n",
      "epoch 19 | loss: 0.01924 | val_0_mse: 0.01152 |  0:02:13s\n",
      "epoch 20 | loss: 0.02036 | val_0_mse: 0.01162 |  0:02:20s\n",
      "epoch 21 | loss: 0.01816 | val_0_mse: 0.05757 |  0:02:27s\n",
      "epoch 22 | loss: 0.02274 | val_0_mse: 0.01396 |  0:02:33s\n",
      "epoch 23 | loss: 0.0178  | val_0_mse: 0.01358 |  0:02:40s\n",
      "epoch 24 | loss: 0.01824 | val_0_mse: 0.01274 |  0:02:46s\n",
      "epoch 25 | loss: 0.01664 | val_0_mse: 0.01125 |  0:02:53s\n",
      "epoch 26 | loss: 0.01429 | val_0_mse: 0.04075 |  0:03:00s\n",
      "epoch 27 | loss: 0.02145 | val_0_mse: 0.05124 |  0:03:06s\n",
      "epoch 28 | loss: 0.02191 | val_0_mse: 0.01454 |  0:03:13s\n",
      "epoch 29 | loss: 0.01554 | val_0_mse: 0.01015 |  0:03:20s\n",
      "epoch 30 | loss: 0.01604 | val_0_mse: 0.00962 |  0:03:26s\n",
      "epoch 31 | loss: 0.01829 | val_0_mse: 0.04921 |  0:03:33s\n",
      "epoch 32 | loss: 0.02515 | val_0_mse: 0.02208 |  0:03:40s\n",
      "epoch 33 | loss: 0.01784 | val_0_mse: 0.00907 |  0:03:47s\n",
      "epoch 34 | loss: 0.01547 | val_0_mse: 0.00972 |  0:03:53s\n",
      "epoch 35 | loss: 0.0154  | val_0_mse: 0.01712 |  0:04:00s\n",
      "epoch 36 | loss: 0.01496 | val_0_mse: 0.00824 |  0:04:07s\n",
      "epoch 37 | loss: 0.0168  | val_0_mse: 0.02465 |  0:04:13s\n",
      "epoch 38 | loss: 0.02287 | val_0_mse: 0.01544 |  0:04:20s\n",
      "epoch 39 | loss: 0.01575 | val_0_mse: 0.01383 |  0:04:27s\n",
      "epoch 40 | loss: 0.01445 | val_0_mse: 0.01925 |  0:04:33s\n",
      "epoch 41 | loss: 0.01636 | val_0_mse: 0.01243 |  0:04:40s\n",
      "epoch 42 | loss: 0.01401 | val_0_mse: 0.01329 |  0:04:47s\n",
      "epoch 43 | loss: 0.01833 | val_0_mse: 0.00977 |  0:04:53s\n",
      "epoch 44 | loss: 0.01406 | val_0_mse: 0.00971 |  0:05:00s\n",
      "epoch 45 | loss: 0.01303 | val_0_mse: 0.01056 |  0:05:07s\n",
      "epoch 46 | loss: 0.01684 | val_0_mse: 0.00688 |  0:05:14s\n",
      "epoch 47 | loss: 0.0114  | val_0_mse: 0.01014 |  0:05:20s\n",
      "epoch 48 | loss: 0.01574 | val_0_mse: 0.01345 |  0:05:27s\n",
      "epoch 49 | loss: 0.01149 | val_0_mse: 0.07111 |  0:05:34s\n",
      "epoch 50 | loss: 0.01969 | val_0_mse: 0.0131  |  0:05:41s\n",
      "epoch 51 | loss: 0.01456 | val_0_mse: 0.00663 |  0:05:47s\n",
      "epoch 52 | loss: 0.01408 | val_0_mse: 0.0117  |  0:05:54s\n",
      "epoch 53 | loss: 0.01215 | val_0_mse: 0.01169 |  0:06:01s\n",
      "epoch 54 | loss: 0.01501 | val_0_mse: 0.01675 |  0:06:07s\n",
      "epoch 55 | loss: 0.0166  | val_0_mse: 0.01044 |  0:06:14s\n",
      "epoch 56 | loss: 0.01991 | val_0_mse: 0.00873 |  0:06:21s\n",
      "epoch 57 | loss: 0.01036 | val_0_mse: 0.02362 |  0:06:27s\n",
      "epoch 58 | loss: 0.01331 | val_0_mse: 0.00804 |  0:06:34s\n",
      "epoch 59 | loss: 0.01126 | val_0_mse: 0.00726 |  0:06:41s\n",
      "epoch 60 | loss: 0.01387 | val_0_mse: 0.06033 |  0:06:47s\n",
      "epoch 61 | loss: 0.01646 | val_0_mse: 0.01313 |  0:06:54s\n",
      "\n",
      "Early stopping occurred at epoch 61 with best_epoch = 51 and best_val_0_mse = 0.00663\n"
     ]
    },
    {
     "name": "stderr",
     "output_type": "stream",
     "text": [
      "C:\\Users\\franc\\AppData\\Local\\Packages\\PythonSoftwareFoundation.Python.3.10_qbz5n2kfra8p0\\LocalCache\\local-packages\\Python310\\site-packages\\pytorch_tabnet\\callbacks.py:172: UserWarning: Best weights from best epoch are automatically used!\n",
      "  warnings.warn(wrn_msg)\n"
     ]
    },
    {
     "name": "stdout",
     "output_type": "stream",
     "text": [
      "Model MSE: 0.007157 - Best MSE: 0.004804\n",
      "Model R2 Score: 0.968270 - Best R2 Score: 0.978703\n",
      "\n",
      "Iterations 41/120 - Hyperparameters:  batch_sizes=64, nums_epochs=100, n_d=16, n_a=16, n_step=3, n_indipendent=2, n_shared=2, gamma=1.3, epsilon=1e-08\n"
     ]
    },
    {
     "name": "stderr",
     "output_type": "stream",
     "text": [
      "C:\\Users\\franc\\AppData\\Local\\Packages\\PythonSoftwareFoundation.Python.3.10_qbz5n2kfra8p0\\LocalCache\\local-packages\\Python310\\site-packages\\pytorch_tabnet\\abstract_model.py:75: UserWarning: Device used : cuda\n",
      "  warnings.warn(f\"Device used : {self.device}\")\n"
     ]
    },
    {
     "name": "stdout",
     "output_type": "stream",
     "text": [
      "epoch 0  | loss: 0.79819 | val_0_mse: 0.15918 |  0:00:05s\n",
      "epoch 1  | loss: 0.09538 | val_0_mse: 0.08524 |  0:00:10s\n",
      "epoch 2  | loss: 0.07028 | val_0_mse: 0.07887 |  0:00:16s\n",
      "epoch 3  | loss: 0.04303 | val_0_mse: 0.025   |  0:00:21s\n",
      "epoch 4  | loss: 0.03817 | val_0_mse: 0.02744 |  0:00:27s\n",
      "epoch 5  | loss: 0.04161 | val_0_mse: 0.04126 |  0:00:32s\n",
      "epoch 6  | loss: 0.03083 | val_0_mse: 0.01689 |  0:00:38s\n",
      "epoch 7  | loss: 0.02962 | val_0_mse: 0.01338 |  0:00:43s\n",
      "epoch 8  | loss: 0.02195 | val_0_mse: 0.01056 |  0:00:49s\n",
      "epoch 9  | loss: 0.01986 | val_0_mse: 0.00727 |  0:00:54s\n",
      "epoch 10 | loss: 0.01587 | val_0_mse: 0.01474 |  0:01:00s\n",
      "epoch 11 | loss: 0.02001 | val_0_mse: 0.01207 |  0:01:05s\n",
      "epoch 12 | loss: 0.01919 | val_0_mse: 0.02669 |  0:01:11s\n",
      "epoch 13 | loss: 0.01554 | val_0_mse: 0.01041 |  0:01:17s\n",
      "epoch 14 | loss: 0.01968 | val_0_mse: 0.01178 |  0:01:22s\n",
      "epoch 15 | loss: 0.01435 | val_0_mse: 0.0093  |  0:01:28s\n",
      "epoch 16 | loss: 0.01681 | val_0_mse: 0.01152 |  0:01:34s\n",
      "epoch 17 | loss: 0.01773 | val_0_mse: 0.0086  |  0:01:39s\n",
      "epoch 18 | loss: 0.01801 | val_0_mse: 0.00958 |  0:01:45s\n",
      "epoch 19 | loss: 0.0156  | val_0_mse: 0.0152  |  0:01:50s\n",
      "\n",
      "Early stopping occurred at epoch 19 with best_epoch = 9 and best_val_0_mse = 0.00727\n"
     ]
    },
    {
     "name": "stderr",
     "output_type": "stream",
     "text": [
      "C:\\Users\\franc\\AppData\\Local\\Packages\\PythonSoftwareFoundation.Python.3.10_qbz5n2kfra8p0\\LocalCache\\local-packages\\Python310\\site-packages\\pytorch_tabnet\\callbacks.py:172: UserWarning: Best weights from best epoch are automatically used!\n",
      "  warnings.warn(wrn_msg)\n"
     ]
    },
    {
     "name": "stdout",
     "output_type": "stream",
     "text": [
      "Model MSE: 0.007683 - Best MSE: 0.004804\n",
      "Model R2 Score: 0.965936 - Best R2 Score: 0.978703\n",
      "\n",
      "Iterations 42/120 - Hyperparameters:  batch_sizes=128, nums_epochs=100, n_d=16, n_a=16, n_step=3, n_indipendent=2, n_shared=2, gamma=1.3, epsilon=1e-08\n"
     ]
    },
    {
     "name": "stderr",
     "output_type": "stream",
     "text": [
      "C:\\Users\\franc\\AppData\\Local\\Packages\\PythonSoftwareFoundation.Python.3.10_qbz5n2kfra8p0\\LocalCache\\local-packages\\Python310\\site-packages\\pytorch_tabnet\\abstract_model.py:75: UserWarning: Device used : cuda\n",
      "  warnings.warn(f\"Device used : {self.device}\")\n"
     ]
    },
    {
     "name": "stdout",
     "output_type": "stream",
     "text": [
      "epoch 0  | loss: 1.32041 | val_0_mse: 0.57188 |  0:00:02s\n",
      "epoch 1  | loss: 0.1103  | val_0_mse: 0.15283 |  0:00:05s\n",
      "epoch 2  | loss: 0.06787 | val_0_mse: 0.08809 |  0:00:08s\n",
      "epoch 3  | loss: 0.0538  | val_0_mse: 0.04864 |  0:00:10s\n",
      "epoch 4  | loss: 0.04833 | val_0_mse: 0.0435  |  0:00:13s\n",
      "epoch 5  | loss: 0.03761 | val_0_mse: 0.04028 |  0:00:16s\n",
      "epoch 6  | loss: 0.03248 | val_0_mse: 0.02455 |  0:00:18s\n",
      "epoch 7  | loss: 0.03153 | val_0_mse: 0.0226  |  0:00:21s\n",
      "epoch 8  | loss: 0.02122 | val_0_mse: 0.01535 |  0:00:23s\n",
      "epoch 9  | loss: 0.02427 | val_0_mse: 0.01827 |  0:00:26s\n",
      "epoch 10 | loss: 0.01847 | val_0_mse: 0.01974 |  0:00:29s\n",
      "epoch 11 | loss: 0.01857 | val_0_mse: 0.01059 |  0:00:31s\n",
      "epoch 12 | loss: 0.01492 | val_0_mse: 0.00901 |  0:00:34s\n",
      "epoch 13 | loss: 0.02041 | val_0_mse: 0.01849 |  0:00:37s\n",
      "epoch 14 | loss: 0.01884 | val_0_mse: 0.01572 |  0:00:40s\n",
      "epoch 15 | loss: 0.01222 | val_0_mse: 0.01508 |  0:00:43s\n",
      "epoch 16 | loss: 0.01822 | val_0_mse: 0.00992 |  0:00:45s\n",
      "epoch 17 | loss: 0.01353 | val_0_mse: 0.00898 |  0:00:48s\n",
      "epoch 18 | loss: 0.01403 | val_0_mse: 0.00792 |  0:00:51s\n",
      "epoch 19 | loss: 0.0119  | val_0_mse: 0.0127  |  0:00:54s\n",
      "epoch 20 | loss: 0.01016 | val_0_mse: 0.00693 |  0:00:57s\n",
      "epoch 21 | loss: 0.01131 | val_0_mse: 0.00645 |  0:00:59s\n",
      "epoch 22 | loss: 0.01564 | val_0_mse: 0.01779 |  0:01:02s\n",
      "epoch 23 | loss: 0.01125 | val_0_mse: 0.03781 |  0:01:05s\n",
      "epoch 24 | loss: 0.01245 | val_0_mse: 0.00748 |  0:01:08s\n",
      "epoch 25 | loss: 0.01185 | val_0_mse: 0.00727 |  0:01:11s\n",
      "epoch 26 | loss: 0.01215 | val_0_mse: 0.0108  |  0:01:13s\n",
      "epoch 27 | loss: 0.01081 | val_0_mse: 0.00793 |  0:01:16s\n",
      "epoch 28 | loss: 0.00944 | val_0_mse: 0.01146 |  0:01:19s\n",
      "epoch 29 | loss: 0.01458 | val_0_mse: 0.00611 |  0:01:22s\n",
      "epoch 30 | loss: 0.01294 | val_0_mse: 0.01134 |  0:01:25s\n",
      "epoch 31 | loss: 0.01461 | val_0_mse: 0.03252 |  0:01:27s\n",
      "epoch 32 | loss: 0.01436 | val_0_mse: 0.01037 |  0:01:30s\n",
      "epoch 33 | loss: 0.00983 | val_0_mse: 0.00744 |  0:01:33s\n",
      "epoch 34 | loss: 0.01121 | val_0_mse: 0.00674 |  0:01:36s\n",
      "epoch 35 | loss: 0.00878 | val_0_mse: 0.00965 |  0:01:39s\n",
      "epoch 36 | loss: 0.00954 | val_0_mse: 0.00655 |  0:01:41s\n",
      "epoch 37 | loss: 0.01071 | val_0_mse: 0.008   |  0:01:44s\n",
      "epoch 38 | loss: 0.01413 | val_0_mse: 0.01739 |  0:01:47s\n",
      "epoch 39 | loss: 0.01155 | val_0_mse: 0.00914 |  0:01:50s\n",
      "\n",
      "Early stopping occurred at epoch 39 with best_epoch = 29 and best_val_0_mse = 0.00611\n"
     ]
    },
    {
     "name": "stderr",
     "output_type": "stream",
     "text": [
      "C:\\Users\\franc\\AppData\\Local\\Packages\\PythonSoftwareFoundation.Python.3.10_qbz5n2kfra8p0\\LocalCache\\local-packages\\Python310\\site-packages\\pytorch_tabnet\\callbacks.py:172: UserWarning: Best weights from best epoch are automatically used!\n",
      "  warnings.warn(wrn_msg)\n"
     ]
    },
    {
     "name": "stdout",
     "output_type": "stream",
     "text": [
      "Model MSE: 0.006531 - Best MSE: 0.004804\n",
      "Model R2 Score: 0.971044 - Best R2 Score: 0.978703\n",
      "\n",
      "Iterations 43/120 - Hyperparameters:  batch_sizes=64, nums_epochs=100, n_d=16, n_a=16, n_step=3, n_indipendent=2, n_shared=3, gamma=1.3, epsilon=1e-08\n"
     ]
    },
    {
     "name": "stderr",
     "output_type": "stream",
     "text": [
      "C:\\Users\\franc\\AppData\\Local\\Packages\\PythonSoftwareFoundation.Python.3.10_qbz5n2kfra8p0\\LocalCache\\local-packages\\Python310\\site-packages\\pytorch_tabnet\\abstract_model.py:75: UserWarning: Device used : cuda\n",
      "  warnings.warn(f\"Device used : {self.device}\")\n"
     ]
    },
    {
     "name": "stdout",
     "output_type": "stream",
     "text": [
      "epoch 0  | loss: 0.7245  | val_0_mse: 0.14693 |  0:00:05s\n",
      "epoch 1  | loss: 0.10313 | val_0_mse: 0.08004 |  0:00:11s\n",
      "epoch 2  | loss: 0.07393 | val_0_mse: 0.04589 |  0:00:17s\n",
      "epoch 3  | loss: 0.04924 | val_0_mse: 0.0347  |  0:00:23s\n",
      "epoch 4  | loss: 0.03997 | val_0_mse: 0.0484  |  0:00:29s\n",
      "epoch 5  | loss: 0.03272 | val_0_mse: 0.02323 |  0:00:35s\n",
      "epoch 6  | loss: 0.02551 | val_0_mse: 0.01898 |  0:00:41s\n",
      "epoch 7  | loss: 0.02724 | val_0_mse: 0.01932 |  0:00:47s\n",
      "epoch 8  | loss: 0.02143 | val_0_mse: 0.02532 |  0:00:53s\n",
      "epoch 9  | loss: 0.02521 | val_0_mse: 0.0972  |  0:00:59s\n",
      "epoch 10 | loss: 0.02647 | val_0_mse: 0.0153  |  0:01:06s\n",
      "epoch 11 | loss: 0.02243 | val_0_mse: 0.01743 |  0:01:12s\n",
      "epoch 12 | loss: 0.01815 | val_0_mse: 0.01273 |  0:01:18s\n",
      "epoch 13 | loss: 0.01802 | val_0_mse: 0.01272 |  0:01:24s\n",
      "epoch 14 | loss: 0.01887 | val_0_mse: 0.00709 |  0:01:30s\n",
      "epoch 15 | loss: 0.01858 | val_0_mse: 0.01287 |  0:01:36s\n",
      "epoch 16 | loss: 0.01947 | val_0_mse: 0.0102  |  0:01:42s\n",
      "epoch 17 | loss: 0.02138 | val_0_mse: 0.01159 |  0:01:48s\n",
      "epoch 18 | loss: 0.02064 | val_0_mse: 0.00756 |  0:01:54s\n",
      "epoch 19 | loss: 0.01563 | val_0_mse: 0.01086 |  0:02:01s\n",
      "epoch 20 | loss: 0.019   | val_0_mse: 0.01767 |  0:02:07s\n",
      "epoch 21 | loss: 0.0185  | val_0_mse: 0.0117  |  0:02:13s\n",
      "epoch 22 | loss: 0.02095 | val_0_mse: 0.02436 |  0:02:19s\n",
      "epoch 23 | loss: 0.01575 | val_0_mse: 0.01026 |  0:02:25s\n",
      "epoch 24 | loss: 0.01541 | val_0_mse: 0.04834 |  0:02:31s\n",
      "\n",
      "Early stopping occurred at epoch 24 with best_epoch = 14 and best_val_0_mse = 0.00709\n"
     ]
    },
    {
     "name": "stderr",
     "output_type": "stream",
     "text": [
      "C:\\Users\\franc\\AppData\\Local\\Packages\\PythonSoftwareFoundation.Python.3.10_qbz5n2kfra8p0\\LocalCache\\local-packages\\Python310\\site-packages\\pytorch_tabnet\\callbacks.py:172: UserWarning: Best weights from best epoch are automatically used!\n",
      "  warnings.warn(wrn_msg)\n"
     ]
    },
    {
     "name": "stdout",
     "output_type": "stream",
     "text": [
      "Model MSE: 0.007367 - Best MSE: 0.004804\n",
      "Model R2 Score: 0.967340 - Best R2 Score: 0.978703\n",
      "\n",
      "Iterations 44/120 - Hyperparameters:  batch_sizes=128, nums_epochs=100, n_d=16, n_a=16, n_step=3, n_indipendent=2, n_shared=3, gamma=1.3, epsilon=1e-08\n"
     ]
    },
    {
     "name": "stderr",
     "output_type": "stream",
     "text": [
      "C:\\Users\\franc\\AppData\\Local\\Packages\\PythonSoftwareFoundation.Python.3.10_qbz5n2kfra8p0\\LocalCache\\local-packages\\Python310\\site-packages\\pytorch_tabnet\\abstract_model.py:75: UserWarning: Device used : cuda\n",
      "  warnings.warn(f\"Device used : {self.device}\")\n"
     ]
    },
    {
     "name": "stdout",
     "output_type": "stream",
     "text": [
      "epoch 0  | loss: 1.22678 | val_0_mse: 0.57153 |  0:00:03s\n",
      "epoch 1  | loss: 0.10771 | val_0_mse: 0.10794 |  0:00:06s\n",
      "epoch 2  | loss: 0.08039 | val_0_mse: 0.07193 |  0:00:09s\n",
      "epoch 3  | loss: 0.06209 | val_0_mse: 0.05179 |  0:00:12s\n",
      "epoch 4  | loss: 0.0524  | val_0_mse: 0.04906 |  0:00:15s\n",
      "epoch 5  | loss: 0.04787 | val_0_mse: 0.03816 |  0:00:18s\n",
      "epoch 6  | loss: 0.03621 | val_0_mse: 0.03731 |  0:00:22s\n",
      "epoch 7  | loss: 0.0399  | val_0_mse: 0.03256 |  0:00:25s\n",
      "epoch 8  | loss: 0.03504 | val_0_mse: 0.06261 |  0:00:28s\n",
      "epoch 9  | loss: 0.03645 | val_0_mse: 0.03495 |  0:00:31s\n",
      "epoch 10 | loss: 0.03034 | val_0_mse: 0.02855 |  0:00:34s\n",
      "epoch 11 | loss: 0.02539 | val_0_mse: 0.02747 |  0:00:37s\n",
      "epoch 12 | loss: 0.02541 | val_0_mse: 0.031   |  0:00:40s\n",
      "epoch 13 | loss: 0.02932 | val_0_mse: 0.0191  |  0:00:43s\n",
      "epoch 14 | loss: 0.01926 | val_0_mse: 0.05721 |  0:00:47s\n",
      "epoch 15 | loss: 0.02204 | val_0_mse: 0.01716 |  0:00:50s\n",
      "epoch 16 | loss: 0.01949 | val_0_mse: 0.01481 |  0:00:53s\n",
      "epoch 17 | loss: 0.01713 | val_0_mse: 0.01413 |  0:00:56s\n",
      "epoch 18 | loss: 0.01579 | val_0_mse: 0.02809 |  0:00:59s\n",
      "epoch 19 | loss: 0.01606 | val_0_mse: 0.01292 |  0:01:02s\n",
      "epoch 20 | loss: 0.0158  | val_0_mse: 0.0153  |  0:01:05s\n",
      "epoch 21 | loss: 0.01405 | val_0_mse: 0.0089  |  0:01:09s\n",
      "epoch 22 | loss: 0.01372 | val_0_mse: 0.00812 |  0:01:12s\n",
      "epoch 23 | loss: 0.01164 | val_0_mse: 0.02798 |  0:01:15s\n",
      "epoch 24 | loss: 0.01474 | val_0_mse: 0.01516 |  0:01:18s\n",
      "epoch 25 | loss: 0.01859 | val_0_mse: 0.01348 |  0:01:21s\n",
      "epoch 26 | loss: 0.01421 | val_0_mse: 0.00676 |  0:01:24s\n",
      "epoch 27 | loss: 0.0141  | val_0_mse: 0.01383 |  0:01:27s\n",
      "epoch 28 | loss: 0.01162 | val_0_mse: 0.01027 |  0:01:31s\n",
      "epoch 29 | loss: 0.013   | val_0_mse: 0.01458 |  0:01:34s\n",
      "epoch 30 | loss: 0.01225 | val_0_mse: 0.01038 |  0:01:37s\n",
      "epoch 31 | loss: 0.01164 | val_0_mse: 0.00944 |  0:01:40s\n",
      "epoch 32 | loss: 0.01064 | val_0_mse: 0.00655 |  0:01:43s\n",
      "epoch 33 | loss: 0.01083 | val_0_mse: 0.00991 |  0:01:46s\n",
      "epoch 34 | loss: 0.0098  | val_0_mse: 0.01214 |  0:01:49s\n",
      "epoch 35 | loss: 0.01135 | val_0_mse: 0.00667 |  0:01:52s\n",
      "epoch 36 | loss: 0.01021 | val_0_mse: 0.0121  |  0:01:56s\n",
      "epoch 37 | loss: 0.01099 | val_0_mse: 0.00643 |  0:01:59s\n",
      "epoch 38 | loss: 0.0107  | val_0_mse: 0.00687 |  0:02:02s\n",
      "epoch 39 | loss: 0.00942 | val_0_mse: 0.0116  |  0:02:05s\n",
      "epoch 40 | loss: 0.01172 | val_0_mse: 0.00638 |  0:02:08s\n",
      "epoch 41 | loss: 0.00936 | val_0_mse: 0.01002 |  0:02:11s\n",
      "epoch 42 | loss: 0.01072 | val_0_mse: 0.0106  |  0:02:14s\n",
      "epoch 43 | loss: 0.01081 | val_0_mse: 0.0066  |  0:02:17s\n",
      "epoch 44 | loss: 0.01077 | val_0_mse: 0.00696 |  0:02:20s\n",
      "epoch 45 | loss: 0.01095 | val_0_mse: 0.00608 |  0:02:23s\n",
      "epoch 46 | loss: 0.01174 | val_0_mse: 0.0085  |  0:02:27s\n",
      "epoch 47 | loss: 0.0115  | val_0_mse: 0.00604 |  0:02:30s\n",
      "epoch 48 | loss: 0.00885 | val_0_mse: 0.00627 |  0:02:33s\n",
      "epoch 49 | loss: 0.01146 | val_0_mse: 0.01112 |  0:02:36s\n",
      "epoch 50 | loss: 0.00827 | val_0_mse: 0.00637 |  0:02:39s\n",
      "epoch 51 | loss: 0.00898 | val_0_mse: 0.00783 |  0:02:42s\n",
      "epoch 52 | loss: 0.01025 | val_0_mse: 0.0118  |  0:02:45s\n",
      "epoch 53 | loss: 0.00878 | val_0_mse: 0.02274 |  0:02:48s\n",
      "epoch 54 | loss: 0.01051 | val_0_mse: 0.03986 |  0:02:51s\n",
      "epoch 55 | loss: 0.01016 | val_0_mse: 0.01663 |  0:02:55s\n",
      "epoch 56 | loss: 0.01223 | val_0_mse: 0.0064  |  0:02:58s\n",
      "epoch 57 | loss: 0.00951 | val_0_mse: 0.00877 |  0:03:01s\n",
      "\n",
      "Early stopping occurred at epoch 57 with best_epoch = 47 and best_val_0_mse = 0.00604\n"
     ]
    },
    {
     "name": "stderr",
     "output_type": "stream",
     "text": [
      "C:\\Users\\franc\\AppData\\Local\\Packages\\PythonSoftwareFoundation.Python.3.10_qbz5n2kfra8p0\\LocalCache\\local-packages\\Python310\\site-packages\\pytorch_tabnet\\callbacks.py:172: UserWarning: Best weights from best epoch are automatically used!\n",
      "  warnings.warn(wrn_msg)\n"
     ]
    },
    {
     "name": "stdout",
     "output_type": "stream",
     "text": [
      "Model MSE: 0.006498 - Best MSE: 0.004804\n",
      "Model R2 Score: 0.971193 - Best R2 Score: 0.978703\n",
      "\n",
      "Iterations 45/120 - Hyperparameters:  batch_sizes=64, nums_epochs=100, n_d=16, n_a=16, n_step=3, n_indipendent=3, n_shared=2, gamma=1.3, epsilon=1e-08\n"
     ]
    },
    {
     "name": "stderr",
     "output_type": "stream",
     "text": [
      "C:\\Users\\franc\\AppData\\Local\\Packages\\PythonSoftwareFoundation.Python.3.10_qbz5n2kfra8p0\\LocalCache\\local-packages\\Python310\\site-packages\\pytorch_tabnet\\abstract_model.py:75: UserWarning: Device used : cuda\n",
      "  warnings.warn(f\"Device used : {self.device}\")\n"
     ]
    },
    {
     "name": "stdout",
     "output_type": "stream",
     "text": [
      "epoch 0  | loss: 1.1264  | val_0_mse: 0.18495 |  0:00:05s\n",
      "epoch 1  | loss: 0.10754 | val_0_mse: 0.12126 |  0:00:12s\n",
      "epoch 2  | loss: 0.07435 | val_0_mse: 0.05033 |  0:00:18s\n",
      "epoch 3  | loss: 0.04915 | val_0_mse: 0.10784 |  0:00:24s\n",
      "epoch 4  | loss: 0.03808 | val_0_mse: 0.04029 |  0:00:31s\n",
      "epoch 5  | loss: 0.03417 | val_0_mse: 0.02103 |  0:00:37s\n",
      "epoch 6  | loss: 0.02818 | val_0_mse: 0.02453 |  0:00:43s\n",
      "epoch 7  | loss: 0.0229  | val_0_mse: 0.02066 |  0:00:50s\n",
      "epoch 8  | loss: 0.02029 | val_0_mse: 0.01418 |  0:00:56s\n",
      "epoch 9  | loss: 0.02602 | val_0_mse: 0.00912 |  0:01:02s\n",
      "epoch 10 | loss: 0.01966 | val_0_mse: 0.01465 |  0:01:09s\n",
      "epoch 11 | loss: 0.0204  | val_0_mse: 0.0142  |  0:01:15s\n",
      "epoch 12 | loss: 0.01891 | val_0_mse: 0.01805 |  0:01:21s\n",
      "epoch 13 | loss: 0.01843 | val_0_mse: 0.0134  |  0:01:28s\n",
      "epoch 14 | loss: 0.01735 | val_0_mse: 0.00812 |  0:01:34s\n",
      "epoch 15 | loss: 0.01731 | val_0_mse: 0.0109  |  0:01:40s\n",
      "epoch 16 | loss: 0.01914 | val_0_mse: 0.01335 |  0:01:47s\n",
      "epoch 17 | loss: 0.01473 | val_0_mse: 0.00559 |  0:01:53s\n",
      "epoch 18 | loss: 0.01831 | val_0_mse: 0.01074 |  0:01:59s\n",
      "epoch 19 | loss: 0.01643 | val_0_mse: 0.01062 |  0:02:06s\n",
      "epoch 20 | loss: 0.01803 | val_0_mse: 0.02225 |  0:02:12s\n",
      "epoch 21 | loss: 0.0153  | val_0_mse: 0.0201  |  0:02:19s\n",
      "epoch 22 | loss: 0.01426 | val_0_mse: 0.02941 |  0:02:25s\n",
      "epoch 23 | loss: 0.01882 | val_0_mse: 0.02152 |  0:02:31s\n",
      "epoch 24 | loss: 0.01313 | val_0_mse: 0.0136  |  0:02:38s\n",
      "epoch 25 | loss: 0.01459 | val_0_mse: 0.00944 |  0:02:44s\n",
      "epoch 26 | loss: 0.01521 | val_0_mse: 0.00767 |  0:02:50s\n",
      "epoch 27 | loss: 0.01435 | val_0_mse: 0.00961 |  0:02:57s\n",
      "\n",
      "Early stopping occurred at epoch 27 with best_epoch = 17 and best_val_0_mse = 0.00559\n"
     ]
    },
    {
     "name": "stderr",
     "output_type": "stream",
     "text": [
      "C:\\Users\\franc\\AppData\\Local\\Packages\\PythonSoftwareFoundation.Python.3.10_qbz5n2kfra8p0\\LocalCache\\local-packages\\Python310\\site-packages\\pytorch_tabnet\\callbacks.py:172: UserWarning: Best weights from best epoch are automatically used!\n",
      "  warnings.warn(wrn_msg)\n"
     ]
    },
    {
     "name": "stdout",
     "output_type": "stream",
     "text": [
      "Model MSE: 0.005764 - Best MSE: 0.004804\n",
      "Model R2 Score: 0.974444 - Best R2 Score: 0.978703\n",
      "\n",
      "Iterations 46/120 - Hyperparameters:  batch_sizes=128, nums_epochs=100, n_d=16, n_a=16, n_step=3, n_indipendent=3, n_shared=2, gamma=1.3, epsilon=1e-08\n"
     ]
    },
    {
     "name": "stderr",
     "output_type": "stream",
     "text": [
      "C:\\Users\\franc\\AppData\\Local\\Packages\\PythonSoftwareFoundation.Python.3.10_qbz5n2kfra8p0\\LocalCache\\local-packages\\Python310\\site-packages\\pytorch_tabnet\\abstract_model.py:75: UserWarning: Device used : cuda\n",
      "  warnings.warn(f\"Device used : {self.device}\")\n"
     ]
    },
    {
     "name": "stdout",
     "output_type": "stream",
     "text": [
      "epoch 0  | loss: 1.93144 | val_0_mse: 1.01624 |  0:00:03s\n",
      "epoch 1  | loss: 0.12911 | val_0_mse: 0.11387 |  0:00:06s\n",
      "epoch 2  | loss: 0.07579 | val_0_mse: 0.13832 |  0:00:09s\n",
      "epoch 3  | loss: 0.0573  | val_0_mse: 0.07032 |  0:00:12s\n",
      "epoch 4  | loss: 0.03835 | val_0_mse: 0.0381  |  0:00:15s\n",
      "epoch 5  | loss: 0.03181 | val_0_mse: 0.02437 |  0:00:18s\n",
      "epoch 6  | loss: 0.02514 | val_0_mse: 0.01914 |  0:00:22s\n",
      "epoch 7  | loss: 0.02325 | val_0_mse: 0.02455 |  0:00:25s\n",
      "epoch 8  | loss: 0.01761 | val_0_mse: 0.02447 |  0:00:28s\n",
      "epoch 9  | loss: 0.02237 | val_0_mse: 0.03144 |  0:00:31s\n",
      "epoch 10 | loss: 0.01844 | val_0_mse: 0.01313 |  0:00:34s\n",
      "epoch 11 | loss: 0.01869 | val_0_mse: 0.02528 |  0:00:37s\n",
      "epoch 12 | loss: 0.01444 | val_0_mse: 0.01013 |  0:00:40s\n",
      "epoch 13 | loss: 0.02013 | val_0_mse: 0.01487 |  0:00:43s\n",
      "epoch 14 | loss: 0.01892 | val_0_mse: 0.02135 |  0:00:46s\n",
      "epoch 15 | loss: 0.01534 | val_0_mse: 0.00995 |  0:00:50s\n",
      "epoch 16 | loss: 0.01438 | val_0_mse: 0.00744 |  0:00:53s\n",
      "epoch 17 | loss: 0.0115  | val_0_mse: 0.01063 |  0:00:56s\n",
      "epoch 18 | loss: 0.01536 | val_0_mse: 0.0116  |  0:00:59s\n",
      "epoch 19 | loss: 0.01336 | val_0_mse: 0.00923 |  0:01:02s\n",
      "epoch 20 | loss: 0.01472 | val_0_mse: 0.02006 |  0:01:05s\n",
      "epoch 21 | loss: 0.01977 | val_0_mse: 0.01578 |  0:01:08s\n",
      "epoch 22 | loss: 0.01259 | val_0_mse: 0.01029 |  0:01:12s\n",
      "epoch 23 | loss: 0.01367 | val_0_mse: 0.00808 |  0:01:15s\n",
      "epoch 24 | loss: 0.01671 | val_0_mse: 0.01189 |  0:01:18s\n",
      "epoch 25 | loss: 0.01472 | val_0_mse: 0.02374 |  0:01:21s\n",
      "epoch 26 | loss: 0.01405 | val_0_mse: 0.01389 |  0:01:24s\n",
      "\n",
      "Early stopping occurred at epoch 26 with best_epoch = 16 and best_val_0_mse = 0.00744\n"
     ]
    },
    {
     "name": "stderr",
     "output_type": "stream",
     "text": [
      "C:\\Users\\franc\\AppData\\Local\\Packages\\PythonSoftwareFoundation.Python.3.10_qbz5n2kfra8p0\\LocalCache\\local-packages\\Python310\\site-packages\\pytorch_tabnet\\callbacks.py:172: UserWarning: Best weights from best epoch are automatically used!\n",
      "  warnings.warn(wrn_msg)\n"
     ]
    },
    {
     "name": "stdout",
     "output_type": "stream",
     "text": [
      "Model MSE: 0.009153 - Best MSE: 0.004804\n",
      "Model R2 Score: 0.959419 - Best R2 Score: 0.978703\n",
      "\n",
      "Iterations 47/120 - Hyperparameters:  batch_sizes=64, nums_epochs=100, n_d=16, n_a=16, n_step=3, n_indipendent=3, n_shared=3, gamma=1.3, epsilon=1e-08\n"
     ]
    },
    {
     "name": "stderr",
     "output_type": "stream",
     "text": [
      "C:\\Users\\franc\\AppData\\Local\\Packages\\PythonSoftwareFoundation.Python.3.10_qbz5n2kfra8p0\\LocalCache\\local-packages\\Python310\\site-packages\\pytorch_tabnet\\abstract_model.py:75: UserWarning: Device used : cuda\n",
      "  warnings.warn(f\"Device used : {self.device}\")\n"
     ]
    },
    {
     "name": "stdout",
     "output_type": "stream",
     "text": [
      "epoch 0  | loss: 0.71904 | val_0_mse: 0.12362 |  0:00:06s\n",
      "epoch 1  | loss: 0.08534 | val_0_mse: 0.0602  |  0:00:12s\n",
      "epoch 2  | loss: 0.04801 | val_0_mse: 0.04704 |  0:00:19s\n",
      "epoch 3  | loss: 0.03795 | val_0_mse: 0.02471 |  0:00:26s\n",
      "epoch 4  | loss: 0.03222 | val_0_mse: 0.01897 |  0:00:33s\n",
      "epoch 5  | loss: 0.03194 | val_0_mse: 0.03965 |  0:00:40s\n",
      "epoch 6  | loss: 0.02969 | val_0_mse: 0.02205 |  0:00:47s\n",
      "epoch 7  | loss: 0.02415 | val_0_mse: 0.0174  |  0:00:54s\n",
      "epoch 8  | loss: 0.02703 | val_0_mse: 0.0132  |  0:01:01s\n",
      "epoch 9  | loss: 0.02518 | val_0_mse: 0.01279 |  0:01:07s\n",
      "epoch 10 | loss: 0.02195 | val_0_mse: 0.01015 |  0:01:14s\n",
      "epoch 11 | loss: 0.02478 | val_0_mse: 0.03135 |  0:01:21s\n",
      "epoch 12 | loss: 0.0248  | val_0_mse: 0.01119 |  0:01:28s\n",
      "epoch 13 | loss: 0.02046 | val_0_mse: 0.03316 |  0:01:35s\n",
      "epoch 14 | loss: 0.02225 | val_0_mse: 0.07741 |  0:01:41s\n",
      "epoch 15 | loss: 0.02066 | val_0_mse: 0.01867 |  0:01:48s\n",
      "epoch 16 | loss: 0.01849 | val_0_mse: 0.01922 |  0:01:55s\n",
      "epoch 17 | loss: 0.02009 | val_0_mse: 0.0424  |  0:02:02s\n",
      "epoch 18 | loss: 0.02213 | val_0_mse: 0.26287 |  0:02:09s\n",
      "epoch 19 | loss: 0.02073 | val_0_mse: 0.13033 |  0:02:15s\n",
      "epoch 20 | loss: 0.01776 | val_0_mse: 0.03548 |  0:02:22s\n",
      "\n",
      "Early stopping occurred at epoch 20 with best_epoch = 10 and best_val_0_mse = 0.01015\n"
     ]
    },
    {
     "name": "stderr",
     "output_type": "stream",
     "text": [
      "C:\\Users\\franc\\AppData\\Local\\Packages\\PythonSoftwareFoundation.Python.3.10_qbz5n2kfra8p0\\LocalCache\\local-packages\\Python310\\site-packages\\pytorch_tabnet\\callbacks.py:172: UserWarning: Best weights from best epoch are automatically used!\n",
      "  warnings.warn(wrn_msg)\n"
     ]
    },
    {
     "name": "stdout",
     "output_type": "stream",
     "text": [
      "Model MSE: 0.011088 - Best MSE: 0.004804\n",
      "Model R2 Score: 0.950840 - Best R2 Score: 0.978703\n",
      "\n",
      "Iterations 48/120 - Hyperparameters:  batch_sizes=128, nums_epochs=100, n_d=16, n_a=16, n_step=3, n_indipendent=3, n_shared=3, gamma=1.3, epsilon=1e-08\n"
     ]
    },
    {
     "name": "stderr",
     "output_type": "stream",
     "text": [
      "C:\\Users\\franc\\AppData\\Local\\Packages\\PythonSoftwareFoundation.Python.3.10_qbz5n2kfra8p0\\LocalCache\\local-packages\\Python310\\site-packages\\pytorch_tabnet\\abstract_model.py:75: UserWarning: Device used : cuda\n",
      "  warnings.warn(f\"Device used : {self.device}\")\n"
     ]
    },
    {
     "name": "stdout",
     "output_type": "stream",
     "text": [
      "epoch 0  | loss: 1.27151 | val_0_mse: 0.89413 |  0:00:03s\n",
      "epoch 1  | loss: 0.11115 | val_0_mse: 0.09613 |  0:00:06s\n",
      "epoch 2  | loss: 0.07644 | val_0_mse: 0.10676 |  0:00:10s\n",
      "epoch 3  | loss: 0.05489 | val_0_mse: 0.05593 |  0:00:13s\n",
      "epoch 4  | loss: 0.05144 | val_0_mse: 0.03794 |  0:00:16s\n",
      "epoch 5  | loss: 0.04741 | val_0_mse: 0.03313 |  0:00:19s\n",
      "epoch 6  | loss: 0.04127 | val_0_mse: 0.02847 |  0:00:23s\n",
      "epoch 7  | loss: 0.03384 | val_0_mse: 0.02596 |  0:00:26s\n",
      "epoch 8  | loss: 0.0323  | val_0_mse: 0.02495 |  0:00:29s\n",
      "epoch 9  | loss: 0.02712 | val_0_mse: 0.02736 |  0:00:33s\n",
      "epoch 10 | loss: 0.02353 | val_0_mse: 0.01559 |  0:00:36s\n",
      "epoch 11 | loss: 0.0207  | val_0_mse: 0.01373 |  0:00:40s\n",
      "epoch 12 | loss: 0.0214  | val_0_mse: 0.01204 |  0:00:43s\n",
      "epoch 13 | loss: 0.01781 | val_0_mse: 0.0167  |  0:00:47s\n",
      "epoch 14 | loss: 0.01907 | val_0_mse: 0.03483 |  0:00:50s\n",
      "epoch 15 | loss: 0.02082 | val_0_mse: 0.01749 |  0:00:54s\n",
      "epoch 16 | loss: 0.01652 | val_0_mse: 0.01836 |  0:00:57s\n",
      "epoch 17 | loss: 0.0146  | val_0_mse: 0.01347 |  0:01:01s\n",
      "epoch 18 | loss: 0.01777 | val_0_mse: 0.01169 |  0:01:04s\n",
      "epoch 19 | loss: 0.01755 | val_0_mse: 0.02236 |  0:01:08s\n",
      "epoch 20 | loss: 0.01898 | val_0_mse: 0.01365 |  0:01:11s\n",
      "epoch 21 | loss: 0.01394 | val_0_mse: 0.01065 |  0:01:15s\n",
      "epoch 22 | loss: 0.01488 | val_0_mse: 0.01385 |  0:01:18s\n",
      "epoch 23 | loss: 0.01501 | val_0_mse: 0.01914 |  0:01:22s\n",
      "epoch 24 | loss: 0.01536 | val_0_mse: 0.0109  |  0:01:25s\n",
      "epoch 25 | loss: 0.01462 | val_0_mse: 0.01014 |  0:01:28s\n",
      "epoch 26 | loss: 0.01262 | val_0_mse: 0.00905 |  0:01:32s\n",
      "epoch 27 | loss: 0.01197 | val_0_mse: 0.01114 |  0:01:36s\n",
      "epoch 28 | loss: 0.01105 | val_0_mse: 0.00638 |  0:01:39s\n",
      "epoch 29 | loss: 0.01352 | val_0_mse: 0.025   |  0:01:42s\n",
      "epoch 30 | loss: 0.01749 | val_0_mse: 0.01293 |  0:01:46s\n",
      "epoch 31 | loss: 0.01153 | val_0_mse: 0.00887 |  0:01:49s\n",
      "epoch 32 | loss: 0.01292 | val_0_mse: 0.0162  |  0:01:53s\n",
      "epoch 33 | loss: 0.013   | val_0_mse: 0.04925 |  0:01:56s\n",
      "epoch 34 | loss: 0.0149  | val_0_mse: 0.01195 |  0:02:00s\n",
      "epoch 35 | loss: 0.01268 | val_0_mse: 0.00851 |  0:02:03s\n",
      "epoch 36 | loss: 0.01189 | val_0_mse: 0.01931 |  0:02:07s\n",
      "epoch 37 | loss: 0.01041 | val_0_mse: 0.00858 |  0:02:10s\n",
      "epoch 38 | loss: 0.01399 | val_0_mse: 0.00773 |  0:02:14s\n",
      "\n",
      "Early stopping occurred at epoch 38 with best_epoch = 28 and best_val_0_mse = 0.00638\n"
     ]
    },
    {
     "name": "stderr",
     "output_type": "stream",
     "text": [
      "C:\\Users\\franc\\AppData\\Local\\Packages\\PythonSoftwareFoundation.Python.3.10_qbz5n2kfra8p0\\LocalCache\\local-packages\\Python310\\site-packages\\pytorch_tabnet\\callbacks.py:172: UserWarning: Best weights from best epoch are automatically used!\n",
      "  warnings.warn(wrn_msg)\n"
     ]
    },
    {
     "name": "stdout",
     "output_type": "stream",
     "text": [
      "Model MSE: 0.006646 - Best MSE: 0.004804\n",
      "Model R2 Score: 0.970537 - Best R2 Score: 0.978703\n",
      "\n",
      "Iterations 49/120 - Hyperparameters:  batch_sizes=64, nums_epochs=100, n_d=16, n_a=16, n_step=4, n_indipendent=2, n_shared=2, gamma=1.3, epsilon=1e-08\n"
     ]
    },
    {
     "name": "stderr",
     "output_type": "stream",
     "text": [
      "C:\\Users\\franc\\AppData\\Local\\Packages\\PythonSoftwareFoundation.Python.3.10_qbz5n2kfra8p0\\LocalCache\\local-packages\\Python310\\site-packages\\pytorch_tabnet\\abstract_model.py:75: UserWarning: Device used : cuda\n",
      "  warnings.warn(f\"Device used : {self.device}\")\n"
     ]
    },
    {
     "name": "stdout",
     "output_type": "stream",
     "text": [
      "epoch 0  | loss: 1.34639 | val_0_mse: 0.31754 |  0:00:06s\n",
      "epoch 1  | loss: 0.09851 | val_0_mse: 0.0948  |  0:00:12s\n",
      "epoch 2  | loss: 0.08506 | val_0_mse: 0.06341 |  0:00:18s\n",
      "epoch 3  | loss: 0.07006 | val_0_mse: 0.06706 |  0:00:24s\n",
      "epoch 4  | loss: 0.06769 | val_0_mse: 0.09081 |  0:00:30s\n",
      "epoch 5  | loss: 0.05829 | val_0_mse: 0.05853 |  0:00:36s\n",
      "epoch 6  | loss: 0.05144 | val_0_mse: 0.05228 |  0:00:42s\n",
      "epoch 7  | loss: 0.03984 | val_0_mse: 0.03297 |  0:00:48s\n",
      "epoch 8  | loss: 0.04106 | val_0_mse: 0.02669 |  0:00:54s\n",
      "epoch 9  | loss: 0.03411 | val_0_mse: 0.06181 |  0:01:00s\n",
      "epoch 10 | loss: 0.02874 | val_0_mse: 0.02315 |  0:01:06s\n",
      "epoch 11 | loss: 0.03472 | val_0_mse: 0.0153  |  0:01:12s\n",
      "epoch 12 | loss: 0.02736 | val_0_mse: 0.01836 |  0:01:19s\n",
      "epoch 13 | loss: 0.02509 | val_0_mse: 0.03074 |  0:01:25s\n",
      "epoch 14 | loss: 0.02553 | val_0_mse: 0.046   |  0:01:32s\n",
      "epoch 15 | loss: 0.02047 | val_0_mse: 0.01296 |  0:01:39s\n",
      "epoch 16 | loss: 0.01777 | val_0_mse: 0.00969 |  0:01:46s\n",
      "epoch 17 | loss: 0.0167  | val_0_mse: 0.01582 |  0:01:53s\n",
      "epoch 18 | loss: 0.02296 | val_0_mse: 0.01661 |  0:02:00s\n",
      "epoch 19 | loss: 0.01825 | val_0_mse: 0.02026 |  0:02:06s\n",
      "epoch 20 | loss: 0.01584 | val_0_mse: 0.00904 |  0:02:13s\n",
      "epoch 21 | loss: 0.01903 | val_0_mse: 0.03227 |  0:02:20s\n",
      "epoch 22 | loss: 0.01766 | val_0_mse: 0.01276 |  0:02:27s\n",
      "epoch 23 | loss: 0.01831 | val_0_mse: 0.0425  |  0:02:34s\n",
      "epoch 24 | loss: 0.0174  | val_0_mse: 0.01795 |  0:02:41s\n",
      "epoch 25 | loss: 0.01762 | val_0_mse: 0.01545 |  0:02:47s\n",
      "epoch 26 | loss: 0.02079 | val_0_mse: 0.0189  |  0:02:54s\n",
      "epoch 27 | loss: 0.01654 | val_0_mse: 0.01167 |  0:03:01s\n",
      "epoch 28 | loss: 0.01454 | val_0_mse: 0.00591 |  0:03:08s\n",
      "epoch 29 | loss: 0.01797 | val_0_mse: 0.01816 |  0:03:15s\n",
      "epoch 30 | loss: 0.01535 | val_0_mse: 0.00661 |  0:03:22s\n",
      "epoch 31 | loss: 0.01575 | val_0_mse: 0.01535 |  0:03:29s\n",
      "epoch 32 | loss: 0.01856 | val_0_mse: 0.02092 |  0:03:35s\n",
      "epoch 33 | loss: 0.01453 | val_0_mse: 0.01112 |  0:03:42s\n",
      "epoch 34 | loss: 0.01523 | val_0_mse: 0.01925 |  0:03:49s\n",
      "epoch 35 | loss: 0.01751 | val_0_mse: 0.01778 |  0:03:56s\n",
      "epoch 36 | loss: 0.01472 | val_0_mse: 0.09898 |  0:04:03s\n",
      "epoch 37 | loss: 0.02028 | val_0_mse: 0.01237 |  0:04:10s\n",
      "epoch 38 | loss: 0.01737 | val_0_mse: 0.00994 |  0:04:16s\n",
      "\n",
      "Early stopping occurred at epoch 38 with best_epoch = 28 and best_val_0_mse = 0.00591\n"
     ]
    },
    {
     "name": "stderr",
     "output_type": "stream",
     "text": [
      "C:\\Users\\franc\\AppData\\Local\\Packages\\PythonSoftwareFoundation.Python.3.10_qbz5n2kfra8p0\\LocalCache\\local-packages\\Python310\\site-packages\\pytorch_tabnet\\callbacks.py:172: UserWarning: Best weights from best epoch are automatically used!\n",
      "  warnings.warn(wrn_msg)\n"
     ]
    },
    {
     "name": "stdout",
     "output_type": "stream",
     "text": [
      "Model MSE: 0.006269 - Best MSE: 0.004804\n",
      "Model R2 Score: 0.972205 - Best R2 Score: 0.978703\n",
      "\n",
      "Iterations 50/120 - Hyperparameters:  batch_sizes=128, nums_epochs=100, n_d=16, n_a=16, n_step=4, n_indipendent=2, n_shared=2, gamma=1.3, epsilon=1e-08\n"
     ]
    },
    {
     "name": "stderr",
     "output_type": "stream",
     "text": [
      "C:\\Users\\franc\\AppData\\Local\\Packages\\PythonSoftwareFoundation.Python.3.10_qbz5n2kfra8p0\\LocalCache\\local-packages\\Python310\\site-packages\\pytorch_tabnet\\abstract_model.py:75: UserWarning: Device used : cuda\n",
      "  warnings.warn(f\"Device used : {self.device}\")\n"
     ]
    },
    {
     "name": "stdout",
     "output_type": "stream",
     "text": [
      "epoch 0  | loss: 2.04844 | val_0_mse: 0.65171 |  0:00:03s\n",
      "epoch 1  | loss: 0.14151 | val_0_mse: 0.16546 |  0:00:06s\n",
      "epoch 2  | loss: 0.07908 | val_0_mse: 0.11484 |  0:00:09s\n",
      "epoch 3  | loss: 0.06095 | val_0_mse: 0.07193 |  0:00:13s\n",
      "epoch 4  | loss: 0.05847 | val_0_mse: 0.06754 |  0:00:16s\n",
      "epoch 5  | loss: 0.04652 | val_0_mse: 0.047   |  0:00:19s\n",
      "epoch 6  | loss: 0.03759 | val_0_mse: 0.03753 |  0:00:22s\n",
      "epoch 7  | loss: 0.03177 | val_0_mse: 0.03354 |  0:00:26s\n",
      "epoch 8  | loss: 0.03197 | val_0_mse: 0.02029 |  0:00:29s\n",
      "epoch 9  | loss: 0.02317 | val_0_mse: 0.04277 |  0:00:32s\n",
      "epoch 10 | loss: 0.02428 | val_0_mse: 0.01562 |  0:00:36s\n",
      "epoch 11 | loss: 0.02446 | val_0_mse: 0.02363 |  0:00:39s\n",
      "epoch 12 | loss: 0.02332 | val_0_mse: 0.01385 |  0:00:43s\n",
      "epoch 13 | loss: 0.01968 | val_0_mse: 0.01431 |  0:00:46s\n",
      "epoch 14 | loss: 0.01767 | val_0_mse: 0.00947 |  0:00:49s\n",
      "epoch 15 | loss: 0.01889 | val_0_mse: 0.0125  |  0:00:53s\n",
      "epoch 16 | loss: 0.01435 | val_0_mse: 0.01909 |  0:00:56s\n",
      "epoch 17 | loss: 0.01453 | val_0_mse: 0.01448 |  0:01:00s\n",
      "epoch 18 | loss: 0.01764 | val_0_mse: 0.0127  |  0:01:03s\n",
      "epoch 19 | loss: 0.01343 | val_0_mse: 0.01079 |  0:01:06s\n",
      "epoch 20 | loss: 0.0162  | val_0_mse: 0.01798 |  0:01:10s\n",
      "epoch 21 | loss: 0.01557 | val_0_mse: 0.01339 |  0:01:13s\n",
      "epoch 22 | loss: 0.01672 | val_0_mse: 0.01631 |  0:01:17s\n",
      "epoch 23 | loss: 0.0159  | val_0_mse: 0.00771 |  0:01:20s\n",
      "epoch 24 | loss: 0.01542 | val_0_mse: 0.01021 |  0:01:23s\n",
      "epoch 25 | loss: 0.01499 | val_0_mse: 0.03614 |  0:01:27s\n",
      "epoch 26 | loss: 0.01394 | val_0_mse: 0.00787 |  0:01:30s\n",
      "epoch 27 | loss: 0.01112 | val_0_mse: 0.01314 |  0:01:33s\n",
      "epoch 28 | loss: 0.01827 | val_0_mse: 0.0159  |  0:01:37s\n",
      "epoch 29 | loss: 0.0144  | val_0_mse: 0.00789 |  0:01:40s\n",
      "epoch 30 | loss: 0.01153 | val_0_mse: 0.01157 |  0:01:44s\n",
      "epoch 31 | loss: 0.0167  | val_0_mse: 0.02018 |  0:01:47s\n",
      "epoch 32 | loss: 0.01324 | val_0_mse: 0.00725 |  0:01:50s\n",
      "epoch 33 | loss: 0.01108 | val_0_mse: 0.00717 |  0:01:54s\n",
      "epoch 34 | loss: 0.01016 | val_0_mse: 0.00797 |  0:01:58s\n",
      "epoch 35 | loss: 0.01101 | val_0_mse: 0.01588 |  0:02:01s\n",
      "epoch 36 | loss: 0.01357 | val_0_mse: 0.03815 |  0:02:05s\n",
      "epoch 37 | loss: 0.01296 | val_0_mse: 0.00659 |  0:02:09s\n",
      "epoch 38 | loss: 0.01141 | val_0_mse: 0.00587 |  0:02:13s\n",
      "epoch 39 | loss: 0.01153 | val_0_mse: 0.01202 |  0:02:17s\n",
      "epoch 40 | loss: 0.01497 | val_0_mse: 0.01276 |  0:02:20s\n",
      "epoch 41 | loss: 0.01463 | val_0_mse: 0.01112 |  0:02:24s\n",
      "epoch 42 | loss: 0.02432 | val_0_mse: 0.07014 |  0:02:27s\n",
      "epoch 43 | loss: 0.02358 | val_0_mse: 0.01551 |  0:02:31s\n",
      "epoch 44 | loss: 0.01665 | val_0_mse: 0.00747 |  0:02:34s\n",
      "epoch 45 | loss: 0.01419 | val_0_mse: 0.01156 |  0:02:38s\n",
      "epoch 46 | loss: 0.01097 | val_0_mse: 0.00809 |  0:02:41s\n",
      "epoch 47 | loss: 0.01272 | val_0_mse: 0.00726 |  0:02:46s\n",
      "epoch 48 | loss: 0.01049 | val_0_mse: 0.01478 |  0:02:49s\n",
      "\n",
      "Early stopping occurred at epoch 48 with best_epoch = 38 and best_val_0_mse = 0.00587\n"
     ]
    },
    {
     "name": "stderr",
     "output_type": "stream",
     "text": [
      "C:\\Users\\franc\\AppData\\Local\\Packages\\PythonSoftwareFoundation.Python.3.10_qbz5n2kfra8p0\\LocalCache\\local-packages\\Python310\\site-packages\\pytorch_tabnet\\callbacks.py:172: UserWarning: Best weights from best epoch are automatically used!\n",
      "  warnings.warn(wrn_msg)\n"
     ]
    },
    {
     "name": "stdout",
     "output_type": "stream",
     "text": [
      "Model MSE: 0.006328 - Best MSE: 0.004804\n",
      "Model R2 Score: 0.971947 - Best R2 Score: 0.978703\n",
      "\n",
      "Iterations 51/120 - Hyperparameters:  batch_sizes=64, nums_epochs=100, n_d=16, n_a=16, n_step=4, n_indipendent=2, n_shared=3, gamma=1.3, epsilon=1e-08\n"
     ]
    },
    {
     "name": "stderr",
     "output_type": "stream",
     "text": [
      "C:\\Users\\franc\\AppData\\Local\\Packages\\PythonSoftwareFoundation.Python.3.10_qbz5n2kfra8p0\\LocalCache\\local-packages\\Python310\\site-packages\\pytorch_tabnet\\abstract_model.py:75: UserWarning: Device used : cuda\n",
      "  warnings.warn(f\"Device used : {self.device}\")\n"
     ]
    },
    {
     "name": "stdout",
     "output_type": "stream",
     "text": [
      "epoch 0  | loss: 1.89389 | val_0_mse: 0.39396 |  0:00:11s\n",
      "epoch 1  | loss: 0.11337 | val_0_mse: 0.08806 |  0:00:21s\n",
      "epoch 2  | loss: 0.08434 | val_0_mse: 0.09631 |  0:00:31s\n",
      "epoch 3  | loss: 0.0771  | val_0_mse: 0.07355 |  0:00:41s\n",
      "epoch 4  | loss: 0.07694 | val_0_mse: 0.06732 |  0:00:49s\n",
      "epoch 5  | loss: 0.07117 | val_0_mse: 0.06476 |  0:00:58s\n",
      "epoch 6  | loss: 0.06285 | val_0_mse: 0.04995 |  0:01:06s\n",
      "epoch 7  | loss: 0.05175 | val_0_mse: 0.03332 |  0:01:14s\n",
      "epoch 8  | loss: 0.04259 | val_0_mse: 0.04507 |  0:01:21s\n",
      "epoch 9  | loss: 0.04224 | val_0_mse: 0.03006 |  0:01:29s\n",
      "epoch 10 | loss: 0.03354 | val_0_mse: 0.02025 |  0:01:37s\n",
      "epoch 11 | loss: 0.03273 | val_0_mse: 0.03482 |  0:01:45s\n",
      "epoch 12 | loss: 0.02858 | val_0_mse: 0.03375 |  0:01:52s\n",
      "epoch 13 | loss: 0.02187 | val_0_mse: 0.01936 |  0:02:00s\n",
      "epoch 14 | loss: 0.01779 | val_0_mse: 0.01407 |  0:02:07s\n",
      "epoch 15 | loss: 0.02273 | val_0_mse: 0.02302 |  0:02:14s\n",
      "epoch 16 | loss: 0.02908 | val_0_mse: 0.01268 |  0:02:22s\n",
      "epoch 17 | loss: 0.02082 | val_0_mse: 0.01811 |  0:02:30s\n",
      "epoch 18 | loss: 0.01906 | val_0_mse: 0.04224 |  0:02:38s\n",
      "epoch 19 | loss: 0.02047 | val_0_mse: 0.01345 |  0:02:45s\n",
      "epoch 20 | loss: 0.01604 | val_0_mse: 0.01978 |  0:02:53s\n",
      "epoch 21 | loss: 0.0169  | val_0_mse: 0.00814 |  0:03:01s\n",
      "epoch 22 | loss: 0.02055 | val_0_mse: 0.00885 |  0:03:08s\n",
      "epoch 23 | loss: 0.01659 | val_0_mse: 0.00716 |  0:03:16s\n",
      "epoch 24 | loss: 0.01388 | val_0_mse: 0.00626 |  0:03:24s\n",
      "epoch 25 | loss: 0.0156  | val_0_mse: 0.00838 |  0:03:32s\n",
      "epoch 26 | loss: 0.01347 | val_0_mse: 0.01144 |  0:03:39s\n",
      "epoch 27 | loss: 0.01771 | val_0_mse: 0.00829 |  0:03:47s\n",
      "epoch 28 | loss: 0.01334 | val_0_mse: 0.01369 |  0:03:55s\n",
      "epoch 29 | loss: 0.01657 | val_0_mse: 0.02697 |  0:04:02s\n",
      "epoch 30 | loss: 0.01535 | val_0_mse: 0.00793 |  0:04:10s\n",
      "epoch 31 | loss: 0.01747 | val_0_mse: 0.02133 |  0:04:18s\n",
      "epoch 32 | loss: 0.01519 | val_0_mse: 0.01418 |  0:04:26s\n",
      "epoch 33 | loss: 0.01421 | val_0_mse: 0.01336 |  0:04:33s\n",
      "epoch 34 | loss: 0.0185  | val_0_mse: 0.02805 |  0:04:41s\n",
      "\n",
      "Early stopping occurred at epoch 34 with best_epoch = 24 and best_val_0_mse = 0.00626\n"
     ]
    },
    {
     "name": "stderr",
     "output_type": "stream",
     "text": [
      "C:\\Users\\franc\\AppData\\Local\\Packages\\PythonSoftwareFoundation.Python.3.10_qbz5n2kfra8p0\\LocalCache\\local-packages\\Python310\\site-packages\\pytorch_tabnet\\callbacks.py:172: UserWarning: Best weights from best epoch are automatically used!\n",
      "  warnings.warn(wrn_msg)\n"
     ]
    },
    {
     "name": "stdout",
     "output_type": "stream",
     "text": [
      "Model MSE: 0.006395 - Best MSE: 0.004804\n",
      "Model R2 Score: 0.971649 - Best R2 Score: 0.978703\n",
      "\n",
      "Iterations 52/120 - Hyperparameters:  batch_sizes=128, nums_epochs=100, n_d=16, n_a=16, n_step=4, n_indipendent=2, n_shared=3, gamma=1.3, epsilon=1e-08\n"
     ]
    },
    {
     "name": "stderr",
     "output_type": "stream",
     "text": [
      "C:\\Users\\franc\\AppData\\Local\\Packages\\PythonSoftwareFoundation.Python.3.10_qbz5n2kfra8p0\\LocalCache\\local-packages\\Python310\\site-packages\\pytorch_tabnet\\abstract_model.py:75: UserWarning: Device used : cuda\n",
      "  warnings.warn(f\"Device used : {self.device}\")\n"
     ]
    },
    {
     "name": "stdout",
     "output_type": "stream",
     "text": [
      "epoch 0  | loss: 3.65538 | val_0_mse: 0.78977 |  0:00:03s\n",
      "epoch 1  | loss: 0.17211 | val_0_mse: 0.26706 |  0:00:07s\n",
      "epoch 2  | loss: 0.10035 | val_0_mse: 0.15061 |  0:00:11s\n",
      "epoch 3  | loss: 0.08468 | val_0_mse: 0.0861  |  0:00:15s\n",
      "epoch 4  | loss: 0.07808 | val_0_mse: 0.09962 |  0:00:19s\n",
      "epoch 5  | loss: 0.06471 | val_0_mse: 0.09901 |  0:00:23s\n",
      "epoch 6  | loss: 0.05631 | val_0_mse: 0.05245 |  0:00:27s\n",
      "epoch 7  | loss: 0.05118 | val_0_mse: 0.04486 |  0:00:31s\n",
      "epoch 8  | loss: 0.04492 | val_0_mse: 0.05184 |  0:00:36s\n",
      "epoch 9  | loss: 0.04252 | val_0_mse: 0.03666 |  0:00:41s\n",
      "epoch 10 | loss: 0.03863 | val_0_mse: 0.03117 |  0:00:45s\n",
      "epoch 11 | loss: 0.03279 | val_0_mse: 0.04293 |  0:00:49s\n",
      "epoch 12 | loss: 0.03183 | val_0_mse: 0.022   |  0:00:53s\n",
      "epoch 13 | loss: 0.02744 | val_0_mse: 0.0254  |  0:00:57s\n",
      "epoch 14 | loss: 0.02436 | val_0_mse: 0.02084 |  0:01:01s\n",
      "epoch 15 | loss: 0.02282 | val_0_mse: 0.01851 |  0:01:05s\n",
      "epoch 16 | loss: 0.02564 | val_0_mse: 0.02311 |  0:01:09s\n",
      "epoch 17 | loss: 0.01818 | val_0_mse: 0.01323 |  0:01:13s\n",
      "epoch 18 | loss: 0.0185  | val_0_mse: 0.01172 |  0:01:17s\n",
      "epoch 19 | loss: 0.01651 | val_0_mse: 0.03858 |  0:01:21s\n",
      "epoch 20 | loss: 0.02079 | val_0_mse: 0.01299 |  0:01:25s\n",
      "epoch 21 | loss: 0.01582 | val_0_mse: 0.01122 |  0:01:29s\n",
      "epoch 22 | loss: 0.0194  | val_0_mse: 0.01635 |  0:01:33s\n",
      "epoch 23 | loss: 0.01677 | val_0_mse: 0.02354 |  0:01:37s\n",
      "epoch 24 | loss: 0.0153  | val_0_mse: 0.00998 |  0:01:41s\n",
      "epoch 25 | loss: 0.01638 | val_0_mse: 0.01074 |  0:01:45s\n",
      "epoch 26 | loss: 0.01328 | val_0_mse: 0.01089 |  0:01:49s\n",
      "epoch 27 | loss: 0.01588 | val_0_mse: 0.01186 |  0:01:53s\n",
      "epoch 28 | loss: 0.01198 | val_0_mse: 0.0101  |  0:01:57s\n",
      "epoch 29 | loss: 0.01236 | val_0_mse: 0.00721 |  0:02:01s\n",
      "epoch 30 | loss: 0.01154 | val_0_mse: 0.01199 |  0:02:05s\n",
      "epoch 31 | loss: 0.01346 | val_0_mse: 0.00612 |  0:02:09s\n",
      "epoch 32 | loss: 0.01279 | val_0_mse: 0.00671 |  0:02:13s\n",
      "epoch 33 | loss: 0.01185 | val_0_mse: 0.0189  |  0:02:17s\n",
      "epoch 34 | loss: 0.01568 | val_0_mse: 0.03049 |  0:02:21s\n",
      "epoch 35 | loss: 0.01472 | val_0_mse: 0.01657 |  0:02:25s\n",
      "epoch 36 | loss: 0.01537 | val_0_mse: 0.00796 |  0:02:29s\n",
      "epoch 37 | loss: 0.01557 | val_0_mse: 0.03916 |  0:02:33s\n",
      "epoch 38 | loss: 0.01493 | val_0_mse: 0.00881 |  0:02:37s\n",
      "epoch 39 | loss: 0.01128 | val_0_mse: 0.01358 |  0:02:41s\n",
      "epoch 40 | loss: 0.01382 | val_0_mse: 0.01284 |  0:02:45s\n",
      "epoch 41 | loss: 0.01231 | val_0_mse: 0.01008 |  0:02:49s\n",
      "\n",
      "Early stopping occurred at epoch 41 with best_epoch = 31 and best_val_0_mse = 0.00612\n"
     ]
    },
    {
     "name": "stderr",
     "output_type": "stream",
     "text": [
      "C:\\Users\\franc\\AppData\\Local\\Packages\\PythonSoftwareFoundation.Python.3.10_qbz5n2kfra8p0\\LocalCache\\local-packages\\Python310\\site-packages\\pytorch_tabnet\\callbacks.py:172: UserWarning: Best weights from best epoch are automatically used!\n",
      "  warnings.warn(wrn_msg)\n"
     ]
    },
    {
     "name": "stdout",
     "output_type": "stream",
     "text": [
      "Model MSE: 0.006553 - Best MSE: 0.004804\n",
      "Model R2 Score: 0.970950 - Best R2 Score: 0.978703\n",
      "\n",
      "Iterations 53/120 - Hyperparameters:  batch_sizes=64, nums_epochs=100, n_d=16, n_a=16, n_step=4, n_indipendent=3, n_shared=2, gamma=1.3, epsilon=1e-08\n"
     ]
    },
    {
     "name": "stderr",
     "output_type": "stream",
     "text": [
      "C:\\Users\\franc\\AppData\\Local\\Packages\\PythonSoftwareFoundation.Python.3.10_qbz5n2kfra8p0\\LocalCache\\local-packages\\Python310\\site-packages\\pytorch_tabnet\\abstract_model.py:75: UserWarning: Device used : cuda\n",
      "  warnings.warn(f\"Device used : {self.device}\")\n"
     ]
    },
    {
     "name": "stdout",
     "output_type": "stream",
     "text": [
      "epoch 0  | loss: 0.61359 | val_0_mse: 0.40474 |  0:00:07s\n",
      "epoch 1  | loss: 0.10638 | val_0_mse: 0.07774 |  0:00:14s\n",
      "epoch 2  | loss: 0.08596 | val_0_mse: 0.07821 |  0:00:21s\n",
      "epoch 3  | loss: 0.07235 | val_0_mse: 0.10873 |  0:00:30s\n",
      "epoch 4  | loss: 0.06707 | val_0_mse: 0.05468 |  0:00:41s\n",
      "epoch 5  | loss: 0.07058 | val_0_mse: 0.04828 |  0:00:51s\n",
      "epoch 6  | loss: 0.05707 | val_0_mse: 0.04145 |  0:01:01s\n",
      "epoch 7  | loss: 0.04948 | val_0_mse: 0.03975 |  0:01:11s\n",
      "epoch 8  | loss: 0.04292 | val_0_mse: 0.06153 |  0:01:21s\n",
      "epoch 9  | loss: 0.04117 | val_0_mse: 0.02453 |  0:01:31s\n",
      "epoch 10 | loss: 0.03168 | val_0_mse: 0.01434 |  0:01:41s\n",
      "epoch 11 | loss: 0.03591 | val_0_mse: 0.02994 |  0:01:49s\n",
      "epoch 12 | loss: 0.02555 | val_0_mse: 0.01305 |  0:01:57s\n",
      "epoch 13 | loss: 0.02456 | val_0_mse: 0.01278 |  0:02:05s\n",
      "epoch 14 | loss: 0.02045 | val_0_mse: 0.01085 |  0:02:13s\n",
      "epoch 15 | loss: 0.01823 | val_0_mse: 0.01553 |  0:02:21s\n",
      "epoch 16 | loss: 0.01856 | val_0_mse: 0.0094  |  0:02:29s\n",
      "epoch 17 | loss: 0.02003 | val_0_mse: 0.01361 |  0:02:38s\n",
      "epoch 18 | loss: 0.02189 | val_0_mse: 0.01684 |  0:02:46s\n",
      "epoch 19 | loss: 0.01712 | val_0_mse: 0.01255 |  0:02:54s\n",
      "epoch 20 | loss: 0.02079 | val_0_mse: 0.00883 |  0:03:02s\n",
      "epoch 21 | loss: 0.02577 | val_0_mse: 0.02772 |  0:03:10s\n",
      "epoch 22 | loss: 0.0274  | val_0_mse: 0.03113 |  0:03:18s\n",
      "epoch 23 | loss: 0.01887 | val_0_mse: 0.00912 |  0:03:26s\n",
      "epoch 24 | loss: 0.01519 | val_0_mse: 0.00871 |  0:03:34s\n",
      "epoch 25 | loss: 0.01744 | val_0_mse: 0.00927 |  0:03:42s\n",
      "epoch 26 | loss: 0.01904 | val_0_mse: 0.01011 |  0:03:51s\n",
      "epoch 27 | loss: 0.02804 | val_0_mse: 0.02819 |  0:04:00s\n",
      "epoch 28 | loss: 0.02344 | val_0_mse: 0.02679 |  0:04:11s\n",
      "epoch 29 | loss: 0.01742 | val_0_mse: 0.0133  |  0:04:21s\n",
      "epoch 30 | loss: 0.02029 | val_0_mse: 0.02096 |  0:04:31s\n",
      "epoch 31 | loss: 0.01871 | val_0_mse: 0.02974 |  0:04:41s\n",
      "epoch 32 | loss: 0.01467 | val_0_mse: 0.01026 |  0:04:52s\n",
      "epoch 33 | loss: 0.01577 | val_0_mse: 0.01622 |  0:05:01s\n",
      "epoch 34 | loss: 0.01672 | val_0_mse: 0.02064 |  0:05:09s\n",
      "\n",
      "Early stopping occurred at epoch 34 with best_epoch = 24 and best_val_0_mse = 0.00871\n"
     ]
    },
    {
     "name": "stderr",
     "output_type": "stream",
     "text": [
      "C:\\Users\\franc\\AppData\\Local\\Packages\\PythonSoftwareFoundation.Python.3.10_qbz5n2kfra8p0\\LocalCache\\local-packages\\Python310\\site-packages\\pytorch_tabnet\\callbacks.py:172: UserWarning: Best weights from best epoch are automatically used!\n",
      "  warnings.warn(wrn_msg)\n"
     ]
    },
    {
     "name": "stdout",
     "output_type": "stream",
     "text": [
      "Model MSE: 0.012260 - Best MSE: 0.004804\n",
      "Model R2 Score: 0.945645 - Best R2 Score: 0.978703\n",
      "\n",
      "Iterations 54/120 - Hyperparameters:  batch_sizes=128, nums_epochs=100, n_d=16, n_a=16, n_step=4, n_indipendent=3, n_shared=2, gamma=1.3, epsilon=1e-08\n"
     ]
    },
    {
     "name": "stderr",
     "output_type": "stream",
     "text": [
      "C:\\Users\\franc\\AppData\\Local\\Packages\\PythonSoftwareFoundation.Python.3.10_qbz5n2kfra8p0\\LocalCache\\local-packages\\Python310\\site-packages\\pytorch_tabnet\\abstract_model.py:75: UserWarning: Device used : cuda\n",
      "  warnings.warn(f\"Device used : {self.device}\")\n"
     ]
    },
    {
     "name": "stdout",
     "output_type": "stream",
     "text": [
      "epoch 0  | loss: 1.01266 | val_0_mse: 0.44746 |  0:00:04s\n",
      "epoch 1  | loss: 0.14151 | val_0_mse: 0.195   |  0:00:09s\n",
      "epoch 2  | loss: 0.09338 | val_0_mse: 0.07456 |  0:00:14s\n",
      "epoch 3  | loss: 0.07921 | val_0_mse: 0.05946 |  0:00:18s\n",
      "epoch 4  | loss: 0.07697 | val_0_mse: 0.06117 |  0:00:22s\n",
      "epoch 5  | loss: 0.07801 | val_0_mse: 0.04467 |  0:00:27s\n",
      "epoch 6  | loss: 0.05471 | val_0_mse: 0.03982 |  0:00:31s\n",
      "epoch 7  | loss: 0.0484  | val_0_mse: 0.03077 |  0:00:36s\n",
      "epoch 8  | loss: 0.0441  | val_0_mse: 0.02965 |  0:00:40s\n",
      "epoch 9  | loss: 0.03334 | val_0_mse: 0.04789 |  0:00:45s\n",
      "epoch 10 | loss: 0.03362 | val_0_mse: 0.03616 |  0:00:49s\n",
      "epoch 11 | loss: 0.03546 | val_0_mse: 0.02227 |  0:00:54s\n",
      "epoch 12 | loss: 0.02635 | val_0_mse: 0.03351 |  0:00:58s\n",
      "epoch 13 | loss: 0.02541 | val_0_mse: 0.0609  |  0:01:03s\n",
      "epoch 14 | loss: 0.02026 | val_0_mse: 0.01798 |  0:01:08s\n",
      "epoch 15 | loss: 0.02133 | val_0_mse: 0.02044 |  0:01:12s\n",
      "epoch 16 | loss: 0.02687 | val_0_mse: 0.02467 |  0:01:17s\n",
      "epoch 17 | loss: 0.01792 | val_0_mse: 0.02744 |  0:01:21s\n",
      "epoch 18 | loss: 0.01478 | val_0_mse: 0.02758 |  0:01:26s\n",
      "epoch 19 | loss: 0.01711 | val_0_mse: 0.01283 |  0:01:30s\n",
      "epoch 20 | loss: 0.01693 | val_0_mse: 0.00964 |  0:01:35s\n",
      "epoch 21 | loss: 0.01585 | val_0_mse: 0.01407 |  0:01:39s\n",
      "epoch 22 | loss: 0.01705 | val_0_mse: 0.0132  |  0:01:44s\n",
      "epoch 23 | loss: 0.02124 | val_0_mse: 0.00729 |  0:01:48s\n",
      "epoch 24 | loss: 0.01297 | val_0_mse: 0.01119 |  0:01:53s\n",
      "epoch 25 | loss: 0.02045 | val_0_mse: 0.01012 |  0:01:58s\n",
      "epoch 26 | loss: 0.01341 | val_0_mse: 0.01298 |  0:02:02s\n",
      "epoch 27 | loss: 0.01612 | val_0_mse: 0.05391 |  0:02:07s\n",
      "epoch 28 | loss: 0.01402 | val_0_mse: 0.01103 |  0:02:11s\n",
      "epoch 29 | loss: 0.014   | val_0_mse: 0.01515 |  0:02:15s\n",
      "epoch 30 | loss: 0.01551 | val_0_mse: 0.01295 |  0:02:20s\n",
      "epoch 31 | loss: 0.01516 | val_0_mse: 0.00788 |  0:02:24s\n",
      "epoch 32 | loss: 0.00965 | val_0_mse: 0.01015 |  0:02:29s\n",
      "epoch 33 | loss: 0.00974 | val_0_mse: 0.10856 |  0:02:33s\n",
      "\n",
      "Early stopping occurred at epoch 33 with best_epoch = 23 and best_val_0_mse = 0.00729\n"
     ]
    },
    {
     "name": "stderr",
     "output_type": "stream",
     "text": [
      "C:\\Users\\franc\\AppData\\Local\\Packages\\PythonSoftwareFoundation.Python.3.10_qbz5n2kfra8p0\\LocalCache\\local-packages\\Python310\\site-packages\\pytorch_tabnet\\callbacks.py:172: UserWarning: Best weights from best epoch are automatically used!\n",
      "  warnings.warn(wrn_msg)\n"
     ]
    },
    {
     "name": "stdout",
     "output_type": "stream",
     "text": [
      "Model MSE: 0.007904 - Best MSE: 0.004804\n",
      "Model R2 Score: 0.964958 - Best R2 Score: 0.978703\n",
      "\n",
      "Iterations 55/120 - Hyperparameters:  batch_sizes=64, nums_epochs=100, n_d=16, n_a=16, n_step=4, n_indipendent=3, n_shared=3, gamma=1.3, epsilon=1e-08\n"
     ]
    },
    {
     "name": "stderr",
     "output_type": "stream",
     "text": [
      "C:\\Users\\franc\\AppData\\Local\\Packages\\PythonSoftwareFoundation.Python.3.10_qbz5n2kfra8p0\\LocalCache\\local-packages\\Python310\\site-packages\\pytorch_tabnet\\abstract_model.py:75: UserWarning: Device used : cuda\n",
      "  warnings.warn(f\"Device used : {self.device}\")\n"
     ]
    },
    {
     "name": "stdout",
     "output_type": "stream",
     "text": [
      "epoch 0  | loss: 1.10939 | val_0_mse: 0.21177 |  0:00:09s\n",
      "epoch 1  | loss: 0.11772 | val_0_mse: 0.09736 |  0:00:18s\n",
      "epoch 2  | loss: 0.08522 | val_0_mse: 0.08984 |  0:00:28s\n",
      "epoch 3  | loss: 0.07237 | val_0_mse: 0.06469 |  0:00:38s\n",
      "epoch 4  | loss: 0.07299 | val_0_mse: 0.0794  |  0:00:48s\n",
      "epoch 5  | loss: 0.06237 | val_0_mse: 0.0459  |  0:00:59s\n",
      "epoch 6  | loss: 0.0488  | val_0_mse: 0.04224 |  0:01:10s\n",
      "epoch 7  | loss: 0.03824 | val_0_mse: 0.03897 |  0:01:21s\n",
      "epoch 8  | loss: 0.03112 | val_0_mse: 0.02639 |  0:01:33s\n",
      "epoch 9  | loss: 0.02405 | val_0_mse: 0.02934 |  0:01:45s\n",
      "epoch 10 | loss: 0.0259  | val_0_mse: 0.02434 |  0:01:57s\n",
      "epoch 11 | loss: 0.02064 | val_0_mse: 0.01904 |  0:02:07s\n",
      "epoch 12 | loss: 0.01778 | val_0_mse: 0.07502 |  0:02:17s\n",
      "epoch 13 | loss: 0.0198  | val_0_mse: 0.02379 |  0:02:26s\n",
      "epoch 14 | loss: 0.02224 | val_0_mse: 0.01869 |  0:02:35s\n",
      "epoch 15 | loss: 0.02147 | val_0_mse: 0.02455 |  0:02:46s\n",
      "epoch 16 | loss: 0.01695 | val_0_mse: 0.01701 |  0:02:57s\n",
      "epoch 17 | loss: 0.01579 | val_0_mse: 0.01792 |  0:03:09s\n",
      "epoch 18 | loss: 0.01694 | val_0_mse: 0.01879 |  0:03:21s\n",
      "epoch 19 | loss: 0.01508 | val_0_mse: 0.01914 |  0:03:32s\n",
      "epoch 20 | loss: 0.01518 | val_0_mse: 0.24394 |  0:03:44s\n",
      "epoch 21 | loss: 0.02713 | val_0_mse: 0.02995 |  0:03:55s\n",
      "epoch 22 | loss: 0.01607 | val_0_mse: 0.04459 |  0:04:07s\n",
      "epoch 23 | loss: 0.02282 | val_0_mse: 0.02621 |  0:04:18s\n",
      "epoch 24 | loss: 0.01724 | val_0_mse: 0.01167 |  0:04:29s\n",
      "epoch 25 | loss: 0.02015 | val_0_mse: 0.02397 |  0:04:37s\n",
      "epoch 26 | loss: 0.01669 | val_0_mse: 0.01349 |  0:04:46s\n",
      "epoch 27 | loss: 0.01736 | val_0_mse: 0.01869 |  0:04:54s\n",
      "epoch 28 | loss: 0.01922 | val_0_mse: 0.03183 |  0:05:05s\n",
      "epoch 29 | loss: 0.02263 | val_0_mse: 0.0346  |  0:05:15s\n",
      "epoch 30 | loss: 0.01726 | val_0_mse: 0.00894 |  0:05:27s\n",
      "epoch 31 | loss: 0.0136  | val_0_mse: 0.01796 |  0:05:39s\n",
      "epoch 32 | loss: 0.01553 | val_0_mse: 0.01259 |  0:05:50s\n",
      "epoch 33 | loss: 0.01512 | val_0_mse: 0.02668 |  0:06:02s\n",
      "epoch 34 | loss: 0.01403 | val_0_mse: 0.01056 |  0:06:14s\n",
      "epoch 35 | loss: 0.01711 | val_0_mse: 0.01003 |  0:06:25s\n",
      "epoch 36 | loss: 0.01513 | val_0_mse: 0.01398 |  0:06:37s\n",
      "epoch 37 | loss: 0.01648 | val_0_mse: 0.01605 |  0:06:49s\n",
      "epoch 38 | loss: 0.01504 | val_0_mse: 0.02007 |  0:07:01s\n",
      "epoch 39 | loss: 0.01543 | val_0_mse: 0.01164 |  0:07:12s\n",
      "epoch 40 | loss: 0.01769 | val_0_mse: 0.01669 |  0:07:24s\n",
      "\n",
      "Early stopping occurred at epoch 40 with best_epoch = 30 and best_val_0_mse = 0.00894\n"
     ]
    },
    {
     "name": "stderr",
     "output_type": "stream",
     "text": [
      "C:\\Users\\franc\\AppData\\Local\\Packages\\PythonSoftwareFoundation.Python.3.10_qbz5n2kfra8p0\\LocalCache\\local-packages\\Python310\\site-packages\\pytorch_tabnet\\callbacks.py:172: UserWarning: Best weights from best epoch are automatically used!\n",
      "  warnings.warn(wrn_msg)\n"
     ]
    },
    {
     "name": "stdout",
     "output_type": "stream",
     "text": [
      "Model MSE: 0.010837 - Best MSE: 0.004804\n",
      "Model R2 Score: 0.951955 - Best R2 Score: 0.978703\n",
      "\n",
      "Iterations 56/120 - Hyperparameters:  batch_sizes=128, nums_epochs=100, n_d=16, n_a=16, n_step=4, n_indipendent=3, n_shared=3, gamma=1.3, epsilon=1e-08\n"
     ]
    },
    {
     "name": "stderr",
     "output_type": "stream",
     "text": [
      "C:\\Users\\franc\\AppData\\Local\\Packages\\PythonSoftwareFoundation.Python.3.10_qbz5n2kfra8p0\\LocalCache\\local-packages\\Python310\\site-packages\\pytorch_tabnet\\abstract_model.py:75: UserWarning: Device used : cuda\n",
      "  warnings.warn(f\"Device used : {self.device}\")\n"
     ]
    },
    {
     "name": "stdout",
     "output_type": "stream",
     "text": [
      "epoch 0  | loss: 1.86037 | val_0_mse: 0.46689 |  0:00:05s\n",
      "epoch 1  | loss: 0.15473 | val_0_mse: 0.19941 |  0:00:11s\n",
      "epoch 2  | loss: 0.11441 | val_0_mse: 0.10461 |  0:00:18s\n",
      "epoch 3  | loss: 0.07763 | val_0_mse: 0.07065 |  0:00:24s\n",
      "epoch 4  | loss: 0.06392 | val_0_mse: 0.05872 |  0:00:30s\n",
      "epoch 5  | loss: 0.05759 | val_0_mse: 0.05237 |  0:00:36s\n",
      "epoch 6  | loss: 0.05631 | val_0_mse: 0.04224 |  0:00:42s\n",
      "epoch 7  | loss: 0.03931 | val_0_mse: 0.0315  |  0:00:48s\n",
      "epoch 8  | loss: 0.03432 | val_0_mse: 0.05464 |  0:00:54s\n",
      "epoch 9  | loss: 0.03323 | val_0_mse: 0.02325 |  0:01:01s\n",
      "epoch 10 | loss: 0.02654 | val_0_mse: 0.01931 |  0:01:07s\n",
      "epoch 11 | loss: 0.02713 | val_0_mse: 0.01995 |  0:01:13s\n",
      "epoch 12 | loss: 0.02094 | val_0_mse: 0.01661 |  0:01:19s\n",
      "epoch 13 | loss: 0.01855 | val_0_mse: 0.01794 |  0:01:25s\n",
      "epoch 14 | loss: 0.0201  | val_0_mse: 0.01147 |  0:01:31s\n",
      "epoch 15 | loss: 0.02361 | val_0_mse: 0.03205 |  0:01:37s\n",
      "epoch 16 | loss: 0.01667 | val_0_mse: 0.01293 |  0:01:43s\n",
      "epoch 17 | loss: 0.01581 | val_0_mse: 0.01499 |  0:01:50s\n",
      "epoch 18 | loss: 0.02251 | val_0_mse: 0.00919 |  0:01:56s\n",
      "epoch 19 | loss: 0.01534 | val_0_mse: 0.00948 |  0:02:02s\n",
      "epoch 20 | loss: 0.01993 | val_0_mse: 0.01482 |  0:02:08s\n",
      "epoch 21 | loss: 0.01628 | val_0_mse: 0.01047 |  0:02:14s\n",
      "epoch 22 | loss: 0.01222 | val_0_mse: 0.02743 |  0:02:20s\n",
      "epoch 23 | loss: 0.01233 | val_0_mse: 0.00732 |  0:02:26s\n",
      "epoch 24 | loss: 0.01314 | val_0_mse: 0.02507 |  0:02:32s\n",
      "epoch 25 | loss: 0.01587 | val_0_mse: 0.00764 |  0:02:38s\n",
      "epoch 26 | loss: 0.01162 | val_0_mse: 0.01079 |  0:02:44s\n",
      "epoch 27 | loss: 0.01524 | val_0_mse: 0.00952 |  0:02:50s\n",
      "epoch 28 | loss: 0.01645 | val_0_mse: 0.02606 |  0:02:56s\n",
      "epoch 29 | loss: 0.01447 | val_0_mse: 0.01534 |  0:03:02s\n",
      "epoch 30 | loss: 0.01263 | val_0_mse: 0.03061 |  0:03:08s\n",
      "epoch 31 | loss: 0.01183 | val_0_mse: 0.01369 |  0:03:13s\n",
      "epoch 32 | loss: 0.01282 | val_0_mse: 0.00777 |  0:03:17s\n",
      "epoch 33 | loss: 0.01195 | val_0_mse: 0.00666 |  0:03:22s\n",
      "epoch 34 | loss: 0.01012 | val_0_mse: 0.01845 |  0:03:27s\n",
      "epoch 35 | loss: 0.01175 | val_0_mse: 0.0107  |  0:03:31s\n",
      "epoch 36 | loss: 0.00982 | val_0_mse: 0.00876 |  0:03:36s\n",
      "epoch 37 | loss: 0.0126  | val_0_mse: 0.01251 |  0:03:40s\n",
      "epoch 38 | loss: 0.01315 | val_0_mse: 0.00562 |  0:03:45s\n",
      "epoch 39 | loss: 0.01371 | val_0_mse: 0.02295 |  0:03:50s\n",
      "epoch 40 | loss: 0.01051 | val_0_mse: 0.00523 |  0:03:54s\n",
      "epoch 41 | loss: 0.01246 | val_0_mse: 0.01238 |  0:03:58s\n",
      "epoch 42 | loss: 0.01331 | val_0_mse: 0.02144 |  0:04:03s\n",
      "epoch 43 | loss: 0.01501 | val_0_mse: 0.01101 |  0:04:07s\n",
      "epoch 44 | loss: 0.01309 | val_0_mse: 0.0175  |  0:04:11s\n",
      "epoch 45 | loss: 0.01604 | val_0_mse: 0.00686 |  0:04:16s\n",
      "epoch 46 | loss: 0.01191 | val_0_mse: 0.00862 |  0:04:20s\n",
      "epoch 47 | loss: 0.01109 | val_0_mse: 0.01191 |  0:04:24s\n",
      "epoch 48 | loss: 0.01245 | val_0_mse: 0.0079  |  0:04:29s\n",
      "epoch 49 | loss: 0.01217 | val_0_mse: 0.00973 |  0:04:33s\n",
      "epoch 50 | loss: 0.01282 | val_0_mse: 0.01114 |  0:04:37s\n",
      "\n",
      "Early stopping occurred at epoch 50 with best_epoch = 40 and best_val_0_mse = 0.00523\n"
     ]
    },
    {
     "name": "stderr",
     "output_type": "stream",
     "text": [
      "C:\\Users\\franc\\AppData\\Local\\Packages\\PythonSoftwareFoundation.Python.3.10_qbz5n2kfra8p0\\LocalCache\\local-packages\\Python310\\site-packages\\pytorch_tabnet\\callbacks.py:172: UserWarning: Best weights from best epoch are automatically used!\n",
      "  warnings.warn(wrn_msg)\n"
     ]
    },
    {
     "name": "stdout",
     "output_type": "stream",
     "text": [
      "Model MSE: 0.005318 - Best MSE: 0.004804\n",
      "Model R2 Score: 0.976424 - Best R2 Score: 0.978703\n",
      "\n",
      "Iterations 57/120 - Hyperparameters:  batch_sizes=64, nums_epochs=100, n_d=16, n_a=16, n_step=5, n_indipendent=2, n_shared=2, gamma=1.3, epsilon=1e-08\n"
     ]
    },
    {
     "name": "stderr",
     "output_type": "stream",
     "text": [
      "C:\\Users\\franc\\AppData\\Local\\Packages\\PythonSoftwareFoundation.Python.3.10_qbz5n2kfra8p0\\LocalCache\\local-packages\\Python310\\site-packages\\pytorch_tabnet\\abstract_model.py:75: UserWarning: Device used : cuda\n",
      "  warnings.warn(f\"Device used : {self.device}\")\n"
     ]
    },
    {
     "name": "stdout",
     "output_type": "stream",
     "text": [
      "epoch 0  | loss: 0.83549 | val_0_mse: 0.25903 |  0:00:08s\n",
      "epoch 1  | loss: 0.16338 | val_0_mse: 0.11841 |  0:00:16s\n",
      "epoch 2  | loss: 0.11908 | val_0_mse: 0.10798 |  0:00:25s\n",
      "epoch 3  | loss: 0.10441 | val_0_mse: 0.07941 |  0:00:33s\n",
      "epoch 4  | loss: 0.09696 | val_0_mse: 0.07847 |  0:00:42s\n",
      "epoch 5  | loss: 0.0986  | val_0_mse: 0.08188 |  0:00:51s\n",
      "epoch 6  | loss: 0.08259 | val_0_mse: 0.06518 |  0:01:00s\n",
      "epoch 7  | loss: 0.07732 | val_0_mse: 0.08211 |  0:01:08s\n",
      "epoch 8  | loss: 0.07167 | val_0_mse: 0.05783 |  0:01:17s\n",
      "epoch 9  | loss: 0.06989 | val_0_mse: 0.05078 |  0:01:25s\n",
      "epoch 10 | loss: 0.05596 | val_0_mse: 0.05023 |  0:01:34s\n",
      "epoch 11 | loss: 0.0513  | val_0_mse: 0.03994 |  0:01:43s\n",
      "epoch 12 | loss: 0.05029 | val_0_mse: 0.04439 |  0:01:52s\n",
      "epoch 13 | loss: 0.0437  | val_0_mse: 0.0649  |  0:02:00s\n",
      "epoch 14 | loss: 0.05007 | val_0_mse: 0.02915 |  0:02:09s\n",
      "epoch 15 | loss: 0.04527 | val_0_mse: 0.07325 |  0:02:18s\n",
      "epoch 16 | loss: 0.03428 | val_0_mse: 0.03093 |  0:02:27s\n",
      "epoch 17 | loss: 0.03464 | val_0_mse: 0.05254 |  0:02:35s\n",
      "epoch 18 | loss: 0.02702 | val_0_mse: 0.02416 |  0:02:44s\n",
      "epoch 19 | loss: 0.02563 | val_0_mse: 0.04739 |  0:02:52s\n",
      "epoch 20 | loss: 0.02236 | val_0_mse: 0.02242 |  0:03:02s\n",
      "epoch 21 | loss: 0.01967 | val_0_mse: 0.01179 |  0:03:11s\n",
      "epoch 22 | loss: 0.02459 | val_0_mse: 0.02363 |  0:03:20s\n",
      "epoch 23 | loss: 0.02209 | val_0_mse: 0.02484 |  0:03:28s\n",
      "epoch 24 | loss: 0.02126 | val_0_mse: 0.01846 |  0:03:37s\n",
      "epoch 25 | loss: 0.02019 | val_0_mse: 0.01312 |  0:03:45s\n",
      "epoch 26 | loss: 0.01784 | val_0_mse: 0.02641 |  0:03:54s\n",
      "epoch 27 | loss: 0.01854 | val_0_mse: 0.0172  |  0:04:02s\n",
      "epoch 28 | loss: 0.01864 | val_0_mse: 0.02715 |  0:04:11s\n",
      "epoch 29 | loss: 0.02165 | val_0_mse: 0.00972 |  0:04:21s\n",
      "epoch 30 | loss: 0.01729 | val_0_mse: 0.01745 |  0:04:30s\n",
      "epoch 31 | loss: 0.01807 | val_0_mse: 0.00853 |  0:04:38s\n",
      "epoch 32 | loss: 0.01761 | val_0_mse: 0.00719 |  0:04:47s\n",
      "epoch 33 | loss: 0.01648 | val_0_mse: 0.01862 |  0:04:55s\n",
      "epoch 34 | loss: 0.01713 | val_0_mse: 0.02748 |  0:05:04s\n",
      "epoch 35 | loss: 0.01887 | val_0_mse: 0.00664 |  0:05:13s\n",
      "epoch 36 | loss: 0.01795 | val_0_mse: 0.02624 |  0:05:22s\n",
      "epoch 37 | loss: 0.01961 | val_0_mse: 0.03004 |  0:05:31s\n",
      "epoch 38 | loss: 0.01861 | val_0_mse: 0.01709 |  0:05:41s\n",
      "epoch 39 | loss: 0.01995 | val_0_mse: 0.03384 |  0:05:50s\n",
      "epoch 40 | loss: 0.0186  | val_0_mse: 0.00977 |  0:05:58s\n",
      "epoch 41 | loss: 0.0251  | val_0_mse: 0.01264 |  0:06:07s\n",
      "epoch 42 | loss: 0.01814 | val_0_mse: 0.01047 |  0:06:15s\n",
      "epoch 43 | loss: 0.0161  | val_0_mse: 0.00775 |  0:06:24s\n",
      "epoch 44 | loss: 0.01532 | val_0_mse: 0.01462 |  0:06:33s\n",
      "epoch 45 | loss: 0.0136  | val_0_mse: 0.01354 |  0:06:42s\n",
      "\n",
      "Early stopping occurred at epoch 45 with best_epoch = 35 and best_val_0_mse = 0.00664\n"
     ]
    },
    {
     "name": "stderr",
     "output_type": "stream",
     "text": [
      "C:\\Users\\franc\\AppData\\Local\\Packages\\PythonSoftwareFoundation.Python.3.10_qbz5n2kfra8p0\\LocalCache\\local-packages\\Python310\\site-packages\\pytorch_tabnet\\callbacks.py:172: UserWarning: Best weights from best epoch are automatically used!\n",
      "  warnings.warn(wrn_msg)\n"
     ]
    },
    {
     "name": "stdout",
     "output_type": "stream",
     "text": [
      "Model MSE: 0.006875 - Best MSE: 0.004804\n",
      "Model R2 Score: 0.969522 - Best R2 Score: 0.978703\n",
      "\n",
      "Iterations 58/120 - Hyperparameters:  batch_sizes=128, nums_epochs=100, n_d=16, n_a=16, n_step=5, n_indipendent=2, n_shared=2, gamma=1.3, epsilon=1e-08\n"
     ]
    },
    {
     "name": "stderr",
     "output_type": "stream",
     "text": [
      "C:\\Users\\franc\\AppData\\Local\\Packages\\PythonSoftwareFoundation.Python.3.10_qbz5n2kfra8p0\\LocalCache\\local-packages\\Python310\\site-packages\\pytorch_tabnet\\abstract_model.py:75: UserWarning: Device used : cuda\n",
      "  warnings.warn(f\"Device used : {self.device}\")\n"
     ]
    },
    {
     "name": "stdout",
     "output_type": "stream",
     "text": [
      "epoch 0  | loss: 1.1946  | val_0_mse: 0.53963 |  0:00:03s\n",
      "epoch 1  | loss: 0.19522 | val_0_mse: 0.25237 |  0:00:07s\n",
      "epoch 2  | loss: 0.13977 | val_0_mse: 0.14522 |  0:00:12s\n",
      "epoch 3  | loss: 0.13545 | val_0_mse: 0.10672 |  0:00:16s\n",
      "epoch 4  | loss: 0.11481 | val_0_mse: 0.09967 |  0:00:20s\n",
      "epoch 5  | loss: 0.10181 | val_0_mse: 0.08571 |  0:00:24s\n",
      "epoch 6  | loss: 0.09117 | val_0_mse: 0.10621 |  0:00:29s\n",
      "epoch 7  | loss: 0.07958 | val_0_mse: 0.07213 |  0:00:33s\n",
      "epoch 8  | loss: 0.0762  | val_0_mse: 0.08863 |  0:00:37s\n",
      "epoch 9  | loss: 0.07884 | val_0_mse: 0.07446 |  0:00:41s\n",
      "epoch 10 | loss: 0.06534 | val_0_mse: 0.08912 |  0:00:45s\n",
      "epoch 11 | loss: 0.0651  | val_0_mse: 0.05282 |  0:00:49s\n",
      "epoch 12 | loss: 0.06547 | val_0_mse: 0.06418 |  0:00:54s\n",
      "epoch 13 | loss: 0.06427 | val_0_mse: 0.05045 |  0:00:58s\n",
      "epoch 14 | loss: 0.04679 | val_0_mse: 0.04487 |  0:01:02s\n",
      "epoch 15 | loss: 0.04596 | val_0_mse: 0.0413  |  0:01:06s\n",
      "epoch 16 | loss: 0.03894 | val_0_mse: 0.03305 |  0:01:10s\n",
      "epoch 17 | loss: 0.0379  | val_0_mse: 0.03052 |  0:01:15s\n",
      "epoch 18 | loss: 0.03658 | val_0_mse: 0.02297 |  0:01:19s\n",
      "epoch 19 | loss: 0.02759 | val_0_mse: 0.02235 |  0:01:23s\n",
      "epoch 20 | loss: 0.02453 | val_0_mse: 0.02111 |  0:01:27s\n",
      "epoch 21 | loss: 0.02397 | val_0_mse: 0.01844 |  0:01:31s\n",
      "epoch 22 | loss: 0.02283 | val_0_mse: 0.02547 |  0:01:36s\n",
      "epoch 23 | loss: 0.02039 | val_0_mse: 0.01074 |  0:01:40s\n",
      "epoch 24 | loss: 0.01524 | val_0_mse: 0.0094  |  0:01:44s\n",
      "epoch 25 | loss: 0.02074 | val_0_mse: 0.01481 |  0:01:48s\n",
      "epoch 26 | loss: 0.01793 | val_0_mse: 0.05858 |  0:01:52s\n",
      "epoch 27 | loss: 0.0184  | val_0_mse: 0.01769 |  0:01:56s\n",
      "epoch 28 | loss: 0.01793 | val_0_mse: 0.02101 |  0:02:01s\n",
      "epoch 29 | loss: 0.01877 | val_0_mse: 0.00788 |  0:02:05s\n",
      "epoch 30 | loss: 0.01352 | val_0_mse: 0.01729 |  0:02:09s\n",
      "epoch 31 | loss: 0.01539 | val_0_mse: 0.01586 |  0:02:13s\n",
      "epoch 32 | loss: 0.01927 | val_0_mse: 0.01275 |  0:02:17s\n",
      "epoch 33 | loss: 0.01523 | val_0_mse: 0.01314 |  0:02:21s\n",
      "epoch 34 | loss: 0.01295 | val_0_mse: 0.00656 |  0:02:25s\n",
      "epoch 35 | loss: 0.01085 | val_0_mse: 0.01322 |  0:02:30s\n",
      "epoch 36 | loss: 0.01663 | val_0_mse: 0.00695 |  0:02:34s\n",
      "epoch 37 | loss: 0.01715 | val_0_mse: 0.02879 |  0:02:38s\n",
      "epoch 38 | loss: 0.01494 | val_0_mse: 0.006   |  0:02:42s\n",
      "epoch 39 | loss: 0.01143 | val_0_mse: 0.01014 |  0:02:46s\n",
      "epoch 40 | loss: 0.00962 | val_0_mse: 0.00582 |  0:02:50s\n",
      "epoch 41 | loss: 0.01244 | val_0_mse: 0.01282 |  0:02:54s\n",
      "epoch 42 | loss: 0.01493 | val_0_mse: 0.10871 |  0:02:59s\n",
      "epoch 43 | loss: 0.01013 | val_0_mse: 0.0072  |  0:03:03s\n",
      "epoch 44 | loss: 0.0113  | val_0_mse: 0.00833 |  0:03:07s\n",
      "epoch 45 | loss: 0.01007 | val_0_mse: 0.02342 |  0:03:11s\n",
      "epoch 46 | loss: 0.0139  | val_0_mse: 0.00584 |  0:03:15s\n",
      "epoch 47 | loss: 0.0206  | val_0_mse: 0.01625 |  0:03:19s\n",
      "epoch 48 | loss: 0.01198 | val_0_mse: 0.00922 |  0:03:23s\n",
      "epoch 49 | loss: 0.00923 | val_0_mse: 0.01086 |  0:03:28s\n",
      "epoch 50 | loss: 0.01243 | val_0_mse: 0.01144 |  0:03:32s\n",
      "\n",
      "Early stopping occurred at epoch 50 with best_epoch = 40 and best_val_0_mse = 0.00582\n"
     ]
    },
    {
     "name": "stderr",
     "output_type": "stream",
     "text": [
      "C:\\Users\\franc\\AppData\\Local\\Packages\\PythonSoftwareFoundation.Python.3.10_qbz5n2kfra8p0\\LocalCache\\local-packages\\Python310\\site-packages\\pytorch_tabnet\\callbacks.py:172: UserWarning: Best weights from best epoch are automatically used!\n",
      "  warnings.warn(wrn_msg)\n"
     ]
    },
    {
     "name": "stdout",
     "output_type": "stream",
     "text": [
      "Model MSE: 0.006437 - Best MSE: 0.004804\n",
      "Model R2 Score: 0.971461 - Best R2 Score: 0.978703\n",
      "\n",
      "Iterations 59/120 - Hyperparameters:  batch_sizes=64, nums_epochs=100, n_d=16, n_a=16, n_step=5, n_indipendent=2, n_shared=3, gamma=1.3, epsilon=1e-08\n"
     ]
    },
    {
     "name": "stderr",
     "output_type": "stream",
     "text": [
      "C:\\Users\\franc\\AppData\\Local\\Packages\\PythonSoftwareFoundation.Python.3.10_qbz5n2kfra8p0\\LocalCache\\local-packages\\Python310\\site-packages\\pytorch_tabnet\\abstract_model.py:75: UserWarning: Device used : cuda\n",
      "  warnings.warn(f\"Device used : {self.device}\")\n"
     ]
    },
    {
     "name": "stdout",
     "output_type": "stream",
     "text": [
      "epoch 0  | loss: 0.83227 | val_0_mse: 0.1719  |  0:00:12s\n",
      "epoch 1  | loss: 0.14732 | val_0_mse: 0.1463  |  0:00:25s\n",
      "epoch 2  | loss: 0.08319 | val_0_mse: 0.08711 |  0:00:35s\n",
      "epoch 3  | loss: 0.0782  | val_0_mse: 0.07429 |  0:00:45s\n",
      "epoch 4  | loss: 0.07108 | val_0_mse: 0.05436 |  0:00:55s\n",
      "epoch 5  | loss: 0.06674 | val_0_mse: 0.04902 |  0:01:05s\n",
      "epoch 6  | loss: 0.0619  | val_0_mse: 0.04575 |  0:01:15s\n",
      "epoch 7  | loss: 0.05734 | val_0_mse: 0.06883 |  0:01:25s\n",
      "epoch 8  | loss: 0.05247 | val_0_mse: 0.04664 |  0:01:38s\n",
      "epoch 9  | loss: 0.05357 | val_0_mse: 0.03687 |  0:01:51s\n",
      "epoch 10 | loss: 0.04513 | val_0_mse: 0.0349  |  0:02:02s\n",
      "epoch 11 | loss: 0.03878 | val_0_mse: 0.03429 |  0:02:13s\n",
      "epoch 12 | loss: 0.03662 | val_0_mse: 0.02858 |  0:02:23s\n",
      "epoch 13 | loss: 0.0374  | val_0_mse: 0.0377  |  0:02:35s\n",
      "epoch 14 | loss: 0.02747 | val_0_mse: 0.01709 |  0:02:44s\n",
      "epoch 15 | loss: 0.02527 | val_0_mse: 0.02084 |  0:02:54s\n",
      "epoch 16 | loss: 0.02477 | val_0_mse: 0.01412 |  0:03:04s\n",
      "epoch 17 | loss: 0.02407 | val_0_mse: 0.00956 |  0:03:14s\n",
      "epoch 18 | loss: 0.02146 | val_0_mse: 0.00949 |  0:03:24s\n",
      "epoch 19 | loss: 0.01918 | val_0_mse: 0.00844 |  0:03:34s\n",
      "epoch 20 | loss: 0.01883 | val_0_mse: 0.02915 |  0:03:47s\n",
      "epoch 21 | loss: 0.01745 | val_0_mse: 0.03553 |  0:04:00s\n",
      "epoch 22 | loss: 0.02459 | val_0_mse: 0.01461 |  0:04:12s\n",
      "epoch 23 | loss: 0.01908 | val_0_mse: 0.01298 |  0:04:28s\n",
      "epoch 24 | loss: 0.0196  | val_0_mse: 0.01267 |  0:04:38s\n",
      "epoch 25 | loss: 0.01473 | val_0_mse: 0.00669 |  0:04:49s\n",
      "epoch 26 | loss: 0.01463 | val_0_mse: 0.01044 |  0:05:00s\n",
      "epoch 27 | loss: 0.02243 | val_0_mse: 0.00866 |  0:05:11s\n",
      "epoch 28 | loss: 0.01505 | val_0_mse: 0.01763 |  0:05:22s\n",
      "epoch 29 | loss: 0.01991 | val_0_mse: 0.00915 |  0:05:33s\n",
      "epoch 30 | loss: 0.01405 | val_0_mse: 0.00895 |  0:05:45s\n",
      "epoch 31 | loss: 0.01522 | val_0_mse: 0.01969 |  0:05:56s\n",
      "epoch 32 | loss: 0.0179  | val_0_mse: 0.0078  |  0:06:07s\n",
      "epoch 33 | loss: 0.01964 | val_0_mse: 0.04715 |  0:06:19s\n",
      "epoch 34 | loss: 0.01732 | val_0_mse: 0.01751 |  0:06:29s\n",
      "epoch 35 | loss: 0.01703 | val_0_mse: 0.03742 |  0:06:38s\n",
      "\n",
      "Early stopping occurred at epoch 35 with best_epoch = 25 and best_val_0_mse = 0.00669\n"
     ]
    },
    {
     "name": "stderr",
     "output_type": "stream",
     "text": [
      "C:\\Users\\franc\\AppData\\Local\\Packages\\PythonSoftwareFoundation.Python.3.10_qbz5n2kfra8p0\\LocalCache\\local-packages\\Python310\\site-packages\\pytorch_tabnet\\callbacks.py:172: UserWarning: Best weights from best epoch are automatically used!\n",
      "  warnings.warn(wrn_msg)\n"
     ]
    },
    {
     "name": "stdout",
     "output_type": "stream",
     "text": [
      "Model MSE: 0.007514 - Best MSE: 0.004804\n",
      "Model R2 Score: 0.966686 - Best R2 Score: 0.978703\n",
      "\n",
      "Iterations 60/120 - Hyperparameters:  batch_sizes=128, nums_epochs=100, n_d=16, n_a=16, n_step=5, n_indipendent=2, n_shared=3, gamma=1.3, epsilon=1e-08\n"
     ]
    },
    {
     "name": "stderr",
     "output_type": "stream",
     "text": [
      "C:\\Users\\franc\\AppData\\Local\\Packages\\PythonSoftwareFoundation.Python.3.10_qbz5n2kfra8p0\\LocalCache\\local-packages\\Python310\\site-packages\\pytorch_tabnet\\abstract_model.py:75: UserWarning: Device used : cuda\n",
      "  warnings.warn(f\"Device used : {self.device}\")\n"
     ]
    },
    {
     "name": "stdout",
     "output_type": "stream",
     "text": [
      "epoch 0  | loss: 1.27886 | val_0_mse: 0.33504 |  0:00:04s\n",
      "epoch 1  | loss: 0.18649 | val_0_mse: 0.14865 |  0:00:10s\n",
      "epoch 2  | loss: 0.09563 | val_0_mse: 0.10824 |  0:00:16s\n",
      "epoch 3  | loss: 0.08287 | val_0_mse: 0.10176 |  0:00:22s\n",
      "epoch 4  | loss: 0.07498 | val_0_mse: 0.10521 |  0:00:28s\n",
      "epoch 5  | loss: 0.07868 | val_0_mse: 0.06635 |  0:00:35s\n",
      "epoch 6  | loss: 0.06612 | val_0_mse: 0.05956 |  0:00:40s\n",
      "epoch 7  | loss: 0.0653  | val_0_mse: 0.08985 |  0:00:46s\n",
      "epoch 8  | loss: 0.06034 | val_0_mse: 0.04933 |  0:00:52s\n",
      "epoch 9  | loss: 0.05653 | val_0_mse: 0.04887 |  0:00:58s\n",
      "epoch 10 | loss: 0.05336 | val_0_mse: 0.05331 |  0:01:05s\n",
      "epoch 11 | loss: 0.05481 | val_0_mse: 0.04591 |  0:01:10s\n",
      "epoch 12 | loss: 0.05537 | val_0_mse: 0.05083 |  0:01:16s\n",
      "epoch 13 | loss: 0.05723 | val_0_mse: 0.05065 |  0:01:21s\n",
      "epoch 14 | loss: 0.05429 | val_0_mse: 0.06163 |  0:01:25s\n",
      "epoch 15 | loss: 0.05433 | val_0_mse: 0.04955 |  0:01:30s\n",
      "epoch 16 | loss: 0.05492 | val_0_mse: 0.05336 |  0:01:35s\n",
      "epoch 17 | loss: 0.05551 | val_0_mse: 0.04785 |  0:01:39s\n",
      "epoch 18 | loss: 0.04571 | val_0_mse: 0.04269 |  0:01:44s\n",
      "epoch 19 | loss: 0.04655 | val_0_mse: 0.04129 |  0:01:49s\n",
      "epoch 20 | loss: 0.04623 | val_0_mse: 0.04317 |  0:01:53s\n",
      "epoch 21 | loss: 0.04128 | val_0_mse: 0.03382 |  0:01:58s\n",
      "epoch 22 | loss: 0.03509 | val_0_mse: 0.03084 |  0:02:04s\n",
      "epoch 23 | loss: 0.03155 | val_0_mse: 0.02777 |  0:02:10s\n",
      "epoch 24 | loss: 0.0306  | val_0_mse: 0.02322 |  0:02:16s\n",
      "epoch 25 | loss: 0.02529 | val_0_mse: 0.02284 |  0:02:20s\n",
      "epoch 26 | loss: 0.0218  | val_0_mse: 0.02915 |  0:02:25s\n",
      "epoch 27 | loss: 0.02166 | val_0_mse: 0.01565 |  0:02:30s\n",
      "epoch 28 | loss: 0.01857 | val_0_mse: 0.01402 |  0:02:35s\n",
      "epoch 29 | loss: 0.01738 | val_0_mse: 0.01306 |  0:02:40s\n",
      "epoch 30 | loss: 0.0158  | val_0_mse: 0.00923 |  0:02:45s\n",
      "epoch 31 | loss: 0.0148  | val_0_mse: 0.00917 |  0:02:51s\n",
      "epoch 32 | loss: 0.01526 | val_0_mse: 0.00985 |  0:02:56s\n",
      "epoch 33 | loss: 0.01934 | val_0_mse: 0.02419 |  0:03:00s\n",
      "epoch 34 | loss: 0.01697 | val_0_mse: 0.01286 |  0:03:05s\n",
      "epoch 35 | loss: 0.01798 | val_0_mse: 0.01118 |  0:03:11s\n",
      "epoch 36 | loss: 0.01414 | val_0_mse: 0.00775 |  0:03:16s\n",
      "epoch 37 | loss: 0.01156 | val_0_mse: 0.0088  |  0:03:21s\n",
      "epoch 38 | loss: 0.01281 | val_0_mse: 0.00793 |  0:03:26s\n",
      "epoch 39 | loss: 0.01247 | val_0_mse: 0.01329 |  0:03:30s\n",
      "epoch 40 | loss: 0.01456 | val_0_mse: 0.03908 |  0:03:35s\n",
      "epoch 41 | loss: 0.01148 | val_0_mse: 0.00829 |  0:03:40s\n",
      "epoch 42 | loss: 0.01379 | val_0_mse: 0.02238 |  0:03:47s\n",
      "epoch 43 | loss: 0.01249 | val_0_mse: 0.01765 |  0:03:52s\n",
      "epoch 44 | loss: 0.01255 | val_0_mse: 0.01648 |  0:03:57s\n",
      "epoch 45 | loss: 0.01059 | val_0_mse: 0.01332 |  0:04:02s\n",
      "epoch 46 | loss: 0.01135 | val_0_mse: 0.00758 |  0:04:08s\n",
      "epoch 47 | loss: 0.01102 | val_0_mse: 0.00684 |  0:04:13s\n",
      "epoch 48 | loss: 0.01016 | val_0_mse: 0.0074  |  0:04:18s\n",
      "epoch 49 | loss: 0.0093  | val_0_mse: 0.01345 |  0:04:23s\n",
      "epoch 50 | loss: 0.0093  | val_0_mse: 0.00611 |  0:04:29s\n",
      "epoch 51 | loss: 0.0093  | val_0_mse: 0.02498 |  0:04:34s\n",
      "epoch 52 | loss: 0.01171 | val_0_mse: 0.01041 |  0:04:39s\n",
      "epoch 53 | loss: 0.0093  | val_0_mse: 0.00568 |  0:04:44s\n",
      "epoch 54 | loss: 0.01383 | val_0_mse: 0.01271 |  0:04:49s\n",
      "epoch 55 | loss: 0.01211 | val_0_mse: 0.01644 |  0:04:54s\n",
      "epoch 56 | loss: 0.01214 | val_0_mse: 0.00528 |  0:04:59s\n",
      "epoch 57 | loss: 0.00917 | val_0_mse: 0.00707 |  0:05:04s\n",
      "epoch 58 | loss: 0.00794 | val_0_mse: 0.00605 |  0:05:09s\n",
      "epoch 59 | loss: 0.01054 | val_0_mse: 0.00653 |  0:05:14s\n",
      "epoch 60 | loss: 0.00829 | val_0_mse: 0.01135 |  0:05:19s\n",
      "epoch 61 | loss: 0.0083  | val_0_mse: 0.00461 |  0:05:24s\n",
      "epoch 62 | loss: 0.00916 | val_0_mse: 0.00449 |  0:05:29s\n",
      "epoch 63 | loss: 0.00979 | val_0_mse: 0.00819 |  0:05:34s\n",
      "epoch 64 | loss: 0.00712 | val_0_mse: 0.00711 |  0:05:39s\n",
      "epoch 65 | loss: 0.01316 | val_0_mse: 0.00919 |  0:05:44s\n",
      "epoch 66 | loss: 0.00891 | val_0_mse: 0.0082  |  0:05:50s\n",
      "epoch 67 | loss: 0.00871 | val_0_mse: 0.01397 |  0:05:55s\n",
      "epoch 68 | loss: 0.00946 | val_0_mse: 0.00856 |  0:06:00s\n",
      "epoch 69 | loss: 0.00769 | val_0_mse: 0.00955 |  0:06:05s\n",
      "epoch 70 | loss: 0.0106  | val_0_mse: 0.01261 |  0:06:10s\n",
      "epoch 71 | loss: 0.00953 | val_0_mse: 0.00562 |  0:06:15s\n",
      "epoch 72 | loss: 0.00781 | val_0_mse: 0.01009 |  0:06:21s\n",
      "\n",
      "Early stopping occurred at epoch 72 with best_epoch = 62 and best_val_0_mse = 0.00449\n"
     ]
    },
    {
     "name": "stderr",
     "output_type": "stream",
     "text": [
      "C:\\Users\\franc\\AppData\\Local\\Packages\\PythonSoftwareFoundation.Python.3.10_qbz5n2kfra8p0\\LocalCache\\local-packages\\Python310\\site-packages\\pytorch_tabnet\\callbacks.py:172: UserWarning: Best weights from best epoch are automatically used!\n",
      "  warnings.warn(wrn_msg)\n"
     ]
    },
    {
     "name": "stdout",
     "output_type": "stream",
     "text": [
      "Model MSE: 0.004881 - Best MSE: 0.004804\n",
      "Model R2 Score: 0.978361 - Best R2 Score: 0.978703\n",
      "\n",
      "Iterations 61/120 - Hyperparameters:  batch_sizes=64, nums_epochs=100, n_d=16, n_a=16, n_step=5, n_indipendent=3, n_shared=2, gamma=1.3, epsilon=1e-08\n"
     ]
    },
    {
     "name": "stderr",
     "output_type": "stream",
     "text": [
      "C:\\Users\\franc\\AppData\\Local\\Packages\\PythonSoftwareFoundation.Python.3.10_qbz5n2kfra8p0\\LocalCache\\local-packages\\Python310\\site-packages\\pytorch_tabnet\\abstract_model.py:75: UserWarning: Device used : cuda\n",
      "  warnings.warn(f\"Device used : {self.device}\")\n"
     ]
    },
    {
     "name": "stdout",
     "output_type": "stream",
     "text": [
      "epoch 0  | loss: 1.24727 | val_0_mse: 0.2863  |  0:00:09s\n",
      "epoch 1  | loss: 0.12113 | val_0_mse: 0.08503 |  0:00:18s\n",
      "epoch 2  | loss: 0.08928 | val_0_mse: 0.07936 |  0:00:28s\n",
      "epoch 3  | loss: 0.08012 | val_0_mse: 0.0584  |  0:00:37s\n",
      "epoch 4  | loss: 0.08332 | val_0_mse: 0.07111 |  0:00:47s\n",
      "epoch 5  | loss: 0.07688 | val_0_mse: 0.11765 |  0:00:57s\n",
      "epoch 6  | loss: 0.07072 | val_0_mse: 0.05251 |  0:01:07s\n",
      "epoch 7  | loss: 0.06003 | val_0_mse: 0.05571 |  0:01:16s\n",
      "epoch 8  | loss: 0.05703 | val_0_mse: 0.0482  |  0:01:26s\n",
      "epoch 9  | loss: 0.05873 | val_0_mse: 0.04238 |  0:01:36s\n",
      "epoch 10 | loss: 0.04962 | val_0_mse: 0.04076 |  0:01:45s\n",
      "epoch 11 | loss: 0.0421  | val_0_mse: 0.03668 |  0:01:55s\n",
      "epoch 12 | loss: 0.03632 | val_0_mse: 0.02474 |  0:02:04s\n",
      "epoch 13 | loss: 0.03371 | val_0_mse: 0.04278 |  0:02:13s\n",
      "epoch 14 | loss: 0.04148 | val_0_mse: 0.02922 |  0:02:23s\n",
      "epoch 15 | loss: 0.02987 | val_0_mse: 0.02352 |  0:02:33s\n",
      "epoch 16 | loss: 0.03131 | val_0_mse: 0.05481 |  0:02:43s\n",
      "epoch 17 | loss: 0.02524 | val_0_mse: 0.01385 |  0:02:52s\n",
      "epoch 18 | loss: 0.02281 | val_0_mse: 0.0228  |  0:03:02s\n",
      "epoch 19 | loss: 0.02208 | val_0_mse: 0.03706 |  0:03:11s\n",
      "epoch 20 | loss: 0.02377 | val_0_mse: 0.01516 |  0:03:21s\n",
      "epoch 21 | loss: 0.02396 | val_0_mse: 0.03042 |  0:03:31s\n",
      "epoch 22 | loss: 0.02507 | val_0_mse: 0.01889 |  0:03:40s\n",
      "epoch 23 | loss: 0.01906 | val_0_mse: 0.02389 |  0:03:50s\n",
      "epoch 24 | loss: 0.01641 | val_0_mse: 0.01153 |  0:04:00s\n",
      "epoch 25 | loss: 0.01779 | val_0_mse: 0.02176 |  0:04:09s\n",
      "epoch 26 | loss: 0.01982 | val_0_mse: 0.02196 |  0:04:19s\n",
      "epoch 27 | loss: 0.02215 | val_0_mse: 0.01715 |  0:04:28s\n",
      "epoch 28 | loss: 0.01713 | val_0_mse: 0.01105 |  0:04:37s\n",
      "epoch 29 | loss: 0.0192  | val_0_mse: 0.01423 |  0:04:48s\n",
      "epoch 30 | loss: 0.02119 | val_0_mse: 0.03226 |  0:04:58s\n",
      "epoch 31 | loss: 0.01811 | val_0_mse: 0.01057 |  0:05:07s\n",
      "epoch 32 | loss: 0.01762 | val_0_mse: 0.04573 |  0:05:17s\n",
      "epoch 33 | loss: 0.01792 | val_0_mse: 0.01235 |  0:05:27s\n",
      "epoch 34 | loss: 0.01808 | val_0_mse: 0.01369 |  0:05:37s\n",
      "epoch 35 | loss: 0.0133  | val_0_mse: 0.0086  |  0:05:46s\n",
      "epoch 36 | loss: 0.01658 | val_0_mse: 0.0725  |  0:05:56s\n",
      "epoch 37 | loss: 0.0215  | val_0_mse: 0.02881 |  0:06:06s\n",
      "epoch 38 | loss: 0.0152  | val_0_mse: 0.02522 |  0:06:16s\n",
      "epoch 39 | loss: 0.01497 | val_0_mse: 0.03228 |  0:06:26s\n",
      "epoch 40 | loss: 0.01374 | val_0_mse: 0.03007 |  0:06:36s\n",
      "epoch 41 | loss: 0.01304 | val_0_mse: 0.03852 |  0:06:46s\n",
      "epoch 42 | loss: 0.01375 | val_0_mse: 0.01017 |  0:06:56s\n",
      "epoch 43 | loss: 0.01442 | val_0_mse: 0.00762 |  0:07:05s\n",
      "epoch 44 | loss: 0.01512 | val_0_mse: 0.00756 |  0:07:15s\n",
      "epoch 45 | loss: 0.01307 | val_0_mse: 0.01965 |  0:07:25s\n",
      "epoch 46 | loss: 0.01753 | val_0_mse: 0.01019 |  0:07:34s\n",
      "epoch 47 | loss: 0.01506 | val_0_mse: 0.03339 |  0:07:44s\n",
      "epoch 48 | loss: 0.01471 | val_0_mse: 0.02571 |  0:07:54s\n",
      "epoch 49 | loss: 0.01665 | val_0_mse: 0.01283 |  0:08:04s\n",
      "epoch 50 | loss: 0.01712 | val_0_mse: 0.00953 |  0:08:13s\n",
      "epoch 51 | loss: 0.01286 | val_0_mse: 0.00715 |  0:08:24s\n",
      "epoch 52 | loss: 0.01634 | val_0_mse: 0.01868 |  0:08:34s\n",
      "epoch 53 | loss: 0.01115 | val_0_mse: 0.01283 |  0:08:43s\n",
      "epoch 54 | loss: 0.01345 | val_0_mse: 0.01214 |  0:08:53s\n",
      "epoch 55 | loss: 0.01109 | val_0_mse: 0.00842 |  0:09:03s\n",
      "epoch 56 | loss: 0.01165 | val_0_mse: 0.01122 |  0:09:12s\n",
      "epoch 57 | loss: 0.01394 | val_0_mse: 0.00603 |  0:09:22s\n",
      "epoch 58 | loss: 0.01448 | val_0_mse: 0.00681 |  0:09:32s\n",
      "epoch 59 | loss: 0.01115 | val_0_mse: 0.01101 |  0:09:42s\n",
      "epoch 60 | loss: 0.01369 | val_0_mse: 0.00642 |  0:09:51s\n",
      "epoch 61 | loss: 0.01338 | val_0_mse: 0.01522 |  0:10:01s\n",
      "epoch 62 | loss: 0.01345 | val_0_mse: 0.00713 |  0:10:10s\n",
      "epoch 63 | loss: 0.01104 | val_0_mse: 0.02285 |  0:10:20s\n",
      "epoch 64 | loss: 0.01456 | val_0_mse: 0.0085  |  0:10:31s\n",
      "epoch 65 | loss: 0.01439 | val_0_mse: 0.01212 |  0:10:41s\n",
      "epoch 66 | loss: 0.0136  | val_0_mse: 0.01276 |  0:10:52s\n",
      "epoch 67 | loss: 0.01249 | val_0_mse: 0.01052 |  0:11:02s\n",
      "\n",
      "Early stopping occurred at epoch 67 with best_epoch = 57 and best_val_0_mse = 0.00603\n"
     ]
    },
    {
     "name": "stderr",
     "output_type": "stream",
     "text": [
      "C:\\Users\\franc\\AppData\\Local\\Packages\\PythonSoftwareFoundation.Python.3.10_qbz5n2kfra8p0\\LocalCache\\local-packages\\Python310\\site-packages\\pytorch_tabnet\\callbacks.py:172: UserWarning: Best weights from best epoch are automatically used!\n",
      "  warnings.warn(wrn_msg)\n"
     ]
    },
    {
     "name": "stdout",
     "output_type": "stream",
     "text": [
      "Model MSE: 0.005700 - Best MSE: 0.004804\n",
      "Model R2 Score: 0.974731 - Best R2 Score: 0.978703\n",
      "\n",
      "Iterations 62/120 - Hyperparameters:  batch_sizes=128, nums_epochs=100, n_d=16, n_a=16, n_step=5, n_indipendent=3, n_shared=2, gamma=1.3, epsilon=1e-08\n"
     ]
    },
    {
     "name": "stderr",
     "output_type": "stream",
     "text": [
      "C:\\Users\\franc\\AppData\\Local\\Packages\\PythonSoftwareFoundation.Python.3.10_qbz5n2kfra8p0\\LocalCache\\local-packages\\Python310\\site-packages\\pytorch_tabnet\\abstract_model.py:75: UserWarning: Device used : cuda\n",
      "  warnings.warn(f\"Device used : {self.device}\")\n"
     ]
    },
    {
     "name": "stdout",
     "output_type": "stream",
     "text": [
      "epoch 0  | loss: 2.15542 | val_0_mse: 0.73006 |  0:00:05s\n",
      "epoch 1  | loss: 0.2068  | val_0_mse: 0.27924 |  0:00:10s\n",
      "epoch 2  | loss: 0.11529 | val_0_mse: 0.21276 |  0:00:15s\n",
      "epoch 3  | loss: 0.091   | val_0_mse: 0.08584 |  0:00:20s\n",
      "epoch 4  | loss: 0.0744  | val_0_mse: 0.07325 |  0:00:25s\n",
      "epoch 5  | loss: 0.05729 | val_0_mse: 0.04152 |  0:00:31s\n",
      "epoch 6  | loss: 0.05112 | val_0_mse: 0.03632 |  0:00:36s\n",
      "epoch 7  | loss: 0.04618 | val_0_mse: 0.05269 |  0:00:41s\n",
      "epoch 8  | loss: 0.03633 | val_0_mse: 0.02448 |  0:00:46s\n",
      "epoch 9  | loss: 0.03413 | val_0_mse: 0.02439 |  0:00:52s\n",
      "epoch 10 | loss: 0.03116 | val_0_mse: 0.02419 |  0:00:57s\n",
      "epoch 11 | loss: 0.02316 | val_0_mse: 0.01605 |  0:01:02s\n",
      "epoch 12 | loss: 0.02276 | val_0_mse: 0.01673 |  0:01:07s\n",
      "epoch 13 | loss: 0.02424 | val_0_mse: 0.0566  |  0:01:12s\n",
      "epoch 14 | loss: 0.02305 | val_0_mse: 0.01905 |  0:01:17s\n",
      "epoch 15 | loss: 0.01964 | val_0_mse: 0.01147 |  0:01:22s\n",
      "epoch 16 | loss: 0.01822 | val_0_mse: 0.0226  |  0:01:27s\n",
      "epoch 17 | loss: 0.01832 | val_0_mse: 0.01496 |  0:01:33s\n",
      "epoch 18 | loss: 0.01958 | val_0_mse: 0.00932 |  0:01:38s\n",
      "epoch 19 | loss: 0.02458 | val_0_mse: 0.01972 |  0:01:43s\n",
      "epoch 20 | loss: 0.02074 | val_0_mse: 0.00986 |  0:01:48s\n",
      "epoch 21 | loss: 0.02128 | val_0_mse: 0.00845 |  0:01:53s\n",
      "epoch 22 | loss: 0.01477 | val_0_mse: 0.00842 |  0:01:58s\n",
      "epoch 23 | loss: 0.01303 | val_0_mse: 0.01023 |  0:02:04s\n",
      "epoch 24 | loss: 0.01656 | val_0_mse: 0.01786 |  0:02:09s\n",
      "epoch 25 | loss: 0.01782 | val_0_mse: 0.01095 |  0:02:14s\n",
      "epoch 26 | loss: 0.01488 | val_0_mse: 0.01175 |  0:02:19s\n",
      "epoch 27 | loss: 0.01594 | val_0_mse: 0.02065 |  0:02:24s\n",
      "epoch 28 | loss: 0.01753 | val_0_mse: 0.00686 |  0:02:31s\n",
      "epoch 29 | loss: 0.01324 | val_0_mse: 0.02899 |  0:02:37s\n",
      "epoch 30 | loss: 0.01623 | val_0_mse: 0.02435 |  0:02:42s\n",
      "epoch 31 | loss: 0.01563 | val_0_mse: 0.01603 |  0:02:48s\n",
      "epoch 32 | loss: 0.01403 | val_0_mse: 0.01608 |  0:02:54s\n",
      "epoch 33 | loss: 0.0189  | val_0_mse: 0.03385 |  0:02:59s\n",
      "epoch 34 | loss: 0.01769 | val_0_mse: 0.02616 |  0:03:05s\n",
      "epoch 35 | loss: 0.01628 | val_0_mse: 0.02226 |  0:03:10s\n",
      "epoch 36 | loss: 0.02077 | val_0_mse: 0.01349 |  0:03:16s\n",
      "epoch 37 | loss: 0.01367 | val_0_mse: 0.0071  |  0:03:21s\n",
      "epoch 38 | loss: 0.01205 | val_0_mse: 0.00616 |  0:03:26s\n",
      "epoch 39 | loss: 0.01279 | val_0_mse: 0.00684 |  0:03:30s\n",
      "epoch 40 | loss: 0.01226 | val_0_mse: 0.01617 |  0:03:35s\n",
      "epoch 41 | loss: 0.01435 | val_0_mse: 0.00843 |  0:03:41s\n",
      "epoch 42 | loss: 0.01111 | val_0_mse: 0.0129  |  0:03:46s\n",
      "epoch 43 | loss: 0.01311 | val_0_mse: 0.00736 |  0:03:52s\n",
      "epoch 44 | loss: 0.01197 | val_0_mse: 0.00537 |  0:03:58s\n",
      "epoch 45 | loss: 0.01308 | val_0_mse: 0.00487 |  0:04:04s\n",
      "epoch 46 | loss: 0.01321 | val_0_mse: 0.01007 |  0:04:10s\n",
      "epoch 47 | loss: 0.0101  | val_0_mse: 0.03979 |  0:04:16s\n",
      "epoch 48 | loss: 0.01224 | val_0_mse: 0.01508 |  0:04:22s\n",
      "epoch 49 | loss: 0.01482 | val_0_mse: 0.00676 |  0:04:29s\n",
      "epoch 50 | loss: 0.01181 | val_0_mse: 0.0157  |  0:04:35s\n",
      "epoch 51 | loss: 0.01294 | val_0_mse: 0.10033 |  0:04:40s\n",
      "epoch 52 | loss: 0.01515 | val_0_mse: 0.00844 |  0:04:46s\n",
      "epoch 53 | loss: 0.01354 | val_0_mse: 0.01393 |  0:04:51s\n",
      "epoch 54 | loss: 0.01191 | val_0_mse: 0.03895 |  0:04:57s\n",
      "epoch 55 | loss: 0.01616 | val_0_mse: 0.00942 |  0:05:02s\n",
      "\n",
      "Early stopping occurred at epoch 55 with best_epoch = 45 and best_val_0_mse = 0.00487\n"
     ]
    },
    {
     "name": "stderr",
     "output_type": "stream",
     "text": [
      "C:\\Users\\franc\\AppData\\Local\\Packages\\PythonSoftwareFoundation.Python.3.10_qbz5n2kfra8p0\\LocalCache\\local-packages\\Python310\\site-packages\\pytorch_tabnet\\callbacks.py:172: UserWarning: Best weights from best epoch are automatically used!\n",
      "  warnings.warn(wrn_msg)\n"
     ]
    },
    {
     "name": "stdout",
     "output_type": "stream",
     "text": [
      "Model MSE: 0.005064 - Best MSE: 0.004804\n",
      "Model R2 Score: 0.977551 - Best R2 Score: 0.978703\n",
      "\n",
      "Iterations 63/120 - Hyperparameters:  batch_sizes=64, nums_epochs=100, n_d=16, n_a=16, n_step=5, n_indipendent=3, n_shared=3, gamma=1.3, epsilon=1e-08\n"
     ]
    },
    {
     "name": "stderr",
     "output_type": "stream",
     "text": [
      "C:\\Users\\franc\\AppData\\Local\\Packages\\PythonSoftwareFoundation.Python.3.10_qbz5n2kfra8p0\\LocalCache\\local-packages\\Python310\\site-packages\\pytorch_tabnet\\abstract_model.py:75: UserWarning: Device used : cuda\n",
      "  warnings.warn(f\"Device used : {self.device}\")\n"
     ]
    },
    {
     "name": "stdout",
     "output_type": "stream",
     "text": [
      "epoch 0  | loss: 0.73965 | val_0_mse: 0.17328 |  0:00:12s\n",
      "epoch 1  | loss: 0.16103 | val_0_mse: 0.1443  |  0:00:23s\n",
      "epoch 2  | loss: 0.1406  | val_0_mse: 0.13664 |  0:00:35s\n",
      "epoch 3  | loss: 0.12008 | val_0_mse: 0.13728 |  0:00:47s\n",
      "epoch 4  | loss: 0.09625 | val_0_mse: 0.10717 |  0:00:58s\n",
      "epoch 5  | loss: 0.07152 | val_0_mse: 0.07017 |  0:01:10s\n",
      "epoch 6  | loss: 0.05482 | val_0_mse: 0.04687 |  0:01:21s\n",
      "epoch 7  | loss: 0.0521  | val_0_mse: 0.04121 |  0:01:33s\n",
      "epoch 8  | loss: 0.03655 | val_0_mse: 0.03134 |  0:01:45s\n",
      "epoch 9  | loss: 0.03102 | val_0_mse: 0.02541 |  0:01:57s\n",
      "epoch 10 | loss: 0.03408 | val_0_mse: 0.02227 |  0:02:07s\n",
      "epoch 11 | loss: 0.03802 | val_0_mse: 0.02353 |  0:02:16s\n",
      "epoch 12 | loss: 0.02482 | val_0_mse: 0.02529 |  0:02:25s\n",
      "epoch 13 | loss: 0.02963 | val_0_mse: 0.02298 |  0:02:35s\n",
      "epoch 14 | loss: 0.02449 | val_0_mse: 0.03254 |  0:02:45s\n",
      "epoch 15 | loss: 0.02597 | val_0_mse: 0.01613 |  0:02:55s\n",
      "epoch 16 | loss: 0.03027 | val_0_mse: 0.03065 |  0:03:05s\n",
      "epoch 17 | loss: 0.02989 | val_0_mse: 0.01824 |  0:03:15s\n",
      "epoch 18 | loss: 0.02661 | val_0_mse: 0.02011 |  0:03:25s\n",
      "epoch 19 | loss: 0.02238 | val_0_mse: 0.04586 |  0:03:35s\n",
      "epoch 20 | loss: 0.02371 | val_0_mse: 0.01244 |  0:03:45s\n",
      "epoch 21 | loss: 0.02429 | val_0_mse: 0.02265 |  0:03:55s\n",
      "epoch 22 | loss: 0.02838 | val_0_mse: 0.02131 |  0:04:04s\n",
      "epoch 23 | loss: 0.01915 | val_0_mse: 0.04618 |  0:04:17s\n",
      "epoch 24 | loss: 0.01763 | val_0_mse: 0.03079 |  0:04:29s\n",
      "epoch 25 | loss: 0.01848 | val_0_mse: 0.02078 |  0:04:42s\n",
      "epoch 26 | loss: 0.01476 | val_0_mse: 0.01525 |  0:04:54s\n",
      "epoch 27 | loss: 0.01648 | val_0_mse: 0.01063 |  0:05:06s\n",
      "epoch 28 | loss: 0.02176 | val_0_mse: 0.01098 |  0:05:18s\n",
      "epoch 29 | loss: 0.01711 | val_0_mse: 0.00892 |  0:05:30s\n",
      "epoch 30 | loss: 0.0203  | val_0_mse: 0.00863 |  0:05:42s\n",
      "epoch 31 | loss: 0.02018 | val_0_mse: 0.0083  |  0:05:54s\n",
      "epoch 32 | loss: 0.01519 | val_0_mse: 0.02146 |  0:06:06s\n",
      "epoch 33 | loss: 0.01886 | val_0_mse: 0.01091 |  0:06:18s\n",
      "epoch 34 | loss: 0.01627 | val_0_mse: 0.00779 |  0:06:30s\n",
      "epoch 35 | loss: 0.01524 | val_0_mse: 0.02293 |  0:06:42s\n",
      "epoch 36 | loss: 0.01535 | val_0_mse: 0.03668 |  0:06:54s\n",
      "epoch 37 | loss: 0.01547 | val_0_mse: 0.01476 |  0:07:06s\n",
      "epoch 38 | loss: 0.0165  | val_0_mse: 0.02423 |  0:07:18s\n",
      "epoch 39 | loss: 0.01618 | val_0_mse: 0.02104 |  0:07:30s\n",
      "epoch 40 | loss: 0.01815 | val_0_mse: 0.01767 |  0:07:41s\n",
      "epoch 41 | loss: 0.01321 | val_0_mse: 0.02676 |  0:07:54s\n",
      "epoch 42 | loss: 0.01328 | val_0_mse: 0.01211 |  0:08:06s\n",
      "epoch 43 | loss: 0.01179 | val_0_mse: 0.01047 |  0:08:18s\n",
      "epoch 44 | loss: 0.01344 | val_0_mse: 0.01825 |  0:08:30s\n",
      "\n",
      "Early stopping occurred at epoch 44 with best_epoch = 34 and best_val_0_mse = 0.00779\n"
     ]
    },
    {
     "name": "stderr",
     "output_type": "stream",
     "text": [
      "C:\\Users\\franc\\AppData\\Local\\Packages\\PythonSoftwareFoundation.Python.3.10_qbz5n2kfra8p0\\LocalCache\\local-packages\\Python310\\site-packages\\pytorch_tabnet\\callbacks.py:172: UserWarning: Best weights from best epoch are automatically used!\n",
      "  warnings.warn(wrn_msg)\n"
     ]
    },
    {
     "name": "stdout",
     "output_type": "stream",
     "text": [
      "Model MSE: 0.007745 - Best MSE: 0.004804\n",
      "Model R2 Score: 0.965665 - Best R2 Score: 0.978703\n",
      "\n",
      "Iterations 64/120 - Hyperparameters:  batch_sizes=128, nums_epochs=100, n_d=16, n_a=16, n_step=5, n_indipendent=3, n_shared=3, gamma=1.3, epsilon=1e-08\n"
     ]
    },
    {
     "name": "stderr",
     "output_type": "stream",
     "text": [
      "C:\\Users\\franc\\AppData\\Local\\Packages\\PythonSoftwareFoundation.Python.3.10_qbz5n2kfra8p0\\LocalCache\\local-packages\\Python310\\site-packages\\pytorch_tabnet\\abstract_model.py:75: UserWarning: Device used : cuda\n",
      "  warnings.warn(f\"Device used : {self.device}\")\n"
     ]
    },
    {
     "name": "stdout",
     "output_type": "stream",
     "text": [
      "epoch 0  | loss: 1.12499 | val_0_mse: 0.56267 |  0:00:06s\n",
      "epoch 1  | loss: 0.19809 | val_0_mse: 0.44957 |  0:00:12s\n",
      "epoch 2  | loss: 0.1186  | val_0_mse: 0.24347 |  0:00:18s\n",
      "epoch 3  | loss: 0.09914 | val_0_mse: 0.10286 |  0:00:23s\n",
      "epoch 4  | loss: 0.07956 | val_0_mse: 0.09995 |  0:00:28s\n",
      "epoch 5  | loss: 0.06813 | val_0_mse: 0.0568  |  0:00:34s\n",
      "epoch 6  | loss: 0.06115 | val_0_mse: 0.06977 |  0:00:39s\n",
      "epoch 7  | loss: 0.06495 | val_0_mse: 0.05328 |  0:00:45s\n",
      "epoch 8  | loss: 0.07001 | val_0_mse: 0.07184 |  0:00:50s\n",
      "epoch 9  | loss: 0.073   | val_0_mse: 0.05998 |  0:00:55s\n",
      "epoch 10 | loss: 0.05252 | val_0_mse: 0.06105 |  0:01:00s\n",
      "epoch 11 | loss: 0.05025 | val_0_mse: 0.05529 |  0:01:05s\n",
      "epoch 12 | loss: 0.04869 | val_0_mse: 0.03614 |  0:01:11s\n",
      "epoch 13 | loss: 0.04695 | val_0_mse: 0.04977 |  0:01:17s\n",
      "epoch 14 | loss: 0.04285 | val_0_mse: 0.03587 |  0:01:22s\n",
      "epoch 15 | loss: 0.04158 | val_0_mse: 0.02982 |  0:01:28s\n",
      "epoch 16 | loss: 0.0383  | val_0_mse: 0.07371 |  0:01:34s\n",
      "epoch 17 | loss: 0.03337 | val_0_mse: 0.02791 |  0:01:40s\n",
      "epoch 18 | loss: 0.03348 | val_0_mse: 0.03528 |  0:01:46s\n",
      "epoch 19 | loss: 0.03012 | val_0_mse: 0.03116 |  0:01:53s\n",
      "epoch 20 | loss: 0.03155 | val_0_mse: 0.02002 |  0:02:00s\n",
      "epoch 21 | loss: 0.02865 | val_0_mse: 0.01724 |  0:02:06s\n",
      "epoch 22 | loss: 0.02752 | val_0_mse: 0.01971 |  0:02:13s\n",
      "epoch 23 | loss: 0.02185 | val_0_mse: 0.01644 |  0:02:18s\n",
      "epoch 24 | loss: 0.02107 | val_0_mse: 0.03637 |  0:02:23s\n",
      "epoch 25 | loss: 0.02656 | val_0_mse: 0.03465 |  0:02:28s\n",
      "epoch 26 | loss: 0.02288 | val_0_mse: 0.01972 |  0:02:34s\n",
      "epoch 27 | loss: 0.02277 | val_0_mse: 0.01478 |  0:02:39s\n",
      "epoch 28 | loss: 0.01971 | val_0_mse: 0.05275 |  0:02:45s\n",
      "epoch 29 | loss: 0.01753 | val_0_mse: 0.01191 |  0:02:50s\n",
      "epoch 30 | loss: 0.01796 | val_0_mse: 0.01467 |  0:02:55s\n",
      "epoch 31 | loss: 0.021   | val_0_mse: 0.01282 |  0:03:00s\n",
      "epoch 32 | loss: 0.01748 | val_0_mse: 0.01284 |  0:03:06s\n",
      "epoch 33 | loss: 0.0168  | val_0_mse: 0.0282  |  0:03:11s\n",
      "epoch 34 | loss: 0.01936 | val_0_mse: 0.02828 |  0:03:16s\n",
      "epoch 35 | loss: 0.01864 | val_0_mse: 0.01245 |  0:03:22s\n",
      "epoch 36 | loss: 0.01719 | val_0_mse: 0.01074 |  0:03:28s\n",
      "epoch 37 | loss: 0.01465 | val_0_mse: 0.02177 |  0:03:34s\n",
      "epoch 38 | loss: 0.01398 | val_0_mse: 0.01309 |  0:03:40s\n",
      "epoch 39 | loss: 0.01529 | val_0_mse: 0.00971 |  0:03:45s\n",
      "epoch 40 | loss: 0.01499 | val_0_mse: 0.00741 |  0:03:50s\n",
      "epoch 41 | loss: 0.01253 | val_0_mse: 0.01372 |  0:03:56s\n",
      "epoch 42 | loss: 0.01652 | val_0_mse: 0.01454 |  0:04:01s\n",
      "epoch 43 | loss: 0.01433 | val_0_mse: 0.01359 |  0:04:07s\n",
      "epoch 44 | loss: 0.02164 | val_0_mse: 0.01315 |  0:04:13s\n",
      "epoch 45 | loss: 0.01751 | val_0_mse: 0.01653 |  0:04:18s\n",
      "epoch 46 | loss: 0.01302 | val_0_mse: 0.00935 |  0:04:23s\n",
      "epoch 47 | loss: 0.0119  | val_0_mse: 0.0088  |  0:04:28s\n",
      "epoch 48 | loss: 0.01433 | val_0_mse: 0.0075  |  0:04:34s\n",
      "epoch 49 | loss: 0.01206 | val_0_mse: 0.01289 |  0:04:39s\n",
      "epoch 50 | loss: 0.01139 | val_0_mse: 0.00735 |  0:04:44s\n",
      "epoch 51 | loss: 0.01329 | val_0_mse: 0.00784 |  0:04:49s\n",
      "epoch 52 | loss: 0.01468 | val_0_mse: 0.01296 |  0:04:54s\n",
      "epoch 53 | loss: 0.01353 | val_0_mse: 0.01045 |  0:04:59s\n",
      "epoch 54 | loss: 0.0132  | val_0_mse: 0.02759 |  0:05:05s\n",
      "epoch 55 | loss: 0.01921 | val_0_mse: 0.18896 |  0:05:10s\n",
      "epoch 56 | loss: 0.02516 | val_0_mse: 0.02664 |  0:05:15s\n",
      "epoch 57 | loss: 0.02499 | val_0_mse: 0.02294 |  0:05:20s\n",
      "epoch 58 | loss: 0.0143  | val_0_mse: 0.01074 |  0:05:25s\n",
      "epoch 59 | loss: 0.01292 | val_0_mse: 0.02942 |  0:05:30s\n",
      "epoch 60 | loss: 0.01385 | val_0_mse: 0.01424 |  0:05:36s\n",
      "\n",
      "Early stopping occurred at epoch 60 with best_epoch = 50 and best_val_0_mse = 0.00735\n"
     ]
    },
    {
     "name": "stderr",
     "output_type": "stream",
     "text": [
      "C:\\Users\\franc\\AppData\\Local\\Packages\\PythonSoftwareFoundation.Python.3.10_qbz5n2kfra8p0\\LocalCache\\local-packages\\Python310\\site-packages\\pytorch_tabnet\\callbacks.py:172: UserWarning: Best weights from best epoch are automatically used!\n",
      "  warnings.warn(wrn_msg)\n"
     ]
    },
    {
     "name": "stdout",
     "output_type": "stream",
     "text": [
      "Model MSE: 0.008859 - Best MSE: 0.004804\n",
      "Model R2 Score: 0.960725 - Best R2 Score: 0.978703\n",
      "\n",
      "Iterations 65/120 - Hyperparameters:  batch_sizes=64, nums_epochs=100, n_d=16, n_a=16, n_step=6, n_indipendent=2, n_shared=2, gamma=1.3, epsilon=1e-08\n"
     ]
    },
    {
     "name": "stderr",
     "output_type": "stream",
     "text": [
      "C:\\Users\\franc\\AppData\\Local\\Packages\\PythonSoftwareFoundation.Python.3.10_qbz5n2kfra8p0\\LocalCache\\local-packages\\Python310\\site-packages\\pytorch_tabnet\\abstract_model.py:75: UserWarning: Device used : cuda\n",
      "  warnings.warn(f\"Device used : {self.device}\")\n"
     ]
    },
    {
     "name": "stdout",
     "output_type": "stream",
     "text": [
      "epoch 0  | loss: 1.18831 | val_0_mse: 0.26648 |  0:00:09s\n",
      "epoch 1  | loss: 0.16154 | val_0_mse: 0.13016 |  0:00:17s\n",
      "epoch 2  | loss: 0.11671 | val_0_mse: 0.10897 |  0:00:25s\n",
      "epoch 3  | loss: 0.10503 | val_0_mse: 0.09147 |  0:00:34s\n",
      "epoch 4  | loss: 0.07596 | val_0_mse: 0.05333 |  0:00:43s\n",
      "epoch 5  | loss: 0.0647  | val_0_mse: 0.05059 |  0:00:51s\n",
      "epoch 6  | loss: 0.06759 | val_0_mse: 0.04712 |  0:01:00s\n",
      "epoch 7  | loss: 0.05455 | val_0_mse: 0.04781 |  0:01:09s\n",
      "epoch 8  | loss: 0.05073 | val_0_mse: 0.02845 |  0:01:18s\n",
      "epoch 9  | loss: 0.04149 | val_0_mse: 0.02273 |  0:01:27s\n",
      "epoch 10 | loss: 0.037   | val_0_mse: 0.06593 |  0:01:36s\n",
      "epoch 11 | loss: 0.03566 | val_0_mse: 0.02243 |  0:01:45s\n",
      "epoch 12 | loss: 0.03458 | val_0_mse: 0.03249 |  0:01:54s\n",
      "epoch 13 | loss: 0.02459 | val_0_mse: 0.02061 |  0:02:03s\n",
      "epoch 14 | loss: 0.02076 | val_0_mse: 0.02588 |  0:02:12s\n",
      "epoch 15 | loss: 0.02068 | val_0_mse: 0.02576 |  0:02:20s\n",
      "epoch 16 | loss: 0.02367 | val_0_mse: 0.13845 |  0:02:30s\n",
      "epoch 17 | loss: 0.02807 | val_0_mse: 0.02469 |  0:02:39s\n",
      "epoch 18 | loss: 0.0277  | val_0_mse: 0.01671 |  0:02:48s\n",
      "epoch 19 | loss: 0.02721 | val_0_mse: 0.02919 |  0:02:57s\n",
      "epoch 20 | loss: 0.03059 | val_0_mse: 0.01448 |  0:03:06s\n",
      "epoch 21 | loss: 0.0256  | val_0_mse: 0.04124 |  0:03:15s\n",
      "epoch 22 | loss: 0.02696 | val_0_mse: 0.01236 |  0:03:28s\n",
      "epoch 23 | loss: 0.01963 | val_0_mse: 0.01277 |  0:03:37s\n",
      "epoch 24 | loss: 0.02262 | val_0_mse: 0.0148  |  0:03:48s\n",
      "epoch 25 | loss: 0.01595 | val_0_mse: 0.02527 |  0:03:57s\n",
      "epoch 26 | loss: 0.01875 | val_0_mse: 0.00965 |  0:04:06s\n",
      "epoch 27 | loss: 0.01726 | val_0_mse: 0.05592 |  0:04:15s\n",
      "epoch 28 | loss: 0.01887 | val_0_mse: 0.12008 |  0:04:24s\n",
      "epoch 29 | loss: 0.01822 | val_0_mse: 0.03108 |  0:04:34s\n",
      "epoch 30 | loss: 0.0149  | val_0_mse: 0.0088  |  0:04:42s\n",
      "epoch 31 | loss: 0.01247 | val_0_mse: 0.01694 |  0:04:52s\n",
      "epoch 32 | loss: 0.01734 | val_0_mse: 0.00939 |  0:05:00s\n",
      "epoch 33 | loss: 0.01737 | val_0_mse: 0.00847 |  0:05:09s\n",
      "epoch 34 | loss: 0.01439 | val_0_mse: 0.00878 |  0:05:19s\n",
      "epoch 35 | loss: 0.0151  | val_0_mse: 0.0132  |  0:05:28s\n",
      "epoch 36 | loss: 0.01142 | val_0_mse: 0.00763 |  0:05:37s\n",
      "epoch 37 | loss: 0.01442 | val_0_mse: 0.02397 |  0:05:46s\n",
      "epoch 38 | loss: 0.01693 | val_0_mse: 0.01322 |  0:05:54s\n",
      "epoch 39 | loss: 0.0157  | val_0_mse: 0.06219 |  0:06:03s\n",
      "epoch 40 | loss: 0.01305 | val_0_mse: 0.01062 |  0:06:10s\n",
      "epoch 41 | loss: 0.01941 | val_0_mse: 0.02028 |  0:06:19s\n",
      "epoch 42 | loss: 0.01521 | val_0_mse: 0.01016 |  0:06:29s\n",
      "epoch 43 | loss: 0.01541 | val_0_mse: 0.00638 |  0:06:38s\n",
      "epoch 44 | loss: 0.01319 | val_0_mse: 0.00571 |  0:06:47s\n",
      "epoch 45 | loss: 0.01504 | val_0_mse: 0.00875 |  0:06:57s\n",
      "epoch 46 | loss: 0.01471 | val_0_mse: 0.01205 |  0:07:06s\n",
      "epoch 47 | loss: 0.01404 | val_0_mse: 0.02324 |  0:07:14s\n",
      "epoch 48 | loss: 0.01435 | val_0_mse: 0.01863 |  0:07:22s\n",
      "epoch 49 | loss: 0.01234 | val_0_mse: 0.01326 |  0:07:31s\n",
      "epoch 50 | loss: 0.01584 | val_0_mse: 0.021   |  0:07:40s\n",
      "epoch 51 | loss: 0.01758 | val_0_mse: 0.03481 |  0:07:50s\n",
      "epoch 52 | loss: 0.01408 | val_0_mse: 0.04184 |  0:07:59s\n",
      "epoch 53 | loss: 0.01573 | val_0_mse: 0.00874 |  0:08:08s\n",
      "epoch 54 | loss: 0.01412 | val_0_mse: 0.00529 |  0:08:18s\n",
      "epoch 55 | loss: 0.01363 | val_0_mse: 0.01259 |  0:08:28s\n",
      "epoch 56 | loss: 0.01385 | val_0_mse: 0.02468 |  0:08:37s\n",
      "epoch 57 | loss: 0.01486 | val_0_mse: 0.00962 |  0:08:46s\n",
      "epoch 58 | loss: 0.01782 | val_0_mse: 0.01667 |  0:08:56s\n",
      "epoch 59 | loss: 0.01674 | val_0_mse: 0.03244 |  0:09:05s\n",
      "epoch 60 | loss: 0.01748 | val_0_mse: 0.02399 |  0:09:15s\n",
      "epoch 61 | loss: 0.01407 | val_0_mse: 0.00856 |  0:09:24s\n",
      "epoch 62 | loss: 0.01222 | val_0_mse: 0.01057 |  0:09:34s\n",
      "epoch 63 | loss: 0.01377 | val_0_mse: 0.00777 |  0:09:44s\n",
      "epoch 64 | loss: 0.01202 | val_0_mse: 0.00854 |  0:09:54s\n",
      "\n",
      "Early stopping occurred at epoch 64 with best_epoch = 54 and best_val_0_mse = 0.00529\n"
     ]
    },
    {
     "name": "stderr",
     "output_type": "stream",
     "text": [
      "C:\\Users\\franc\\AppData\\Local\\Packages\\PythonSoftwareFoundation.Python.3.10_qbz5n2kfra8p0\\LocalCache\\local-packages\\Python310\\site-packages\\pytorch_tabnet\\callbacks.py:172: UserWarning: Best weights from best epoch are automatically used!\n",
      "  warnings.warn(wrn_msg)\n"
     ]
    },
    {
     "name": "stdout",
     "output_type": "stream",
     "text": [
      "Model MSE: 0.005433 - Best MSE: 0.004804\n",
      "Model R2 Score: 0.975914 - Best R2 Score: 0.978703\n",
      "\n",
      "Iterations 66/120 - Hyperparameters:  batch_sizes=128, nums_epochs=100, n_d=16, n_a=16, n_step=6, n_indipendent=2, n_shared=2, gamma=1.3, epsilon=1e-08\n"
     ]
    },
    {
     "name": "stderr",
     "output_type": "stream",
     "text": [
      "C:\\Users\\franc\\AppData\\Local\\Packages\\PythonSoftwareFoundation.Python.3.10_qbz5n2kfra8p0\\LocalCache\\local-packages\\Python310\\site-packages\\pytorch_tabnet\\abstract_model.py:75: UserWarning: Device used : cuda\n",
      "  warnings.warn(f\"Device used : {self.device}\")\n"
     ]
    },
    {
     "name": "stdout",
     "output_type": "stream",
     "text": [
      "epoch 0  | loss: 1.99909 | val_0_mse: 0.20634 |  0:00:04s\n",
      "epoch 1  | loss: 0.2466  | val_0_mse: 0.21183 |  0:00:09s\n",
      "epoch 2  | loss: 0.1414  | val_0_mse: 0.15723 |  0:00:14s\n",
      "epoch 3  | loss: 0.14432 | val_0_mse: 0.13729 |  0:00:18s\n",
      "epoch 4  | loss: 0.11803 | val_0_mse: 0.13387 |  0:00:23s\n",
      "epoch 5  | loss: 0.11378 | val_0_mse: 0.11259 |  0:00:28s\n",
      "epoch 6  | loss: 0.12578 | val_0_mse: 0.15439 |  0:00:33s\n",
      "epoch 7  | loss: 0.12036 | val_0_mse: 0.15131 |  0:00:37s\n",
      "epoch 8  | loss: 0.09929 | val_0_mse: 0.086   |  0:00:42s\n",
      "epoch 9  | loss: 0.09248 | val_0_mse: 0.07636 |  0:00:47s\n",
      "epoch 10 | loss: 0.08056 | val_0_mse: 0.06479 |  0:00:52s\n",
      "epoch 11 | loss: 0.06829 | val_0_mse: 0.07388 |  0:00:57s\n",
      "epoch 12 | loss: 0.06615 | val_0_mse: 0.06336 |  0:01:02s\n",
      "epoch 13 | loss: 0.05111 | val_0_mse: 0.06892 |  0:01:06s\n",
      "epoch 14 | loss: 0.04964 | val_0_mse: 0.12941 |  0:01:11s\n",
      "epoch 15 | loss: 0.04926 | val_0_mse: 0.14055 |  0:01:16s\n",
      "epoch 16 | loss: 0.04266 | val_0_mse: 0.25379 |  0:01:21s\n",
      "epoch 17 | loss: 0.0417  | val_0_mse: 0.0343  |  0:01:25s\n",
      "epoch 18 | loss: 0.0416  | val_0_mse: 0.02834 |  0:01:30s\n",
      "epoch 19 | loss: 0.03282 | val_0_mse: 0.02254 |  0:01:35s\n",
      "epoch 20 | loss: 0.03734 | val_0_mse: 0.02952 |  0:01:40s\n",
      "epoch 21 | loss: 0.03525 | val_0_mse: 0.01936 |  0:01:45s\n",
      "epoch 22 | loss: 0.02788 | val_0_mse: 0.02303 |  0:01:50s\n",
      "epoch 23 | loss: 0.02381 | val_0_mse: 0.02782 |  0:01:54s\n",
      "epoch 24 | loss: 0.02094 | val_0_mse: 0.02789 |  0:01:59s\n",
      "epoch 25 | loss: 0.02109 | val_0_mse: 0.02232 |  0:02:04s\n",
      "epoch 26 | loss: 0.02103 | val_0_mse: 0.01731 |  0:02:09s\n",
      "epoch 27 | loss: 0.01911 | val_0_mse: 0.02515 |  0:02:14s\n",
      "epoch 28 | loss: 0.02639 | val_0_mse: 0.01739 |  0:02:18s\n",
      "epoch 29 | loss: 0.02624 | val_0_mse: 0.04941 |  0:02:23s\n",
      "epoch 30 | loss: 0.0264  | val_0_mse: 0.02783 |  0:02:28s\n",
      "epoch 31 | loss: 0.0182  | val_0_mse: 0.19692 |  0:02:33s\n",
      "epoch 32 | loss: 0.01997 | val_0_mse: 0.01246 |  0:02:38s\n",
      "epoch 33 | loss: 0.02444 | val_0_mse: 0.01049 |  0:02:42s\n",
      "epoch 34 | loss: 0.01828 | val_0_mse: 0.01398 |  0:02:47s\n",
      "epoch 35 | loss: 0.01745 | val_0_mse: 0.01854 |  0:02:52s\n",
      "epoch 36 | loss: 0.01628 | val_0_mse: 0.02603 |  0:02:57s\n",
      "epoch 37 | loss: 0.02082 | val_0_mse: 0.01228 |  0:03:02s\n",
      "epoch 38 | loss: 0.02007 | val_0_mse: 0.06045 |  0:03:06s\n",
      "epoch 39 | loss: 0.02171 | val_0_mse: 0.01939 |  0:03:11s\n",
      "epoch 40 | loss: 0.01685 | val_0_mse: 0.01995 |  0:03:16s\n",
      "epoch 41 | loss: 0.02166 | val_0_mse: 0.02634 |  0:03:21s\n",
      "epoch 42 | loss: 0.01283 | val_0_mse: 0.01984 |  0:03:26s\n",
      "epoch 43 | loss: 0.01963 | val_0_mse: 0.00945 |  0:03:31s\n",
      "epoch 44 | loss: 0.01827 | val_0_mse: 0.02523 |  0:03:35s\n",
      "epoch 45 | loss: 0.01415 | val_0_mse: 0.03433 |  0:03:40s\n",
      "epoch 46 | loss: 0.01617 | val_0_mse: 0.03573 |  0:03:45s\n",
      "epoch 47 | loss: 0.02439 | val_0_mse: 0.01331 |  0:03:50s\n",
      "epoch 48 | loss: 0.01338 | val_0_mse: 0.01592 |  0:03:55s\n",
      "epoch 49 | loss: 0.01571 | val_0_mse: 0.00757 |  0:04:00s\n",
      "epoch 50 | loss: 0.01115 | val_0_mse: 0.00917 |  0:04:04s\n",
      "epoch 51 | loss: 0.01662 | val_0_mse: 0.01097 |  0:04:09s\n",
      "epoch 52 | loss: 0.01232 | val_0_mse: 0.28318 |  0:04:13s\n",
      "epoch 53 | loss: 0.0124  | val_0_mse: 0.07387 |  0:04:18s\n",
      "epoch 54 | loss: 0.01457 | val_0_mse: 0.27503 |  0:04:22s\n",
      "epoch 55 | loss: 0.0097  | val_0_mse: 0.01124 |  0:04:27s\n",
      "epoch 56 | loss: 0.01096 | val_0_mse: 0.01481 |  0:04:32s\n",
      "epoch 57 | loss: 0.01167 | val_0_mse: 0.0122  |  0:04:36s\n",
      "epoch 58 | loss: 0.01043 | val_0_mse: 0.00723 |  0:04:40s\n",
      "epoch 59 | loss: 0.01223 | val_0_mse: 0.01335 |  0:04:45s\n",
      "epoch 60 | loss: 0.01053 | val_0_mse: 0.00659 |  0:04:50s\n",
      "epoch 61 | loss: 0.01051 | val_0_mse: 0.01823 |  0:04:55s\n",
      "epoch 62 | loss: 0.00957 | val_0_mse: 0.00965 |  0:05:00s\n",
      "epoch 63 | loss: 0.01347 | val_0_mse: 0.00687 |  0:05:05s\n",
      "epoch 64 | loss: 0.01166 | val_0_mse: 0.00873 |  0:05:10s\n",
      "epoch 65 | loss: 0.01181 | val_0_mse: 0.00799 |  0:05:15s\n",
      "epoch 66 | loss: 0.01083 | val_0_mse: 0.00665 |  0:05:20s\n",
      "epoch 67 | loss: 0.01372 | val_0_mse: 0.00614 |  0:05:24s\n",
      "epoch 68 | loss: 0.00869 | val_0_mse: 0.00939 |  0:05:29s\n",
      "epoch 69 | loss: 0.00967 | val_0_mse: 0.0074  |  0:05:34s\n",
      "epoch 70 | loss: 0.01014 | val_0_mse: 0.00923 |  0:05:39s\n",
      "epoch 71 | loss: 0.00818 | val_0_mse: 0.00722 |  0:05:44s\n",
      "epoch 72 | loss: 0.01023 | val_0_mse: 0.06016 |  0:05:48s\n",
      "epoch 73 | loss: 0.02438 | val_0_mse: 0.01313 |  0:05:53s\n",
      "epoch 74 | loss: 0.01675 | val_0_mse: 0.18226 |  0:05:58s\n",
      "epoch 75 | loss: 0.01069 | val_0_mse: 0.02135 |  0:06:03s\n",
      "epoch 76 | loss: 0.00979 | val_0_mse: 0.39362 |  0:06:08s\n",
      "epoch 77 | loss: 0.01073 | val_0_mse: 0.01876 |  0:06:13s\n",
      "\n",
      "Early stopping occurred at epoch 77 with best_epoch = 67 and best_val_0_mse = 0.00614\n"
     ]
    },
    {
     "name": "stderr",
     "output_type": "stream",
     "text": [
      "C:\\Users\\franc\\AppData\\Local\\Packages\\PythonSoftwareFoundation.Python.3.10_qbz5n2kfra8p0\\LocalCache\\local-packages\\Python310\\site-packages\\pytorch_tabnet\\callbacks.py:172: UserWarning: Best weights from best epoch are automatically used!\n",
      "  warnings.warn(wrn_msg)\n"
     ]
    },
    {
     "name": "stdout",
     "output_type": "stream",
     "text": [
      "Model MSE: 0.008771 - Best MSE: 0.004804\n",
      "Model R2 Score: 0.961115 - Best R2 Score: 0.978703\n",
      "\n",
      "Iterations 67/120 - Hyperparameters:  batch_sizes=64, nums_epochs=100, n_d=16, n_a=16, n_step=6, n_indipendent=2, n_shared=3, gamma=1.3, epsilon=1e-08\n"
     ]
    },
    {
     "name": "stderr",
     "output_type": "stream",
     "text": [
      "C:\\Users\\franc\\AppData\\Local\\Packages\\PythonSoftwareFoundation.Python.3.10_qbz5n2kfra8p0\\LocalCache\\local-packages\\Python310\\site-packages\\pytorch_tabnet\\abstract_model.py:75: UserWarning: Device used : cuda\n",
      "  warnings.warn(f\"Device used : {self.device}\")\n"
     ]
    },
    {
     "name": "stdout",
     "output_type": "stream",
     "text": [
      "epoch 0  | loss: 1.73876 | val_0_mse: 0.21892 |  0:00:09s\n",
      "epoch 1  | loss: 0.20865 | val_0_mse: 0.16674 |  0:00:19s\n",
      "epoch 2  | loss: 0.14844 | val_0_mse: 0.10483 |  0:00:30s\n",
      "epoch 3  | loss: 0.10697 | val_0_mse: 0.07741 |  0:00:41s\n",
      "epoch 4  | loss: 0.08591 | val_0_mse: 0.10244 |  0:00:52s\n",
      "epoch 5  | loss: 0.07746 | val_0_mse: 0.05684 |  0:01:03s\n",
      "epoch 6  | loss: 0.06893 | val_0_mse: 0.05505 |  0:01:13s\n",
      "epoch 7  | loss: 0.06715 | val_0_mse: 0.11848 |  0:01:25s\n",
      "epoch 8  | loss: 0.06966 | val_0_mse: 0.13569 |  0:01:35s\n",
      "epoch 9  | loss: 0.06398 | val_0_mse: 0.06408 |  0:01:44s\n",
      "epoch 10 | loss: 0.06467 | val_0_mse: 0.04408 |  0:01:54s\n",
      "epoch 11 | loss: 0.04873 | val_0_mse: 0.03964 |  0:02:04s\n",
      "epoch 12 | loss: 0.05069 | val_0_mse: 0.05525 |  0:02:14s\n",
      "epoch 13 | loss: 0.04726 | val_0_mse: 0.03428 |  0:02:24s\n",
      "epoch 14 | loss: 0.03887 | val_0_mse: 0.06264 |  0:02:33s\n",
      "epoch 15 | loss: 0.05461 | val_0_mse: 0.02812 |  0:02:43s\n",
      "epoch 16 | loss: 0.03511 | val_0_mse: 0.05235 |  0:02:53s\n",
      "epoch 17 | loss: 0.03561 | val_0_mse: 0.05867 |  0:03:03s\n",
      "epoch 18 | loss: 0.03158 | val_0_mse: 0.02123 |  0:03:12s\n",
      "epoch 19 | loss: 0.02992 | val_0_mse: 0.0218  |  0:03:22s\n",
      "epoch 20 | loss: 0.02733 | val_0_mse: 0.0199  |  0:03:32s\n",
      "epoch 21 | loss: 0.02581 | val_0_mse: 0.01355 |  0:03:43s\n",
      "epoch 22 | loss: 0.02067 | val_0_mse: 0.0152  |  0:03:53s\n",
      "epoch 23 | loss: 0.02537 | val_0_mse: 0.0288  |  0:04:03s\n",
      "epoch 24 | loss: 0.02748 | val_0_mse: 0.01405 |  0:04:12s\n",
      "epoch 25 | loss: 0.01872 | val_0_mse: 0.01662 |  0:04:22s\n",
      "epoch 26 | loss: 0.01979 | val_0_mse: 0.02928 |  0:04:32s\n",
      "epoch 27 | loss: 0.02313 | val_0_mse: 0.01542 |  0:04:42s\n",
      "epoch 28 | loss: 0.01543 | val_0_mse: 0.0108  |  0:04:51s\n",
      "epoch 29 | loss: 0.01855 | val_0_mse: 0.00979 |  0:05:01s\n",
      "epoch 30 | loss: 0.02298 | val_0_mse: 0.02744 |  0:05:11s\n",
      "epoch 31 | loss: 0.0164  | val_0_mse: 0.01497 |  0:05:21s\n",
      "epoch 32 | loss: 0.01665 | val_0_mse: 0.02982 |  0:05:31s\n",
      "epoch 33 | loss: 0.01711 | val_0_mse: 0.01081 |  0:05:41s\n",
      "epoch 34 | loss: 0.01519 | val_0_mse: 0.01305 |  0:05:51s\n",
      "epoch 35 | loss: 0.01429 | val_0_mse: 0.038   |  0:06:00s\n",
      "epoch 36 | loss: 0.01516 | val_0_mse: 0.01873 |  0:06:11s\n",
      "epoch 37 | loss: 0.01317 | val_0_mse: 0.01574 |  0:06:22s\n",
      "epoch 38 | loss: 0.0181  | val_0_mse: 0.00904 |  0:06:33s\n",
      "epoch 39 | loss: 0.01655 | val_0_mse: 0.00916 |  0:06:43s\n",
      "epoch 40 | loss: 0.0153  | val_0_mse: 0.10375 |  0:06:54s\n",
      "epoch 41 | loss: 0.01567 | val_0_mse: 0.01765 |  0:07:05s\n",
      "epoch 42 | loss: 0.01449 | val_0_mse: 0.00786 |  0:07:16s\n",
      "epoch 43 | loss: 0.01451 | val_0_mse: 0.01735 |  0:07:27s\n",
      "epoch 44 | loss: 0.01439 | val_0_mse: 0.00895 |  0:07:38s\n",
      "epoch 45 | loss: 0.01576 | val_0_mse: 0.00938 |  0:07:48s\n",
      "epoch 46 | loss: 0.01528 | val_0_mse: 0.02618 |  0:08:01s\n",
      "epoch 47 | loss: 0.01314 | val_0_mse: 0.00739 |  0:08:13s\n",
      "epoch 48 | loss: 0.01318 | val_0_mse: 0.00748 |  0:08:26s\n",
      "epoch 49 | loss: 0.01404 | val_0_mse: 0.00747 |  0:08:38s\n",
      "epoch 50 | loss: 0.01269 | val_0_mse: 0.01815 |  0:08:49s\n",
      "epoch 51 | loss: 0.01688 | val_0_mse: 0.00659 |  0:09:01s\n",
      "epoch 52 | loss: 0.01083 | val_0_mse: 0.01404 |  0:09:13s\n",
      "epoch 53 | loss: 0.01684 | val_0_mse: 0.02536 |  0:09:24s\n",
      "epoch 54 | loss: 0.01424 | val_0_mse: 0.01569 |  0:09:35s\n",
      "epoch 55 | loss: 0.01515 | val_0_mse: 0.01548 |  0:09:47s\n",
      "epoch 56 | loss: 0.01575 | val_0_mse: 0.01328 |  0:09:58s\n",
      "epoch 57 | loss: 0.01319 | val_0_mse: 0.01864 |  0:10:10s\n",
      "epoch 58 | loss: 0.01179 | val_0_mse: 0.00671 |  0:10:21s\n",
      "epoch 59 | loss: 0.01315 | val_0_mse: 0.02152 |  0:10:33s\n",
      "epoch 60 | loss: 0.01358 | val_0_mse: 0.01038 |  0:10:44s\n",
      "epoch 61 | loss: 0.01006 | val_0_mse: 0.00843 |  0:10:56s\n",
      "\n",
      "Early stopping occurred at epoch 61 with best_epoch = 51 and best_val_0_mse = 0.00659\n"
     ]
    },
    {
     "name": "stderr",
     "output_type": "stream",
     "text": [
      "C:\\Users\\franc\\AppData\\Local\\Packages\\PythonSoftwareFoundation.Python.3.10_qbz5n2kfra8p0\\LocalCache\\local-packages\\Python310\\site-packages\\pytorch_tabnet\\callbacks.py:172: UserWarning: Best weights from best epoch are automatically used!\n",
      "  warnings.warn(wrn_msg)\n"
     ]
    },
    {
     "name": "stdout",
     "output_type": "stream",
     "text": [
      "Model MSE: 0.006789 - Best MSE: 0.004804\n",
      "Model R2 Score: 0.969901 - Best R2 Score: 0.978703\n",
      "\n",
      "Iterations 68/120 - Hyperparameters:  batch_sizes=128, nums_epochs=100, n_d=16, n_a=16, n_step=6, n_indipendent=2, n_shared=3, gamma=1.3, epsilon=1e-08\n"
     ]
    },
    {
     "name": "stderr",
     "output_type": "stream",
     "text": [
      "C:\\Users\\franc\\AppData\\Local\\Packages\\PythonSoftwareFoundation.Python.3.10_qbz5n2kfra8p0\\LocalCache\\local-packages\\Python310\\site-packages\\pytorch_tabnet\\abstract_model.py:75: UserWarning: Device used : cuda\n",
      "  warnings.warn(f\"Device used : {self.device}\")\n"
     ]
    },
    {
     "name": "stdout",
     "output_type": "stream",
     "text": [
      "epoch 0  | loss: 2.99334 | val_0_mse: 0.52265 |  0:00:06s\n",
      "epoch 1  | loss: 0.24156 | val_0_mse: 0.32781 |  0:00:12s\n",
      "epoch 2  | loss: 0.15308 | val_0_mse: 0.11308 |  0:00:19s\n",
      "epoch 3  | loss: 0.13118 | val_0_mse: 0.11578 |  0:00:25s\n",
      "epoch 4  | loss: 0.11439 | val_0_mse: 0.10321 |  0:00:32s\n",
      "epoch 5  | loss: 0.08442 | val_0_mse: 0.09589 |  0:00:38s\n",
      "epoch 6  | loss: 0.08994 | val_0_mse: 0.06094 |  0:00:44s\n",
      "epoch 7  | loss: 0.07948 | val_0_mse: 0.07676 |  0:00:51s\n",
      "epoch 8  | loss: 0.0739  | val_0_mse: 0.0684  |  0:00:57s\n",
      "epoch 9  | loss: 0.06867 | val_0_mse: 0.05543 |  0:01:04s\n",
      "epoch 10 | loss: 0.06061 | val_0_mse: 0.06185 |  0:01:10s\n",
      "epoch 11 | loss: 0.0588  | val_0_mse: 0.04796 |  0:01:16s\n",
      "epoch 12 | loss: 0.0578  | val_0_mse: 0.05361 |  0:01:23s\n",
      "epoch 13 | loss: 0.05198 | val_0_mse: 0.04633 |  0:01:29s\n",
      "epoch 14 | loss: 0.05076 | val_0_mse: 0.06867 |  0:01:35s\n",
      "epoch 15 | loss: 0.04977 | val_0_mse: 0.0507  |  0:01:42s\n",
      "epoch 16 | loss: 0.05045 | val_0_mse: 0.04175 |  0:01:48s\n",
      "epoch 17 | loss: 0.04837 | val_0_mse: 0.04237 |  0:01:54s\n",
      "epoch 18 | loss: 0.04724 | val_0_mse: 0.06338 |  0:02:01s\n",
      "epoch 19 | loss: 0.04942 | val_0_mse: 0.03725 |  0:02:06s\n",
      "epoch 20 | loss: 0.04762 | val_0_mse: 0.04038 |  0:02:12s\n",
      "epoch 21 | loss: 0.03637 | val_0_mse: 0.03236 |  0:02:17s\n",
      "epoch 22 | loss: 0.03245 | val_0_mse: 0.03197 |  0:02:22s\n",
      "epoch 23 | loss: 0.037   | val_0_mse: 0.0299  |  0:02:27s\n",
      "epoch 24 | loss: 0.032   | val_0_mse: 0.02642 |  0:02:31s\n",
      "epoch 25 | loss: 0.02849 | val_0_mse: 0.02309 |  0:02:37s\n",
      "epoch 26 | loss: 0.02649 | val_0_mse: 0.02231 |  0:02:42s\n",
      "epoch 27 | loss: 0.02199 | val_0_mse: 0.01873 |  0:02:46s\n",
      "epoch 28 | loss: 0.01997 | val_0_mse: 0.02231 |  0:02:51s\n",
      "epoch 29 | loss: 0.0258  | val_0_mse: 0.02264 |  0:02:56s\n",
      "epoch 30 | loss: 0.02222 | val_0_mse: 0.02329 |  0:03:01s\n",
      "epoch 31 | loss: 0.01915 | val_0_mse: 0.02647 |  0:03:06s\n",
      "epoch 32 | loss: 0.01638 | val_0_mse: 0.01821 |  0:03:12s\n",
      "epoch 33 | loss: 0.02109 | val_0_mse: 0.01914 |  0:03:17s\n",
      "epoch 34 | loss: 0.01652 | val_0_mse: 0.01239 |  0:03:22s\n",
      "epoch 35 | loss: 0.01999 | val_0_mse: 0.02106 |  0:03:27s\n",
      "epoch 36 | loss: 0.0166  | val_0_mse: 0.0228  |  0:03:32s\n",
      "epoch 37 | loss: 0.01565 | val_0_mse: 0.01585 |  0:03:37s\n",
      "epoch 38 | loss: 0.01508 | val_0_mse: 0.01992 |  0:03:43s\n",
      "epoch 39 | loss: 0.01739 | val_0_mse: 0.02247 |  0:03:48s\n",
      "epoch 40 | loss: 0.01962 | val_0_mse: 0.00914 |  0:03:53s\n",
      "epoch 41 | loss: 0.01427 | val_0_mse: 0.00853 |  0:03:59s\n",
      "epoch 42 | loss: 0.01299 | val_0_mse: 0.02028 |  0:04:04s\n",
      "epoch 43 | loss: 0.01224 | val_0_mse: 0.01068 |  0:04:09s\n",
      "epoch 44 | loss: 0.0125  | val_0_mse: 0.01185 |  0:04:14s\n",
      "epoch 45 | loss: 0.01125 | val_0_mse: 0.00757 |  0:04:20s\n",
      "epoch 46 | loss: 0.01773 | val_0_mse: 0.01468 |  0:04:26s\n",
      "epoch 47 | loss: 0.0138  | val_0_mse: 0.00754 |  0:04:32s\n",
      "epoch 48 | loss: 0.01439 | val_0_mse: 0.00835 |  0:04:38s\n",
      "epoch 49 | loss: 0.01374 | val_0_mse: 0.01298 |  0:04:43s\n",
      "epoch 50 | loss: 0.012   | val_0_mse: 0.0541  |  0:04:49s\n",
      "epoch 51 | loss: 0.01304 | val_0_mse: 0.00867 |  0:04:54s\n",
      "epoch 52 | loss: 0.0123  | val_0_mse: 0.01603 |  0:04:59s\n",
      "epoch 53 | loss: 0.01459 | val_0_mse: 0.04851 |  0:05:05s\n",
      "epoch 54 | loss: 0.012   | val_0_mse: 0.00842 |  0:05:10s\n",
      "epoch 55 | loss: 0.01167 | val_0_mse: 0.00684 |  0:05:15s\n",
      "epoch 56 | loss: 0.01203 | val_0_mse: 0.02138 |  0:05:20s\n",
      "epoch 57 | loss: 0.01214 | val_0_mse: 0.10183 |  0:05:26s\n",
      "epoch 58 | loss: 0.01143 | val_0_mse: 0.00909 |  0:05:31s\n",
      "epoch 59 | loss: 0.01092 | val_0_mse: 0.00595 |  0:05:36s\n",
      "epoch 60 | loss: 0.012   | val_0_mse: 0.00926 |  0:05:41s\n",
      "epoch 61 | loss: 0.00906 | val_0_mse: 0.00532 |  0:05:46s\n",
      "epoch 62 | loss: 0.00993 | val_0_mse: 0.00873 |  0:05:52s\n",
      "epoch 63 | loss: 0.01065 | val_0_mse: 0.011   |  0:05:57s\n",
      "epoch 64 | loss: 0.01213 | val_0_mse: 0.01986 |  0:06:03s\n",
      "epoch 65 | loss: 0.01135 | val_0_mse: 0.01029 |  0:06:08s\n",
      "epoch 66 | loss: 0.01027 | val_0_mse: 0.0062  |  0:06:13s\n",
      "epoch 67 | loss: 0.0088  | val_0_mse: 0.00566 |  0:06:19s\n",
      "epoch 68 | loss: 0.00917 | val_0_mse: 0.01505 |  0:06:24s\n",
      "epoch 69 | loss: 0.01021 | val_0_mse: 0.00845 |  0:06:29s\n",
      "epoch 70 | loss: 0.00992 | val_0_mse: 0.00522 |  0:06:35s\n",
      "epoch 71 | loss: 0.00829 | val_0_mse: 0.00703 |  0:06:40s\n",
      "epoch 72 | loss: 0.01018 | val_0_mse: 0.00576 |  0:06:45s\n",
      "epoch 73 | loss: 0.01078 | val_0_mse: 0.01172 |  0:06:50s\n",
      "epoch 74 | loss: 0.00938 | val_0_mse: 0.00465 |  0:06:55s\n",
      "epoch 75 | loss: 0.01024 | val_0_mse: 0.01597 |  0:07:00s\n",
      "epoch 76 | loss: 0.00911 | val_0_mse: 0.00688 |  0:07:06s\n",
      "epoch 77 | loss: 0.01244 | val_0_mse: 0.01487 |  0:07:11s\n",
      "epoch 78 | loss: 0.0087  | val_0_mse: 0.01045 |  0:07:17s\n",
      "epoch 79 | loss: 0.00916 | val_0_mse: 0.00494 |  0:07:22s\n",
      "epoch 80 | loss: 0.01062 | val_0_mse: 0.00789 |  0:07:28s\n",
      "epoch 81 | loss: 0.00841 | val_0_mse: 0.00941 |  0:07:33s\n",
      "epoch 82 | loss: 0.00837 | val_0_mse: 0.0206  |  0:07:40s\n",
      "epoch 83 | loss: 0.01191 | val_0_mse: 0.00895 |  0:07:45s\n",
      "epoch 84 | loss: 0.009   | val_0_mse: 0.00868 |  0:07:51s\n",
      "\n",
      "Early stopping occurred at epoch 84 with best_epoch = 74 and best_val_0_mse = 0.00465\n"
     ]
    },
    {
     "name": "stderr",
     "output_type": "stream",
     "text": [
      "C:\\Users\\franc\\AppData\\Local\\Packages\\PythonSoftwareFoundation.Python.3.10_qbz5n2kfra8p0\\LocalCache\\local-packages\\Python310\\site-packages\\pytorch_tabnet\\callbacks.py:172: UserWarning: Best weights from best epoch are automatically used!\n",
      "  warnings.warn(wrn_msg)\n"
     ]
    },
    {
     "name": "stdout",
     "output_type": "stream",
     "text": [
      "Model MSE: 0.004922 - Best MSE: 0.004804\n",
      "Model R2 Score: 0.978179 - Best R2 Score: 0.978703\n",
      "\n",
      "Iterations 69/120 - Hyperparameters:  batch_sizes=64, nums_epochs=100, n_d=16, n_a=16, n_step=6, n_indipendent=3, n_shared=2, gamma=1.3, epsilon=1e-08\n"
     ]
    },
    {
     "name": "stderr",
     "output_type": "stream",
     "text": [
      "C:\\Users\\franc\\AppData\\Local\\Packages\\PythonSoftwareFoundation.Python.3.10_qbz5n2kfra8p0\\LocalCache\\local-packages\\Python310\\site-packages\\pytorch_tabnet\\abstract_model.py:75: UserWarning: Device used : cuda\n",
      "  warnings.warn(f\"Device used : {self.device}\")\n"
     ]
    },
    {
     "name": "stdout",
     "output_type": "stream",
     "text": [
      "epoch 0  | loss: 0.95006 | val_0_mse: 0.41051 |  0:00:09s\n",
      "epoch 1  | loss: 0.1791  | val_0_mse: 0.15488 |  0:00:21s\n",
      "epoch 2  | loss: 0.12905 | val_0_mse: 0.10542 |  0:00:33s\n",
      "epoch 3  | loss: 0.10994 | val_0_mse: 0.10053 |  0:00:43s\n",
      "epoch 4  | loss: 0.09799 | val_0_mse: 0.0823  |  0:00:53s\n",
      "epoch 5  | loss: 0.09239 | val_0_mse: 0.11018 |  0:01:04s\n",
      "epoch 6  | loss: 0.08464 | val_0_mse: 0.11402 |  0:01:17s\n",
      "epoch 7  | loss: 0.07744 | val_0_mse: 0.06254 |  0:01:28s\n",
      "epoch 8  | loss: 0.0644  | val_0_mse: 0.05017 |  0:01:38s\n",
      "epoch 9  | loss: 0.05879 | val_0_mse: 0.07548 |  0:01:48s\n",
      "epoch 10 | loss: 0.04631 | val_0_mse: 0.03856 |  0:01:58s\n",
      "epoch 11 | loss: 0.04782 | val_0_mse: 0.05043 |  0:02:09s\n",
      "epoch 12 | loss: 0.04069 | val_0_mse: 0.02368 |  0:02:20s\n",
      "epoch 13 | loss: 0.03047 | val_0_mse: 0.01646 |  0:02:30s\n",
      "epoch 14 | loss: 0.02623 | val_0_mse: 0.04882 |  0:02:40s\n",
      "epoch 15 | loss: 0.03027 | val_0_mse: 0.02155 |  0:02:50s\n",
      "epoch 16 | loss: 0.02107 | val_0_mse: 0.01541 |  0:03:02s\n",
      "epoch 17 | loss: 0.01785 | val_0_mse: 0.01189 |  0:03:12s\n",
      "epoch 18 | loss: 0.02159 | val_0_mse: 0.02523 |  0:03:22s\n",
      "epoch 19 | loss: 0.02904 | val_0_mse: 0.03424 |  0:03:31s\n",
      "epoch 20 | loss: 0.02507 | val_0_mse: 0.02177 |  0:03:42s\n",
      "epoch 21 | loss: 0.02572 | val_0_mse: 0.01122 |  0:03:52s\n",
      "epoch 22 | loss: 0.0265  | val_0_mse: 0.01625 |  0:04:01s\n",
      "epoch 23 | loss: 0.01853 | val_0_mse: 0.03968 |  0:04:11s\n",
      "epoch 24 | loss: 0.02211 | val_0_mse: 0.02885 |  0:04:21s\n",
      "epoch 25 | loss: 0.02002 | val_0_mse: 0.02575 |  0:04:31s\n",
      "epoch 26 | loss: 0.03033 | val_0_mse: 0.10376 |  0:04:41s\n",
      "epoch 27 | loss: 0.02654 | val_0_mse: 0.06182 |  0:04:51s\n",
      "epoch 28 | loss: 0.02056 | val_0_mse: 0.0502  |  0:05:01s\n",
      "epoch 29 | loss: 0.01859 | val_0_mse: 0.01514 |  0:05:12s\n",
      "epoch 30 | loss: 0.01582 | val_0_mse: 0.01501 |  0:05:22s\n",
      "epoch 31 | loss: 0.01781 | val_0_mse: 0.02303 |  0:05:32s\n",
      "\n",
      "Early stopping occurred at epoch 31 with best_epoch = 21 and best_val_0_mse = 0.01122\n"
     ]
    },
    {
     "name": "stderr",
     "output_type": "stream",
     "text": [
      "C:\\Users\\franc\\AppData\\Local\\Packages\\PythonSoftwareFoundation.Python.3.10_qbz5n2kfra8p0\\LocalCache\\local-packages\\Python310\\site-packages\\pytorch_tabnet\\callbacks.py:172: UserWarning: Best weights from best epoch are automatically used!\n",
      "  warnings.warn(wrn_msg)\n"
     ]
    },
    {
     "name": "stdout",
     "output_type": "stream",
     "text": [
      "Model MSE: 0.011458 - Best MSE: 0.004804\n",
      "Model R2 Score: 0.949203 - Best R2 Score: 0.978703\n",
      "\n",
      "Iterations 70/120 - Hyperparameters:  batch_sizes=128, nums_epochs=100, n_d=16, n_a=16, n_step=6, n_indipendent=3, n_shared=2, gamma=1.3, epsilon=1e-08\n"
     ]
    },
    {
     "name": "stderr",
     "output_type": "stream",
     "text": [
      "C:\\Users\\franc\\AppData\\Local\\Packages\\PythonSoftwareFoundation.Python.3.10_qbz5n2kfra8p0\\LocalCache\\local-packages\\Python310\\site-packages\\pytorch_tabnet\\abstract_model.py:75: UserWarning: Device used : cuda\n",
      "  warnings.warn(f\"Device used : {self.device}\")\n"
     ]
    },
    {
     "name": "stdout",
     "output_type": "stream",
     "text": [
      "epoch 0  | loss: 1.19051 | val_0_mse: 0.78621 |  0:00:05s\n",
      "epoch 1  | loss: 0.26833 | val_0_mse: 0.15042 |  0:00:10s\n",
      "epoch 2  | loss: 0.18766 | val_0_mse: 0.14596 |  0:00:15s\n",
      "epoch 3  | loss: 0.13041 | val_0_mse: 0.11495 |  0:00:20s\n",
      "epoch 4  | loss: 0.1219  | val_0_mse: 0.14282 |  0:00:25s\n",
      "epoch 5  | loss: 0.09738 | val_0_mse: 0.07917 |  0:00:30s\n",
      "epoch 6  | loss: 0.0913  | val_0_mse: 0.07424 |  0:00:35s\n",
      "epoch 7  | loss: 0.08871 | val_0_mse: 0.07788 |  0:00:40s\n",
      "epoch 8  | loss: 0.09504 | val_0_mse: 0.07994 |  0:00:45s\n",
      "epoch 9  | loss: 0.0693  | val_0_mse: 0.07042 |  0:00:51s\n",
      "epoch 10 | loss: 0.0692  | val_0_mse: 0.05736 |  0:00:56s\n",
      "epoch 11 | loss: 0.06377 | val_0_mse: 0.117   |  0:01:02s\n",
      "epoch 12 | loss: 0.05768 | val_0_mse: 0.05245 |  0:01:07s\n",
      "epoch 13 | loss: 0.05904 | val_0_mse: 0.05017 |  0:01:13s\n",
      "epoch 14 | loss: 0.04574 | val_0_mse: 0.0452  |  0:01:18s\n",
      "epoch 15 | loss: 0.04768 | val_0_mse: 0.0467  |  0:01:23s\n",
      "epoch 16 | loss: 0.04304 | val_0_mse: 0.04209 |  0:01:29s\n",
      "epoch 17 | loss: 0.03699 | val_0_mse: 0.0293  |  0:01:34s\n",
      "epoch 18 | loss: 0.03155 | val_0_mse: 0.02811 |  0:01:40s\n",
      "epoch 19 | loss: 0.03002 | val_0_mse: 0.02273 |  0:01:45s\n",
      "epoch 20 | loss: 0.03015 | val_0_mse: 0.02603 |  0:01:51s\n",
      "epoch 21 | loss: 0.02904 | val_0_mse: 0.01911 |  0:01:56s\n",
      "epoch 22 | loss: 0.02585 | val_0_mse: 0.01691 |  0:02:01s\n",
      "epoch 23 | loss: 0.02215 | val_0_mse: 0.03089 |  0:02:07s\n",
      "epoch 24 | loss: 0.0193  | val_0_mse: 0.02243 |  0:02:12s\n",
      "epoch 25 | loss: 0.02408 | val_0_mse: 0.03296 |  0:02:18s\n",
      "epoch 26 | loss: 0.02115 | val_0_mse: 0.04552 |  0:02:23s\n",
      "epoch 27 | loss: 0.01907 | val_0_mse: 0.02198 |  0:02:29s\n",
      "epoch 28 | loss: 0.0166  | val_0_mse: 0.02178 |  0:02:34s\n",
      "epoch 29 | loss: 0.01541 | val_0_mse: 0.04095 |  0:02:39s\n",
      "epoch 30 | loss: 0.02825 | val_0_mse: 0.02637 |  0:02:45s\n",
      "epoch 31 | loss: 0.02181 | val_0_mse: 0.01892 |  0:02:50s\n",
      "epoch 32 | loss: 0.02115 | val_0_mse: 0.01968 |  0:02:55s\n",
      "\n",
      "Early stopping occurred at epoch 32 with best_epoch = 22 and best_val_0_mse = 0.01691\n"
     ]
    },
    {
     "name": "stderr",
     "output_type": "stream",
     "text": [
      "C:\\Users\\franc\\AppData\\Local\\Packages\\PythonSoftwareFoundation.Python.3.10_qbz5n2kfra8p0\\LocalCache\\local-packages\\Python310\\site-packages\\pytorch_tabnet\\callbacks.py:172: UserWarning: Best weights from best epoch are automatically used!\n",
      "  warnings.warn(wrn_msg)\n"
     ]
    },
    {
     "name": "stdout",
     "output_type": "stream",
     "text": [
      "Model MSE: 0.017774 - Best MSE: 0.004804\n",
      "Model R2 Score: 0.921199 - Best R2 Score: 0.978703\n",
      "\n",
      "Iterations 71/120 - Hyperparameters:  batch_sizes=64, nums_epochs=100, n_d=16, n_a=16, n_step=6, n_indipendent=3, n_shared=3, gamma=1.3, epsilon=1e-08\n"
     ]
    },
    {
     "name": "stderr",
     "output_type": "stream",
     "text": [
      "C:\\Users\\franc\\AppData\\Local\\Packages\\PythonSoftwareFoundation.Python.3.10_qbz5n2kfra8p0\\LocalCache\\local-packages\\Python310\\site-packages\\pytorch_tabnet\\abstract_model.py:75: UserWarning: Device used : cuda\n",
      "  warnings.warn(f\"Device used : {self.device}\")\n"
     ]
    },
    {
     "name": "stdout",
     "output_type": "stream",
     "text": [
      "epoch 0  | loss: 0.83603 | val_0_mse: 0.24739 |  0:00:10s\n",
      "epoch 1  | loss: 0.19426 | val_0_mse: 0.24117 |  0:00:21s\n",
      "epoch 2  | loss: 0.13948 | val_0_mse: 0.20016 |  0:00:32s\n",
      "epoch 3  | loss: 0.1231  | val_0_mse: 0.22136 |  0:00:43s\n",
      "epoch 4  | loss: 0.11104 | val_0_mse: 0.08156 |  0:00:54s\n",
      "epoch 5  | loss: 0.09098 | val_0_mse: 0.06882 |  0:01:05s\n",
      "epoch 6  | loss: 0.08357 | val_0_mse: 0.10209 |  0:01:16s\n",
      "epoch 7  | loss: 0.0861  | val_0_mse: 0.06835 |  0:01:28s\n",
      "epoch 8  | loss: 0.07686 | val_0_mse: 0.08364 |  0:01:39s\n",
      "epoch 9  | loss: 0.06072 | val_0_mse: 0.06926 |  0:01:50s\n",
      "epoch 10 | loss: 0.05724 | val_0_mse: 0.04452 |  0:02:01s\n",
      "epoch 11 | loss: 0.0705  | val_0_mse: 0.04082 |  0:02:13s\n",
      "epoch 12 | loss: 0.05006 | val_0_mse: 0.06915 |  0:02:24s\n",
      "epoch 13 | loss: 0.05609 | val_0_mse: 0.11797 |  0:02:35s\n",
      "epoch 14 | loss: 0.04721 | val_0_mse: 0.05396 |  0:02:47s\n",
      "epoch 15 | loss: 0.0441  | val_0_mse: 0.03244 |  0:03:00s\n",
      "epoch 16 | loss: 0.03844 | val_0_mse: 0.03691 |  0:03:12s\n",
      "epoch 17 | loss: 0.03178 | val_0_mse: 0.03587 |  0:03:24s\n",
      "epoch 18 | loss: 0.02542 | val_0_mse: 0.01593 |  0:03:36s\n",
      "epoch 19 | loss: 0.02547 | val_0_mse: 0.01922 |  0:03:49s\n",
      "epoch 20 | loss: 0.01941 | val_0_mse: 0.06841 |  0:04:01s\n",
      "epoch 21 | loss: 0.02442 | val_0_mse: 0.01686 |  0:04:13s\n",
      "epoch 22 | loss: 0.01944 | val_0_mse: 0.15714 |  0:04:25s\n",
      "epoch 23 | loss: 0.02611 | val_0_mse: 0.03598 |  0:04:38s\n",
      "epoch 24 | loss: 0.02799 | val_0_mse: 0.01534 |  0:04:51s\n",
      "epoch 25 | loss: 0.032   | val_0_mse: 0.01251 |  0:05:03s\n",
      "epoch 26 | loss: 0.02109 | val_0_mse: 0.01134 |  0:05:16s\n",
      "epoch 27 | loss: 0.02059 | val_0_mse: 0.02321 |  0:05:28s\n",
      "epoch 28 | loss: 0.01829 | val_0_mse: 0.00886 |  0:05:41s\n",
      "epoch 29 | loss: 0.01851 | val_0_mse: 0.02786 |  0:05:54s\n",
      "epoch 30 | loss: 0.02361 | val_0_mse: 0.00927 |  0:06:08s\n",
      "epoch 31 | loss: 0.02108 | val_0_mse: 0.02585 |  0:06:21s\n",
      "epoch 32 | loss: 0.02048 | val_0_mse: 0.04898 |  0:06:35s\n",
      "epoch 33 | loss: 0.0224  | val_0_mse: 0.0223  |  0:06:48s\n",
      "epoch 34 | loss: 0.01796 | val_0_mse: 0.04686 |  0:07:02s\n",
      "epoch 35 | loss: 0.0209  | val_0_mse: 0.0217  |  0:07:15s\n",
      "epoch 36 | loss: 0.01612 | val_0_mse: 0.02699 |  0:07:29s\n",
      "epoch 37 | loss: 0.01525 | val_0_mse: 0.00767 |  0:07:42s\n",
      "epoch 38 | loss: 0.01543 | val_0_mse: 0.00828 |  0:07:56s\n",
      "epoch 39 | loss: 0.01451 | val_0_mse: 0.01968 |  0:08:09s\n",
      "epoch 40 | loss: 0.01658 | val_0_mse: 0.02307 |  0:08:23s\n",
      "epoch 41 | loss: 0.01854 | val_0_mse: 0.01003 |  0:08:36s\n",
      "epoch 42 | loss: 0.01385 | val_0_mse: 0.00993 |  0:08:49s\n",
      "epoch 43 | loss: 0.01569 | val_0_mse: 0.01014 |  0:09:01s\n",
      "epoch 44 | loss: 0.01521 | val_0_mse: 0.01172 |  0:09:13s\n",
      "epoch 45 | loss: 0.01456 | val_0_mse: 0.01165 |  0:09:24s\n",
      "epoch 46 | loss: 0.01281 | val_0_mse: 0.01113 |  0:09:36s\n",
      "epoch 47 | loss: 0.01354 | val_0_mse: 0.01617 |  0:09:47s\n",
      "\n",
      "Early stopping occurred at epoch 47 with best_epoch = 37 and best_val_0_mse = 0.00767\n"
     ]
    },
    {
     "name": "stderr",
     "output_type": "stream",
     "text": [
      "C:\\Users\\franc\\AppData\\Local\\Packages\\PythonSoftwareFoundation.Python.3.10_qbz5n2kfra8p0\\LocalCache\\local-packages\\Python310\\site-packages\\pytorch_tabnet\\callbacks.py:172: UserWarning: Best weights from best epoch are automatically used!\n",
      "  warnings.warn(wrn_msg)\n"
     ]
    },
    {
     "name": "stdout",
     "output_type": "stream",
     "text": [
      "Model MSE: 0.007364 - Best MSE: 0.004804\n",
      "Model R2 Score: 0.967354 - Best R2 Score: 0.978703\n",
      "\n",
      "Iterations 72/120 - Hyperparameters:  batch_sizes=128, nums_epochs=100, n_d=16, n_a=16, n_step=6, n_indipendent=3, n_shared=3, gamma=1.3, epsilon=1e-08\n"
     ]
    },
    {
     "name": "stderr",
     "output_type": "stream",
     "text": [
      "C:\\Users\\franc\\AppData\\Local\\Packages\\PythonSoftwareFoundation.Python.3.10_qbz5n2kfra8p0\\LocalCache\\local-packages\\Python310\\site-packages\\pytorch_tabnet\\abstract_model.py:75: UserWarning: Device used : cuda\n",
      "  warnings.warn(f\"Device used : {self.device}\")\n"
     ]
    },
    {
     "name": "stdout",
     "output_type": "stream",
     "text": [
      "epoch 0  | loss: 1.37667 | val_0_mse: 0.47972 |  0:00:05s\n",
      "epoch 1  | loss: 0.2362  | val_0_mse: 0.16396 |  0:00:11s\n",
      "epoch 2  | loss: 0.09457 | val_0_mse: 0.14263 |  0:00:16s\n",
      "epoch 3  | loss: 0.0844  | val_0_mse: 0.0813  |  0:00:22s\n",
      "epoch 4  | loss: 0.08785 | val_0_mse: 0.08115 |  0:00:28s\n",
      "epoch 5  | loss: 0.06636 | val_0_mse: 0.06816 |  0:00:34s\n",
      "epoch 6  | loss: 0.07248 | val_0_mse: 0.07261 |  0:00:40s\n",
      "epoch 7  | loss: 0.06315 | val_0_mse: 0.04627 |  0:00:46s\n",
      "epoch 8  | loss: 0.06517 | val_0_mse: 0.05708 |  0:00:52s\n",
      "epoch 9  | loss: 0.0526  | val_0_mse: 0.04175 |  0:00:58s\n",
      "epoch 10 | loss: 0.05234 | val_0_mse: 0.04835 |  0:01:04s\n",
      "epoch 11 | loss: 0.03908 | val_0_mse: 0.03267 |  0:01:09s\n",
      "epoch 12 | loss: 0.0386  | val_0_mse: 0.03033 |  0:01:15s\n",
      "epoch 13 | loss: 0.03132 | val_0_mse: 0.02306 |  0:01:22s\n",
      "epoch 14 | loss: 0.02425 | val_0_mse: 0.01896 |  0:01:28s\n",
      "epoch 15 | loss: 0.0222  | val_0_mse: 0.02441 |  0:01:34s\n",
      "epoch 16 | loss: 0.02619 | val_0_mse: 0.12098 |  0:01:40s\n",
      "epoch 17 | loss: 0.02002 | val_0_mse: 0.01388 |  0:01:46s\n",
      "epoch 18 | loss: 0.02041 | val_0_mse: 0.01232 |  0:01:52s\n",
      "epoch 19 | loss: 0.01859 | val_0_mse: 0.02582 |  0:01:58s\n",
      "epoch 20 | loss: 0.01848 | val_0_mse: 0.01659 |  0:02:04s\n",
      "epoch 21 | loss: 0.01921 | val_0_mse: 0.01818 |  0:02:10s\n",
      "epoch 22 | loss: 0.01778 | val_0_mse: 0.12183 |  0:02:15s\n",
      "epoch 23 | loss: 0.02468 | val_0_mse: 0.01543 |  0:02:21s\n",
      "epoch 24 | loss: 0.01859 | val_0_mse: 0.01496 |  0:02:27s\n",
      "epoch 25 | loss: 0.01584 | val_0_mse: 0.00966 |  0:02:32s\n",
      "epoch 26 | loss: 0.01902 | val_0_mse: 0.0653  |  0:02:38s\n",
      "epoch 27 | loss: 0.01962 | val_0_mse: 0.01359 |  0:02:44s\n",
      "epoch 28 | loss: 0.0144  | val_0_mse: 0.00928 |  0:02:49s\n",
      "epoch 29 | loss: 0.01621 | val_0_mse: 0.01436 |  0:02:55s\n",
      "epoch 30 | loss: 0.0131  | val_0_mse: 0.0078  |  0:03:01s\n",
      "epoch 31 | loss: 0.01368 | val_0_mse: 0.01632 |  0:03:07s\n",
      "epoch 32 | loss: 0.01719 | val_0_mse: 0.01334 |  0:03:12s\n",
      "epoch 33 | loss: 0.01569 | val_0_mse: 0.02221 |  0:03:18s\n",
      "epoch 34 | loss: 0.01707 | val_0_mse: 0.04303 |  0:03:24s\n",
      "epoch 35 | loss: 0.01715 | val_0_mse: 0.00781 |  0:03:30s\n",
      "epoch 36 | loss: 0.01775 | val_0_mse: 0.05444 |  0:03:36s\n",
      "epoch 37 | loss: 0.01382 | val_0_mse: 0.41258 |  0:03:42s\n",
      "epoch 38 | loss: 0.012   | val_0_mse: 0.01697 |  0:03:48s\n",
      "epoch 39 | loss: 0.0111  | val_0_mse: 0.01875 |  0:03:54s\n",
      "epoch 40 | loss: 0.01282 | val_0_mse: 0.00802 |  0:04:00s\n",
      "\n",
      "Early stopping occurred at epoch 40 with best_epoch = 30 and best_val_0_mse = 0.0078\n"
     ]
    },
    {
     "name": "stderr",
     "output_type": "stream",
     "text": [
      "C:\\Users\\franc\\AppData\\Local\\Packages\\PythonSoftwareFoundation.Python.3.10_qbz5n2kfra8p0\\LocalCache\\local-packages\\Python310\\site-packages\\pytorch_tabnet\\callbacks.py:172: UserWarning: Best weights from best epoch are automatically used!\n",
      "  warnings.warn(wrn_msg)\n"
     ]
    },
    {
     "name": "stdout",
     "output_type": "stream",
     "text": [
      "Model MSE: 0.007817 - Best MSE: 0.004804\n",
      "Model R2 Score: 0.965345 - Best R2 Score: 0.978703\n",
      "\n",
      "Iterations 73/120 - Hyperparameters:  batch_sizes=64, nums_epochs=100, n_d=16, n_a=16, n_step=7, n_indipendent=2, n_shared=2, gamma=1.3, epsilon=1e-08\n"
     ]
    },
    {
     "name": "stderr",
     "output_type": "stream",
     "text": [
      "C:\\Users\\franc\\AppData\\Local\\Packages\\PythonSoftwareFoundation.Python.3.10_qbz5n2kfra8p0\\LocalCache\\local-packages\\Python310\\site-packages\\pytorch_tabnet\\abstract_model.py:75: UserWarning: Device used : cuda\n",
      "  warnings.warn(f\"Device used : {self.device}\")\n"
     ]
    },
    {
     "name": "stdout",
     "output_type": "stream",
     "text": [
      "epoch 0  | loss: 1.69314 | val_0_mse: 0.44992 |  0:00:10s\n",
      "epoch 1  | loss: 0.16541 | val_0_mse: 0.12943 |  0:00:19s\n",
      "epoch 2  | loss: 0.13361 | val_0_mse: 0.09458 |  0:00:29s\n",
      "epoch 3  | loss: 0.10062 | val_0_mse: 0.11757 |  0:00:39s\n",
      "epoch 4  | loss: 0.11527 | val_0_mse: 0.12705 |  0:00:49s\n",
      "epoch 5  | loss: 0.08996 | val_0_mse: 0.07859 |  0:00:59s\n",
      "epoch 6  | loss: 0.07894 | val_0_mse: 0.06364 |  0:01:09s\n",
      "epoch 7  | loss: 0.06986 | val_0_mse: 0.06385 |  0:01:19s\n",
      "epoch 8  | loss: 0.06777 | val_0_mse: 0.18904 |  0:01:29s\n",
      "epoch 9  | loss: 0.07646 | val_0_mse: 0.12254 |  0:01:39s\n",
      "epoch 10 | loss: 0.07859 | val_0_mse: 0.05728 |  0:01:51s\n",
      "epoch 11 | loss: 0.06886 | val_0_mse: 0.1086  |  0:02:02s\n",
      "epoch 12 | loss: 0.06214 | val_0_mse: 0.07095 |  0:02:13s\n",
      "epoch 13 | loss: 0.05461 | val_0_mse: 0.04245 |  0:02:23s\n",
      "epoch 14 | loss: 0.04617 | val_0_mse: 0.03504 |  0:02:33s\n",
      "epoch 15 | loss: 0.04959 | val_0_mse: 0.05154 |  0:02:42s\n",
      "epoch 16 | loss: 0.04073 | val_0_mse: 0.04148 |  0:02:53s\n",
      "epoch 17 | loss: 0.03998 | val_0_mse: 0.02846 |  0:03:06s\n",
      "epoch 18 | loss: 0.03666 | val_0_mse: 0.01868 |  0:03:18s\n",
      "epoch 19 | loss: 0.03856 | val_0_mse: 0.02798 |  0:03:32s\n",
      "epoch 20 | loss: 0.0315  | val_0_mse: 0.02773 |  0:03:45s\n",
      "epoch 21 | loss: 0.02989 | val_0_mse: 0.01868 |  0:03:57s\n",
      "epoch 22 | loss: 0.02827 | val_0_mse: 0.01538 |  0:04:06s\n",
      "epoch 23 | loss: 0.02497 | val_0_mse: 0.02908 |  0:04:17s\n",
      "epoch 24 | loss: 0.02445 | val_0_mse: 0.01821 |  0:04:29s\n",
      "epoch 25 | loss: 0.02005 | val_0_mse: 0.06763 |  0:04:38s\n",
      "epoch 26 | loss: 0.02509 | val_0_mse: 0.02304 |  0:04:51s\n",
      "epoch 27 | loss: 0.02465 | val_0_mse: 0.04582 |  0:05:04s\n",
      "epoch 28 | loss: 0.02103 | val_0_mse: 0.01215 |  0:05:17s\n",
      "epoch 29 | loss: 0.02244 | val_0_mse: 0.02175 |  0:05:31s\n",
      "epoch 30 | loss: 0.02095 | val_0_mse: 0.03704 |  0:05:44s\n",
      "epoch 31 | loss: 0.02029 | val_0_mse: 0.02332 |  0:05:58s\n",
      "epoch 32 | loss: 0.01767 | val_0_mse: 0.16079 |  0:06:10s\n",
      "epoch 33 | loss: 0.02063 | val_0_mse: 0.04548 |  0:06:23s\n",
      "epoch 34 | loss: 0.02095 | val_0_mse: 0.01684 |  0:06:35s\n",
      "epoch 35 | loss: 0.01864 | val_0_mse: 0.00776 |  0:06:49s\n",
      "epoch 36 | loss: 0.02522 | val_0_mse: 0.01201 |  0:07:01s\n",
      "epoch 37 | loss: 0.01906 | val_0_mse: 0.01559 |  0:07:13s\n",
      "epoch 38 | loss: 0.02495 | val_0_mse: 0.06004 |  0:07:26s\n",
      "epoch 39 | loss: 0.02123 | val_0_mse: 0.01749 |  0:07:39s\n",
      "epoch 40 | loss: 0.0223  | val_0_mse: 0.01306 |  0:07:52s\n",
      "epoch 41 | loss: 0.01854 | val_0_mse: 0.04549 |  0:08:06s\n",
      "epoch 42 | loss: 0.02285 | val_0_mse: 0.01067 |  0:08:20s\n",
      "epoch 43 | loss: 0.01952 | val_0_mse: 0.08264 |  0:08:33s\n",
      "epoch 44 | loss: 0.01705 | val_0_mse: 0.00653 |  0:08:46s\n",
      "epoch 45 | loss: 0.0157  | val_0_mse: 0.00908 |  0:08:59s\n",
      "epoch 46 | loss: 0.01738 | val_0_mse: 0.00792 |  0:09:11s\n",
      "epoch 47 | loss: 0.02192 | val_0_mse: 0.02336 |  0:09:23s\n",
      "epoch 48 | loss: 0.01326 | val_0_mse: 0.02044 |  0:09:36s\n",
      "epoch 49 | loss: 0.01531 | val_0_mse: 0.00738 |  0:09:48s\n",
      "epoch 50 | loss: 0.01695 | val_0_mse: 0.02097 |  0:10:00s\n",
      "epoch 51 | loss: 0.01615 | val_0_mse: 0.01172 |  0:10:12s\n",
      "epoch 52 | loss: 0.01288 | val_0_mse: 0.00825 |  0:10:23s\n",
      "epoch 53 | loss: 0.01474 | val_0_mse: 0.01884 |  0:10:34s\n",
      "epoch 54 | loss: 0.02218 | val_0_mse: 0.05238 |  0:10:45s\n",
      "\n",
      "Early stopping occurred at epoch 54 with best_epoch = 44 and best_val_0_mse = 0.00653\n"
     ]
    },
    {
     "name": "stderr",
     "output_type": "stream",
     "text": [
      "C:\\Users\\franc\\AppData\\Local\\Packages\\PythonSoftwareFoundation.Python.3.10_qbz5n2kfra8p0\\LocalCache\\local-packages\\Python310\\site-packages\\pytorch_tabnet\\callbacks.py:172: UserWarning: Best weights from best epoch are automatically used!\n",
      "  warnings.warn(wrn_msg)\n"
     ]
    },
    {
     "name": "stdout",
     "output_type": "stream",
     "text": [
      "Model MSE: 0.006299 - Best MSE: 0.004804\n",
      "Model R2 Score: 0.972072 - Best R2 Score: 0.978703\n",
      "\n",
      "Iterations 74/120 - Hyperparameters:  batch_sizes=128, nums_epochs=100, n_d=16, n_a=16, n_step=7, n_indipendent=2, n_shared=2, gamma=1.3, epsilon=1e-08\n"
     ]
    },
    {
     "name": "stderr",
     "output_type": "stream",
     "text": [
      "C:\\Users\\franc\\AppData\\Local\\Packages\\PythonSoftwareFoundation.Python.3.10_qbz5n2kfra8p0\\LocalCache\\local-packages\\Python310\\site-packages\\pytorch_tabnet\\abstract_model.py:75: UserWarning: Device used : cuda\n",
      "  warnings.warn(f\"Device used : {self.device}\")\n"
     ]
    },
    {
     "name": "stdout",
     "output_type": "stream",
     "text": [
      "epoch 0  | loss: 2.59178 | val_0_mse: 0.37522 |  0:00:05s\n",
      "epoch 1  | loss: 0.54278 | val_0_mse: 0.57179 |  0:00:12s\n",
      "epoch 2  | loss: 0.26842 | val_0_mse: 0.4142  |  0:00:17s\n",
      "epoch 3  | loss: 0.1271  | val_0_mse: 0.08476 |  0:00:24s\n",
      "epoch 4  | loss: 0.10259 | val_0_mse: 0.09256 |  0:00:30s\n",
      "epoch 5  | loss: 0.0895  | val_0_mse: 0.08486 |  0:00:36s\n",
      "epoch 6  | loss: 0.08426 | val_0_mse: 0.07199 |  0:00:42s\n",
      "epoch 7  | loss: 0.07464 | val_0_mse: 0.05533 |  0:00:48s\n",
      "epoch 8  | loss: 0.06902 | val_0_mse: 0.07195 |  0:00:54s\n",
      "epoch 9  | loss: 0.06025 | val_0_mse: 0.05875 |  0:01:01s\n",
      "epoch 10 | loss: 0.05616 | val_0_mse: 0.05134 |  0:01:06s\n",
      "epoch 11 | loss: 0.05197 | val_0_mse: 0.0467  |  0:01:13s\n",
      "epoch 12 | loss: 0.05288 | val_0_mse: 0.03464 |  0:01:19s\n",
      "epoch 13 | loss: 0.0546  | val_0_mse: 0.03637 |  0:01:25s\n",
      "epoch 14 | loss: 0.04623 | val_0_mse: 0.05402 |  0:01:31s\n",
      "epoch 15 | loss: 0.04087 | val_0_mse: 0.03557 |  0:01:37s\n",
      "epoch 16 | loss: 0.0348  | val_0_mse: 0.03098 |  0:01:43s\n",
      "epoch 17 | loss: 0.03388 | val_0_mse: 0.03698 |  0:01:49s\n",
      "epoch 18 | loss: 0.03145 | val_0_mse: 0.02416 |  0:01:55s\n",
      "epoch 19 | loss: 0.02602 | val_0_mse: 0.02732 |  0:02:08s\n",
      "epoch 20 | loss: 0.02672 | val_0_mse: 0.02249 |  0:02:17s\n",
      "epoch 21 | loss: 0.02953 | val_0_mse: 0.02014 |  0:02:24s\n",
      "epoch 22 | loss: 0.02339 | val_0_mse: 0.02777 |  0:02:36s\n",
      "epoch 23 | loss: 0.02765 | val_0_mse: 0.02975 |  0:02:43s\n",
      "epoch 24 | loss: 0.01803 | val_0_mse: 0.0133  |  0:02:49s\n",
      "epoch 25 | loss: 0.01959 | val_0_mse: 0.0249  |  0:02:55s\n",
      "epoch 26 | loss: 0.02041 | val_0_mse: 0.01832 |  0:03:01s\n",
      "epoch 27 | loss: 0.01717 | val_0_mse: 0.01512 |  0:03:12s\n",
      "epoch 28 | loss: 0.01744 | val_0_mse: 0.01246 |  0:03:21s\n",
      "epoch 29 | loss: 0.02021 | val_0_mse: 0.05627 |  0:03:27s\n",
      "epoch 30 | loss: 0.02012 | val_0_mse: 0.01713 |  0:03:33s\n",
      "epoch 31 | loss: 0.01815 | val_0_mse: 0.01279 |  0:03:39s\n",
      "epoch 32 | loss: 0.01468 | val_0_mse: 0.01661 |  0:03:45s\n",
      "epoch 33 | loss: 0.01773 | val_0_mse: 0.01289 |  0:03:51s\n",
      "epoch 34 | loss: 0.01837 | val_0_mse: 0.01008 |  0:03:56s\n",
      "epoch 35 | loss: 0.01947 | val_0_mse: 0.01071 |  0:04:02s\n",
      "epoch 36 | loss: 0.0157  | val_0_mse: 0.02605 |  0:04:09s\n",
      "epoch 37 | loss: 0.01509 | val_0_mse: 0.00678 |  0:04:14s\n",
      "epoch 38 | loss: 0.01429 | val_0_mse: 0.00714 |  0:04:20s\n",
      "epoch 39 | loss: 0.01455 | val_0_mse: 0.0079  |  0:04:25s\n",
      "epoch 40 | loss: 0.01894 | val_0_mse: 0.01196 |  0:04:30s\n",
      "epoch 41 | loss: 0.0126  | val_0_mse: 0.00852 |  0:04:35s\n",
      "epoch 42 | loss: 0.0134  | val_0_mse: 0.00898 |  0:04:40s\n",
      "epoch 43 | loss: 0.01364 | val_0_mse: 0.01684 |  0:04:45s\n",
      "epoch 44 | loss: 0.01399 | val_0_mse: 0.00869 |  0:04:50s\n",
      "epoch 45 | loss: 0.0142  | val_0_mse: 0.01276 |  0:04:56s\n",
      "epoch 46 | loss: 0.0122  | val_0_mse: 0.01394 |  0:05:01s\n",
      "epoch 47 | loss: 0.01448 | val_0_mse: 0.01251 |  0:05:06s\n",
      "\n",
      "Early stopping occurred at epoch 47 with best_epoch = 37 and best_val_0_mse = 0.00678\n"
     ]
    },
    {
     "name": "stderr",
     "output_type": "stream",
     "text": [
      "C:\\Users\\franc\\AppData\\Local\\Packages\\PythonSoftwareFoundation.Python.3.10_qbz5n2kfra8p0\\LocalCache\\local-packages\\Python310\\site-packages\\pytorch_tabnet\\callbacks.py:172: UserWarning: Best weights from best epoch are automatically used!\n",
      "  warnings.warn(wrn_msg)\n"
     ]
    },
    {
     "name": "stdout",
     "output_type": "stream",
     "text": [
      "Model MSE: 0.007674 - Best MSE: 0.004804\n",
      "Model R2 Score: 0.965978 - Best R2 Score: 0.978703\n",
      "\n",
      "Iterations 75/120 - Hyperparameters:  batch_sizes=64, nums_epochs=100, n_d=16, n_a=16, n_step=7, n_indipendent=2, n_shared=3, gamma=1.3, epsilon=1e-08\n"
     ]
    },
    {
     "name": "stderr",
     "output_type": "stream",
     "text": [
      "C:\\Users\\franc\\AppData\\Local\\Packages\\PythonSoftwareFoundation.Python.3.10_qbz5n2kfra8p0\\LocalCache\\local-packages\\Python310\\site-packages\\pytorch_tabnet\\abstract_model.py:75: UserWarning: Device used : cuda\n",
      "  warnings.warn(f\"Device used : {self.device}\")\n"
     ]
    },
    {
     "name": "stdout",
     "output_type": "stream",
     "text": [
      "epoch 0  | loss: 1.24871 | val_0_mse: 0.58277 |  0:00:11s\n",
      "epoch 1  | loss: 0.22328 | val_0_mse: 0.18833 |  0:00:22s\n",
      "epoch 2  | loss: 0.15748 | val_0_mse: 0.125   |  0:00:33s\n",
      "epoch 3  | loss: 0.11271 | val_0_mse: 0.10466 |  0:00:43s\n",
      "epoch 4  | loss: 0.09862 | val_0_mse: 0.07008 |  0:00:54s\n",
      "epoch 5  | loss: 0.08407 | val_0_mse: 0.06027 |  0:01:05s\n",
      "epoch 6  | loss: 0.07242 | val_0_mse: 0.05761 |  0:01:16s\n",
      "epoch 7  | loss: 0.07427 | val_0_mse: 0.07907 |  0:01:27s\n",
      "epoch 8  | loss: 0.06963 | val_0_mse: 0.11516 |  0:01:38s\n",
      "epoch 9  | loss: 0.07274 | val_0_mse: 0.07215 |  0:01:49s\n",
      "epoch 10 | loss: 0.06617 | val_0_mse: 0.0516  |  0:02:00s\n",
      "epoch 11 | loss: 0.05817 | val_0_mse: 0.05247 |  0:02:14s\n",
      "epoch 12 | loss: 0.06138 | val_0_mse: 0.06258 |  0:02:28s\n",
      "epoch 13 | loss: 0.05069 | val_0_mse: 0.06159 |  0:02:40s\n",
      "epoch 14 | loss: 0.051   | val_0_mse: 0.07716 |  0:02:53s\n",
      "epoch 15 | loss: 0.04689 | val_0_mse: 0.03011 |  0:03:06s\n",
      "epoch 16 | loss: 0.04163 | val_0_mse: 0.03725 |  0:03:20s\n",
      "epoch 17 | loss: 0.03817 | val_0_mse: 0.03522 |  0:03:33s\n",
      "epoch 18 | loss: 0.03203 | val_0_mse: 0.03143 |  0:03:46s\n",
      "epoch 19 | loss: 0.03458 | val_0_mse: 0.05682 |  0:03:58s\n",
      "epoch 20 | loss: 0.0315  | val_0_mse: 0.02386 |  0:04:14s\n",
      "epoch 21 | loss: 0.02699 | val_0_mse: 0.02954 |  0:04:29s\n",
      "epoch 22 | loss: 0.03084 | val_0_mse: 0.02816 |  0:04:42s\n",
      "epoch 23 | loss: 0.02271 | val_0_mse: 0.01333 |  0:04:55s\n",
      "epoch 24 | loss: 0.02004 | val_0_mse: 0.05241 |  0:05:09s\n",
      "epoch 25 | loss: 0.02095 | val_0_mse: 0.02099 |  0:05:23s\n",
      "epoch 26 | loss: 0.0186  | val_0_mse: 0.02997 |  0:05:36s\n",
      "epoch 27 | loss: 0.02123 | val_0_mse: 0.00822 |  0:05:49s\n",
      "epoch 28 | loss: 0.01852 | val_0_mse: 0.0162  |  0:06:03s\n",
      "epoch 29 | loss: 0.02024 | val_0_mse: 0.03027 |  0:06:16s\n",
      "epoch 30 | loss: 0.01657 | val_0_mse: 0.01622 |  0:06:29s\n",
      "epoch 31 | loss: 0.01363 | val_0_mse: 0.01401 |  0:06:43s\n",
      "epoch 32 | loss: 0.01296 | val_0_mse: 0.00941 |  0:06:56s\n",
      "epoch 33 | loss: 0.01397 | val_0_mse: 0.01359 |  0:07:09s\n",
      "epoch 34 | loss: 0.01566 | val_0_mse: 0.01623 |  0:07:22s\n",
      "epoch 35 | loss: 0.0154  | val_0_mse: 0.00857 |  0:07:35s\n",
      "epoch 36 | loss: 0.01587 | val_0_mse: 0.01031 |  0:07:48s\n",
      "epoch 37 | loss: 0.01295 | val_0_mse: 0.00981 |  0:08:01s\n",
      "\n",
      "Early stopping occurred at epoch 37 with best_epoch = 27 and best_val_0_mse = 0.00822\n"
     ]
    },
    {
     "name": "stderr",
     "output_type": "stream",
     "text": [
      "C:\\Users\\franc\\AppData\\Local\\Packages\\PythonSoftwareFoundation.Python.3.10_qbz5n2kfra8p0\\LocalCache\\local-packages\\Python310\\site-packages\\pytorch_tabnet\\callbacks.py:172: UserWarning: Best weights from best epoch are automatically used!\n",
      "  warnings.warn(wrn_msg)\n"
     ]
    },
    {
     "name": "stdout",
     "output_type": "stream",
     "text": [
      "Model MSE: 0.008215 - Best MSE: 0.004804\n",
      "Model R2 Score: 0.963579 - Best R2 Score: 0.978703\n",
      "\n",
      "Iterations 76/120 - Hyperparameters:  batch_sizes=128, nums_epochs=100, n_d=16, n_a=16, n_step=7, n_indipendent=2, n_shared=3, gamma=1.3, epsilon=1e-08\n"
     ]
    },
    {
     "name": "stderr",
     "output_type": "stream",
     "text": [
      "C:\\Users\\franc\\AppData\\Local\\Packages\\PythonSoftwareFoundation.Python.3.10_qbz5n2kfra8p0\\LocalCache\\local-packages\\Python310\\site-packages\\pytorch_tabnet\\abstract_model.py:75: UserWarning: Device used : cuda\n",
      "  warnings.warn(f\"Device used : {self.device}\")\n"
     ]
    },
    {
     "name": "stdout",
     "output_type": "stream",
     "text": [
      "epoch 0  | loss: 2.08329 | val_0_mse: 0.52087 |  0:00:07s\n",
      "epoch 1  | loss: 0.39514 | val_0_mse: 0.69302 |  0:00:14s\n",
      "epoch 2  | loss: 0.20688 | val_0_mse: 0.223   |  0:00:21s\n",
      "epoch 3  | loss: 0.16341 | val_0_mse: 0.12138 |  0:00:28s\n",
      "epoch 4  | loss: 0.11667 | val_0_mse: 0.11964 |  0:00:35s\n",
      "epoch 5  | loss: 0.12033 | val_0_mse: 0.07908 |  0:00:42s\n",
      "epoch 6  | loss: 0.09791 | val_0_mse: 0.10172 |  0:00:49s\n",
      "epoch 7  | loss: 0.10104 | val_0_mse: 0.09195 |  0:00:56s\n",
      "epoch 8  | loss: 0.09294 | val_0_mse: 0.06423 |  0:01:03s\n",
      "epoch 9  | loss: 0.08094 | val_0_mse: 0.06151 |  0:01:10s\n",
      "epoch 10 | loss: 0.06367 | val_0_mse: 0.05655 |  0:01:18s\n",
      "epoch 11 | loss: 0.06043 | val_0_mse: 0.04922 |  0:01:25s\n",
      "epoch 12 | loss: 0.05232 | val_0_mse: 0.04431 |  0:01:32s\n",
      "epoch 13 | loss: 0.0478  | val_0_mse: 0.05317 |  0:01:39s\n",
      "epoch 14 | loss: 0.04885 | val_0_mse: 0.04158 |  0:01:46s\n",
      "epoch 15 | loss: 0.03961 | val_0_mse: 0.03294 |  0:01:53s\n",
      "epoch 16 | loss: 0.04109 | val_0_mse: 0.03938 |  0:02:00s\n",
      "epoch 17 | loss: 0.03895 | val_0_mse: 0.0272  |  0:02:06s\n",
      "epoch 18 | loss: 0.02946 | val_0_mse: 0.03336 |  0:02:13s\n",
      "epoch 19 | loss: 0.02741 | val_0_mse: 0.02088 |  0:02:20s\n",
      "epoch 20 | loss: 0.02517 | val_0_mse: 0.01763 |  0:02:27s\n",
      "epoch 21 | loss: 0.0262  | val_0_mse: 0.03022 |  0:02:33s\n",
      "epoch 22 | loss: 0.02708 | val_0_mse: 0.01308 |  0:02:40s\n",
      "epoch 23 | loss: 0.02006 | val_0_mse: 0.01808 |  0:02:47s\n",
      "epoch 24 | loss: 0.02174 | val_0_mse: 0.02444 |  0:02:54s\n",
      "epoch 25 | loss: 0.02928 | val_0_mse: 0.04124 |  0:03:02s\n",
      "epoch 26 | loss: 0.02062 | val_0_mse: 0.01568 |  0:03:09s\n",
      "epoch 27 | loss: 0.01742 | val_0_mse: 0.01295 |  0:03:16s\n",
      "epoch 28 | loss: 0.02158 | val_0_mse: 0.01477 |  0:03:22s\n",
      "epoch 29 | loss: 0.01877 | val_0_mse: 0.01001 |  0:03:30s\n",
      "epoch 30 | loss: 0.02341 | val_0_mse: 0.00909 |  0:03:37s\n",
      "epoch 31 | loss: 0.01754 | val_0_mse: 0.00882 |  0:03:44s\n",
      "epoch 32 | loss: 0.01576 | val_0_mse: 0.01459 |  0:03:51s\n",
      "epoch 33 | loss: 0.01778 | val_0_mse: 0.01835 |  0:03:58s\n",
      "epoch 34 | loss: 0.01733 | val_0_mse: 0.00813 |  0:04:05s\n",
      "epoch 35 | loss: 0.01339 | val_0_mse: 0.01026 |  0:04:12s\n",
      "epoch 36 | loss: 0.01322 | val_0_mse: 0.024   |  0:04:19s\n",
      "epoch 37 | loss: 0.01594 | val_0_mse: 0.00861 |  0:04:26s\n",
      "epoch 38 | loss: 0.01496 | val_0_mse: 0.0103  |  0:04:32s\n",
      "epoch 39 | loss: 0.01465 | val_0_mse: 0.00742 |  0:04:40s\n",
      "epoch 40 | loss: 0.01276 | val_0_mse: 0.01193 |  0:04:47s\n",
      "epoch 41 | loss: 0.01156 | val_0_mse: 0.00906 |  0:04:53s\n",
      "epoch 42 | loss: 0.01434 | val_0_mse: 0.00687 |  0:05:01s\n",
      "epoch 43 | loss: 0.01391 | val_0_mse: 0.01356 |  0:05:08s\n",
      "epoch 44 | loss: 0.01435 | val_0_mse: 0.0067  |  0:05:15s\n",
      "epoch 45 | loss: 0.01439 | val_0_mse: 0.0139  |  0:05:22s\n",
      "epoch 46 | loss: 0.01166 | val_0_mse: 0.01098 |  0:05:29s\n",
      "epoch 47 | loss: 0.01142 | val_0_mse: 0.00786 |  0:05:37s\n",
      "epoch 48 | loss: 0.01422 | val_0_mse: 0.01235 |  0:05:45s\n",
      "epoch 49 | loss: 0.01573 | val_0_mse: 0.00878 |  0:05:53s\n",
      "epoch 50 | loss: 0.01039 | val_0_mse: 0.00558 |  0:06:01s\n",
      "epoch 51 | loss: 0.01184 | val_0_mse: 0.01412 |  0:06:08s\n",
      "epoch 52 | loss: 0.01286 | val_0_mse: 0.00868 |  0:06:15s\n",
      "epoch 53 | loss: 0.01163 | val_0_mse: 0.01819 |  0:06:22s\n",
      "epoch 54 | loss: 0.01516 | val_0_mse: 0.00979 |  0:06:29s\n",
      "epoch 55 | loss: 0.01227 | val_0_mse: 0.00995 |  0:06:36s\n",
      "epoch 56 | loss: 0.01166 | val_0_mse: 0.00669 |  0:06:43s\n",
      "epoch 57 | loss: 0.01132 | val_0_mse: 0.01617 |  0:06:50s\n",
      "epoch 58 | loss: 0.01246 | val_0_mse: 0.01261 |  0:06:57s\n",
      "epoch 59 | loss: 0.01603 | val_0_mse: 0.01141 |  0:07:06s\n",
      "epoch 60 | loss: 0.01061 | val_0_mse: 0.00868 |  0:07:14s\n",
      "\n",
      "Early stopping occurred at epoch 60 with best_epoch = 50 and best_val_0_mse = 0.00558\n"
     ]
    },
    {
     "name": "stderr",
     "output_type": "stream",
     "text": [
      "C:\\Users\\franc\\AppData\\Local\\Packages\\PythonSoftwareFoundation.Python.3.10_qbz5n2kfra8p0\\LocalCache\\local-packages\\Python310\\site-packages\\pytorch_tabnet\\callbacks.py:172: UserWarning: Best weights from best epoch are automatically used!\n",
      "  warnings.warn(wrn_msg)\n"
     ]
    },
    {
     "name": "stdout",
     "output_type": "stream",
     "text": [
      "Model MSE: 0.006555 - Best MSE: 0.004804\n",
      "Model R2 Score: 0.970939 - Best R2 Score: 0.978703\n",
      "\n",
      "Iterations 77/120 - Hyperparameters:  batch_sizes=64, nums_epochs=100, n_d=16, n_a=16, n_step=7, n_indipendent=3, n_shared=2, gamma=1.3, epsilon=1e-08\n"
     ]
    },
    {
     "name": "stderr",
     "output_type": "stream",
     "text": [
      "C:\\Users\\franc\\AppData\\Local\\Packages\\PythonSoftwareFoundation.Python.3.10_qbz5n2kfra8p0\\LocalCache\\local-packages\\Python310\\site-packages\\pytorch_tabnet\\abstract_model.py:75: UserWarning: Device used : cuda\n",
      "  warnings.warn(f\"Device used : {self.device}\")\n"
     ]
    },
    {
     "name": "stdout",
     "output_type": "stream",
     "text": [
      "epoch 0  | loss: 1.11432 | val_0_mse: 0.29877 |  0:00:12s\n",
      "epoch 1  | loss: 0.19545 | val_0_mse: 0.14084 |  0:00:23s\n",
      "epoch 2  | loss: 0.14706 | val_0_mse: 0.13633 |  0:00:35s\n",
      "epoch 3  | loss: 0.11688 | val_0_mse: 0.07661 |  0:00:47s\n",
      "epoch 4  | loss: 0.08666 | val_0_mse: 0.11187 |  0:01:00s\n",
      "epoch 5  | loss: 0.08836 | val_0_mse: 0.10642 |  0:01:14s\n",
      "epoch 6  | loss: 0.06746 | val_0_mse: 0.0707  |  0:01:27s\n",
      "epoch 7  | loss: 0.06506 | val_0_mse: 0.073   |  0:01:40s\n",
      "epoch 8  | loss: 0.05147 | val_0_mse: 0.03993 |  0:01:54s\n",
      "epoch 9  | loss: 0.04785 | val_0_mse: 0.05802 |  0:02:09s\n",
      "epoch 10 | loss: 0.0549  | val_0_mse: 0.11014 |  0:02:23s\n",
      "epoch 11 | loss: 0.04255 | val_0_mse: 0.02669 |  0:02:35s\n",
      "epoch 12 | loss: 0.03652 | val_0_mse: 0.09274 |  0:02:47s\n",
      "epoch 13 | loss: 0.04077 | val_0_mse: 0.06834 |  0:03:00s\n",
      "epoch 14 | loss: 0.03619 | val_0_mse: 0.02811 |  0:03:13s\n",
      "epoch 15 | loss: 0.03914 | val_0_mse: 0.02099 |  0:03:25s\n",
      "epoch 16 | loss: 0.04146 | val_0_mse: 0.09867 |  0:03:37s\n",
      "epoch 17 | loss: 0.04801 | val_0_mse: 0.03332 |  0:03:50s\n",
      "epoch 18 | loss: 0.04403 | val_0_mse: 0.02552 |  0:04:02s\n",
      "epoch 19 | loss: 0.04037 | val_0_mse: 0.02196 |  0:04:16s\n",
      "epoch 20 | loss: 0.03534 | val_0_mse: 0.06142 |  0:04:30s\n",
      "epoch 21 | loss: 0.02834 | val_0_mse: 0.0261  |  0:04:45s\n",
      "epoch 22 | loss: 0.03284 | val_0_mse: 0.0319  |  0:05:00s\n",
      "epoch 23 | loss: 0.02634 | val_0_mse: 0.01678 |  0:05:14s\n",
      "epoch 24 | loss: 0.02992 | val_0_mse: 0.0622  |  0:05:27s\n",
      "epoch 25 | loss: 0.02423 | val_0_mse: 0.02863 |  0:05:41s\n",
      "epoch 26 | loss: 0.02512 | val_0_mse: 0.06758 |  0:05:54s\n",
      "epoch 27 | loss: 0.02504 | val_0_mse: 0.04376 |  0:06:07s\n",
      "epoch 28 | loss: 0.02588 | val_0_mse: 0.01782 |  0:06:21s\n",
      "epoch 29 | loss: 0.02092 | val_0_mse: 0.02744 |  0:06:34s\n",
      "epoch 30 | loss: 0.02237 | val_0_mse: 0.01315 |  0:06:47s\n",
      "epoch 31 | loss: 0.02396 | val_0_mse: 0.03377 |  0:07:01s\n",
      "epoch 32 | loss: 0.02034 | val_0_mse: 0.01461 |  0:07:14s\n",
      "epoch 33 | loss: 0.01819 | val_0_mse: 0.01791 |  0:07:28s\n",
      "epoch 34 | loss: 0.01991 | val_0_mse: 0.01413 |  0:07:41s\n",
      "epoch 35 | loss: 0.01762 | val_0_mse: 0.01249 |  0:07:54s\n",
      "epoch 36 | loss: 0.01807 | val_0_mse: 0.01597 |  0:08:08s\n",
      "epoch 37 | loss: 0.02072 | val_0_mse: 0.0086  |  0:08:22s\n",
      "epoch 38 | loss: 0.01796 | val_0_mse: 0.01705 |  0:08:35s\n",
      "epoch 39 | loss: 0.02215 | val_0_mse: 0.06692 |  0:08:48s\n",
      "epoch 40 | loss: 0.02773 | val_0_mse: 0.01706 |  0:09:02s\n",
      "epoch 41 | loss: 0.0212  | val_0_mse: 0.01424 |  0:09:14s\n",
      "epoch 42 | loss: 0.01969 | val_0_mse: 0.01945 |  0:09:26s\n",
      "epoch 43 | loss: 0.01832 | val_0_mse: 0.0204  |  0:09:39s\n",
      "epoch 44 | loss: 0.01653 | val_0_mse: 0.01319 |  0:09:51s\n",
      "epoch 45 | loss: 0.01514 | val_0_mse: 0.01475 |  0:10:04s\n",
      "epoch 46 | loss: 0.01286 | val_0_mse: 0.01074 |  0:10:16s\n",
      "epoch 47 | loss: 0.01636 | val_0_mse: 0.01776 |  0:10:30s\n",
      "\n",
      "Early stopping occurred at epoch 47 with best_epoch = 37 and best_val_0_mse = 0.0086\n"
     ]
    },
    {
     "name": "stderr",
     "output_type": "stream",
     "text": [
      "C:\\Users\\franc\\AppData\\Local\\Packages\\PythonSoftwareFoundation.Python.3.10_qbz5n2kfra8p0\\LocalCache\\local-packages\\Python310\\site-packages\\pytorch_tabnet\\callbacks.py:172: UserWarning: Best weights from best epoch are automatically used!\n",
      "  warnings.warn(wrn_msg)\n"
     ]
    },
    {
     "name": "stdout",
     "output_type": "stream",
     "text": [
      "Model MSE: 0.009701 - Best MSE: 0.004804\n",
      "Model R2 Score: 0.956990 - Best R2 Score: 0.978703\n",
      "\n",
      "Iterations 78/120 - Hyperparameters:  batch_sizes=128, nums_epochs=100, n_d=16, n_a=16, n_step=7, n_indipendent=3, n_shared=2, gamma=1.3, epsilon=1e-08\n"
     ]
    },
    {
     "name": "stderr",
     "output_type": "stream",
     "text": [
      "C:\\Users\\franc\\AppData\\Local\\Packages\\PythonSoftwareFoundation.Python.3.10_qbz5n2kfra8p0\\LocalCache\\local-packages\\Python310\\site-packages\\pytorch_tabnet\\abstract_model.py:75: UserWarning: Device used : cuda\n",
      "  warnings.warn(f\"Device used : {self.device}\")\n"
     ]
    },
    {
     "name": "stdout",
     "output_type": "stream",
     "text": [
      "epoch 0  | loss: 1.44717 | val_0_mse: 0.28005 |  0:00:06s\n",
      "epoch 1  | loss: 0.3066  | val_0_mse: 0.13817 |  0:00:13s\n",
      "epoch 2  | loss: 0.12005 | val_0_mse: 0.22917 |  0:00:19s\n",
      "epoch 3  | loss: 0.07775 | val_0_mse: 0.11142 |  0:00:25s\n",
      "epoch 4  | loss: 0.08143 | val_0_mse: 0.07109 |  0:00:31s\n",
      "epoch 5  | loss: 0.06881 | val_0_mse: 0.05866 |  0:00:37s\n",
      "epoch 6  | loss: 0.06631 | val_0_mse: 0.06456 |  0:00:43s\n",
      "epoch 7  | loss: 0.06501 | val_0_mse: 0.05358 |  0:00:50s\n",
      "epoch 8  | loss: 0.07031 | val_0_mse: 0.0551  |  0:00:56s\n",
      "epoch 9  | loss: 0.06491 | val_0_mse: 0.05052 |  0:01:03s\n",
      "epoch 10 | loss: 0.05898 | val_0_mse: 0.04427 |  0:01:10s\n",
      "epoch 11 | loss: 0.05634 | val_0_mse: 0.04867 |  0:01:18s\n",
      "epoch 12 | loss: 0.05636 | val_0_mse: 0.05783 |  0:01:25s\n",
      "epoch 13 | loss: 0.05205 | val_0_mse: 0.053   |  0:01:32s\n",
      "epoch 14 | loss: 0.05297 | val_0_mse: 0.04234 |  0:01:39s\n",
      "epoch 15 | loss: 0.04576 | val_0_mse: 0.05231 |  0:01:46s\n",
      "epoch 16 | loss: 0.04551 | val_0_mse: 0.04065 |  0:01:53s\n",
      "epoch 17 | loss: 0.0432  | val_0_mse: 0.02989 |  0:02:00s\n",
      "epoch 18 | loss: 0.04378 | val_0_mse: 0.08103 |  0:02:07s\n",
      "epoch 19 | loss: 0.04154 | val_0_mse: 0.02898 |  0:02:13s\n",
      "epoch 20 | loss: 0.03009 | val_0_mse: 0.02351 |  0:02:20s\n",
      "epoch 21 | loss: 0.02928 | val_0_mse: 0.021   |  0:02:27s\n",
      "epoch 22 | loss: 0.02942 | val_0_mse: 0.03424 |  0:02:34s\n",
      "epoch 23 | loss: 0.022   | val_0_mse: 0.0187  |  0:02:41s\n",
      "epoch 24 | loss: 0.02691 | val_0_mse: 0.01804 |  0:02:48s\n",
      "epoch 25 | loss: 0.01893 | val_0_mse: 0.01827 |  0:02:55s\n",
      "epoch 26 | loss: 0.01898 | val_0_mse: 0.0114  |  0:03:01s\n",
      "epoch 27 | loss: 0.02202 | val_0_mse: 0.06609 |  0:03:09s\n",
      "epoch 28 | loss: 0.02514 | val_0_mse: 0.016   |  0:03:15s\n",
      "epoch 29 | loss: 0.01608 | val_0_mse: 0.01472 |  0:03:22s\n",
      "epoch 30 | loss: 0.01573 | val_0_mse: 0.01161 |  0:03:29s\n",
      "epoch 31 | loss: 0.01687 | val_0_mse: 0.0085  |  0:03:36s\n",
      "epoch 32 | loss: 0.01267 | val_0_mse: 0.0088  |  0:03:43s\n",
      "epoch 33 | loss: 0.01724 | val_0_mse: 0.01002 |  0:03:50s\n",
      "epoch 34 | loss: 0.0138  | val_0_mse: 0.00803 |  0:03:57s\n",
      "epoch 35 | loss: 0.01312 | val_0_mse: 0.01465 |  0:04:03s\n",
      "epoch 36 | loss: 0.01284 | val_0_mse: 0.00748 |  0:04:10s\n",
      "epoch 37 | loss: 0.01513 | val_0_mse: 0.00669 |  0:04:17s\n",
      "epoch 38 | loss: 0.01302 | val_0_mse: 0.00969 |  0:04:24s\n",
      "epoch 39 | loss: 0.01433 | val_0_mse: 0.01987 |  0:04:31s\n",
      "epoch 40 | loss: 0.01409 | val_0_mse: 0.01188 |  0:04:39s\n",
      "epoch 41 | loss: 0.01485 | val_0_mse: 0.00826 |  0:04:46s\n",
      "epoch 42 | loss: 0.01391 | val_0_mse: 0.00937 |  0:04:53s\n",
      "epoch 43 | loss: 0.01134 | val_0_mse: 0.02095 |  0:05:00s\n",
      "epoch 44 | loss: 0.01196 | val_0_mse: 0.00632 |  0:05:08s\n",
      "epoch 45 | loss: 0.00952 | val_0_mse: 0.01528 |  0:05:15s\n",
      "epoch 46 | loss: 0.00993 | val_0_mse: 0.01069 |  0:05:22s\n",
      "epoch 47 | loss: 0.01251 | val_0_mse: 0.01692 |  0:05:29s\n",
      "epoch 48 | loss: 0.01491 | val_0_mse: 0.00685 |  0:05:36s\n",
      "epoch 49 | loss: 0.01153 | val_0_mse: 0.01125 |  0:05:43s\n",
      "epoch 50 | loss: 0.01384 | val_0_mse: 0.01741 |  0:05:51s\n",
      "epoch 51 | loss: 0.01579 | val_0_mse: 0.04977 |  0:05:58s\n",
      "epoch 52 | loss: 0.0193  | val_0_mse: 0.00652 |  0:06:05s\n",
      "epoch 53 | loss: 0.01426 | val_0_mse: 0.00797 |  0:06:12s\n",
      "epoch 54 | loss: 0.01117 | val_0_mse: 0.01858 |  0:06:19s\n",
      "\n",
      "Early stopping occurred at epoch 54 with best_epoch = 44 and best_val_0_mse = 0.00632\n"
     ]
    },
    {
     "name": "stderr",
     "output_type": "stream",
     "text": [
      "C:\\Users\\franc\\AppData\\Local\\Packages\\PythonSoftwareFoundation.Python.3.10_qbz5n2kfra8p0\\LocalCache\\local-packages\\Python310\\site-packages\\pytorch_tabnet\\callbacks.py:172: UserWarning: Best weights from best epoch are automatically used!\n",
      "  warnings.warn(wrn_msg)\n"
     ]
    },
    {
     "name": "stdout",
     "output_type": "stream",
     "text": [
      "Model MSE: 0.006453 - Best MSE: 0.004804\n",
      "Model R2 Score: 0.971390 - Best R2 Score: 0.978703\n",
      "\n",
      "Iterations 79/120 - Hyperparameters:  batch_sizes=64, nums_epochs=100, n_d=16, n_a=16, n_step=7, n_indipendent=3, n_shared=3, gamma=1.3, epsilon=1e-08\n"
     ]
    },
    {
     "name": "stderr",
     "output_type": "stream",
     "text": [
      "C:\\Users\\franc\\AppData\\Local\\Packages\\PythonSoftwareFoundation.Python.3.10_qbz5n2kfra8p0\\LocalCache\\local-packages\\Python310\\site-packages\\pytorch_tabnet\\abstract_model.py:75: UserWarning: Device used : cuda\n",
      "  warnings.warn(f\"Device used : {self.device}\")\n"
     ]
    },
    {
     "name": "stdout",
     "output_type": "stream",
     "text": [
      "epoch 0  | loss: 1.7015  | val_0_mse: 0.28155 |  0:00:14s\n",
      "epoch 1  | loss: 0.25537 | val_0_mse: 0.3157  |  0:00:29s\n",
      "epoch 2  | loss: 0.15288 | val_0_mse: 0.1348  |  0:00:44s\n",
      "epoch 3  | loss: 0.14528 | val_0_mse: 0.23826 |  0:00:59s\n",
      "epoch 4  | loss: 0.14288 | val_0_mse: 0.14858 |  0:01:14s\n",
      "epoch 5  | loss: 0.1227  | val_0_mse: 0.13699 |  0:01:29s\n",
      "epoch 6  | loss: 0.1187  | val_0_mse: 0.11955 |  0:01:44s\n",
      "epoch 7  | loss: 0.11355 | val_0_mse: 0.12569 |  0:01:58s\n",
      "epoch 8  | loss: 0.10653 | val_0_mse: 0.11781 |  0:02:13s\n",
      "epoch 9  | loss: 0.09835 | val_0_mse: 0.1214  |  0:02:28s\n",
      "epoch 10 | loss: 0.10222 | val_0_mse: 0.07126 |  0:02:43s\n",
      "epoch 11 | loss: 0.07423 | val_0_mse: 0.07218 |  0:02:59s\n",
      "epoch 12 | loss: 0.05575 | val_0_mse: 0.05069 |  0:03:14s\n",
      "epoch 13 | loss: 0.05077 | val_0_mse: 0.06038 |  0:03:29s\n",
      "epoch 14 | loss: 0.04576 | val_0_mse: 0.05112 |  0:03:43s\n",
      "epoch 15 | loss: 0.03409 | val_0_mse: 0.10263 |  0:03:59s\n",
      "epoch 16 | loss: 0.03138 | val_0_mse: 0.02033 |  0:04:13s\n",
      "epoch 17 | loss: 0.02594 | val_0_mse: 0.03149 |  0:04:28s\n",
      "epoch 18 | loss: 0.02613 | val_0_mse: 0.01606 |  0:04:43s\n",
      "epoch 19 | loss: 0.02246 | val_0_mse: 0.01861 |  0:04:58s\n",
      "epoch 20 | loss: 0.02334 | val_0_mse: 0.01169 |  0:05:13s\n",
      "epoch 21 | loss: 0.02983 | val_0_mse: 0.01963 |  0:05:29s\n",
      "epoch 22 | loss: 0.02366 | val_0_mse: 0.01724 |  0:05:44s\n",
      "epoch 23 | loss: 0.02053 | val_0_mse: 0.01617 |  0:05:59s\n",
      "epoch 24 | loss: 0.02175 | val_0_mse: 0.02081 |  0:06:15s\n",
      "epoch 25 | loss: 0.01806 | val_0_mse: 0.01064 |  0:06:30s\n",
      "epoch 26 | loss: 0.01904 | val_0_mse: 0.0088  |  0:06:44s\n",
      "epoch 27 | loss: 0.01636 | val_0_mse: 0.00733 |  0:06:57s\n",
      "epoch 28 | loss: 0.01611 | val_0_mse: 0.01616 |  0:07:10s\n",
      "epoch 29 | loss: 0.02141 | val_0_mse: 0.00953 |  0:07:23s\n",
      "epoch 30 | loss: 0.01804 | val_0_mse: 0.0134  |  0:07:40s\n",
      "epoch 31 | loss: 0.01396 | val_0_mse: 0.00992 |  0:07:56s\n",
      "epoch 32 | loss: 0.01779 | val_0_mse: 0.01105 |  0:08:12s\n",
      "epoch 33 | loss: 0.01695 | val_0_mse: 0.0189  |  0:08:28s\n",
      "epoch 34 | loss: 0.01679 | val_0_mse: 0.0074  |  0:08:44s\n",
      "epoch 35 | loss: 0.01427 | val_0_mse: 0.0082  |  0:09:00s\n",
      "epoch 36 | loss: 0.01475 | val_0_mse: 0.00778 |  0:09:17s\n",
      "epoch 37 | loss: 0.0144  | val_0_mse: 0.01503 |  0:09:33s\n",
      "\n",
      "Early stopping occurred at epoch 37 with best_epoch = 27 and best_val_0_mse = 0.00733\n"
     ]
    },
    {
     "name": "stderr",
     "output_type": "stream",
     "text": [
      "C:\\Users\\franc\\AppData\\Local\\Packages\\PythonSoftwareFoundation.Python.3.10_qbz5n2kfra8p0\\LocalCache\\local-packages\\Python310\\site-packages\\pytorch_tabnet\\callbacks.py:172: UserWarning: Best weights from best epoch are automatically used!\n",
      "  warnings.warn(wrn_msg)\n"
     ]
    },
    {
     "name": "stdout",
     "output_type": "stream",
     "text": [
      "Model MSE: 0.007894 - Best MSE: 0.004804\n",
      "Model R2 Score: 0.965004 - Best R2 Score: 0.978703\n",
      "\n",
      "Iterations 80/120 - Hyperparameters:  batch_sizes=128, nums_epochs=100, n_d=16, n_a=16, n_step=7, n_indipendent=3, n_shared=3, gamma=1.3, epsilon=1e-08\n"
     ]
    },
    {
     "name": "stderr",
     "output_type": "stream",
     "text": [
      "C:\\Users\\franc\\AppData\\Local\\Packages\\PythonSoftwareFoundation.Python.3.10_qbz5n2kfra8p0\\LocalCache\\local-packages\\Python310\\site-packages\\pytorch_tabnet\\abstract_model.py:75: UserWarning: Device used : cuda\n",
      "  warnings.warn(f\"Device used : {self.device}\")\n"
     ]
    },
    {
     "name": "stdout",
     "output_type": "stream",
     "text": [
      "epoch 0  | loss: 2.1971  | val_0_mse: 0.81329 |  0:00:08s\n",
      "epoch 1  | loss: 0.35651 | val_0_mse: 0.20458 |  0:00:17s\n",
      "epoch 2  | loss: 0.19446 | val_0_mse: 0.16827 |  0:00:25s\n",
      "epoch 3  | loss: 0.15825 | val_0_mse: 0.28667 |  0:00:33s\n",
      "epoch 4  | loss: 0.12951 | val_0_mse: 0.19429 |  0:00:41s\n",
      "epoch 5  | loss: 0.11757 | val_0_mse: 0.18666 |  0:00:49s\n",
      "epoch 6  | loss: 0.1265  | val_0_mse: 0.10585 |  0:00:58s\n",
      "epoch 7  | loss: 0.10375 | val_0_mse: 0.07799 |  0:01:06s\n",
      "epoch 8  | loss: 0.09623 | val_0_mse: 0.08061 |  0:01:14s\n",
      "epoch 9  | loss: 0.08342 | val_0_mse: 0.07106 |  0:01:23s\n",
      "epoch 10 | loss: 0.08677 | val_0_mse: 0.08371 |  0:01:31s\n",
      "epoch 11 | loss: 0.09175 | val_0_mse: 0.08896 |  0:01:37s\n",
      "epoch 12 | loss: 0.0806  | val_0_mse: 0.07552 |  0:01:44s\n",
      "epoch 13 | loss: 0.06336 | val_0_mse: 0.05503 |  0:01:51s\n",
      "epoch 14 | loss: 0.06366 | val_0_mse: 0.05887 |  0:01:58s\n",
      "epoch 15 | loss: 0.05756 | val_0_mse: 0.07517 |  0:02:05s\n",
      "epoch 16 | loss: 0.0621  | val_0_mse: 0.04774 |  0:02:12s\n",
      "epoch 17 | loss: 0.0422  | val_0_mse: 0.03017 |  0:02:18s\n",
      "epoch 18 | loss: 0.04007 | val_0_mse: 0.03265 |  0:02:25s\n",
      "epoch 19 | loss: 0.03702 | val_0_mse: 0.03211 |  0:02:32s\n",
      "epoch 20 | loss: 0.03407 | val_0_mse: 0.02457 |  0:02:39s\n",
      "epoch 21 | loss: 0.02943 | val_0_mse: 0.02162 |  0:02:46s\n",
      "epoch 22 | loss: 0.02028 | val_0_mse: 0.01934 |  0:02:53s\n",
      "epoch 23 | loss: 0.02267 | val_0_mse: 0.02084 |  0:02:59s\n",
      "epoch 24 | loss: 0.02641 | val_0_mse: 0.03971 |  0:03:06s\n",
      "epoch 25 | loss: 0.02394 | val_0_mse: 0.01677 |  0:03:13s\n",
      "epoch 26 | loss: 0.02264 | val_0_mse: 0.01758 |  0:03:20s\n",
      "epoch 27 | loss: 0.02086 | val_0_mse: 0.01367 |  0:03:26s\n",
      "epoch 28 | loss: 0.02333 | val_0_mse: 0.02445 |  0:03:34s\n",
      "epoch 29 | loss: 0.027   | val_0_mse: 0.03048 |  0:03:40s\n",
      "epoch 30 | loss: 0.02002 | val_0_mse: 0.01238 |  0:03:47s\n",
      "epoch 31 | loss: 0.01827 | val_0_mse: 0.03059 |  0:03:54s\n",
      "epoch 32 | loss: 0.01602 | val_0_mse: 0.01366 |  0:04:01s\n",
      "epoch 33 | loss: 0.02119 | val_0_mse: 0.01747 |  0:04:07s\n",
      "epoch 34 | loss: 0.02175 | val_0_mse: 0.02347 |  0:04:14s\n",
      "epoch 35 | loss: 0.02008 | val_0_mse: 0.01829 |  0:04:21s\n",
      "epoch 36 | loss: 0.01841 | val_0_mse: 0.01635 |  0:04:28s\n",
      "epoch 37 | loss: 0.02309 | val_0_mse: 0.01295 |  0:04:35s\n",
      "epoch 38 | loss: 0.0195  | val_0_mse: 0.02157 |  0:04:41s\n",
      "epoch 39 | loss: 0.02077 | val_0_mse: 0.01505 |  0:04:48s\n",
      "epoch 40 | loss: 0.02581 | val_0_mse: 0.02703 |  0:04:55s\n",
      "\n",
      "Early stopping occurred at epoch 40 with best_epoch = 30 and best_val_0_mse = 0.01238\n"
     ]
    },
    {
     "name": "stderr",
     "output_type": "stream",
     "text": [
      "C:\\Users\\franc\\AppData\\Local\\Packages\\PythonSoftwareFoundation.Python.3.10_qbz5n2kfra8p0\\LocalCache\\local-packages\\Python310\\site-packages\\pytorch_tabnet\\callbacks.py:172: UserWarning: Best weights from best epoch are automatically used!\n",
      "  warnings.warn(wrn_msg)\n"
     ]
    },
    {
     "name": "stdout",
     "output_type": "stream",
     "text": [
      "Model MSE: 0.012226 - Best MSE: 0.004804\n",
      "Model R2 Score: 0.945799 - Best R2 Score: 0.978703\n",
      "\n",
      "Iterations 81/120 - Hyperparameters:  batch_sizes=64, nums_epochs=100, n_d=32, n_a=32, n_step=3, n_indipendent=2, n_shared=2, gamma=1.3, epsilon=1e-08\n"
     ]
    },
    {
     "name": "stderr",
     "output_type": "stream",
     "text": [
      "C:\\Users\\franc\\AppData\\Local\\Packages\\PythonSoftwareFoundation.Python.3.10_qbz5n2kfra8p0\\LocalCache\\local-packages\\Python310\\site-packages\\pytorch_tabnet\\abstract_model.py:75: UserWarning: Device used : cuda\n",
      "  warnings.warn(f\"Device used : {self.device}\")\n"
     ]
    },
    {
     "name": "stdout",
     "output_type": "stream",
     "text": [
      "epoch 0  | loss: 0.65675 | val_0_mse: 0.2223  |  0:00:05s\n",
      "epoch 1  | loss: 0.10755 | val_0_mse: 0.06574 |  0:00:10s\n",
      "epoch 2  | loss: 0.06985 | val_0_mse: 0.11579 |  0:00:15s\n",
      "epoch 3  | loss: 0.05288 | val_0_mse: 0.0378  |  0:00:20s\n",
      "epoch 4  | loss: 0.04348 | val_0_mse: 0.0788  |  0:00:25s\n",
      "epoch 5  | loss: 0.03932 | val_0_mse: 0.03108 |  0:00:30s\n",
      "epoch 6  | loss: 0.03995 | val_0_mse: 0.03281 |  0:00:35s\n",
      "epoch 7  | loss: 0.03002 | val_0_mse: 0.0175  |  0:00:40s\n",
      "epoch 8  | loss: 0.02647 | val_0_mse: 0.01852 |  0:00:46s\n",
      "epoch 9  | loss: 0.02008 | val_0_mse: 0.01304 |  0:00:51s\n",
      "epoch 10 | loss: 0.02219 | val_0_mse: 0.03766 |  0:00:57s\n",
      "epoch 11 | loss: 0.0274  | val_0_mse: 0.01981 |  0:01:04s\n",
      "epoch 12 | loss: 0.02402 | val_0_mse: 0.00866 |  0:01:09s\n",
      "epoch 13 | loss: 0.01966 | val_0_mse: 0.02351 |  0:01:15s\n",
      "epoch 14 | loss: 0.02178 | val_0_mse: 0.00691 |  0:01:21s\n",
      "epoch 15 | loss: 0.02006 | val_0_mse: 0.00987 |  0:01:26s\n",
      "epoch 16 | loss: 0.02077 | val_0_mse: 0.01461 |  0:01:32s\n",
      "epoch 17 | loss: 0.02201 | val_0_mse: 0.01497 |  0:01:39s\n",
      "epoch 18 | loss: 0.01595 | val_0_mse: 0.01035 |  0:01:44s\n",
      "epoch 19 | loss: 0.01952 | val_0_mse: 0.01194 |  0:01:51s\n",
      "epoch 20 | loss: 0.01968 | val_0_mse: 0.03101 |  0:01:57s\n",
      "epoch 21 | loss: 0.01741 | val_0_mse: 0.00922 |  0:02:02s\n",
      "epoch 22 | loss: 0.0158  | val_0_mse: 0.01159 |  0:02:08s\n",
      "epoch 23 | loss: 0.01617 | val_0_mse: 0.03237 |  0:02:14s\n",
      "epoch 24 | loss: 0.0178  | val_0_mse: 0.03243 |  0:02:20s\n",
      "\n",
      "Early stopping occurred at epoch 24 with best_epoch = 14 and best_val_0_mse = 0.00691\n"
     ]
    },
    {
     "name": "stderr",
     "output_type": "stream",
     "text": [
      "C:\\Users\\franc\\AppData\\Local\\Packages\\PythonSoftwareFoundation.Python.3.10_qbz5n2kfra8p0\\LocalCache\\local-packages\\Python310\\site-packages\\pytorch_tabnet\\callbacks.py:172: UserWarning: Best weights from best epoch are automatically used!\n",
      "  warnings.warn(wrn_msg)\n"
     ]
    },
    {
     "name": "stdout",
     "output_type": "stream",
     "text": [
      "Model MSE: 0.007559 - Best MSE: 0.004804\n",
      "Model R2 Score: 0.966487 - Best R2 Score: 0.978703\n",
      "\n",
      "Iterations 82/120 - Hyperparameters:  batch_sizes=128, nums_epochs=100, n_d=32, n_a=32, n_step=3, n_indipendent=2, n_shared=2, gamma=1.3, epsilon=1e-08\n"
     ]
    },
    {
     "name": "stderr",
     "output_type": "stream",
     "text": [
      "C:\\Users\\franc\\AppData\\Local\\Packages\\PythonSoftwareFoundation.Python.3.10_qbz5n2kfra8p0\\LocalCache\\local-packages\\Python310\\site-packages\\pytorch_tabnet\\abstract_model.py:75: UserWarning: Device used : cuda\n",
      "  warnings.warn(f\"Device used : {self.device}\")\n"
     ]
    },
    {
     "name": "stdout",
     "output_type": "stream",
     "text": [
      "epoch 0  | loss: 1.10267 | val_0_mse: 0.5637  |  0:00:02s\n",
      "epoch 1  | loss: 0.1097  | val_0_mse: 0.14115 |  0:00:05s\n",
      "epoch 2  | loss: 0.07717 | val_0_mse: 0.14499 |  0:00:08s\n",
      "epoch 3  | loss: 0.06119 | val_0_mse: 0.05856 |  0:00:11s\n",
      "epoch 4  | loss: 0.04935 | val_0_mse: 0.08345 |  0:00:13s\n",
      "epoch 5  | loss: 0.04674 | val_0_mse: 0.06427 |  0:00:16s\n",
      "epoch 6  | loss: 0.04377 | val_0_mse: 0.03413 |  0:00:19s\n",
      "epoch 7  | loss: 0.03897 | val_0_mse: 0.03659 |  0:00:22s\n",
      "epoch 8  | loss: 0.04592 | val_0_mse: 0.0387  |  0:00:24s\n",
      "epoch 9  | loss: 0.03806 | val_0_mse: 0.0233  |  0:00:27s\n",
      "epoch 10 | loss: 0.03056 | val_0_mse: 0.0512  |  0:00:30s\n",
      "epoch 11 | loss: 0.03219 | val_0_mse: 0.01898 |  0:00:32s\n",
      "epoch 12 | loss: 0.02463 | val_0_mse: 0.02174 |  0:00:35s\n",
      "epoch 13 | loss: 0.02784 | val_0_mse: 0.01312 |  0:00:38s\n",
      "epoch 14 | loss: 0.02254 | val_0_mse: 0.01479 |  0:00:41s\n",
      "epoch 15 | loss: 0.0208  | val_0_mse: 0.01284 |  0:00:44s\n",
      "epoch 16 | loss: 0.02187 | val_0_mse: 0.01335 |  0:00:47s\n",
      "epoch 17 | loss: 0.02109 | val_0_mse: 0.01964 |  0:00:50s\n",
      "epoch 18 | loss: 0.01894 | val_0_mse: 0.02089 |  0:00:53s\n",
      "epoch 19 | loss: 0.01632 | val_0_mse: 0.0352  |  0:00:56s\n",
      "epoch 20 | loss: 0.01834 | val_0_mse: 0.02229 |  0:00:59s\n",
      "epoch 21 | loss: 0.01746 | val_0_mse: 0.02141 |  0:01:01s\n",
      "epoch 22 | loss: 0.02013 | val_0_mse: 0.0091  |  0:01:04s\n",
      "epoch 23 | loss: 0.01248 | val_0_mse: 0.00748 |  0:01:07s\n",
      "epoch 24 | loss: 0.01616 | val_0_mse: 0.00716 |  0:01:10s\n",
      "epoch 25 | loss: 0.01141 | val_0_mse: 0.00744 |  0:01:13s\n",
      "epoch 26 | loss: 0.0155  | val_0_mse: 0.01401 |  0:01:16s\n",
      "epoch 27 | loss: 0.01122 | val_0_mse: 0.02626 |  0:01:19s\n",
      "epoch 28 | loss: 0.01764 | val_0_mse: 0.10771 |  0:01:22s\n",
      "epoch 29 | loss: 0.02017 | val_0_mse: 0.01271 |  0:01:25s\n",
      "epoch 30 | loss: 0.01642 | val_0_mse: 0.01452 |  0:01:28s\n",
      "epoch 31 | loss: 0.01114 | val_0_mse: 0.00704 |  0:01:30s\n",
      "epoch 32 | loss: 0.01288 | val_0_mse: 0.01202 |  0:01:33s\n",
      "epoch 33 | loss: 0.01163 | val_0_mse: 0.01078 |  0:01:36s\n",
      "epoch 34 | loss: 0.01087 | val_0_mse: 0.00652 |  0:01:39s\n",
      "epoch 35 | loss: 0.01296 | val_0_mse: 0.01273 |  0:01:42s\n",
      "epoch 36 | loss: 0.01127 | val_0_mse: 0.01168 |  0:01:45s\n",
      "epoch 37 | loss: 0.01072 | val_0_mse: 0.0253  |  0:01:48s\n",
      "epoch 38 | loss: 0.01927 | val_0_mse: 0.01794 |  0:01:51s\n",
      "epoch 39 | loss: 0.01496 | val_0_mse: 0.01044 |  0:01:53s\n",
      "epoch 40 | loss: 0.01383 | val_0_mse: 0.01868 |  0:01:56s\n",
      "epoch 41 | loss: 0.01093 | val_0_mse: 0.00616 |  0:01:59s\n",
      "epoch 42 | loss: 0.01044 | val_0_mse: 0.00567 |  0:02:02s\n",
      "epoch 43 | loss: 0.01231 | val_0_mse: 0.00862 |  0:02:05s\n",
      "epoch 44 | loss: 0.01173 | val_0_mse: 0.00827 |  0:02:08s\n",
      "epoch 45 | loss: 0.01141 | val_0_mse: 0.00907 |  0:02:11s\n",
      "epoch 46 | loss: 0.01036 | val_0_mse: 0.00736 |  0:02:14s\n",
      "epoch 47 | loss: 0.01102 | val_0_mse: 0.00679 |  0:02:16s\n",
      "epoch 48 | loss: 0.01251 | val_0_mse: 0.03344 |  0:02:19s\n",
      "epoch 49 | loss: 0.0139  | val_0_mse: 0.0082  |  0:02:22s\n",
      "epoch 50 | loss: 0.00925 | val_0_mse: 0.00582 |  0:02:25s\n",
      "epoch 51 | loss: 0.0093  | val_0_mse: 0.0061  |  0:02:28s\n",
      "epoch 52 | loss: 0.01413 | val_0_mse: 0.00729 |  0:02:31s\n",
      "\n",
      "Early stopping occurred at epoch 52 with best_epoch = 42 and best_val_0_mse = 0.00567\n"
     ]
    },
    {
     "name": "stderr",
     "output_type": "stream",
     "text": [
      "C:\\Users\\franc\\AppData\\Local\\Packages\\PythonSoftwareFoundation.Python.3.10_qbz5n2kfra8p0\\LocalCache\\local-packages\\Python310\\site-packages\\pytorch_tabnet\\callbacks.py:172: UserWarning: Best weights from best epoch are automatically used!\n",
      "  warnings.warn(wrn_msg)\n"
     ]
    },
    {
     "name": "stdout",
     "output_type": "stream",
     "text": [
      "Model MSE: 0.005798 - Best MSE: 0.004804\n",
      "Model R2 Score: 0.974297 - Best R2 Score: 0.978703\n",
      "\n",
      "Iterations 83/120 - Hyperparameters:  batch_sizes=64, nums_epochs=100, n_d=32, n_a=32, n_step=3, n_indipendent=2, n_shared=3, gamma=1.3, epsilon=1e-08\n"
     ]
    },
    {
     "name": "stderr",
     "output_type": "stream",
     "text": [
      "C:\\Users\\franc\\AppData\\Local\\Packages\\PythonSoftwareFoundation.Python.3.10_qbz5n2kfra8p0\\LocalCache\\local-packages\\Python310\\site-packages\\pytorch_tabnet\\abstract_model.py:75: UserWarning: Device used : cuda\n",
      "  warnings.warn(f\"Device used : {self.device}\")\n"
     ]
    },
    {
     "name": "stdout",
     "output_type": "stream",
     "text": [
      "epoch 0  | loss: 0.53429 | val_0_mse: 0.31458 |  0:00:05s\n",
      "epoch 1  | loss: 0.10625 | val_0_mse: 0.13616 |  0:00:11s\n",
      "epoch 2  | loss: 0.06861 | val_0_mse: 0.04828 |  0:00:17s\n",
      "epoch 3  | loss: 0.05669 | val_0_mse: 0.03577 |  0:00:23s\n",
      "epoch 4  | loss: 0.04393 | val_0_mse: 0.0271  |  0:00:29s\n",
      "epoch 5  | loss: 0.03716 | val_0_mse: 0.02373 |  0:00:36s\n",
      "epoch 6  | loss: 0.03263 | val_0_mse: 0.015   |  0:00:42s\n",
      "epoch 7  | loss: 0.02492 | val_0_mse: 0.01786 |  0:00:48s\n",
      "epoch 8  | loss: 0.02421 | val_0_mse: 0.01188 |  0:00:54s\n",
      "epoch 9  | loss: 0.02706 | val_0_mse: 0.02148 |  0:01:02s\n",
      "epoch 10 | loss: 0.02063 | val_0_mse: 0.0297  |  0:01:09s\n",
      "epoch 11 | loss: 0.02244 | val_0_mse: 0.01775 |  0:01:16s\n",
      "epoch 12 | loss: 0.02098 | val_0_mse: 0.01117 |  0:01:25s\n",
      "epoch 13 | loss: 0.02181 | val_0_mse: 0.00894 |  0:01:33s\n",
      "epoch 14 | loss: 0.02121 | val_0_mse: 0.04998 |  0:01:42s\n",
      "epoch 15 | loss: 0.01771 | val_0_mse: 0.01146 |  0:01:50s\n",
      "epoch 16 | loss: 0.02146 | val_0_mse: 0.0395  |  0:02:00s\n",
      "epoch 17 | loss: 0.01822 | val_0_mse: 0.01026 |  0:02:07s\n",
      "epoch 18 | loss: 0.01765 | val_0_mse: 0.02767 |  0:02:14s\n",
      "epoch 19 | loss: 0.01704 | val_0_mse: 0.00947 |  0:02:21s\n",
      "epoch 20 | loss: 0.01757 | val_0_mse: 0.01025 |  0:02:28s\n",
      "epoch 21 | loss: 0.01798 | val_0_mse: 0.00701 |  0:02:35s\n",
      "epoch 22 | loss: 0.01658 | val_0_mse: 0.00632 |  0:02:42s\n",
      "epoch 23 | loss: 0.01449 | val_0_mse: 0.01267 |  0:02:50s\n",
      "epoch 24 | loss: 0.0163  | val_0_mse: 0.0261  |  0:02:58s\n",
      "epoch 25 | loss: 0.01823 | val_0_mse: 0.02485 |  0:03:07s\n",
      "epoch 26 | loss: 0.01636 | val_0_mse: 0.04479 |  0:03:15s\n",
      "epoch 27 | loss: 0.01748 | val_0_mse: 0.03614 |  0:03:23s\n",
      "epoch 28 | loss: 0.01911 | val_0_mse: 0.01993 |  0:03:30s\n",
      "epoch 29 | loss: 0.01744 | val_0_mse: 0.00749 |  0:03:36s\n",
      "epoch 30 | loss: 0.01462 | val_0_mse: 0.0282  |  0:03:45s\n",
      "epoch 31 | loss: 0.0168  | val_0_mse: 0.01587 |  0:03:53s\n",
      "epoch 32 | loss: 0.01807 | val_0_mse: 0.0262  |  0:04:00s\n",
      "\n",
      "Early stopping occurred at epoch 32 with best_epoch = 22 and best_val_0_mse = 0.00632\n"
     ]
    },
    {
     "name": "stderr",
     "output_type": "stream",
     "text": [
      "C:\\Users\\franc\\AppData\\Local\\Packages\\PythonSoftwareFoundation.Python.3.10_qbz5n2kfra8p0\\LocalCache\\local-packages\\Python310\\site-packages\\pytorch_tabnet\\callbacks.py:172: UserWarning: Best weights from best epoch are automatically used!\n",
      "  warnings.warn(wrn_msg)\n"
     ]
    },
    {
     "name": "stdout",
     "output_type": "stream",
     "text": [
      "Model MSE: 0.006774 - Best MSE: 0.004804\n",
      "Model R2 Score: 0.969967 - Best R2 Score: 0.978703\n",
      "\n",
      "Iterations 84/120 - Hyperparameters:  batch_sizes=128, nums_epochs=100, n_d=32, n_a=32, n_step=3, n_indipendent=2, n_shared=3, gamma=1.3, epsilon=1e-08\n"
     ]
    },
    {
     "name": "stderr",
     "output_type": "stream",
     "text": [
      "C:\\Users\\franc\\AppData\\Local\\Packages\\PythonSoftwareFoundation.Python.3.10_qbz5n2kfra8p0\\LocalCache\\local-packages\\Python310\\site-packages\\pytorch_tabnet\\abstract_model.py:75: UserWarning: Device used : cuda\n",
      "  warnings.warn(f\"Device used : {self.device}\")\n"
     ]
    },
    {
     "name": "stdout",
     "output_type": "stream",
     "text": [
      "epoch 0  | loss: 0.90604 | val_0_mse: 0.80793 |  0:00:03s\n",
      "epoch 1  | loss: 0.10969 | val_0_mse: 0.13355 |  0:00:07s\n",
      "epoch 2  | loss: 0.08583 | val_0_mse: 0.11471 |  0:00:12s\n",
      "epoch 3  | loss: 0.0693  | val_0_mse: 0.08166 |  0:00:16s\n",
      "epoch 4  | loss: 0.05559 | val_0_mse: 0.0605  |  0:00:21s\n",
      "epoch 5  | loss: 0.04531 | val_0_mse: 0.03484 |  0:00:25s\n",
      "epoch 6  | loss: 0.0367  | val_0_mse: 0.08063 |  0:00:28s\n",
      "epoch 7  | loss: 0.03383 | val_0_mse: 0.02035 |  0:00:32s\n",
      "epoch 8  | loss: 0.02368 | val_0_mse: 0.02338 |  0:00:35s\n",
      "epoch 9  | loss: 0.02561 | val_0_mse: 0.0173  |  0:00:39s\n",
      "epoch 10 | loss: 0.02275 | val_0_mse: 0.01542 |  0:00:42s\n",
      "epoch 11 | loss: 0.02082 | val_0_mse: 0.01516 |  0:00:46s\n",
      "epoch 12 | loss: 0.01874 | val_0_mse: 0.01243 |  0:00:50s\n",
      "epoch 13 | loss: 0.02486 | val_0_mse: 0.04285 |  0:00:53s\n",
      "epoch 14 | loss: 0.0174  | val_0_mse: 0.01282 |  0:00:57s\n",
      "epoch 15 | loss: 0.01513 | val_0_mse: 0.01664 |  0:01:00s\n",
      "epoch 16 | loss: 0.0254  | val_0_mse: 0.02875 |  0:01:04s\n",
      "epoch 17 | loss: 0.01555 | val_0_mse: 0.01949 |  0:01:08s\n",
      "epoch 18 | loss: 0.01611 | val_0_mse: 0.01512 |  0:01:11s\n",
      "epoch 19 | loss: 0.01433 | val_0_mse: 0.00985 |  0:01:15s\n",
      "epoch 20 | loss: 0.01184 | val_0_mse: 0.00906 |  0:01:19s\n",
      "epoch 21 | loss: 0.01793 | val_0_mse: 0.0242  |  0:01:22s\n",
      "epoch 22 | loss: 0.01702 | val_0_mse: 0.03267 |  0:01:26s\n",
      "epoch 23 | loss: 0.01583 | val_0_mse: 0.01472 |  0:01:29s\n",
      "epoch 24 | loss: 0.01225 | val_0_mse: 0.0058  |  0:01:33s\n",
      "epoch 25 | loss: 0.01544 | val_0_mse: 0.02363 |  0:01:36s\n",
      "epoch 26 | loss: 0.01282 | val_0_mse: 0.00594 |  0:01:40s\n",
      "epoch 27 | loss: 0.01174 | val_0_mse: 0.03742 |  0:01:44s\n",
      "epoch 28 | loss: 0.01327 | val_0_mse: 0.00974 |  0:01:47s\n",
      "epoch 29 | loss: 0.0129  | val_0_mse: 0.00958 |  0:01:51s\n",
      "epoch 30 | loss: 0.01197 | val_0_mse: 0.00842 |  0:01:54s\n",
      "epoch 31 | loss: 0.01387 | val_0_mse: 0.00872 |  0:01:58s\n",
      "epoch 32 | loss: 0.01031 | val_0_mse: 0.00536 |  0:02:02s\n",
      "epoch 33 | loss: 0.01148 | val_0_mse: 0.00603 |  0:02:05s\n",
      "epoch 34 | loss: 0.01167 | val_0_mse: 0.01755 |  0:02:09s\n",
      "epoch 35 | loss: 0.01185 | val_0_mse: 0.01223 |  0:02:13s\n",
      "epoch 36 | loss: 0.01438 | val_0_mse: 0.00945 |  0:02:17s\n",
      "epoch 37 | loss: 0.01165 | val_0_mse: 0.00564 |  0:02:22s\n",
      "epoch 38 | loss: 0.01243 | val_0_mse: 0.01684 |  0:02:26s\n",
      "epoch 39 | loss: 0.01442 | val_0_mse: 0.00737 |  0:02:30s\n",
      "epoch 40 | loss: 0.01351 | val_0_mse: 0.01032 |  0:02:35s\n",
      "epoch 41 | loss: 0.01097 | val_0_mse: 0.00883 |  0:02:38s\n",
      "epoch 42 | loss: 0.01064 | val_0_mse: 0.01727 |  0:02:42s\n",
      "\n",
      "Early stopping occurred at epoch 42 with best_epoch = 32 and best_val_0_mse = 0.00536\n"
     ]
    },
    {
     "name": "stderr",
     "output_type": "stream",
     "text": [
      "C:\\Users\\franc\\AppData\\Local\\Packages\\PythonSoftwareFoundation.Python.3.10_qbz5n2kfra8p0\\LocalCache\\local-packages\\Python310\\site-packages\\pytorch_tabnet\\callbacks.py:172: UserWarning: Best weights from best epoch are automatically used!\n",
      "  warnings.warn(wrn_msg)\n"
     ]
    },
    {
     "name": "stdout",
     "output_type": "stream",
     "text": [
      "Model MSE: 0.005535 - Best MSE: 0.004804\n",
      "Model R2 Score: 0.975459 - Best R2 Score: 0.978703\n",
      "\n",
      "Iterations 85/120 - Hyperparameters:  batch_sizes=64, nums_epochs=100, n_d=32, n_a=32, n_step=3, n_indipendent=3, n_shared=2, gamma=1.3, epsilon=1e-08\n"
     ]
    },
    {
     "name": "stderr",
     "output_type": "stream",
     "text": [
      "C:\\Users\\franc\\AppData\\Local\\Packages\\PythonSoftwareFoundation.Python.3.10_qbz5n2kfra8p0\\LocalCache\\local-packages\\Python310\\site-packages\\pytorch_tabnet\\abstract_model.py:75: UserWarning: Device used : cuda\n",
      "  warnings.warn(f\"Device used : {self.device}\")\n"
     ]
    },
    {
     "name": "stdout",
     "output_type": "stream",
     "text": [
      "epoch 0  | loss: 0.7486  | val_0_mse: 0.21776 |  0:00:06s\n",
      "epoch 1  | loss: 0.09436 | val_0_mse: 0.08357 |  0:00:12s\n",
      "epoch 2  | loss: 0.07653 | val_0_mse: 0.09055 |  0:00:19s\n",
      "epoch 3  | loss: 0.0768  | val_0_mse: 0.04463 |  0:00:25s\n",
      "epoch 4  | loss: 0.06185 | val_0_mse: 0.0409  |  0:00:32s\n",
      "epoch 5  | loss: 0.04661 | val_0_mse: 0.05403 |  0:00:39s\n",
      "epoch 6  | loss: 0.04343 | val_0_mse: 0.03525 |  0:00:46s\n",
      "epoch 7  | loss: 0.03373 | val_0_mse: 0.01991 |  0:00:52s\n",
      "epoch 8  | loss: 0.03006 | val_0_mse: 0.01929 |  0:00:58s\n",
      "epoch 9  | loss: 0.03013 | val_0_mse: 0.02246 |  0:01:04s\n",
      "epoch 10 | loss: 0.02628 | val_0_mse: 0.02265 |  0:01:11s\n",
      "epoch 11 | loss: 0.02103 | val_0_mse: 0.02045 |  0:01:18s\n",
      "epoch 12 | loss: 0.01828 | val_0_mse: 0.0108  |  0:01:24s\n",
      "epoch 13 | loss: 0.01735 | val_0_mse: 0.02628 |  0:01:31s\n",
      "epoch 14 | loss: 0.02689 | val_0_mse: 0.03912 |  0:01:38s\n",
      "epoch 15 | loss: 0.02113 | val_0_mse: 0.03146 |  0:01:45s\n",
      "epoch 16 | loss: 0.01977 | val_0_mse: 0.01487 |  0:01:51s\n",
      "epoch 17 | loss: 0.01566 | val_0_mse: 0.01347 |  0:01:58s\n",
      "epoch 18 | loss: 0.01512 | val_0_mse: 0.02063 |  0:02:05s\n",
      "epoch 19 | loss: 0.01409 | val_0_mse: 0.00643 |  0:02:12s\n",
      "epoch 20 | loss: 0.01693 | val_0_mse: 0.0446  |  0:02:18s\n",
      "epoch 21 | loss: 0.01784 | val_0_mse: 0.01132 |  0:02:25s\n",
      "epoch 22 | loss: 0.01786 | val_0_mse: 0.02833 |  0:02:32s\n",
      "epoch 23 | loss: 0.01591 | val_0_mse: 0.01955 |  0:02:39s\n",
      "epoch 24 | loss: 0.01534 | val_0_mse: 0.00937 |  0:02:45s\n",
      "epoch 25 | loss: 0.01989 | val_0_mse: 0.01978 |  0:02:52s\n",
      "epoch 26 | loss: 0.01812 | val_0_mse: 0.02949 |  0:02:59s\n",
      "epoch 27 | loss: 0.02064 | val_0_mse: 0.01364 |  0:03:06s\n",
      "epoch 28 | loss: 0.01718 | val_0_mse: 0.01439 |  0:03:12s\n",
      "epoch 29 | loss: 0.01467 | val_0_mse: 0.01758 |  0:03:21s\n",
      "\n",
      "Early stopping occurred at epoch 29 with best_epoch = 19 and best_val_0_mse = 0.00643\n"
     ]
    },
    {
     "name": "stderr",
     "output_type": "stream",
     "text": [
      "C:\\Users\\franc\\AppData\\Local\\Packages\\PythonSoftwareFoundation.Python.3.10_qbz5n2kfra8p0\\LocalCache\\local-packages\\Python310\\site-packages\\pytorch_tabnet\\callbacks.py:172: UserWarning: Best weights from best epoch are automatically used!\n",
      "  warnings.warn(wrn_msg)\n"
     ]
    },
    {
     "name": "stdout",
     "output_type": "stream",
     "text": [
      "Model MSE: 0.007117 - Best MSE: 0.004804\n",
      "Model R2 Score: 0.968446 - Best R2 Score: 0.978703\n",
      "\n",
      "Iterations 86/120 - Hyperparameters:  batch_sizes=128, nums_epochs=100, n_d=32, n_a=32, n_step=3, n_indipendent=3, n_shared=2, gamma=1.3, epsilon=1e-08\n"
     ]
    },
    {
     "name": "stderr",
     "output_type": "stream",
     "text": [
      "C:\\Users\\franc\\AppData\\Local\\Packages\\PythonSoftwareFoundation.Python.3.10_qbz5n2kfra8p0\\LocalCache\\local-packages\\Python310\\site-packages\\pytorch_tabnet\\abstract_model.py:75: UserWarning: Device used : cuda\n",
      "  warnings.warn(f\"Device used : {self.device}\")\n"
     ]
    },
    {
     "name": "stdout",
     "output_type": "stream",
     "text": [
      "epoch 0  | loss: 1.22262 | val_0_mse: 0.37657 |  0:00:04s\n",
      "epoch 1  | loss: 0.09558 | val_0_mse: 0.13344 |  0:00:07s\n",
      "epoch 2  | loss: 0.06929 | val_0_mse: 0.09727 |  0:00:11s\n",
      "epoch 3  | loss: 0.05315 | val_0_mse: 0.04208 |  0:00:14s\n",
      "epoch 4  | loss: 0.04054 | val_0_mse: 0.05395 |  0:00:17s\n",
      "epoch 5  | loss: 0.03076 | val_0_mse: 0.02679 |  0:00:20s\n",
      "epoch 6  | loss: 0.0352  | val_0_mse: 0.03627 |  0:00:23s\n",
      "epoch 7  | loss: 0.02811 | val_0_mse: 0.02183 |  0:00:27s\n",
      "epoch 8  | loss: 0.02212 | val_0_mse: 0.01531 |  0:00:31s\n",
      "epoch 9  | loss: 0.02497 | val_0_mse: 0.0189  |  0:00:35s\n",
      "epoch 10 | loss: 0.02005 | val_0_mse: 0.01741 |  0:00:39s\n",
      "epoch 11 | loss: 0.01999 | val_0_mse: 0.01223 |  0:00:43s\n",
      "epoch 12 | loss: 0.02315 | val_0_mse: 0.01024 |  0:00:47s\n",
      "epoch 13 | loss: 0.01527 | val_0_mse: 0.00935 |  0:00:50s\n",
      "epoch 14 | loss: 0.01916 | val_0_mse: 0.01248 |  0:00:53s\n",
      "epoch 15 | loss: 0.01589 | val_0_mse: 0.0172  |  0:00:57s\n",
      "epoch 16 | loss: 0.02    | val_0_mse: 0.00994 |  0:01:00s\n",
      "epoch 17 | loss: 0.01463 | val_0_mse: 0.0138  |  0:01:04s\n",
      "epoch 18 | loss: 0.01842 | val_0_mse: 0.01017 |  0:01:07s\n",
      "epoch 19 | loss: 0.01405 | val_0_mse: 0.03175 |  0:01:10s\n",
      "epoch 20 | loss: 0.0184  | val_0_mse: 0.01048 |  0:01:14s\n",
      "epoch 21 | loss: 0.01287 | val_0_mse: 0.02086 |  0:01:17s\n",
      "epoch 22 | loss: 0.01369 | val_0_mse: 0.03105 |  0:01:20s\n",
      "epoch 23 | loss: 0.01363 | val_0_mse: 0.00915 |  0:01:23s\n",
      "epoch 24 | loss: 0.01416 | val_0_mse: 0.01054 |  0:01:27s\n",
      "epoch 25 | loss: 0.01528 | val_0_mse: 0.00999 |  0:01:30s\n",
      "epoch 26 | loss: 0.01552 | val_0_mse: 0.0081  |  0:01:33s\n",
      "epoch 27 | loss: 0.01334 | val_0_mse: 0.01411 |  0:01:37s\n",
      "epoch 28 | loss: 0.01775 | val_0_mse: 0.03076 |  0:01:40s\n",
      "epoch 29 | loss: 0.01616 | val_0_mse: 0.00854 |  0:01:43s\n",
      "epoch 30 | loss: 0.01476 | val_0_mse: 0.00986 |  0:01:46s\n",
      "epoch 31 | loss: 0.013   | val_0_mse: 0.00762 |  0:01:50s\n",
      "epoch 32 | loss: 0.01112 | val_0_mse: 0.00751 |  0:01:53s\n",
      "epoch 33 | loss: 0.01227 | val_0_mse: 0.01556 |  0:01:56s\n",
      "epoch 34 | loss: 0.01582 | val_0_mse: 0.007   |  0:02:00s\n",
      "epoch 35 | loss: 0.01154 | val_0_mse: 0.01664 |  0:02:03s\n",
      "epoch 36 | loss: 0.01009 | val_0_mse: 0.01097 |  0:02:07s\n",
      "epoch 37 | loss: 0.01139 | val_0_mse: 0.02927 |  0:02:10s\n",
      "epoch 38 | loss: 0.01326 | val_0_mse: 0.00839 |  0:02:13s\n",
      "epoch 39 | loss: 0.01129 | val_0_mse: 0.0078  |  0:02:16s\n",
      "epoch 40 | loss: 0.01591 | val_0_mse: 0.02055 |  0:02:20s\n",
      "epoch 41 | loss: 0.01467 | val_0_mse: 0.00741 |  0:02:23s\n",
      "epoch 42 | loss: 0.01423 | val_0_mse: 0.00739 |  0:02:26s\n",
      "epoch 43 | loss: 0.01503 | val_0_mse: 0.02662 |  0:02:30s\n",
      "epoch 44 | loss: 0.01127 | val_0_mse: 0.00891 |  0:02:33s\n",
      "\n",
      "Early stopping occurred at epoch 44 with best_epoch = 34 and best_val_0_mse = 0.007\n"
     ]
    },
    {
     "name": "stderr",
     "output_type": "stream",
     "text": [
      "C:\\Users\\franc\\AppData\\Local\\Packages\\PythonSoftwareFoundation.Python.3.10_qbz5n2kfra8p0\\LocalCache\\local-packages\\Python310\\site-packages\\pytorch_tabnet\\callbacks.py:172: UserWarning: Best weights from best epoch are automatically used!\n",
      "  warnings.warn(wrn_msg)\n"
     ]
    },
    {
     "name": "stdout",
     "output_type": "stream",
     "text": [
      "Model MSE: 0.007561 - Best MSE: 0.004804\n",
      "Model R2 Score: 0.966477 - Best R2 Score: 0.978703\n",
      "\n",
      "Iterations 87/120 - Hyperparameters:  batch_sizes=64, nums_epochs=100, n_d=32, n_a=32, n_step=3, n_indipendent=3, n_shared=3, gamma=1.3, epsilon=1e-08\n"
     ]
    },
    {
     "name": "stderr",
     "output_type": "stream",
     "text": [
      "C:\\Users\\franc\\AppData\\Local\\Packages\\PythonSoftwareFoundation.Python.3.10_qbz5n2kfra8p0\\LocalCache\\local-packages\\Python310\\site-packages\\pytorch_tabnet\\abstract_model.py:75: UserWarning: Device used : cuda\n",
      "  warnings.warn(f\"Device used : {self.device}\")\n"
     ]
    },
    {
     "name": "stdout",
     "output_type": "stream",
     "text": [
      "epoch 0  | loss: 0.62754 | val_0_mse: 0.13673 |  0:00:06s\n",
      "epoch 1  | loss: 0.08955 | val_0_mse: 0.09477 |  0:00:13s\n",
      "epoch 2  | loss: 0.05959 | val_0_mse: 0.04899 |  0:00:20s\n",
      "epoch 3  | loss: 0.03604 | val_0_mse: 0.02421 |  0:00:28s\n",
      "epoch 4  | loss: 0.02963 | val_0_mse: 0.01774 |  0:00:35s\n",
      "epoch 5  | loss: 0.03094 | val_0_mse: 0.0146  |  0:00:42s\n",
      "epoch 6  | loss: 0.02354 | val_0_mse: 0.0101  |  0:00:50s\n",
      "epoch 7  | loss: 0.02025 | val_0_mse: 0.03893 |  0:00:57s\n",
      "epoch 8  | loss: 0.0281  | val_0_mse: 0.01206 |  0:01:04s\n",
      "epoch 9  | loss: 0.01986 | val_0_mse: 0.02658 |  0:01:11s\n",
      "epoch 10 | loss: 0.02642 | val_0_mse: 0.01211 |  0:01:19s\n",
      "epoch 11 | loss: 0.02122 | val_0_mse: 0.02842 |  0:01:26s\n",
      "epoch 12 | loss: 0.02172 | val_0_mse: 0.03185 |  0:01:33s\n",
      "epoch 13 | loss: 0.0166  | val_0_mse: 0.01527 |  0:01:41s\n",
      "epoch 14 | loss: 0.02001 | val_0_mse: 0.12597 |  0:01:48s\n",
      "epoch 15 | loss: 0.0155  | val_0_mse: 0.02373 |  0:01:55s\n",
      "epoch 16 | loss: 0.01853 | val_0_mse: 0.00948 |  0:02:03s\n",
      "epoch 17 | loss: 0.01512 | val_0_mse: 0.01647 |  0:02:10s\n",
      "epoch 18 | loss: 0.02117 | val_0_mse: 0.01424 |  0:02:18s\n",
      "epoch 19 | loss: 0.01671 | val_0_mse: 0.01572 |  0:02:25s\n",
      "epoch 20 | loss: 0.01623 | val_0_mse: 0.01323 |  0:02:33s\n",
      "epoch 21 | loss: 0.01755 | val_0_mse: 0.00993 |  0:02:40s\n",
      "epoch 22 | loss: 0.01485 | val_0_mse: 0.01976 |  0:02:47s\n",
      "epoch 23 | loss: 0.01953 | val_0_mse: 0.27154 |  0:02:55s\n",
      "epoch 24 | loss: 0.0237  | val_0_mse: 0.0338  |  0:03:02s\n",
      "epoch 25 | loss: 0.02154 | val_0_mse: 0.13198 |  0:03:09s\n",
      "epoch 26 | loss: 0.02706 | val_0_mse: 0.07927 |  0:03:16s\n",
      "\n",
      "Early stopping occurred at epoch 26 with best_epoch = 16 and best_val_0_mse = 0.00948\n"
     ]
    },
    {
     "name": "stderr",
     "output_type": "stream",
     "text": [
      "C:\\Users\\franc\\AppData\\Local\\Packages\\PythonSoftwareFoundation.Python.3.10_qbz5n2kfra8p0\\LocalCache\\local-packages\\Python310\\site-packages\\pytorch_tabnet\\callbacks.py:172: UserWarning: Best weights from best epoch are automatically used!\n",
      "  warnings.warn(wrn_msg)\n"
     ]
    },
    {
     "name": "stdout",
     "output_type": "stream",
     "text": [
      "Model MSE: 0.009439 - Best MSE: 0.004804\n",
      "Model R2 Score: 0.958151 - Best R2 Score: 0.978703\n",
      "\n",
      "Iterations 88/120 - Hyperparameters:  batch_sizes=128, nums_epochs=100, n_d=32, n_a=32, n_step=3, n_indipendent=3, n_shared=3, gamma=1.3, epsilon=1e-08\n"
     ]
    },
    {
     "name": "stderr",
     "output_type": "stream",
     "text": [
      "C:\\Users\\franc\\AppData\\Local\\Packages\\PythonSoftwareFoundation.Python.3.10_qbz5n2kfra8p0\\LocalCache\\local-packages\\Python310\\site-packages\\pytorch_tabnet\\abstract_model.py:75: UserWarning: Device used : cuda\n",
      "  warnings.warn(f\"Device used : {self.device}\")\n"
     ]
    },
    {
     "name": "stdout",
     "output_type": "stream",
     "text": [
      "epoch 0  | loss: 0.98717 | val_0_mse: 0.56222 |  0:00:03s\n",
      "epoch 1  | loss: 0.11421 | val_0_mse: 0.18345 |  0:00:06s\n",
      "epoch 2  | loss: 0.06905 | val_0_mse: 0.09099 |  0:00:10s\n",
      "epoch 3  | loss: 0.04779 | val_0_mse: 0.08825 |  0:00:13s\n",
      "epoch 4  | loss: 0.03743 | val_0_mse: 0.1109  |  0:00:17s\n",
      "epoch 5  | loss: 0.02804 | val_0_mse: 0.03503 |  0:00:20s\n",
      "epoch 6  | loss: 0.0342  | val_0_mse: 0.05629 |  0:00:24s\n",
      "epoch 7  | loss: 0.02352 | val_0_mse: 0.02371 |  0:00:27s\n",
      "epoch 8  | loss: 0.02284 | val_0_mse: 0.02807 |  0:00:31s\n",
      "epoch 9  | loss: 0.02421 | val_0_mse: 0.0293  |  0:00:34s\n",
      "epoch 10 | loss: 0.02458 | val_0_mse: 0.01901 |  0:00:38s\n",
      "epoch 11 | loss: 0.02244 | val_0_mse: 0.02549 |  0:00:42s\n",
      "epoch 12 | loss: 0.01719 | val_0_mse: 0.02101 |  0:00:45s\n",
      "epoch 13 | loss: 0.01697 | val_0_mse: 0.01352 |  0:00:49s\n",
      "epoch 14 | loss: 0.01886 | val_0_mse: 0.01547 |  0:00:53s\n",
      "epoch 15 | loss: 0.01414 | val_0_mse: 0.02592 |  0:00:56s\n",
      "epoch 16 | loss: 0.01472 | val_0_mse: 0.00838 |  0:01:00s\n",
      "epoch 17 | loss: 0.01487 | val_0_mse: 0.00958 |  0:01:04s\n",
      "epoch 18 | loss: 0.01888 | val_0_mse: 0.01325 |  0:01:07s\n",
      "epoch 19 | loss: 0.01652 | val_0_mse: 0.00715 |  0:01:11s\n",
      "epoch 20 | loss: 0.01685 | val_0_mse: 0.01663 |  0:01:15s\n",
      "epoch 21 | loss: 0.01396 | val_0_mse: 0.01378 |  0:01:18s\n",
      "epoch 22 | loss: 0.01136 | val_0_mse: 0.0147  |  0:01:22s\n",
      "epoch 23 | loss: 0.01255 | val_0_mse: 0.01483 |  0:01:26s\n",
      "epoch 24 | loss: 0.0113  | val_0_mse: 0.00878 |  0:01:29s\n",
      "epoch 25 | loss: 0.01061 | val_0_mse: 0.00834 |  0:01:33s\n",
      "epoch 26 | loss: 0.01183 | val_0_mse: 0.02414 |  0:01:37s\n",
      "epoch 27 | loss: 0.01461 | val_0_mse: 0.01642 |  0:01:40s\n",
      "epoch 28 | loss: 0.01406 | val_0_mse: 0.00803 |  0:01:44s\n",
      "epoch 29 | loss: 0.01187 | val_0_mse: 0.01151 |  0:01:47s\n",
      "\n",
      "Early stopping occurred at epoch 29 with best_epoch = 19 and best_val_0_mse = 0.00715\n"
     ]
    },
    {
     "name": "stderr",
     "output_type": "stream",
     "text": [
      "C:\\Users\\franc\\AppData\\Local\\Packages\\PythonSoftwareFoundation.Python.3.10_qbz5n2kfra8p0\\LocalCache\\local-packages\\Python310\\site-packages\\pytorch_tabnet\\callbacks.py:172: UserWarning: Best weights from best epoch are automatically used!\n",
      "  warnings.warn(wrn_msg)\n"
     ]
    },
    {
     "name": "stdout",
     "output_type": "stream",
     "text": [
      "Model MSE: 0.007023 - Best MSE: 0.004804\n",
      "Model R2 Score: 0.968864 - Best R2 Score: 0.978703\n",
      "\n",
      "Iterations 89/120 - Hyperparameters:  batch_sizes=64, nums_epochs=100, n_d=32, n_a=32, n_step=4, n_indipendent=2, n_shared=2, gamma=1.3, epsilon=1e-08\n"
     ]
    },
    {
     "name": "stderr",
     "output_type": "stream",
     "text": [
      "C:\\Users\\franc\\AppData\\Local\\Packages\\PythonSoftwareFoundation.Python.3.10_qbz5n2kfra8p0\\LocalCache\\local-packages\\Python310\\site-packages\\pytorch_tabnet\\abstract_model.py:75: UserWarning: Device used : cuda\n",
      "  warnings.warn(f\"Device used : {self.device}\")\n"
     ]
    },
    {
     "name": "stdout",
     "output_type": "stream",
     "text": [
      "epoch 0  | loss: 1.20646 | val_0_mse: 0.53859 |  0:00:06s\n",
      "epoch 1  | loss: 0.14074 | val_0_mse: 0.15019 |  0:00:13s\n",
      "epoch 2  | loss: 0.10983 | val_0_mse: 0.07875 |  0:00:20s\n",
      "epoch 3  | loss: 0.07486 | val_0_mse: 0.06224 |  0:00:26s\n",
      "epoch 4  | loss: 0.06527 | val_0_mse: 0.05093 |  0:00:32s\n",
      "epoch 5  | loss: 0.05321 | val_0_mse: 0.03746 |  0:00:39s\n",
      "epoch 6  | loss: 0.04314 | val_0_mse: 0.02468 |  0:00:45s\n",
      "epoch 7  | loss: 0.03519 | val_0_mse: 0.03539 |  0:00:51s\n",
      "epoch 8  | loss: 0.03674 | val_0_mse: 0.02598 |  0:00:58s\n",
      "epoch 9  | loss: 0.0259  | val_0_mse: 0.02459 |  0:01:04s\n",
      "epoch 10 | loss: 0.02702 | val_0_mse: 0.01423 |  0:01:11s\n",
      "epoch 11 | loss: 0.02816 | val_0_mse: 0.01542 |  0:01:17s\n",
      "epoch 12 | loss: 0.02485 | val_0_mse: 0.02313 |  0:01:23s\n",
      "epoch 13 | loss: 0.02225 | val_0_mse: 0.01289 |  0:01:30s\n",
      "epoch 14 | loss: 0.02122 | val_0_mse: 0.01735 |  0:01:36s\n",
      "epoch 15 | loss: 0.01966 | val_0_mse: 0.01113 |  0:01:42s\n",
      "epoch 16 | loss: 0.02098 | val_0_mse: 0.02733 |  0:01:49s\n",
      "epoch 17 | loss: 0.02004 | val_0_mse: 0.00816 |  0:01:55s\n",
      "epoch 18 | loss: 0.01738 | val_0_mse: 0.00746 |  0:02:02s\n",
      "epoch 19 | loss: 0.01539 | val_0_mse: 0.03022 |  0:02:08s\n",
      "epoch 20 | loss: 0.01763 | val_0_mse: 0.00848 |  0:02:15s\n",
      "epoch 21 | loss: 0.01735 | val_0_mse: 0.00901 |  0:02:21s\n",
      "epoch 22 | loss: 0.01628 | val_0_mse: 0.00826 |  0:02:27s\n",
      "epoch 23 | loss: 0.02224 | val_0_mse: 0.00935 |  0:02:34s\n",
      "epoch 24 | loss: 0.02048 | val_0_mse: 0.01757 |  0:02:41s\n",
      "epoch 25 | loss: 0.01971 | val_0_mse: 0.03088 |  0:02:47s\n",
      "epoch 26 | loss: 0.01951 | val_0_mse: 0.014   |  0:02:53s\n",
      "epoch 27 | loss: 0.01657 | val_0_mse: 0.02243 |  0:02:59s\n",
      "epoch 28 | loss: 0.01547 | val_0_mse: 0.00732 |  0:03:06s\n",
      "epoch 29 | loss: 0.01333 | val_0_mse: 0.00926 |  0:03:12s\n",
      "epoch 30 | loss: 0.01885 | val_0_mse: 0.00719 |  0:03:18s\n",
      "epoch 31 | loss: 0.01518 | val_0_mse: 0.00664 |  0:03:25s\n",
      "epoch 32 | loss: 0.01505 | val_0_mse: 0.06997 |  0:03:32s\n",
      "epoch 33 | loss: 0.02268 | val_0_mse: 0.01153 |  0:03:38s\n",
      "epoch 34 | loss: 0.01604 | val_0_mse: 0.01694 |  0:03:44s\n",
      "epoch 35 | loss: 0.01812 | val_0_mse: 0.03496 |  0:03:50s\n",
      "epoch 36 | loss: 0.0207  | val_0_mse: 0.013   |  0:03:57s\n",
      "epoch 37 | loss: 0.01451 | val_0_mse: 0.10806 |  0:04:03s\n",
      "epoch 38 | loss: 0.0164  | val_0_mse: 0.00981 |  0:04:09s\n",
      "epoch 39 | loss: 0.01815 | val_0_mse: 0.03185 |  0:04:16s\n",
      "epoch 40 | loss: 0.01409 | val_0_mse: 0.02963 |  0:04:22s\n",
      "epoch 41 | loss: 0.01662 | val_0_mse: 0.05936 |  0:04:29s\n",
      "\n",
      "Early stopping occurred at epoch 41 with best_epoch = 31 and best_val_0_mse = 0.00664\n"
     ]
    },
    {
     "name": "stderr",
     "output_type": "stream",
     "text": [
      "C:\\Users\\franc\\AppData\\Local\\Packages\\PythonSoftwareFoundation.Python.3.10_qbz5n2kfra8p0\\LocalCache\\local-packages\\Python310\\site-packages\\pytorch_tabnet\\callbacks.py:172: UserWarning: Best weights from best epoch are automatically used!\n",
      "  warnings.warn(wrn_msg)\n"
     ]
    },
    {
     "name": "stdout",
     "output_type": "stream",
     "text": [
      "Model MSE: 0.006514 - Best MSE: 0.004804\n",
      "Model R2 Score: 0.971121 - Best R2 Score: 0.978703\n",
      "\n",
      "Iterations 90/120 - Hyperparameters:  batch_sizes=128, nums_epochs=100, n_d=32, n_a=32, n_step=4, n_indipendent=2, n_shared=2, gamma=1.3, epsilon=1e-08\n"
     ]
    },
    {
     "name": "stderr",
     "output_type": "stream",
     "text": [
      "C:\\Users\\franc\\AppData\\Local\\Packages\\PythonSoftwareFoundation.Python.3.10_qbz5n2kfra8p0\\LocalCache\\local-packages\\Python310\\site-packages\\pytorch_tabnet\\abstract_model.py:75: UserWarning: Device used : cuda\n",
      "  warnings.warn(f\"Device used : {self.device}\")\n"
     ]
    },
    {
     "name": "stdout",
     "output_type": "stream",
     "text": [
      "epoch 0  | loss: 1.9856  | val_0_mse: 0.44313 |  0:00:03s\n",
      "epoch 1  | loss: 0.16336 | val_0_mse: 0.1867  |  0:00:06s\n",
      "epoch 2  | loss: 0.09699 | val_0_mse: 0.09111 |  0:00:10s\n",
      "epoch 3  | loss: 0.06443 | val_0_mse: 0.1073  |  0:00:14s\n",
      "epoch 4  | loss: 0.05008 | val_0_mse: 0.06278 |  0:00:17s\n",
      "epoch 5  | loss: 0.04757 | val_0_mse: 0.05801 |  0:00:21s\n",
      "epoch 6  | loss: 0.05208 | val_0_mse: 0.03517 |  0:00:24s\n",
      "epoch 7  | loss: 0.04044 | val_0_mse: 0.03733 |  0:00:28s\n",
      "epoch 8  | loss: 0.03922 | val_0_mse: 0.03823 |  0:00:31s\n",
      "epoch 9  | loss: 0.02979 | val_0_mse: 0.02368 |  0:00:35s\n",
      "epoch 10 | loss: 0.02742 | val_0_mse: 0.01978 |  0:00:38s\n",
      "epoch 11 | loss: 0.02718 | val_0_mse: 0.03198 |  0:00:42s\n",
      "epoch 12 | loss: 0.03399 | val_0_mse: 0.01924 |  0:00:46s\n",
      "epoch 13 | loss: 0.0282  | val_0_mse: 0.01595 |  0:00:49s\n",
      "epoch 14 | loss: 0.02113 | val_0_mse: 0.02486 |  0:00:53s\n",
      "epoch 15 | loss: 0.02063 | val_0_mse: 0.02049 |  0:00:56s\n",
      "epoch 16 | loss: 0.0216  | val_0_mse: 0.01649 |  0:01:00s\n",
      "epoch 17 | loss: 0.02179 | val_0_mse: 0.01499 |  0:01:04s\n",
      "epoch 18 | loss: 0.01847 | val_0_mse: 0.02117 |  0:01:07s\n",
      "epoch 19 | loss: 0.02196 | val_0_mse: 0.01948 |  0:01:11s\n",
      "epoch 20 | loss: 0.02255 | val_0_mse: 0.01567 |  0:01:14s\n",
      "epoch 21 | loss: 0.01641 | val_0_mse: 0.01555 |  0:01:18s\n",
      "epoch 22 | loss: 0.01345 | val_0_mse: 0.02833 |  0:01:21s\n",
      "epoch 23 | loss: 0.01664 | val_0_mse: 0.00816 |  0:01:25s\n",
      "epoch 24 | loss: 0.01185 | val_0_mse: 0.01109 |  0:01:29s\n",
      "epoch 25 | loss: 0.01466 | val_0_mse: 0.02549 |  0:01:32s\n",
      "epoch 26 | loss: 0.01757 | val_0_mse: 0.03851 |  0:01:36s\n",
      "epoch 27 | loss: 0.01716 | val_0_mse: 0.00673 |  0:01:39s\n",
      "epoch 28 | loss: 0.0128  | val_0_mse: 0.01019 |  0:01:43s\n",
      "epoch 29 | loss: 0.01349 | val_0_mse: 0.01007 |  0:01:47s\n",
      "epoch 30 | loss: 0.01124 | val_0_mse: 0.00882 |  0:01:50s\n",
      "epoch 31 | loss: 0.01322 | val_0_mse: 0.02524 |  0:01:54s\n",
      "epoch 32 | loss: 0.01024 | val_0_mse: 0.02018 |  0:01:58s\n",
      "epoch 33 | loss: 0.01212 | val_0_mse: 0.01125 |  0:02:01s\n",
      "epoch 34 | loss: 0.01643 | val_0_mse: 0.01047 |  0:02:05s\n",
      "epoch 35 | loss: 0.0116  | val_0_mse: 0.01848 |  0:02:08s\n",
      "epoch 36 | loss: 0.01457 | val_0_mse: 0.0086  |  0:02:12s\n",
      "epoch 37 | loss: 0.01155 | val_0_mse: 0.03926 |  0:02:16s\n",
      "\n",
      "Early stopping occurred at epoch 37 with best_epoch = 27 and best_val_0_mse = 0.00673\n"
     ]
    },
    {
     "name": "stderr",
     "output_type": "stream",
     "text": [
      "C:\\Users\\franc\\AppData\\Local\\Packages\\PythonSoftwareFoundation.Python.3.10_qbz5n2kfra8p0\\LocalCache\\local-packages\\Python310\\site-packages\\pytorch_tabnet\\callbacks.py:172: UserWarning: Best weights from best epoch are automatically used!\n",
      "  warnings.warn(wrn_msg)\n"
     ]
    },
    {
     "name": "stdout",
     "output_type": "stream",
     "text": [
      "Model MSE: 0.007002 - Best MSE: 0.004804\n",
      "Model R2 Score: 0.968958 - Best R2 Score: 0.978703\n",
      "\n",
      "Iterations 91/120 - Hyperparameters:  batch_sizes=64, nums_epochs=100, n_d=32, n_a=32, n_step=4, n_indipendent=2, n_shared=3, gamma=1.3, epsilon=1e-08\n"
     ]
    },
    {
     "name": "stderr",
     "output_type": "stream",
     "text": [
      "C:\\Users\\franc\\AppData\\Local\\Packages\\PythonSoftwareFoundation.Python.3.10_qbz5n2kfra8p0\\LocalCache\\local-packages\\Python310\\site-packages\\pytorch_tabnet\\abstract_model.py:75: UserWarning: Device used : cuda\n",
      "  warnings.warn(f\"Device used : {self.device}\")\n"
     ]
    },
    {
     "name": "stdout",
     "output_type": "stream",
     "text": [
      "epoch 0  | loss: 0.87324 | val_0_mse: 0.26606 |  0:00:07s\n",
      "epoch 1  | loss: 0.1382  | val_0_mse: 0.07606 |  0:00:14s\n",
      "epoch 2  | loss: 0.08329 | val_0_mse: 0.05959 |  0:00:22s\n",
      "epoch 3  | loss: 0.05722 | val_0_mse: 0.0598  |  0:00:29s\n",
      "epoch 4  | loss: 0.04728 | val_0_mse: 0.03898 |  0:00:36s\n",
      "epoch 5  | loss: 0.04404 | val_0_mse: 0.03368 |  0:00:44s\n",
      "epoch 6  | loss: 0.04259 | val_0_mse: 0.04964 |  0:00:52s\n",
      "epoch 7  | loss: 0.03967 | val_0_mse: 0.07621 |  0:00:59s\n",
      "epoch 8  | loss: 0.03474 | val_0_mse: 0.01946 |  0:01:06s\n",
      "epoch 9  | loss: 0.02605 | val_0_mse: 0.01191 |  0:01:13s\n",
      "epoch 10 | loss: 0.03279 | val_0_mse: 0.0186  |  0:01:20s\n",
      "epoch 11 | loss: 0.02974 | val_0_mse: 0.0207  |  0:01:28s\n",
      "epoch 12 | loss: 0.03107 | val_0_mse: 0.03729 |  0:01:35s\n",
      "epoch 13 | loss: 0.02809 | val_0_mse: 0.02958 |  0:01:42s\n",
      "epoch 14 | loss: 0.02731 | val_0_mse: 0.02426 |  0:01:49s\n",
      "epoch 15 | loss: 0.02838 | val_0_mse: 0.0142  |  0:01:57s\n",
      "epoch 16 | loss: 0.02184 | val_0_mse: 0.01247 |  0:02:04s\n",
      "epoch 17 | loss: 0.01876 | val_0_mse: 0.01169 |  0:02:11s\n",
      "epoch 18 | loss: 0.02017 | val_0_mse: 0.01458 |  0:02:18s\n",
      "epoch 19 | loss: 0.022   | val_0_mse: 0.01521 |  0:02:26s\n",
      "epoch 20 | loss: 0.02488 | val_0_mse: 0.01562 |  0:02:33s\n",
      "epoch 21 | loss: 0.01588 | val_0_mse: 0.01175 |  0:02:40s\n",
      "epoch 22 | loss: 0.02119 | val_0_mse: 0.01299 |  0:02:47s\n",
      "epoch 23 | loss: 0.01775 | val_0_mse: 0.01522 |  0:02:54s\n",
      "epoch 24 | loss: 0.01464 | val_0_mse: 0.03043 |  0:03:01s\n",
      "epoch 25 | loss: 0.01955 | val_0_mse: 0.01029 |  0:03:09s\n",
      "epoch 26 | loss: 0.02052 | val_0_mse: 0.01348 |  0:03:16s\n",
      "epoch 27 | loss: 0.01856 | val_0_mse: 0.01365 |  0:03:24s\n",
      "epoch 28 | loss: 0.01948 | val_0_mse: 0.01912 |  0:03:31s\n",
      "epoch 29 | loss: 0.01768 | val_0_mse: 0.02454 |  0:03:39s\n",
      "epoch 30 | loss: 0.01963 | val_0_mse: 0.01228 |  0:03:46s\n",
      "epoch 31 | loss: 0.01907 | val_0_mse: 0.01553 |  0:03:54s\n",
      "epoch 32 | loss: 0.01697 | val_0_mse: 0.08466 |  0:04:01s\n",
      "epoch 33 | loss: 0.01831 | val_0_mse: 0.02843 |  0:04:08s\n",
      "epoch 34 | loss: 0.02148 | val_0_mse: 0.01077 |  0:04:15s\n",
      "epoch 35 | loss: 0.01828 | val_0_mse: 0.00905 |  0:04:23s\n",
      "epoch 36 | loss: 0.01805 | val_0_mse: 0.01063 |  0:04:30s\n",
      "epoch 37 | loss: 0.01521 | val_0_mse: 0.00586 |  0:04:37s\n",
      "epoch 38 | loss: 0.01536 | val_0_mse: 0.01238 |  0:04:45s\n",
      "epoch 39 | loss: 0.01328 | val_0_mse: 0.00721 |  0:04:52s\n",
      "epoch 40 | loss: 0.01639 | val_0_mse: 0.01931 |  0:04:59s\n",
      "epoch 41 | loss: 0.0177  | val_0_mse: 0.03246 |  0:05:07s\n",
      "epoch 42 | loss: 0.01302 | val_0_mse: 0.02621 |  0:05:14s\n",
      "epoch 43 | loss: 0.01444 | val_0_mse: 0.01688 |  0:05:21s\n",
      "epoch 44 | loss: 0.01559 | val_0_mse: 0.01033 |  0:05:28s\n",
      "epoch 45 | loss: 0.01494 | val_0_mse: 0.01074 |  0:05:36s\n",
      "epoch 46 | loss: 0.01571 | val_0_mse: 0.01005 |  0:05:43s\n",
      "epoch 47 | loss: 0.01328 | val_0_mse: 0.00721 |  0:05:50s\n",
      "\n",
      "Early stopping occurred at epoch 47 with best_epoch = 37 and best_val_0_mse = 0.00586\n"
     ]
    },
    {
     "name": "stderr",
     "output_type": "stream",
     "text": [
      "C:\\Users\\franc\\AppData\\Local\\Packages\\PythonSoftwareFoundation.Python.3.10_qbz5n2kfra8p0\\LocalCache\\local-packages\\Python310\\site-packages\\pytorch_tabnet\\callbacks.py:172: UserWarning: Best weights from best epoch are automatically used!\n",
      "  warnings.warn(wrn_msg)\n"
     ]
    },
    {
     "name": "stdout",
     "output_type": "stream",
     "text": [
      "Model MSE: 0.005987 - Best MSE: 0.004804\n",
      "Model R2 Score: 0.973457 - Best R2 Score: 0.978703\n",
      "\n",
      "Iterations 92/120 - Hyperparameters:  batch_sizes=128, nums_epochs=100, n_d=32, n_a=32, n_step=4, n_indipendent=2, n_shared=3, gamma=1.3, epsilon=1e-08\n"
     ]
    },
    {
     "name": "stderr",
     "output_type": "stream",
     "text": [
      "C:\\Users\\franc\\AppData\\Local\\Packages\\PythonSoftwareFoundation.Python.3.10_qbz5n2kfra8p0\\LocalCache\\local-packages\\Python310\\site-packages\\pytorch_tabnet\\abstract_model.py:75: UserWarning: Device used : cuda\n",
      "  warnings.warn(f\"Device used : {self.device}\")\n"
     ]
    },
    {
     "name": "stdout",
     "output_type": "stream",
     "text": [
      "epoch 0  | loss: 1.34349 | val_0_mse: 0.69784 |  0:00:03s\n",
      "epoch 1  | loss: 0.20091 | val_0_mse: 0.23776 |  0:00:07s\n",
      "epoch 2  | loss: 0.12371 | val_0_mse: 0.16974 |  0:00:12s\n",
      "epoch 3  | loss: 0.09878 | val_0_mse: 0.13479 |  0:00:16s\n",
      "epoch 4  | loss: 0.09077 | val_0_mse: 0.14149 |  0:00:20s\n",
      "epoch 5  | loss: 0.07843 | val_0_mse: 0.05937 |  0:00:24s\n",
      "epoch 6  | loss: 0.0614  | val_0_mse: 0.07352 |  0:00:28s\n",
      "epoch 7  | loss: 0.05274 | val_0_mse: 0.05164 |  0:00:32s\n",
      "epoch 8  | loss: 0.05529 | val_0_mse: 0.06044 |  0:00:36s\n",
      "epoch 9  | loss: 0.05029 | val_0_mse: 0.04774 |  0:00:40s\n",
      "epoch 10 | loss: 0.05162 | val_0_mse: 0.03826 |  0:00:44s\n",
      "epoch 11 | loss: 0.0426  | val_0_mse: 0.0302  |  0:00:48s\n",
      "epoch 12 | loss: 0.03121 | val_0_mse: 0.02717 |  0:00:52s\n",
      "epoch 13 | loss: 0.02837 | val_0_mse: 0.02888 |  0:00:56s\n",
      "epoch 14 | loss: 0.03132 | val_0_mse: 0.02497 |  0:01:00s\n",
      "epoch 15 | loss: 0.03162 | val_0_mse: 0.01636 |  0:01:04s\n",
      "epoch 16 | loss: 0.02403 | val_0_mse: 0.02079 |  0:01:09s\n",
      "epoch 17 | loss: 0.02057 | val_0_mse: 0.01503 |  0:01:12s\n",
      "epoch 18 | loss: 0.01909 | val_0_mse: 0.01413 |  0:01:17s\n",
      "epoch 19 | loss: 0.02281 | val_0_mse: 0.02094 |  0:01:21s\n",
      "epoch 20 | loss: 0.02079 | val_0_mse: 0.03925 |  0:01:25s\n",
      "epoch 21 | loss: 0.01818 | val_0_mse: 0.01393 |  0:01:29s\n",
      "epoch 22 | loss: 0.0173  | val_0_mse: 0.01013 |  0:01:33s\n",
      "epoch 23 | loss: 0.01491 | val_0_mse: 0.01122 |  0:01:37s\n",
      "epoch 24 | loss: 0.01366 | val_0_mse: 0.01027 |  0:01:41s\n",
      "epoch 25 | loss: 0.01652 | val_0_mse: 0.01028 |  0:01:45s\n",
      "epoch 26 | loss: 0.01617 | val_0_mse: 0.00957 |  0:01:49s\n",
      "epoch 27 | loss: 0.01134 | val_0_mse: 0.01799 |  0:01:53s\n",
      "epoch 28 | loss: 0.01772 | val_0_mse: 0.01535 |  0:01:57s\n",
      "epoch 29 | loss: 0.01649 | val_0_mse: 0.0132  |  0:02:01s\n",
      "epoch 30 | loss: 0.01688 | val_0_mse: 0.03225 |  0:02:05s\n",
      "epoch 31 | loss: 0.01606 | val_0_mse: 0.01156 |  0:02:09s\n",
      "epoch 32 | loss: 0.01581 | val_0_mse: 0.0182  |  0:02:13s\n",
      "epoch 33 | loss: 0.01294 | val_0_mse: 0.01641 |  0:02:17s\n",
      "epoch 34 | loss: 0.0132  | val_0_mse: 0.00999 |  0:02:21s\n",
      "epoch 35 | loss: 0.01185 | val_0_mse: 0.01547 |  0:02:25s\n",
      "epoch 36 | loss: 0.01076 | val_0_mse: 0.01105 |  0:02:30s\n",
      "\n",
      "Early stopping occurred at epoch 36 with best_epoch = 26 and best_val_0_mse = 0.00957\n"
     ]
    },
    {
     "name": "stderr",
     "output_type": "stream",
     "text": [
      "C:\\Users\\franc\\AppData\\Local\\Packages\\PythonSoftwareFoundation.Python.3.10_qbz5n2kfra8p0\\LocalCache\\local-packages\\Python310\\site-packages\\pytorch_tabnet\\callbacks.py:172: UserWarning: Best weights from best epoch are automatically used!\n",
      "  warnings.warn(wrn_msg)\n"
     ]
    },
    {
     "name": "stdout",
     "output_type": "stream",
     "text": [
      "Model MSE: 0.009609 - Best MSE: 0.004804\n",
      "Model R2 Score: 0.957397 - Best R2 Score: 0.978703\n",
      "\n",
      "Iterations 93/120 - Hyperparameters:  batch_sizes=64, nums_epochs=100, n_d=32, n_a=32, n_step=4, n_indipendent=3, n_shared=2, gamma=1.3, epsilon=1e-08\n"
     ]
    },
    {
     "name": "stderr",
     "output_type": "stream",
     "text": [
      "C:\\Users\\franc\\AppData\\Local\\Packages\\PythonSoftwareFoundation.Python.3.10_qbz5n2kfra8p0\\LocalCache\\local-packages\\Python310\\site-packages\\pytorch_tabnet\\abstract_model.py:75: UserWarning: Device used : cuda\n",
      "  warnings.warn(f\"Device used : {self.device}\")\n"
     ]
    },
    {
     "name": "stdout",
     "output_type": "stream",
     "text": [
      "epoch 0  | loss: 0.9458  | val_0_mse: 0.30518 |  0:00:07s\n",
      "epoch 1  | loss: 0.10895 | val_0_mse: 0.0667  |  0:00:14s\n",
      "epoch 2  | loss: 0.07095 | val_0_mse: 0.04492 |  0:00:22s\n",
      "epoch 3  | loss: 0.04931 | val_0_mse: 0.03757 |  0:00:29s\n",
      "epoch 4  | loss: 0.03746 | val_0_mse: 0.02179 |  0:00:37s\n",
      "epoch 5  | loss: 0.0301  | val_0_mse: 0.01902 |  0:00:44s\n",
      "epoch 6  | loss: 0.02328 | val_0_mse: 0.04425 |  0:00:51s\n",
      "epoch 7  | loss: 0.02843 | val_0_mse: 0.0215  |  0:00:58s\n",
      "epoch 8  | loss: 0.0247  | val_0_mse: 0.0351  |  0:01:05s\n",
      "epoch 9  | loss: 0.02465 | val_0_mse: 0.01958 |  0:01:13s\n",
      "epoch 10 | loss: 0.02392 | val_0_mse: 0.00902 |  0:01:20s\n",
      "epoch 11 | loss: 0.02176 | val_0_mse: 0.01055 |  0:01:28s\n",
      "epoch 12 | loss: 0.02405 | val_0_mse: 0.09046 |  0:01:35s\n",
      "epoch 13 | loss: 0.02587 | val_0_mse: 0.02072 |  0:01:42s\n",
      "epoch 14 | loss: 0.02425 | val_0_mse: 0.03483 |  0:01:49s\n",
      "epoch 15 | loss: 0.02325 | val_0_mse: 0.014   |  0:01:56s\n",
      "epoch 16 | loss: 0.02076 | val_0_mse: 0.02207 |  0:02:04s\n",
      "epoch 17 | loss: 0.01721 | val_0_mse: 0.00747 |  0:02:11s\n",
      "epoch 18 | loss: 0.01798 | val_0_mse: 0.01421 |  0:02:18s\n",
      "epoch 19 | loss: 0.02029 | val_0_mse: 0.03328 |  0:02:25s\n",
      "epoch 20 | loss: 0.02067 | val_0_mse: 0.01439 |  0:02:33s\n",
      "epoch 21 | loss: 0.01919 | val_0_mse: 0.03518 |  0:02:40s\n",
      "epoch 22 | loss: 0.02033 | val_0_mse: 0.00997 |  0:02:47s\n",
      "epoch 23 | loss: 0.01857 | val_0_mse: 0.01026 |  0:02:54s\n",
      "epoch 24 | loss: 0.01908 | val_0_mse: 0.01064 |  0:03:01s\n",
      "epoch 25 | loss: 0.01529 | val_0_mse: 0.00866 |  0:03:09s\n",
      "epoch 26 | loss: 0.01369 | val_0_mse: 0.01601 |  0:03:16s\n",
      "epoch 27 | loss: 0.01904 | val_0_mse: 0.01396 |  0:03:23s\n",
      "\n",
      "Early stopping occurred at epoch 27 with best_epoch = 17 and best_val_0_mse = 0.00747\n"
     ]
    },
    {
     "name": "stderr",
     "output_type": "stream",
     "text": [
      "C:\\Users\\franc\\AppData\\Local\\Packages\\PythonSoftwareFoundation.Python.3.10_qbz5n2kfra8p0\\LocalCache\\local-packages\\Python310\\site-packages\\pytorch_tabnet\\callbacks.py:172: UserWarning: Best weights from best epoch are automatically used!\n",
      "  warnings.warn(wrn_msg)\n"
     ]
    },
    {
     "name": "stdout",
     "output_type": "stream",
     "text": [
      "Model MSE: 0.007592 - Best MSE: 0.004804\n",
      "Model R2 Score: 0.966341 - Best R2 Score: 0.978703\n",
      "\n",
      "Iterations 94/120 - Hyperparameters:  batch_sizes=128, nums_epochs=100, n_d=32, n_a=32, n_step=4, n_indipendent=3, n_shared=2, gamma=1.3, epsilon=1e-08\n"
     ]
    },
    {
     "name": "stderr",
     "output_type": "stream",
     "text": [
      "C:\\Users\\franc\\AppData\\Local\\Packages\\PythonSoftwareFoundation.Python.3.10_qbz5n2kfra8p0\\LocalCache\\local-packages\\Python310\\site-packages\\pytorch_tabnet\\abstract_model.py:75: UserWarning: Device used : cuda\n",
      "  warnings.warn(f\"Device used : {self.device}\")\n"
     ]
    },
    {
     "name": "stdout",
     "output_type": "stream",
     "text": [
      "epoch 0  | loss: 1.49909 | val_0_mse: 0.85209 |  0:00:03s\n",
      "epoch 1  | loss: 0.16591 | val_0_mse: 0.13329 |  0:00:07s\n",
      "epoch 2  | loss: 0.09789 | val_0_mse: 0.12099 |  0:00:11s\n",
      "epoch 3  | loss: 0.07122 | val_0_mse: 0.09892 |  0:00:15s\n",
      "epoch 4  | loss: 0.06287 | val_0_mse: 0.05527 |  0:00:19s\n",
      "epoch 5  | loss: 0.05204 | val_0_mse: 0.04198 |  0:00:22s\n",
      "epoch 6  | loss: 0.04478 | val_0_mse: 0.0309  |  0:00:26s\n",
      "epoch 7  | loss: 0.03993 | val_0_mse: 0.02408 |  0:00:30s\n",
      "epoch 8  | loss: 0.03414 | val_0_mse: 0.02285 |  0:00:34s\n",
      "epoch 9  | loss: 0.03173 | val_0_mse: 0.06321 |  0:00:38s\n",
      "epoch 10 | loss: 0.03339 | val_0_mse: 0.01958 |  0:00:42s\n",
      "epoch 11 | loss: 0.0255  | val_0_mse: 0.02041 |  0:00:46s\n",
      "epoch 12 | loss: 0.02362 | val_0_mse: 0.01434 |  0:00:50s\n",
      "epoch 13 | loss: 0.01871 | val_0_mse: 0.01723 |  0:00:54s\n",
      "epoch 14 | loss: 0.02421 | val_0_mse: 0.01346 |  0:00:58s\n",
      "epoch 15 | loss: 0.01739 | val_0_mse: 0.01334 |  0:01:02s\n",
      "epoch 16 | loss: 0.0161  | val_0_mse: 0.00981 |  0:01:06s\n",
      "epoch 17 | loss: 0.01694 | val_0_mse: 0.01826 |  0:01:10s\n",
      "epoch 18 | loss: 0.01906 | val_0_mse: 0.04034 |  0:01:14s\n",
      "epoch 19 | loss: 0.01996 | val_0_mse: 0.00978 |  0:01:18s\n",
      "epoch 20 | loss: 0.01605 | val_0_mse: 0.00963 |  0:01:22s\n",
      "epoch 21 | loss: 0.01709 | val_0_mse: 0.02004 |  0:01:26s\n",
      "epoch 22 | loss: 0.01896 | val_0_mse: 0.02595 |  0:01:30s\n",
      "epoch 23 | loss: 0.02351 | val_0_mse: 0.01709 |  0:01:34s\n",
      "epoch 24 | loss: 0.01775 | val_0_mse: 0.01309 |  0:01:38s\n",
      "epoch 25 | loss: 0.01808 | val_0_mse: 0.01152 |  0:01:42s\n",
      "epoch 26 | loss: 0.01913 | val_0_mse: 0.02658 |  0:01:46s\n",
      "epoch 27 | loss: 0.01564 | val_0_mse: 0.01015 |  0:01:51s\n",
      "epoch 28 | loss: 0.01741 | val_0_mse: 0.01053 |  0:01:55s\n",
      "epoch 29 | loss: 0.01516 | val_0_mse: 0.01681 |  0:01:59s\n",
      "epoch 30 | loss: 0.01385 | val_0_mse: 0.01448 |  0:02:03s\n",
      "\n",
      "Early stopping occurred at epoch 30 with best_epoch = 20 and best_val_0_mse = 0.00963\n"
     ]
    },
    {
     "name": "stderr",
     "output_type": "stream",
     "text": [
      "C:\\Users\\franc\\AppData\\Local\\Packages\\PythonSoftwareFoundation.Python.3.10_qbz5n2kfra8p0\\LocalCache\\local-packages\\Python310\\site-packages\\pytorch_tabnet\\callbacks.py:172: UserWarning: Best weights from best epoch are automatically used!\n",
      "  warnings.warn(wrn_msg)\n"
     ]
    },
    {
     "name": "stdout",
     "output_type": "stream",
     "text": [
      "Model MSE: 0.009551 - Best MSE: 0.004804\n",
      "Model R2 Score: 0.957657 - Best R2 Score: 0.978703\n",
      "\n",
      "Iterations 95/120 - Hyperparameters:  batch_sizes=64, nums_epochs=100, n_d=32, n_a=32, n_step=4, n_indipendent=3, n_shared=3, gamma=1.3, epsilon=1e-08\n"
     ]
    },
    {
     "name": "stderr",
     "output_type": "stream",
     "text": [
      "C:\\Users\\franc\\AppData\\Local\\Packages\\PythonSoftwareFoundation.Python.3.10_qbz5n2kfra8p0\\LocalCache\\local-packages\\Python310\\site-packages\\pytorch_tabnet\\abstract_model.py:75: UserWarning: Device used : cuda\n",
      "  warnings.warn(f\"Device used : {self.device}\")\n"
     ]
    },
    {
     "name": "stdout",
     "output_type": "stream",
     "text": [
      "epoch 0  | loss: 1.32645 | val_0_mse: 0.20888 |  0:00:08s\n",
      "epoch 1  | loss: 0.14077 | val_0_mse: 0.11437 |  0:00:16s\n",
      "epoch 2  | loss: 0.11099 | val_0_mse: 0.10845 |  0:00:24s\n",
      "epoch 3  | loss: 0.0893  | val_0_mse: 0.06439 |  0:00:32s\n",
      "epoch 4  | loss: 0.06914 | val_0_mse: 0.0554  |  0:00:40s\n",
      "epoch 5  | loss: 0.06173 | val_0_mse: 0.04217 |  0:00:49s\n",
      "epoch 6  | loss: 0.04503 | val_0_mse: 0.02882 |  0:00:57s\n",
      "epoch 7  | loss: 0.04037 | val_0_mse: 0.02433 |  0:01:05s\n",
      "epoch 8  | loss: 0.02904 | val_0_mse: 0.01994 |  0:01:13s\n",
      "epoch 9  | loss: 0.03206 | val_0_mse: 0.03683 |  0:01:21s\n",
      "epoch 10 | loss: 0.03099 | val_0_mse: 0.03355 |  0:01:29s\n",
      "epoch 11 | loss: 0.02562 | val_0_mse: 0.05026 |  0:01:38s\n",
      "epoch 12 | loss: 0.02392 | val_0_mse: 0.01184 |  0:01:46s\n",
      "epoch 13 | loss: 0.02291 | val_0_mse: 0.01927 |  0:01:54s\n",
      "epoch 14 | loss: 0.01883 | val_0_mse: 0.03802 |  0:02:02s\n",
      "epoch 15 | loss: 0.02321 | val_0_mse: 0.01582 |  0:02:10s\n",
      "epoch 16 | loss: 0.02037 | val_0_mse: 0.01351 |  0:02:18s\n",
      "epoch 17 | loss: 0.01816 | val_0_mse: 0.01489 |  0:02:26s\n",
      "epoch 18 | loss: 0.01717 | val_0_mse: 0.01612 |  0:02:35s\n",
      "epoch 19 | loss: 0.01828 | val_0_mse: 0.01303 |  0:02:44s\n",
      "epoch 20 | loss: 0.01787 | val_0_mse: 0.02297 |  0:02:53s\n",
      "epoch 21 | loss: 0.02227 | val_0_mse: 0.01413 |  0:03:02s\n",
      "epoch 22 | loss: 0.01821 | val_0_mse: 0.00995 |  0:03:11s\n",
      "epoch 23 | loss: 0.02042 | val_0_mse: 0.03516 |  0:03:20s\n",
      "epoch 24 | loss: 0.01635 | val_0_mse: 0.01083 |  0:03:29s\n",
      "epoch 25 | loss: 0.01868 | val_0_mse: 0.08504 |  0:03:38s\n",
      "epoch 26 | loss: 0.01914 | val_0_mse: 0.0181  |  0:03:47s\n",
      "epoch 27 | loss: 0.01395 | val_0_mse: 0.01084 |  0:03:56s\n",
      "epoch 28 | loss: 0.01726 | val_0_mse: 0.02061 |  0:04:05s\n",
      "epoch 29 | loss: 0.02043 | val_0_mse: 0.01734 |  0:04:14s\n",
      "epoch 30 | loss: 0.01677 | val_0_mse: 0.01575 |  0:04:23s\n",
      "epoch 31 | loss: 0.01426 | val_0_mse: 0.01491 |  0:04:32s\n",
      "epoch 32 | loss: 0.01477 | val_0_mse: 0.03177 |  0:04:41s\n",
      "\n",
      "Early stopping occurred at epoch 32 with best_epoch = 22 and best_val_0_mse = 0.00995\n"
     ]
    },
    {
     "name": "stderr",
     "output_type": "stream",
     "text": [
      "C:\\Users\\franc\\AppData\\Local\\Packages\\PythonSoftwareFoundation.Python.3.10_qbz5n2kfra8p0\\LocalCache\\local-packages\\Python310\\site-packages\\pytorch_tabnet\\callbacks.py:172: UserWarning: Best weights from best epoch are automatically used!\n",
      "  warnings.warn(wrn_msg)\n"
     ]
    },
    {
     "name": "stdout",
     "output_type": "stream",
     "text": [
      "Model MSE: 0.007956 - Best MSE: 0.004804\n",
      "Model R2 Score: 0.964726 - Best R2 Score: 0.978703\n",
      "\n",
      "Iterations 96/120 - Hyperparameters:  batch_sizes=128, nums_epochs=100, n_d=32, n_a=32, n_step=4, n_indipendent=3, n_shared=3, gamma=1.3, epsilon=1e-08\n"
     ]
    },
    {
     "name": "stderr",
     "output_type": "stream",
     "text": [
      "C:\\Users\\franc\\AppData\\Local\\Packages\\PythonSoftwareFoundation.Python.3.10_qbz5n2kfra8p0\\LocalCache\\local-packages\\Python310\\site-packages\\pytorch_tabnet\\abstract_model.py:75: UserWarning: Device used : cuda\n",
      "  warnings.warn(f\"Device used : {self.device}\")\n"
     ]
    },
    {
     "name": "stdout",
     "output_type": "stream",
     "text": [
      "epoch 0  | loss: 2.21103 | val_0_mse: 0.73704 |  0:00:04s\n",
      "epoch 1  | loss: 0.19237 | val_0_mse: 0.44144 |  0:00:08s\n",
      "epoch 2  | loss: 0.08698 | val_0_mse: 0.15325 |  0:00:12s\n",
      "epoch 3  | loss: 0.06567 | val_0_mse: 0.08575 |  0:00:17s\n",
      "epoch 4  | loss: 0.05988 | val_0_mse: 0.0821  |  0:00:21s\n",
      "epoch 5  | loss: 0.05903 | val_0_mse: 0.05874 |  0:00:25s\n",
      "epoch 6  | loss: 0.04289 | val_0_mse: 0.0381  |  0:00:29s\n",
      "epoch 7  | loss: 0.04193 | val_0_mse: 0.03129 |  0:00:34s\n",
      "epoch 8  | loss: 0.03275 | val_0_mse: 0.02499 |  0:00:38s\n",
      "epoch 9  | loss: 0.0279  | val_0_mse: 0.01912 |  0:00:42s\n",
      "epoch 10 | loss: 0.02918 | val_0_mse: 0.02658 |  0:00:47s\n",
      "epoch 11 | loss: 0.02143 | val_0_mse: 0.02097 |  0:00:53s\n",
      "epoch 12 | loss: 0.0195  | val_0_mse: 0.02245 |  0:00:58s\n",
      "epoch 13 | loss: 0.01843 | val_0_mse: 0.01396 |  0:01:03s\n",
      "epoch 14 | loss: 0.01844 | val_0_mse: 0.01214 |  0:01:07s\n",
      "epoch 15 | loss: 0.01523 | val_0_mse: 0.01426 |  0:01:13s\n",
      "epoch 16 | loss: 0.01955 | val_0_mse: 0.03506 |  0:01:20s\n",
      "epoch 17 | loss: 0.0174  | val_0_mse: 0.01213 |  0:01:26s\n",
      "epoch 18 | loss: 0.01523 | val_0_mse: 0.01216 |  0:01:31s\n",
      "epoch 19 | loss: 0.01459 | val_0_mse: 0.0094  |  0:01:36s\n",
      "epoch 20 | loss: 0.01678 | val_0_mse: 0.02295 |  0:01:42s\n",
      "epoch 21 | loss: 0.01687 | val_0_mse: 0.00862 |  0:01:47s\n",
      "epoch 22 | loss: 0.01249 | val_0_mse: 0.00764 |  0:01:52s\n",
      "epoch 23 | loss: 0.01516 | val_0_mse: 0.00787 |  0:01:58s\n",
      "epoch 24 | loss: 0.01287 | val_0_mse: 0.00685 |  0:02:03s\n",
      "epoch 25 | loss: 0.01273 | val_0_mse: 0.00833 |  0:02:09s\n",
      "epoch 26 | loss: 0.01317 | val_0_mse: 0.01289 |  0:02:14s\n",
      "epoch 27 | loss: 0.01531 | val_0_mse: 0.01356 |  0:02:19s\n",
      "epoch 28 | loss: 0.01257 | val_0_mse: 0.00882 |  0:02:24s\n",
      "epoch 29 | loss: 0.01481 | val_0_mse: 0.01295 |  0:02:30s\n",
      "epoch 30 | loss: 0.01352 | val_0_mse: 0.01171 |  0:02:35s\n",
      "epoch 31 | loss: 0.00974 | val_0_mse: 0.00695 |  0:02:40s\n",
      "epoch 32 | loss: 0.01325 | val_0_mse: 0.00586 |  0:02:46s\n",
      "epoch 33 | loss: 0.01011 | val_0_mse: 0.00751 |  0:02:51s\n",
      "epoch 34 | loss: 0.01172 | val_0_mse: 0.00586 |  0:02:56s\n",
      "epoch 35 | loss: 0.01163 | val_0_mse: 0.00776 |  0:03:02s\n",
      "epoch 36 | loss: 0.01223 | val_0_mse: 0.02638 |  0:03:07s\n",
      "epoch 37 | loss: 0.01098 | val_0_mse: 0.02205 |  0:03:12s\n",
      "epoch 38 | loss: 0.01208 | val_0_mse: 0.00888 |  0:03:18s\n",
      "epoch 39 | loss: 0.01243 | val_0_mse: 0.02043 |  0:03:23s\n",
      "epoch 40 | loss: 0.0237  | val_0_mse: 0.01056 |  0:03:27s\n",
      "epoch 41 | loss: 0.01276 | val_0_mse: 0.02376 |  0:03:32s\n",
      "epoch 42 | loss: 0.01374 | val_0_mse: 0.18522 |  0:03:36s\n",
      "epoch 43 | loss: 0.01595 | val_0_mse: 0.01501 |  0:03:40s\n",
      "epoch 44 | loss: 0.01342 | val_0_mse: 0.01841 |  0:03:45s\n",
      "\n",
      "Early stopping occurred at epoch 44 with best_epoch = 34 and best_val_0_mse = 0.00586\n"
     ]
    },
    {
     "name": "stderr",
     "output_type": "stream",
     "text": [
      "C:\\Users\\franc\\AppData\\Local\\Packages\\PythonSoftwareFoundation.Python.3.10_qbz5n2kfra8p0\\LocalCache\\local-packages\\Python310\\site-packages\\pytorch_tabnet\\callbacks.py:172: UserWarning: Best weights from best epoch are automatically used!\n",
      "  warnings.warn(wrn_msg)\n"
     ]
    },
    {
     "name": "stdout",
     "output_type": "stream",
     "text": [
      "Model MSE: 0.006116 - Best MSE: 0.004804\n",
      "Model R2 Score: 0.972885 - Best R2 Score: 0.978703\n",
      "\n",
      "Iterations 97/120 - Hyperparameters:  batch_sizes=64, nums_epochs=100, n_d=32, n_a=32, n_step=5, n_indipendent=2, n_shared=2, gamma=1.3, epsilon=1e-08\n"
     ]
    },
    {
     "name": "stderr",
     "output_type": "stream",
     "text": [
      "C:\\Users\\franc\\AppData\\Local\\Packages\\PythonSoftwareFoundation.Python.3.10_qbz5n2kfra8p0\\LocalCache\\local-packages\\Python310\\site-packages\\pytorch_tabnet\\abstract_model.py:75: UserWarning: Device used : cuda\n",
      "  warnings.warn(f\"Device used : {self.device}\")\n"
     ]
    },
    {
     "name": "stdout",
     "output_type": "stream",
     "text": [
      "epoch 0  | loss: 1.67852 | val_0_mse: 0.57041 |  0:00:07s\n",
      "epoch 1  | loss: 0.16513 | val_0_mse: 0.19766 |  0:00:15s\n",
      "epoch 2  | loss: 0.12011 | val_0_mse: 0.09776 |  0:00:23s\n",
      "epoch 3  | loss: 0.10036 | val_0_mse: 0.11153 |  0:00:30s\n",
      "epoch 4  | loss: 0.0839  | val_0_mse: 0.04848 |  0:00:38s\n",
      "epoch 5  | loss: 0.05502 | val_0_mse: 0.0468  |  0:00:46s\n",
      "epoch 6  | loss: 0.04459 | val_0_mse: 0.0265  |  0:00:53s\n",
      "epoch 7  | loss: 0.03788 | val_0_mse: 0.02326 |  0:01:00s\n",
      "epoch 8  | loss: 0.03747 | val_0_mse: 0.01814 |  0:01:08s\n",
      "epoch 9  | loss: 0.03342 | val_0_mse: 0.01291 |  0:01:15s\n",
      "epoch 10 | loss: 0.02834 | val_0_mse: 0.01199 |  0:01:23s\n",
      "epoch 11 | loss: 0.02233 | val_0_mse: 0.0264  |  0:01:30s\n",
      "epoch 12 | loss: 0.02928 | val_0_mse: 0.0583  |  0:01:38s\n",
      "epoch 13 | loss: 0.0296  | val_0_mse: 0.02974 |  0:01:45s\n",
      "epoch 14 | loss: 0.02902 | val_0_mse: 0.03129 |  0:01:52s\n",
      "epoch 15 | loss: 0.02132 | val_0_mse: 0.03046 |  0:02:00s\n",
      "epoch 16 | loss: 0.02013 | val_0_mse: 0.02408 |  0:02:07s\n",
      "epoch 17 | loss: 0.02054 | val_0_mse: 0.02315 |  0:02:15s\n",
      "epoch 18 | loss: 0.02543 | val_0_mse: 0.01245 |  0:02:24s\n",
      "epoch 19 | loss: 0.02535 | val_0_mse: 0.05912 |  0:02:33s\n",
      "epoch 20 | loss: 0.02299 | val_0_mse: 0.06487 |  0:02:41s\n",
      "\n",
      "Early stopping occurred at epoch 20 with best_epoch = 10 and best_val_0_mse = 0.01199\n"
     ]
    },
    {
     "name": "stderr",
     "output_type": "stream",
     "text": [
      "C:\\Users\\franc\\AppData\\Local\\Packages\\PythonSoftwareFoundation.Python.3.10_qbz5n2kfra8p0\\LocalCache\\local-packages\\Python310\\site-packages\\pytorch_tabnet\\callbacks.py:172: UserWarning: Best weights from best epoch are automatically used!\n",
      "  warnings.warn(wrn_msg)\n"
     ]
    },
    {
     "name": "stdout",
     "output_type": "stream",
     "text": [
      "Model MSE: 0.012002 - Best MSE: 0.004804\n",
      "Model R2 Score: 0.946788 - Best R2 Score: 0.978703\n",
      "\n",
      "Iterations 98/120 - Hyperparameters:  batch_sizes=128, nums_epochs=100, n_d=32, n_a=32, n_step=5, n_indipendent=2, n_shared=2, gamma=1.3, epsilon=1e-08\n"
     ]
    },
    {
     "name": "stderr",
     "output_type": "stream",
     "text": [
      "C:\\Users\\franc\\AppData\\Local\\Packages\\PythonSoftwareFoundation.Python.3.10_qbz5n2kfra8p0\\LocalCache\\local-packages\\Python310\\site-packages\\pytorch_tabnet\\abstract_model.py:75: UserWarning: Device used : cuda\n",
      "  warnings.warn(f\"Device used : {self.device}\")\n"
     ]
    },
    {
     "name": "stdout",
     "output_type": "stream",
     "text": [
      "epoch 0  | loss: 2.50485 | val_0_mse: 0.86846 |  0:00:04s\n",
      "epoch 1  | loss: 0.22427 | val_0_mse: 0.20939 |  0:00:08s\n",
      "epoch 2  | loss: 0.12727 | val_0_mse: 0.11879 |  0:00:13s\n",
      "epoch 3  | loss: 0.10825 | val_0_mse: 0.0973  |  0:00:17s\n",
      "epoch 4  | loss: 0.10356 | val_0_mse: 0.10512 |  0:00:22s\n",
      "epoch 5  | loss: 0.13188 | val_0_mse: 0.07594 |  0:00:27s\n",
      "epoch 6  | loss: 0.08444 | val_0_mse: 0.06183 |  0:00:32s\n",
      "epoch 7  | loss: 0.07164 | val_0_mse: 0.08006 |  0:00:36s\n",
      "epoch 8  | loss: 0.05652 | val_0_mse: 0.06471 |  0:00:40s\n",
      "epoch 9  | loss: 0.05097 | val_0_mse: 0.0553  |  0:00:44s\n",
      "epoch 10 | loss: 0.05534 | val_0_mse: 0.08667 |  0:00:49s\n",
      "epoch 11 | loss: 0.04686 | val_0_mse: 0.04689 |  0:00:53s\n",
      "epoch 12 | loss: 0.0398  | val_0_mse: 0.03575 |  0:00:58s\n",
      "epoch 13 | loss: 0.04185 | val_0_mse: 0.02765 |  0:01:03s\n",
      "epoch 14 | loss: 0.05148 | val_0_mse: 0.026   |  0:01:07s\n",
      "epoch 15 | loss: 0.02909 | val_0_mse: 0.03509 |  0:01:12s\n",
      "epoch 16 | loss: 0.03032 | val_0_mse: 0.01993 |  0:01:17s\n",
      "epoch 17 | loss: 0.02504 | val_0_mse: 0.01602 |  0:01:21s\n",
      "epoch 18 | loss: 0.02958 | val_0_mse: 0.05102 |  0:01:26s\n",
      "epoch 19 | loss: 0.0315  | val_0_mse: 0.02673 |  0:01:31s\n",
      "epoch 20 | loss: 0.0212  | val_0_mse: 0.01876 |  0:01:36s\n",
      "epoch 21 | loss: 0.01904 | val_0_mse: 0.01407 |  0:01:40s\n",
      "epoch 22 | loss: 0.02257 | val_0_mse: 0.04476 |  0:01:44s\n",
      "epoch 23 | loss: 0.01891 | val_0_mse: 0.03671 |  0:01:48s\n",
      "epoch 24 | loss: 0.02013 | val_0_mse: 0.02045 |  0:01:53s\n",
      "epoch 25 | loss: 0.0164  | val_0_mse: 0.00929 |  0:01:57s\n",
      "epoch 26 | loss: 0.01509 | val_0_mse: 0.01128 |  0:02:01s\n",
      "epoch 27 | loss: 0.01816 | val_0_mse: 0.02105 |  0:02:05s\n",
      "epoch 28 | loss: 0.01678 | val_0_mse: 0.0089  |  0:02:10s\n",
      "epoch 29 | loss: 0.01617 | val_0_mse: 0.01189 |  0:02:14s\n",
      "epoch 30 | loss: 0.02374 | val_0_mse: 0.02447 |  0:02:19s\n",
      "epoch 31 | loss: 0.02506 | val_0_mse: 0.04538 |  0:02:23s\n",
      "epoch 32 | loss: 0.01971 | val_0_mse: 0.01132 |  0:02:27s\n",
      "epoch 33 | loss: 0.01517 | val_0_mse: 0.009   |  0:02:32s\n",
      "epoch 34 | loss: 0.0124  | val_0_mse: 0.00683 |  0:02:37s\n",
      "epoch 35 | loss: 0.01169 | val_0_mse: 0.00894 |  0:02:42s\n",
      "epoch 36 | loss: 0.0119  | val_0_mse: 0.01074 |  0:02:46s\n",
      "epoch 37 | loss: 0.0164  | val_0_mse: 0.01516 |  0:02:50s\n",
      "epoch 38 | loss: 0.01593 | val_0_mse: 0.00716 |  0:02:55s\n",
      "epoch 39 | loss: 0.01073 | val_0_mse: 0.00706 |  0:02:59s\n",
      "epoch 40 | loss: 0.01825 | val_0_mse: 0.01371 |  0:03:03s\n",
      "epoch 41 | loss: 0.01285 | val_0_mse: 0.00813 |  0:03:08s\n",
      "epoch 42 | loss: 0.01414 | val_0_mse: 0.01249 |  0:03:12s\n",
      "epoch 43 | loss: 0.0131  | val_0_mse: 0.01483 |  0:03:17s\n",
      "epoch 44 | loss: 0.01351 | val_0_mse: 0.01113 |  0:03:21s\n",
      "\n",
      "Early stopping occurred at epoch 44 with best_epoch = 34 and best_val_0_mse = 0.00683\n"
     ]
    },
    {
     "name": "stderr",
     "output_type": "stream",
     "text": [
      "C:\\Users\\franc\\AppData\\Local\\Packages\\PythonSoftwareFoundation.Python.3.10_qbz5n2kfra8p0\\LocalCache\\local-packages\\Python310\\site-packages\\pytorch_tabnet\\callbacks.py:172: UserWarning: Best weights from best epoch are automatically used!\n",
      "  warnings.warn(wrn_msg)\n"
     ]
    },
    {
     "name": "stdout",
     "output_type": "stream",
     "text": [
      "Model MSE: 0.007459 - Best MSE: 0.004804\n",
      "Model R2 Score: 0.966931 - Best R2 Score: 0.978703\n",
      "\n",
      "Iterations 99/120 - Hyperparameters:  batch_sizes=64, nums_epochs=100, n_d=32, n_a=32, n_step=5, n_indipendent=2, n_shared=3, gamma=1.3, epsilon=1e-08\n"
     ]
    },
    {
     "name": "stderr",
     "output_type": "stream",
     "text": [
      "C:\\Users\\franc\\AppData\\Local\\Packages\\PythonSoftwareFoundation.Python.3.10_qbz5n2kfra8p0\\LocalCache\\local-packages\\Python310\\site-packages\\pytorch_tabnet\\abstract_model.py:75: UserWarning: Device used : cuda\n",
      "  warnings.warn(f\"Device used : {self.device}\")\n"
     ]
    },
    {
     "name": "stdout",
     "output_type": "stream",
     "text": [
      "epoch 0  | loss: 0.98709 | val_0_mse: 0.87071 |  0:00:09s\n",
      "epoch 1  | loss: 0.14787 | val_0_mse: 0.14166 |  0:00:18s\n",
      "epoch 2  | loss: 0.11867 | val_0_mse: 0.0981  |  0:00:28s\n",
      "epoch 3  | loss: 0.08804 | val_0_mse: 0.10132 |  0:00:37s\n",
      "epoch 4  | loss: 0.08758 | val_0_mse: 0.131   |  0:00:46s\n",
      "epoch 5  | loss: 0.07044 | val_0_mse: 0.05246 |  0:00:56s\n",
      "epoch 6  | loss: 0.05231 | val_0_mse: 0.07217 |  0:01:07s\n",
      "epoch 7  | loss: 0.0469  | val_0_mse: 0.03192 |  0:01:16s\n",
      "epoch 8  | loss: 0.04256 | val_0_mse: 0.02342 |  0:01:26s\n",
      "epoch 9  | loss: 0.03983 | val_0_mse: 0.01722 |  0:01:37s\n",
      "epoch 10 | loss: 0.0324  | val_0_mse: 0.03878 |  0:01:48s\n",
      "epoch 11 | loss: 0.03194 | val_0_mse: 0.01737 |  0:01:58s\n",
      "epoch 12 | loss: 0.03072 | val_0_mse: 0.02866 |  0:02:08s\n",
      "epoch 13 | loss: 0.02944 | val_0_mse: 0.01045 |  0:02:19s\n",
      "epoch 14 | loss: 0.02268 | val_0_mse: 0.0253  |  0:02:29s\n",
      "epoch 15 | loss: 0.02694 | val_0_mse: 0.03174 |  0:02:39s\n",
      "epoch 16 | loss: 0.01962 | val_0_mse: 0.01195 |  0:02:49s\n",
      "epoch 17 | loss: 0.02044 | val_0_mse: 0.03017 |  0:02:59s\n",
      "epoch 18 | loss: 0.02196 | val_0_mse: 0.01739 |  0:03:09s\n",
      "epoch 19 | loss: 0.0187  | val_0_mse: 0.0112  |  0:03:19s\n",
      "epoch 20 | loss: 0.01736 | val_0_mse: 0.02124 |  0:03:29s\n",
      "epoch 21 | loss: 0.02138 | val_0_mse: 0.0239  |  0:03:39s\n",
      "epoch 22 | loss: 0.02248 | val_0_mse: 0.03096 |  0:03:47s\n",
      "epoch 23 | loss: 0.01974 | val_0_mse: 0.03452 |  0:03:56s\n",
      "\n",
      "Early stopping occurred at epoch 23 with best_epoch = 13 and best_val_0_mse = 0.01045\n"
     ]
    },
    {
     "name": "stderr",
     "output_type": "stream",
     "text": [
      "C:\\Users\\franc\\AppData\\Local\\Packages\\PythonSoftwareFoundation.Python.3.10_qbz5n2kfra8p0\\LocalCache\\local-packages\\Python310\\site-packages\\pytorch_tabnet\\callbacks.py:172: UserWarning: Best weights from best epoch are automatically used!\n",
      "  warnings.warn(wrn_msg)\n"
     ]
    },
    {
     "name": "stdout",
     "output_type": "stream",
     "text": [
      "Model MSE: 0.010609 - Best MSE: 0.004804\n",
      "Model R2 Score: 0.952965 - Best R2 Score: 0.978703\n",
      "\n",
      "Iterations 100/120 - Hyperparameters:  batch_sizes=128, nums_epochs=100, n_d=32, n_a=32, n_step=5, n_indipendent=2, n_shared=3, gamma=1.3, epsilon=1e-08\n"
     ]
    },
    {
     "name": "stderr",
     "output_type": "stream",
     "text": [
      "C:\\Users\\franc\\AppData\\Local\\Packages\\PythonSoftwareFoundation.Python.3.10_qbz5n2kfra8p0\\LocalCache\\local-packages\\Python310\\site-packages\\pytorch_tabnet\\abstract_model.py:75: UserWarning: Device used : cuda\n",
      "  warnings.warn(f\"Device used : {self.device}\")\n"
     ]
    },
    {
     "name": "stdout",
     "output_type": "stream",
     "text": [
      "epoch 0  | loss: 1.53119 | val_0_mse: 0.59555 |  0:00:04s\n",
      "epoch 1  | loss: 0.36578 | val_0_mse: 0.12812 |  0:00:08s\n",
      "epoch 2  | loss: 0.10623 | val_0_mse: 0.12838 |  0:00:13s\n",
      "epoch 3  | loss: 0.08256 | val_0_mse: 0.14534 |  0:00:17s\n",
      "epoch 4  | loss: 0.06074 | val_0_mse: 0.09227 |  0:00:22s\n",
      "epoch 5  | loss: 0.0514  | val_0_mse: 0.05923 |  0:00:27s\n",
      "epoch 6  | loss: 0.04701 | val_0_mse: 0.0268  |  0:00:31s\n",
      "epoch 7  | loss: 0.03897 | val_0_mse: 0.02424 |  0:00:36s\n",
      "epoch 8  | loss: 0.0345  | val_0_mse: 0.0223  |  0:00:40s\n",
      "epoch 9  | loss: 0.03051 | val_0_mse: 0.01813 |  0:00:45s\n",
      "epoch 10 | loss: 0.02509 | val_0_mse: 0.01901 |  0:00:50s\n",
      "epoch 11 | loss: 0.02385 | val_0_mse: 0.01625 |  0:00:55s\n",
      "epoch 12 | loss: 0.02198 | val_0_mse: 0.0243  |  0:00:59s\n",
      "epoch 13 | loss: 0.02113 | val_0_mse: 0.01633 |  0:01:04s\n",
      "epoch 14 | loss: 0.01874 | val_0_mse: 0.01334 |  0:01:09s\n",
      "epoch 15 | loss: 0.02408 | val_0_mse: 0.01834 |  0:01:14s\n",
      "epoch 16 | loss: 0.01976 | val_0_mse: 0.02575 |  0:01:18s\n",
      "epoch 17 | loss: 0.01811 | val_0_mse: 0.01445 |  0:01:23s\n",
      "epoch 18 | loss: 0.01847 | val_0_mse: 0.01841 |  0:01:28s\n",
      "epoch 19 | loss: 0.01339 | val_0_mse: 0.01494 |  0:01:33s\n",
      "epoch 20 | loss: 0.01345 | val_0_mse: 0.04677 |  0:01:37s\n",
      "epoch 21 | loss: 0.01843 | val_0_mse: 0.01134 |  0:01:42s\n",
      "epoch 22 | loss: 0.01523 | val_0_mse: 0.01587 |  0:01:47s\n",
      "epoch 23 | loss: 0.01549 | val_0_mse: 0.0113  |  0:01:52s\n",
      "epoch 24 | loss: 0.01416 | val_0_mse: 0.00679 |  0:01:56s\n",
      "epoch 25 | loss: 0.01241 | val_0_mse: 0.01293 |  0:02:01s\n",
      "epoch 26 | loss: 0.01175 | val_0_mse: 0.00825 |  0:02:06s\n",
      "epoch 27 | loss: 0.01285 | val_0_mse: 0.0261  |  0:02:10s\n",
      "epoch 28 | loss: 0.0118  | val_0_mse: 0.02757 |  0:02:15s\n",
      "epoch 29 | loss: 0.01618 | val_0_mse: 0.01039 |  0:02:20s\n",
      "epoch 30 | loss: 0.01077 | val_0_mse: 0.00679 |  0:02:25s\n",
      "epoch 31 | loss: 0.01266 | val_0_mse: 0.00633 |  0:02:29s\n",
      "epoch 32 | loss: 0.01132 | val_0_mse: 0.02182 |  0:02:34s\n",
      "epoch 33 | loss: 0.01323 | val_0_mse: 0.01677 |  0:02:39s\n",
      "epoch 34 | loss: 0.01143 | val_0_mse: 0.02143 |  0:02:44s\n",
      "epoch 35 | loss: 0.01248 | val_0_mse: 0.01019 |  0:02:49s\n",
      "epoch 36 | loss: 0.01228 | val_0_mse: 0.01931 |  0:02:53s\n",
      "epoch 37 | loss: 0.01769 | val_0_mse: 0.01797 |  0:02:58s\n",
      "epoch 38 | loss: 0.01631 | val_0_mse: 0.01241 |  0:03:03s\n",
      "epoch 39 | loss: 0.01025 | val_0_mse: 0.02158 |  0:03:08s\n",
      "epoch 40 | loss: 0.01257 | val_0_mse: 0.00815 |  0:03:12s\n",
      "epoch 41 | loss: 0.01055 | val_0_mse: 0.02608 |  0:03:17s\n",
      "\n",
      "Early stopping occurred at epoch 41 with best_epoch = 31 and best_val_0_mse = 0.00633\n"
     ]
    },
    {
     "name": "stderr",
     "output_type": "stream",
     "text": [
      "C:\\Users\\franc\\AppData\\Local\\Packages\\PythonSoftwareFoundation.Python.3.10_qbz5n2kfra8p0\\LocalCache\\local-packages\\Python310\\site-packages\\pytorch_tabnet\\callbacks.py:172: UserWarning: Best weights from best epoch are automatically used!\n",
      "  warnings.warn(wrn_msg)\n"
     ]
    },
    {
     "name": "stdout",
     "output_type": "stream",
     "text": [
      "Model MSE: 0.006298 - Best MSE: 0.004804\n",
      "Model R2 Score: 0.972077 - Best R2 Score: 0.978703\n",
      "\n",
      "Iterations 101/120 - Hyperparameters:  batch_sizes=64, nums_epochs=100, n_d=32, n_a=32, n_step=5, n_indipendent=3, n_shared=2, gamma=1.3, epsilon=1e-08\n"
     ]
    },
    {
     "name": "stderr",
     "output_type": "stream",
     "text": [
      "C:\\Users\\franc\\AppData\\Local\\Packages\\PythonSoftwareFoundation.Python.3.10_qbz5n2kfra8p0\\LocalCache\\local-packages\\Python310\\site-packages\\pytorch_tabnet\\abstract_model.py:75: UserWarning: Device used : cuda\n",
      "  warnings.warn(f\"Device used : {self.device}\")\n"
     ]
    },
    {
     "name": "stdout",
     "output_type": "stream",
     "text": [
      "epoch 0  | loss: 1.08556 | val_0_mse: 0.34573 |  0:00:08s\n",
      "epoch 1  | loss: 0.16438 | val_0_mse: 0.12241 |  0:00:17s\n",
      "epoch 2  | loss: 0.12853 | val_0_mse: 0.09196 |  0:00:26s\n",
      "epoch 3  | loss: 0.09416 | val_0_mse: 0.11012 |  0:00:35s\n",
      "epoch 4  | loss: 0.09427 | val_0_mse: 0.09224 |  0:00:43s\n",
      "epoch 5  | loss: 0.08853 | val_0_mse: 0.12985 |  0:00:51s\n",
      "epoch 6  | loss: 0.08266 | val_0_mse: 0.07055 |  0:01:00s\n",
      "epoch 7  | loss: 0.06645 | val_0_mse: 0.06515 |  0:01:09s\n",
      "epoch 8  | loss: 0.06325 | val_0_mse: 0.06332 |  0:01:18s\n",
      "epoch 9  | loss: 0.05988 | val_0_mse: 0.04818 |  0:01:27s\n",
      "epoch 10 | loss: 0.05468 | val_0_mse: 0.04295 |  0:01:36s\n",
      "epoch 11 | loss: 0.04286 | val_0_mse: 0.06756 |  0:01:44s\n",
      "epoch 12 | loss: 0.04153 | val_0_mse: 0.03314 |  0:01:53s\n",
      "epoch 13 | loss: 0.02903 | val_0_mse: 0.08389 |  0:02:01s\n",
      "epoch 14 | loss: 0.02638 | val_0_mse: 0.0215  |  0:02:10s\n",
      "epoch 15 | loss: 0.02621 | val_0_mse: 0.02661 |  0:02:18s\n",
      "epoch 16 | loss: 0.0226  | val_0_mse: 0.0135  |  0:02:27s\n",
      "epoch 17 | loss: 0.02142 | val_0_mse: 0.02656 |  0:02:35s\n",
      "epoch 18 | loss: 0.01816 | val_0_mse: 0.00864 |  0:02:44s\n",
      "epoch 19 | loss: 0.01846 | val_0_mse: 0.00822 |  0:02:55s\n",
      "epoch 20 | loss: 0.01603 | val_0_mse: 0.00932 |  0:03:05s\n",
      "epoch 21 | loss: 0.01889 | val_0_mse: 0.00935 |  0:03:14s\n",
      "epoch 22 | loss: 0.01781 | val_0_mse: 0.00791 |  0:03:24s\n",
      "epoch 23 | loss: 0.01623 | val_0_mse: 0.00643 |  0:03:34s\n",
      "epoch 24 | loss: 0.01455 | val_0_mse: 0.01214 |  0:03:44s\n",
      "epoch 25 | loss: 0.01602 | val_0_mse: 0.02994 |  0:03:54s\n",
      "epoch 26 | loss: 0.01464 | val_0_mse: 0.01192 |  0:04:04s\n",
      "epoch 27 | loss: 0.01865 | val_0_mse: 0.0082  |  0:04:14s\n",
      "epoch 28 | loss: 0.01327 | val_0_mse: 0.00613 |  0:04:23s\n",
      "epoch 29 | loss: 0.01335 | val_0_mse: 0.03905 |  0:04:33s\n",
      "epoch 30 | loss: 0.01598 | val_0_mse: 0.01055 |  0:04:43s\n",
      "epoch 31 | loss: 0.01216 | val_0_mse: 0.00595 |  0:04:53s\n",
      "epoch 32 | loss: 0.0165  | val_0_mse: 0.01227 |  0:05:05s\n",
      "epoch 33 | loss: 0.01459 | val_0_mse: 0.01201 |  0:05:14s\n",
      "epoch 34 | loss: 0.0133  | val_0_mse: 0.01062 |  0:05:24s\n",
      "epoch 35 | loss: 0.0164  | val_0_mse: 0.02898 |  0:05:34s\n",
      "epoch 36 | loss: 0.01511 | val_0_mse: 0.01146 |  0:05:44s\n",
      "epoch 37 | loss: 0.01299 | val_0_mse: 0.01497 |  0:05:54s\n",
      "epoch 38 | loss: 0.01543 | val_0_mse: 0.01414 |  0:06:04s\n",
      "epoch 39 | loss: 0.01604 | val_0_mse: 0.00705 |  0:06:14s\n",
      "epoch 40 | loss: 0.01479 | val_0_mse: 0.00788 |  0:06:24s\n",
      "epoch 41 | loss: 0.0143  | val_0_mse: 0.00641 |  0:06:34s\n",
      "\n",
      "Early stopping occurred at epoch 41 with best_epoch = 31 and best_val_0_mse = 0.00595\n"
     ]
    },
    {
     "name": "stderr",
     "output_type": "stream",
     "text": [
      "C:\\Users\\franc\\AppData\\Local\\Packages\\PythonSoftwareFoundation.Python.3.10_qbz5n2kfra8p0\\LocalCache\\local-packages\\Python310\\site-packages\\pytorch_tabnet\\callbacks.py:172: UserWarning: Best weights from best epoch are automatically used!\n",
      "  warnings.warn(wrn_msg)\n"
     ]
    },
    {
     "name": "stdout",
     "output_type": "stream",
     "text": [
      "Model MSE: 0.006196 - Best MSE: 0.004804\n",
      "Model R2 Score: 0.972532 - Best R2 Score: 0.978703\n",
      "\n",
      "Iterations 102/120 - Hyperparameters:  batch_sizes=128, nums_epochs=100, n_d=32, n_a=32, n_step=5, n_indipendent=3, n_shared=2, gamma=1.3, epsilon=1e-08\n"
     ]
    },
    {
     "name": "stderr",
     "output_type": "stream",
     "text": [
      "C:\\Users\\franc\\AppData\\Local\\Packages\\PythonSoftwareFoundation.Python.3.10_qbz5n2kfra8p0\\LocalCache\\local-packages\\Python310\\site-packages\\pytorch_tabnet\\abstract_model.py:75: UserWarning: Device used : cuda\n",
      "  warnings.warn(f\"Device used : {self.device}\")\n"
     ]
    },
    {
     "name": "stdout",
     "output_type": "stream",
     "text": [
      "epoch 0  | loss: 1.4528  | val_0_mse: 0.57036 |  0:00:04s\n",
      "epoch 1  | loss: 0.16001 | val_0_mse: 0.35565 |  0:00:10s\n",
      "epoch 2  | loss: 0.09783 | val_0_mse: 0.11151 |  0:00:14s\n",
      "epoch 3  | loss: 0.0828  | val_0_mse: 0.08469 |  0:00:20s\n",
      "epoch 4  | loss: 0.08176 | val_0_mse: 0.09357 |  0:00:25s\n",
      "epoch 5  | loss: 0.0667  | val_0_mse: 0.05396 |  0:00:30s\n",
      "epoch 6  | loss: 0.06065 | val_0_mse: 0.08727 |  0:00:35s\n",
      "epoch 7  | loss: 0.06027 | val_0_mse: 0.04747 |  0:00:41s\n",
      "epoch 8  | loss: 0.05716 | val_0_mse: 0.07124 |  0:00:46s\n",
      "epoch 9  | loss: 0.05142 | val_0_mse: 0.04423 |  0:00:52s\n",
      "epoch 10 | loss: 0.05257 | val_0_mse: 0.07838 |  0:00:57s\n",
      "epoch 11 | loss: 0.04828 | val_0_mse: 0.05087 |  0:01:02s\n",
      "epoch 12 | loss: 0.04978 | val_0_mse: 0.04442 |  0:01:07s\n",
      "epoch 13 | loss: 0.04408 | val_0_mse: 0.03161 |  0:01:13s\n",
      "epoch 14 | loss: 0.03573 | val_0_mse: 0.03416 |  0:01:18s\n",
      "epoch 15 | loss: 0.03949 | val_0_mse: 0.02653 |  0:01:23s\n",
      "epoch 16 | loss: 0.03088 | val_0_mse: 0.03993 |  0:01:28s\n",
      "epoch 17 | loss: 0.02906 | val_0_mse: 0.01836 |  0:01:33s\n",
      "epoch 18 | loss: 0.03715 | val_0_mse: 0.03261 |  0:01:38s\n",
      "epoch 19 | loss: 0.02994 | val_0_mse: 0.04046 |  0:01:43s\n",
      "epoch 20 | loss: 0.02352 | val_0_mse: 0.01454 |  0:01:48s\n",
      "epoch 21 | loss: 0.01735 | val_0_mse: 0.01214 |  0:01:53s\n",
      "epoch 22 | loss: 0.0198  | val_0_mse: 0.01729 |  0:01:58s\n",
      "epoch 23 | loss: 0.01872 | val_0_mse: 0.02598 |  0:02:04s\n",
      "epoch 24 | loss: 0.02022 | val_0_mse: 0.02463 |  0:02:09s\n",
      "epoch 25 | loss: 0.02041 | val_0_mse: 0.03074 |  0:02:15s\n",
      "epoch 26 | loss: 0.02394 | val_0_mse: 0.01872 |  0:02:20s\n",
      "epoch 27 | loss: 0.02411 | val_0_mse: 0.01244 |  0:02:25s\n",
      "epoch 28 | loss: 0.01644 | val_0_mse: 0.01099 |  0:02:31s\n",
      "epoch 29 | loss: 0.02055 | val_0_mse: 0.01635 |  0:02:36s\n",
      "epoch 30 | loss: 0.02078 | val_0_mse: 0.03328 |  0:02:41s\n",
      "epoch 31 | loss: 0.01562 | val_0_mse: 0.04956 |  0:02:47s\n",
      "epoch 32 | loss: 0.01862 | val_0_mse: 0.01445 |  0:02:52s\n",
      "epoch 33 | loss: 0.0157  | val_0_mse: 0.00994 |  0:02:57s\n",
      "epoch 34 | loss: 0.01518 | val_0_mse: 0.02467 |  0:03:03s\n",
      "epoch 35 | loss: 0.01499 | val_0_mse: 0.05047 |  0:03:08s\n",
      "epoch 36 | loss: 0.01834 | val_0_mse: 0.12037 |  0:03:13s\n",
      "epoch 37 | loss: 0.01672 | val_0_mse: 0.01519 |  0:03:18s\n",
      "epoch 38 | loss: 0.02302 | val_0_mse: 0.04422 |  0:03:24s\n",
      "epoch 39 | loss: 0.01858 | val_0_mse: 0.10148 |  0:03:29s\n",
      "epoch 40 | loss: 0.01938 | val_0_mse: 0.00936 |  0:03:34s\n",
      "epoch 41 | loss: 0.01478 | val_0_mse: 0.00765 |  0:03:40s\n",
      "epoch 42 | loss: 0.01118 | val_0_mse: 0.01276 |  0:03:45s\n",
      "epoch 43 | loss: 0.01227 | val_0_mse: 0.00602 |  0:03:50s\n",
      "epoch 44 | loss: 0.0111  | val_0_mse: 0.00661 |  0:03:55s\n",
      "epoch 45 | loss: 0.01179 | val_0_mse: 0.00793 |  0:04:00s\n",
      "epoch 46 | loss: 0.01481 | val_0_mse: 0.07387 |  0:04:06s\n",
      "epoch 47 | loss: 0.02219 | val_0_mse: 0.01741 |  0:04:11s\n",
      "epoch 48 | loss: 0.0125  | val_0_mse: 0.00948 |  0:04:16s\n",
      "epoch 49 | loss: 0.01606 | val_0_mse: 0.02727 |  0:04:21s\n",
      "epoch 50 | loss: 0.01755 | val_0_mse: 0.04736 |  0:04:26s\n",
      "epoch 51 | loss: 0.01497 | val_0_mse: 0.01046 |  0:04:31s\n",
      "epoch 52 | loss: 0.0143  | val_0_mse: 0.00842 |  0:04:36s\n",
      "epoch 53 | loss: 0.02116 | val_0_mse: 0.03365 |  0:04:41s\n",
      "\n",
      "Early stopping occurred at epoch 53 with best_epoch = 43 and best_val_0_mse = 0.00602\n"
     ]
    },
    {
     "name": "stderr",
     "output_type": "stream",
     "text": [
      "C:\\Users\\franc\\AppData\\Local\\Packages\\PythonSoftwareFoundation.Python.3.10_qbz5n2kfra8p0\\LocalCache\\local-packages\\Python310\\site-packages\\pytorch_tabnet\\callbacks.py:172: UserWarning: Best weights from best epoch are automatically used!\n",
      "  warnings.warn(wrn_msg)\n"
     ]
    },
    {
     "name": "stdout",
     "output_type": "stream",
     "text": [
      "Model MSE: 0.006204 - Best MSE: 0.004804\n",
      "Model R2 Score: 0.972494 - Best R2 Score: 0.978703\n",
      "\n",
      "Iterations 103/120 - Hyperparameters:  batch_sizes=64, nums_epochs=100, n_d=32, n_a=32, n_step=5, n_indipendent=3, n_shared=3, gamma=1.3, epsilon=1e-08\n"
     ]
    },
    {
     "name": "stderr",
     "output_type": "stream",
     "text": [
      "C:\\Users\\franc\\AppData\\Local\\Packages\\PythonSoftwareFoundation.Python.3.10_qbz5n2kfra8p0\\LocalCache\\local-packages\\Python310\\site-packages\\pytorch_tabnet\\abstract_model.py:75: UserWarning: Device used : cuda\n",
      "  warnings.warn(f\"Device used : {self.device}\")\n"
     ]
    },
    {
     "name": "stdout",
     "output_type": "stream",
     "text": [
      "epoch 0  | loss: 1.75554 | val_0_mse: 0.67829 |  0:00:10s\n",
      "epoch 1  | loss: 0.16798 | val_0_mse: 0.11182 |  0:00:22s\n",
      "epoch 2  | loss: 0.10487 | val_0_mse: 0.0868  |  0:00:33s\n",
      "epoch 3  | loss: 0.08035 | val_0_mse: 0.05516 |  0:00:43s\n",
      "epoch 4  | loss: 0.06254 | val_0_mse: 0.12462 |  0:00:55s\n",
      "epoch 5  | loss: 0.06803 | val_0_mse: 0.05142 |  0:01:06s\n",
      "epoch 6  | loss: 0.05957 | val_0_mse: 0.08819 |  0:01:17s\n",
      "epoch 7  | loss: 0.06234 | val_0_mse: 0.04874 |  0:01:29s\n",
      "epoch 8  | loss: 0.05039 | val_0_mse: 0.06384 |  0:01:40s\n",
      "epoch 9  | loss: 0.06179 | val_0_mse: 0.04522 |  0:01:51s\n",
      "epoch 10 | loss: 0.05682 | val_0_mse: 0.04449 |  0:02:02s\n",
      "epoch 11 | loss: 0.05178 | val_0_mse: 0.07401 |  0:02:13s\n",
      "epoch 12 | loss: 0.05026 | val_0_mse: 0.05307 |  0:02:25s\n",
      "epoch 13 | loss: 0.04924 | val_0_mse: 0.08966 |  0:02:36s\n",
      "epoch 14 | loss: 0.04815 | val_0_mse: 0.06827 |  0:02:47s\n",
      "epoch 15 | loss: 0.0396  | val_0_mse: 0.05509 |  0:02:58s\n",
      "epoch 16 | loss: 0.03909 | val_0_mse: 0.03695 |  0:03:09s\n",
      "epoch 17 | loss: 0.0355  | val_0_mse: 0.02788 |  0:03:20s\n",
      "epoch 18 | loss: 0.03705 | val_0_mse: 0.04659 |  0:03:31s\n",
      "epoch 19 | loss: 0.03743 | val_0_mse: 0.03889 |  0:03:43s\n",
      "epoch 20 | loss: 0.0356  | val_0_mse: 0.0799  |  0:03:53s\n",
      "epoch 21 | loss: 0.02989 | val_0_mse: 0.02353 |  0:04:04s\n",
      "epoch 22 | loss: 0.02699 | val_0_mse: 0.01682 |  0:04:16s\n",
      "epoch 23 | loss: 0.02585 | val_0_mse: 0.01778 |  0:04:27s\n",
      "epoch 24 | loss: 0.01904 | val_0_mse: 0.01569 |  0:04:38s\n",
      "epoch 25 | loss: 0.01979 | val_0_mse: 0.02463 |  0:04:49s\n",
      "epoch 26 | loss: 0.02139 | val_0_mse: 0.00969 |  0:05:00s\n",
      "epoch 27 | loss: 0.01629 | val_0_mse: 0.0269  |  0:05:11s\n",
      "epoch 28 | loss: 0.01843 | val_0_mse: 0.02716 |  0:05:23s\n",
      "epoch 29 | loss: 0.02152 | val_0_mse: 0.07694 |  0:05:36s\n",
      "epoch 30 | loss: 0.02654 | val_0_mse: 0.02447 |  0:05:47s\n",
      "epoch 31 | loss: 0.01786 | val_0_mse: 0.01861 |  0:05:59s\n",
      "epoch 32 | loss: 0.01821 | val_0_mse: 0.01695 |  0:06:11s\n",
      "epoch 33 | loss: 0.01769 | val_0_mse: 0.00608 |  0:06:22s\n",
      "epoch 34 | loss: 0.0161  | val_0_mse: 0.01354 |  0:06:33s\n",
      "epoch 35 | loss: 0.01986 | val_0_mse: 0.02091 |  0:06:43s\n",
      "epoch 36 | loss: 0.01644 | val_0_mse: 0.01002 |  0:06:53s\n",
      "epoch 37 | loss: 0.01813 | val_0_mse: 0.00992 |  0:07:02s\n",
      "epoch 38 | loss: 0.0177  | val_0_mse: 0.01204 |  0:07:12s\n",
      "epoch 39 | loss: 0.01792 | val_0_mse: 0.00661 |  0:07:21s\n",
      "epoch 40 | loss: 0.01217 | val_0_mse: 0.01998 |  0:07:31s\n",
      "epoch 41 | loss: 0.01908 | val_0_mse: 0.02701 |  0:07:42s\n",
      "epoch 42 | loss: 0.0144  | val_0_mse: 0.00864 |  0:07:51s\n",
      "epoch 43 | loss: 0.01515 | val_0_mse: 0.01488 |  0:08:01s\n",
      "\n",
      "Early stopping occurred at epoch 43 with best_epoch = 33 and best_val_0_mse = 0.00608\n"
     ]
    },
    {
     "name": "stderr",
     "output_type": "stream",
     "text": [
      "C:\\Users\\franc\\AppData\\Local\\Packages\\PythonSoftwareFoundation.Python.3.10_qbz5n2kfra8p0\\LocalCache\\local-packages\\Python310\\site-packages\\pytorch_tabnet\\callbacks.py:172: UserWarning: Best weights from best epoch are automatically used!\n",
      "  warnings.warn(wrn_msg)\n"
     ]
    },
    {
     "name": "stdout",
     "output_type": "stream",
     "text": [
      "Model MSE: 0.006511 - Best MSE: 0.004804\n",
      "Model R2 Score: 0.971132 - Best R2 Score: 0.978703\n",
      "\n",
      "Iterations 104/120 - Hyperparameters:  batch_sizes=128, nums_epochs=100, n_d=32, n_a=32, n_step=5, n_indipendent=3, n_shared=3, gamma=1.3, epsilon=1e-08\n"
     ]
    },
    {
     "name": "stderr",
     "output_type": "stream",
     "text": [
      "C:\\Users\\franc\\AppData\\Local\\Packages\\PythonSoftwareFoundation.Python.3.10_qbz5n2kfra8p0\\LocalCache\\local-packages\\Python310\\site-packages\\pytorch_tabnet\\abstract_model.py:75: UserWarning: Device used : cuda\n",
      "  warnings.warn(f\"Device used : {self.device}\")\n"
     ]
    },
    {
     "name": "stdout",
     "output_type": "stream",
     "text": [
      "epoch 0  | loss: 2.82431 | val_0_mse: 0.5293  |  0:00:05s\n",
      "epoch 1  | loss: 0.2603  | val_0_mse: 0.15493 |  0:00:10s\n",
      "epoch 2  | loss: 0.16682 | val_0_mse: 0.15598 |  0:00:15s\n",
      "epoch 3  | loss: 0.12164 | val_0_mse: 0.1377  |  0:00:20s\n",
      "epoch 4  | loss: 0.10168 | val_0_mse: 0.09611 |  0:00:26s\n",
      "epoch 5  | loss: 0.08331 | val_0_mse: 0.07022 |  0:00:31s\n",
      "epoch 6  | loss: 0.07149 | val_0_mse: 0.06397 |  0:00:37s\n",
      "epoch 7  | loss: 0.06883 | val_0_mse: 0.04823 |  0:00:43s\n",
      "epoch 8  | loss: 0.0709  | val_0_mse: 0.05887 |  0:00:48s\n",
      "epoch 9  | loss: 0.06158 | val_0_mse: 0.05529 |  0:00:53s\n",
      "epoch 10 | loss: 0.05395 | val_0_mse: 0.05505 |  0:00:58s\n",
      "epoch 11 | loss: 0.04257 | val_0_mse: 0.04551 |  0:01:04s\n",
      "epoch 12 | loss: 0.03717 | val_0_mse: 0.02433 |  0:01:09s\n",
      "epoch 13 | loss: 0.02824 | val_0_mse: 0.03058 |  0:01:14s\n",
      "epoch 14 | loss: 0.03008 | val_0_mse: 0.03405 |  0:01:20s\n",
      "epoch 15 | loss: 0.02857 | val_0_mse: 0.01522 |  0:01:25s\n",
      "epoch 16 | loss: 0.01976 | val_0_mse: 0.01316 |  0:01:30s\n",
      "epoch 17 | loss: 0.01905 | val_0_mse: 0.01735 |  0:01:35s\n",
      "epoch 18 | loss: 0.01886 | val_0_mse: 0.01299 |  0:01:41s\n",
      "epoch 19 | loss: 0.01637 | val_0_mse: 0.01292 |  0:01:46s\n",
      "epoch 20 | loss: 0.01816 | val_0_mse: 0.02113 |  0:01:51s\n",
      "epoch 21 | loss: 0.01751 | val_0_mse: 0.01231 |  0:01:57s\n",
      "epoch 22 | loss: 0.02241 | val_0_mse: 0.01203 |  0:02:02s\n",
      "epoch 23 | loss: 0.01867 | val_0_mse: 0.01874 |  0:02:07s\n",
      "epoch 24 | loss: 0.01673 | val_0_mse: 0.02453 |  0:02:12s\n",
      "epoch 25 | loss: 0.01434 | val_0_mse: 0.0119  |  0:02:18s\n",
      "epoch 26 | loss: 0.01913 | val_0_mse: 0.01078 |  0:02:23s\n",
      "epoch 27 | loss: 0.01835 | val_0_mse: 0.04227 |  0:02:28s\n",
      "epoch 28 | loss: 0.01679 | val_0_mse: 0.01343 |  0:02:33s\n",
      "epoch 29 | loss: 0.01696 | val_0_mse: 0.01002 |  0:02:39s\n",
      "epoch 30 | loss: 0.01738 | val_0_mse: 0.02505 |  0:02:44s\n",
      "epoch 31 | loss: 0.01349 | val_0_mse: 0.02302 |  0:02:49s\n",
      "epoch 32 | loss: 0.02031 | val_0_mse: 0.01328 |  0:02:54s\n",
      "epoch 33 | loss: 0.01469 | val_0_mse: 0.01059 |  0:02:59s\n",
      "epoch 34 | loss: 0.01331 | val_0_mse: 0.01318 |  0:03:04s\n",
      "epoch 35 | loss: 0.01278 | val_0_mse: 0.00778 |  0:03:09s\n",
      "epoch 36 | loss: 0.01112 | val_0_mse: 0.01199 |  0:03:14s\n",
      "epoch 37 | loss: 0.01437 | val_0_mse: 0.00618 |  0:03:20s\n",
      "epoch 38 | loss: 0.01614 | val_0_mse: 0.00813 |  0:03:26s\n",
      "epoch 39 | loss: 0.01314 | val_0_mse: 0.00619 |  0:03:32s\n",
      "epoch 40 | loss: 0.01392 | val_0_mse: 0.01712 |  0:03:37s\n",
      "epoch 41 | loss: 0.01451 | val_0_mse: 0.02502 |  0:03:43s\n",
      "epoch 42 | loss: 0.01089 | val_0_mse: 0.01455 |  0:03:48s\n",
      "epoch 43 | loss: 0.01398 | val_0_mse: 0.02197 |  0:03:53s\n",
      "epoch 44 | loss: 0.02007 | val_0_mse: 0.01958 |  0:03:59s\n",
      "epoch 45 | loss: 0.01396 | val_0_mse: 0.02671 |  0:04:04s\n",
      "epoch 46 | loss: 0.01784 | val_0_mse: 0.01623 |  0:04:09s\n",
      "epoch 47 | loss: 0.01288 | val_0_mse: 0.00909 |  0:04:14s\n",
      "\n",
      "Early stopping occurred at epoch 47 with best_epoch = 37 and best_val_0_mse = 0.00618\n"
     ]
    },
    {
     "name": "stderr",
     "output_type": "stream",
     "text": [
      "C:\\Users\\franc\\AppData\\Local\\Packages\\PythonSoftwareFoundation.Python.3.10_qbz5n2kfra8p0\\LocalCache\\local-packages\\Python310\\site-packages\\pytorch_tabnet\\callbacks.py:172: UserWarning: Best weights from best epoch are automatically used!\n",
      "  warnings.warn(wrn_msg)\n"
     ]
    },
    {
     "name": "stdout",
     "output_type": "stream",
     "text": [
      "Model MSE: 0.006702 - Best MSE: 0.004804\n",
      "Model R2 Score: 0.970288 - Best R2 Score: 0.978703\n",
      "\n",
      "Iterations 105/120 - Hyperparameters:  batch_sizes=64, nums_epochs=100, n_d=32, n_a=32, n_step=6, n_indipendent=2, n_shared=2, gamma=1.3, epsilon=1e-08\n"
     ]
    },
    {
     "name": "stderr",
     "output_type": "stream",
     "text": [
      "C:\\Users\\franc\\AppData\\Local\\Packages\\PythonSoftwareFoundation.Python.3.10_qbz5n2kfra8p0\\LocalCache\\local-packages\\Python310\\site-packages\\pytorch_tabnet\\abstract_model.py:75: UserWarning: Device used : cuda\n",
      "  warnings.warn(f\"Device used : {self.device}\")\n"
     ]
    },
    {
     "name": "stdout",
     "output_type": "stream",
     "text": [
      "epoch 0  | loss: 1.98938 | val_0_mse: 0.53003 |  0:00:08s\n",
      "epoch 1  | loss: 0.15413 | val_0_mse: 0.27297 |  0:00:17s\n",
      "epoch 2  | loss: 0.10186 | val_0_mse: 0.08773 |  0:00:25s\n",
      "epoch 3  | loss: 0.07474 | val_0_mse: 0.06521 |  0:00:34s\n",
      "epoch 4  | loss: 0.06427 | val_0_mse: 0.05637 |  0:00:43s\n",
      "epoch 5  | loss: 0.05463 | val_0_mse: 0.08645 |  0:00:53s\n",
      "epoch 6  | loss: 0.04566 | val_0_mse: 0.03471 |  0:01:03s\n",
      "epoch 7  | loss: 0.04137 | val_0_mse: 0.0468  |  0:01:13s\n",
      "epoch 8  | loss: 0.03403 | val_0_mse: 0.03192 |  0:01:22s\n",
      "epoch 9  | loss: 0.03836 | val_0_mse: 0.01795 |  0:01:32s\n",
      "epoch 10 | loss: 0.03296 | val_0_mse: 0.03538 |  0:01:40s\n",
      "epoch 11 | loss: 0.02749 | val_0_mse: 0.01599 |  0:01:49s\n",
      "epoch 12 | loss: 0.03181 | val_0_mse: 0.0157  |  0:01:58s\n",
      "epoch 13 | loss: 0.02334 | val_0_mse: 0.01685 |  0:02:06s\n",
      "epoch 14 | loss: 0.02094 | val_0_mse: 0.01027 |  0:02:15s\n",
      "epoch 15 | loss: 0.02413 | val_0_mse: 0.10747 |  0:02:24s\n",
      "epoch 16 | loss: 0.01987 | val_0_mse: 0.0136  |  0:02:33s\n",
      "epoch 17 | loss: 0.02111 | val_0_mse: 0.00953 |  0:02:42s\n",
      "epoch 18 | loss: 0.01666 | val_0_mse: 0.01462 |  0:02:50s\n",
      "epoch 19 | loss: 0.01782 | val_0_mse: 0.01534 |  0:02:59s\n",
      "epoch 20 | loss: 0.01949 | val_0_mse: 0.02075 |  0:03:08s\n",
      "epoch 21 | loss: 0.01695 | val_0_mse: 0.02227 |  0:03:17s\n",
      "epoch 22 | loss: 0.01613 | val_0_mse: 0.02039 |  0:03:25s\n",
      "epoch 23 | loss: 0.01561 | val_0_mse: 0.01311 |  0:03:34s\n",
      "epoch 24 | loss: 0.01572 | val_0_mse: 0.00857 |  0:03:43s\n",
      "epoch 25 | loss: 0.02078 | val_0_mse: 0.02235 |  0:03:51s\n",
      "epoch 26 | loss: 0.01895 | val_0_mse: 0.00939 |  0:04:01s\n",
      "epoch 27 | loss: 0.02164 | val_0_mse: 0.03162 |  0:04:11s\n",
      "epoch 28 | loss: 0.02265 | val_0_mse: 0.05611 |  0:04:21s\n",
      "epoch 29 | loss: 0.01535 | val_0_mse: 0.01696 |  0:04:31s\n",
      "epoch 30 | loss: 0.01644 | val_0_mse: 0.02688 |  0:04:41s\n",
      "epoch 31 | loss: 0.02085 | val_0_mse: 0.02952 |  0:04:51s\n",
      "epoch 32 | loss: 0.01667 | val_0_mse: 0.00679 |  0:05:01s\n",
      "epoch 33 | loss: 0.01539 | val_0_mse: 0.01611 |  0:05:12s\n",
      "epoch 34 | loss: 0.01577 | val_0_mse: 0.0091  |  0:05:23s\n",
      "epoch 35 | loss: 0.01922 | val_0_mse: 0.00864 |  0:05:33s\n",
      "epoch 36 | loss: 0.01264 | val_0_mse: 0.04176 |  0:05:44s\n",
      "epoch 37 | loss: 0.01408 | val_0_mse: 0.00926 |  0:05:54s\n",
      "epoch 38 | loss: 0.01587 | val_0_mse: 0.0181  |  0:06:04s\n",
      "epoch 39 | loss: 0.01324 | val_0_mse: 0.01153 |  0:06:13s\n",
      "epoch 40 | loss: 0.01296 | val_0_mse: 0.00619 |  0:06:22s\n",
      "epoch 41 | loss: 0.01534 | val_0_mse: 0.02355 |  0:06:31s\n",
      "epoch 42 | loss: 0.01663 | val_0_mse: 0.00888 |  0:06:42s\n",
      "epoch 43 | loss: 0.01486 | val_0_mse: 0.01511 |  0:06:51s\n",
      "epoch 44 | loss: 0.0163  | val_0_mse: 0.00945 |  0:07:01s\n",
      "epoch 45 | loss: 0.0131  | val_0_mse: 0.0077  |  0:07:11s\n",
      "epoch 46 | loss: 0.02067 | val_0_mse: 0.0098  |  0:07:21s\n",
      "epoch 47 | loss: 0.013   | val_0_mse: 0.00994 |  0:07:30s\n",
      "epoch 48 | loss: 0.01416 | val_0_mse: 0.01081 |  0:07:40s\n",
      "epoch 49 | loss: 0.01755 | val_0_mse: 0.01099 |  0:07:51s\n",
      "epoch 50 | loss: 0.01516 | val_0_mse: 0.00715 |  0:08:01s\n",
      "\n",
      "Early stopping occurred at epoch 50 with best_epoch = 40 and best_val_0_mse = 0.00619\n"
     ]
    },
    {
     "name": "stderr",
     "output_type": "stream",
     "text": [
      "C:\\Users\\franc\\AppData\\Local\\Packages\\PythonSoftwareFoundation.Python.3.10_qbz5n2kfra8p0\\LocalCache\\local-packages\\Python310\\site-packages\\pytorch_tabnet\\callbacks.py:172: UserWarning: Best weights from best epoch are automatically used!\n",
      "  warnings.warn(wrn_msg)\n"
     ]
    },
    {
     "name": "stdout",
     "output_type": "stream",
     "text": [
      "Model MSE: 0.006578 - Best MSE: 0.004804\n",
      "Model R2 Score: 0.970835 - Best R2 Score: 0.978703\n",
      "\n",
      "Iterations 106/120 - Hyperparameters:  batch_sizes=128, nums_epochs=100, n_d=32, n_a=32, n_step=6, n_indipendent=2, n_shared=2, gamma=1.3, epsilon=1e-08\n"
     ]
    },
    {
     "name": "stderr",
     "output_type": "stream",
     "text": [
      "C:\\Users\\franc\\AppData\\Local\\Packages\\PythonSoftwareFoundation.Python.3.10_qbz5n2kfra8p0\\LocalCache\\local-packages\\Python310\\site-packages\\pytorch_tabnet\\abstract_model.py:75: UserWarning: Device used : cuda\n",
      "  warnings.warn(f\"Device used : {self.device}\")\n"
     ]
    },
    {
     "name": "stdout",
     "output_type": "stream",
     "text": [
      "epoch 0  | loss: 3.63721 | val_0_mse: 0.97483 |  0:00:04s\n",
      "epoch 1  | loss: 0.25876 | val_0_mse: 0.34731 |  0:00:09s\n",
      "epoch 2  | loss: 0.14516 | val_0_mse: 0.16837 |  0:00:14s\n",
      "epoch 3  | loss: 0.14586 | val_0_mse: 0.15442 |  0:00:19s\n",
      "epoch 4  | loss: 0.10091 | val_0_mse: 0.08124 |  0:00:23s\n",
      "epoch 5  | loss: 0.10044 | val_0_mse: 0.0788  |  0:00:28s\n",
      "epoch 6  | loss: 0.08844 | val_0_mse: 0.1158  |  0:00:33s\n",
      "epoch 7  | loss: 0.09255 | val_0_mse: 0.0807  |  0:00:38s\n",
      "epoch 8  | loss: 0.08722 | val_0_mse: 0.07983 |  0:00:43s\n",
      "epoch 9  | loss: 0.0965  | val_0_mse: 0.081   |  0:00:48s\n",
      "epoch 10 | loss: 0.07715 | val_0_mse: 0.0689  |  0:00:52s\n",
      "epoch 11 | loss: 0.07101 | val_0_mse: 0.07716 |  0:00:57s\n",
      "epoch 12 | loss: 0.06925 | val_0_mse: 0.07164 |  0:01:02s\n",
      "epoch 13 | loss: 0.08237 | val_0_mse: 0.09614 |  0:01:07s\n",
      "epoch 14 | loss: 0.076   | val_0_mse: 0.08875 |  0:01:11s\n",
      "epoch 15 | loss: 0.0726  | val_0_mse: 0.06353 |  0:01:16s\n",
      "epoch 16 | loss: 0.06692 | val_0_mse: 0.04781 |  0:01:21s\n",
      "epoch 17 | loss: 0.05413 | val_0_mse: 0.03786 |  0:01:25s\n",
      "epoch 18 | loss: 0.04968 | val_0_mse: 0.07805 |  0:01:30s\n",
      "epoch 19 | loss: 0.0567  | val_0_mse: 0.05469 |  0:01:35s\n",
      "epoch 20 | loss: 0.05973 | val_0_mse: 0.06847 |  0:01:40s\n",
      "epoch 21 | loss: 0.04655 | val_0_mse: 0.03392 |  0:01:45s\n",
      "epoch 22 | loss: 0.04479 | val_0_mse: 0.03556 |  0:01:50s\n",
      "epoch 23 | loss: 0.03727 | val_0_mse: 0.05656 |  0:01:55s\n",
      "epoch 24 | loss: 0.03592 | val_0_mse: 0.0323  |  0:02:00s\n",
      "epoch 25 | loss: 0.04263 | val_0_mse: 0.0241  |  0:02:05s\n",
      "epoch 26 | loss: 0.02677 | val_0_mse: 0.02236 |  0:02:10s\n",
      "epoch 27 | loss: 0.03467 | val_0_mse: 0.03172 |  0:02:15s\n",
      "epoch 28 | loss: 0.03656 | val_0_mse: 0.04168 |  0:02:20s\n",
      "epoch 29 | loss: 0.03634 | val_0_mse: 0.03767 |  0:02:25s\n",
      "epoch 30 | loss: 0.04861 | val_0_mse: 0.02628 |  0:02:30s\n",
      "epoch 31 | loss: 0.0323  | val_0_mse: 0.12322 |  0:02:36s\n",
      "epoch 32 | loss: 0.02364 | val_0_mse: 0.03815 |  0:02:41s\n",
      "epoch 33 | loss: 0.02045 | val_0_mse: 0.02157 |  0:02:46s\n",
      "epoch 34 | loss: 0.02239 | val_0_mse: 0.01618 |  0:02:51s\n",
      "epoch 35 | loss: 0.02827 | val_0_mse: 0.01761 |  0:02:56s\n",
      "epoch 36 | loss: 0.01756 | val_0_mse: 0.02432 |  0:03:01s\n",
      "epoch 37 | loss: 0.01942 | val_0_mse: 0.01577 |  0:03:05s\n",
      "epoch 38 | loss: 0.02076 | val_0_mse: 0.01405 |  0:03:10s\n",
      "epoch 39 | loss: 0.01787 | val_0_mse: 0.01091 |  0:03:15s\n",
      "epoch 40 | loss: 0.01484 | val_0_mse: 0.01594 |  0:03:20s\n",
      "epoch 41 | loss: 0.02416 | val_0_mse: 0.06768 |  0:03:25s\n",
      "epoch 42 | loss: 0.02031 | val_0_mse: 0.03797 |  0:03:30s\n",
      "epoch 43 | loss: 0.0178  | val_0_mse: 0.00771 |  0:03:36s\n",
      "epoch 44 | loss: 0.01461 | val_0_mse: 0.011   |  0:03:41s\n",
      "epoch 45 | loss: 0.01542 | val_0_mse: 0.02119 |  0:03:46s\n",
      "epoch 46 | loss: 0.01752 | val_0_mse: 0.01453 |  0:03:51s\n",
      "epoch 47 | loss: 0.01493 | val_0_mse: 0.02903 |  0:03:56s\n",
      "epoch 48 | loss: 0.01489 | val_0_mse: 0.03627 |  0:04:01s\n",
      "epoch 49 | loss: 0.01472 | val_0_mse: 0.01146 |  0:04:06s\n",
      "epoch 50 | loss: 0.01716 | val_0_mse: 0.01105 |  0:04:11s\n",
      "epoch 51 | loss: 0.01538 | val_0_mse: 0.00679 |  0:04:16s\n",
      "epoch 52 | loss: 0.01166 | val_0_mse: 0.00921 |  0:04:21s\n",
      "epoch 53 | loss: 0.01303 | val_0_mse: 0.01282 |  0:04:27s\n",
      "epoch 54 | loss: 0.0137  | val_0_mse: 0.00953 |  0:04:32s\n",
      "epoch 55 | loss: 0.01135 | val_0_mse: 0.00728 |  0:04:37s\n",
      "epoch 56 | loss: 0.01619 | val_0_mse: 0.01164 |  0:04:42s\n",
      "epoch 57 | loss: 0.01128 | val_0_mse: 0.011   |  0:04:47s\n",
      "epoch 58 | loss: 0.01131 | val_0_mse: 0.00929 |  0:04:53s\n",
      "epoch 59 | loss: 0.01051 | val_0_mse: 0.03773 |  0:04:58s\n",
      "epoch 60 | loss: 0.00967 | val_0_mse: 0.00838 |  0:05:04s\n",
      "epoch 61 | loss: 0.01126 | val_0_mse: 0.00785 |  0:05:10s\n",
      "\n",
      "Early stopping occurred at epoch 61 with best_epoch = 51 and best_val_0_mse = 0.00679\n"
     ]
    },
    {
     "name": "stderr",
     "output_type": "stream",
     "text": [
      "C:\\Users\\franc\\AppData\\Local\\Packages\\PythonSoftwareFoundation.Python.3.10_qbz5n2kfra8p0\\LocalCache\\local-packages\\Python310\\site-packages\\pytorch_tabnet\\callbacks.py:172: UserWarning: Best weights from best epoch are automatically used!\n",
      "  warnings.warn(wrn_msg)\n"
     ]
    },
    {
     "name": "stdout",
     "output_type": "stream",
     "text": [
      "Model MSE: 0.006944 - Best MSE: 0.004804\n",
      "Model R2 Score: 0.969216 - Best R2 Score: 0.978703\n",
      "\n",
      "Iterations 107/120 - Hyperparameters:  batch_sizes=64, nums_epochs=100, n_d=32, n_a=32, n_step=6, n_indipendent=2, n_shared=3, gamma=1.3, epsilon=1e-08\n"
     ]
    },
    {
     "name": "stderr",
     "output_type": "stream",
     "text": [
      "C:\\Users\\franc\\AppData\\Local\\Packages\\PythonSoftwareFoundation.Python.3.10_qbz5n2kfra8p0\\LocalCache\\local-packages\\Python310\\site-packages\\pytorch_tabnet\\abstract_model.py:75: UserWarning: Device used : cuda\n",
      "  warnings.warn(f\"Device used : {self.device}\")\n"
     ]
    },
    {
     "name": "stdout",
     "output_type": "stream",
     "text": [
      "epoch 0  | loss: 1.4074  | val_0_mse: 0.24099 |  0:00:12s\n",
      "epoch 1  | loss: 0.1879  | val_0_mse: 0.0963  |  0:00:23s\n",
      "epoch 2  | loss: 0.09925 | val_0_mse: 0.08007 |  0:00:34s\n",
      "epoch 3  | loss: 0.08934 | val_0_mse: 0.07766 |  0:00:45s\n",
      "epoch 4  | loss: 0.07001 | val_0_mse: 0.10071 |  0:00:57s\n",
      "epoch 5  | loss: 0.0616  | val_0_mse: 0.047   |  0:01:09s\n",
      "epoch 6  | loss: 0.05734 | val_0_mse: 0.07202 |  0:01:21s\n",
      "epoch 7  | loss: 0.04842 | val_0_mse: 0.03978 |  0:01:31s\n",
      "epoch 8  | loss: 0.03802 | val_0_mse: 0.04754 |  0:01:43s\n",
      "epoch 9  | loss: 0.03089 | val_0_mse: 0.02334 |  0:01:53s\n",
      "epoch 10 | loss: 0.03044 | val_0_mse: 0.02482 |  0:02:03s\n",
      "epoch 11 | loss: 0.02615 | val_0_mse: 0.03566 |  0:02:13s\n",
      "epoch 12 | loss: 0.02352 | val_0_mse: 0.02272 |  0:02:23s\n",
      "epoch 13 | loss: 0.02569 | val_0_mse: 0.02393 |  0:02:34s\n",
      "epoch 14 | loss: 0.02426 | val_0_mse: 0.04274 |  0:02:44s\n",
      "epoch 15 | loss: 0.01936 | val_0_mse: 0.02599 |  0:02:54s\n",
      "epoch 16 | loss: 0.02465 | val_0_mse: 0.01133 |  0:03:05s\n",
      "epoch 17 | loss: 0.01931 | val_0_mse: 0.01385 |  0:03:15s\n",
      "epoch 18 | loss: 0.02002 | val_0_mse: 0.01273 |  0:03:26s\n",
      "epoch 19 | loss: 0.01832 | val_0_mse: 0.00744 |  0:03:36s\n",
      "epoch 20 | loss: 0.01881 | val_0_mse: 0.01593 |  0:03:47s\n",
      "epoch 21 | loss: 0.02102 | val_0_mse: 0.01494 |  0:03:58s\n",
      "epoch 22 | loss: 0.01696 | val_0_mse: 0.01577 |  0:04:09s\n",
      "epoch 23 | loss: 0.02169 | val_0_mse: 0.00922 |  0:04:20s\n",
      "epoch 24 | loss: 0.02196 | val_0_mse: 0.01134 |  0:04:31s\n",
      "epoch 25 | loss: 0.02143 | val_0_mse: 0.00958 |  0:04:42s\n",
      "epoch 26 | loss: 0.01586 | val_0_mse: 0.01215 |  0:04:53s\n",
      "epoch 27 | loss: 0.01725 | val_0_mse: 0.01242 |  0:05:04s\n",
      "epoch 28 | loss: 0.01801 | val_0_mse: 0.03301 |  0:05:16s\n",
      "epoch 29 | loss: 0.0184  | val_0_mse: 0.01907 |  0:05:28s\n",
      "\n",
      "Early stopping occurred at epoch 29 with best_epoch = 19 and best_val_0_mse = 0.00744\n"
     ]
    },
    {
     "name": "stderr",
     "output_type": "stream",
     "text": [
      "C:\\Users\\franc\\AppData\\Local\\Packages\\PythonSoftwareFoundation.Python.3.10_qbz5n2kfra8p0\\LocalCache\\local-packages\\Python310\\site-packages\\pytorch_tabnet\\callbacks.py:172: UserWarning: Best weights from best epoch are automatically used!\n",
      "  warnings.warn(wrn_msg)\n"
     ]
    },
    {
     "name": "stdout",
     "output_type": "stream",
     "text": [
      "Model MSE: 0.007719 - Best MSE: 0.004804\n",
      "Model R2 Score: 0.965780 - Best R2 Score: 0.978703\n",
      "\n",
      "Iterations 108/120 - Hyperparameters:  batch_sizes=128, nums_epochs=100, n_d=32, n_a=32, n_step=6, n_indipendent=2, n_shared=3, gamma=1.3, epsilon=1e-08\n"
     ]
    },
    {
     "name": "stderr",
     "output_type": "stream",
     "text": [
      "C:\\Users\\franc\\AppData\\Local\\Packages\\PythonSoftwareFoundation.Python.3.10_qbz5n2kfra8p0\\LocalCache\\local-packages\\Python310\\site-packages\\pytorch_tabnet\\abstract_model.py:75: UserWarning: Device used : cuda\n",
      "  warnings.warn(f\"Device used : {self.device}\")\n"
     ]
    },
    {
     "name": "stdout",
     "output_type": "stream",
     "text": [
      "epoch 0  | loss: 1.89853 | val_0_mse: 1.60041 |  0:00:06s\n",
      "epoch 1  | loss: 0.41861 | val_0_mse: 0.31295 |  0:00:12s\n",
      "epoch 2  | loss: 0.15689 | val_0_mse: 0.15746 |  0:00:18s\n",
      "epoch 3  | loss: 0.14261 | val_0_mse: 0.13431 |  0:00:23s\n",
      "epoch 4  | loss: 0.10104 | val_0_mse: 0.0882  |  0:00:29s\n",
      "epoch 5  | loss: 0.0815  | val_0_mse: 0.07367 |  0:00:35s\n",
      "epoch 6  | loss: 0.06515 | val_0_mse: 0.07035 |  0:00:40s\n",
      "epoch 7  | loss: 0.04867 | val_0_mse: 0.05486 |  0:00:46s\n",
      "epoch 8  | loss: 0.05414 | val_0_mse: 0.04625 |  0:00:52s\n",
      "epoch 9  | loss: 0.05738 | val_0_mse: 0.03762 |  0:00:59s\n",
      "epoch 10 | loss: 0.03982 | val_0_mse: 0.03835 |  0:01:05s\n",
      "epoch 11 | loss: 0.04249 | val_0_mse: 0.04484 |  0:01:11s\n",
      "epoch 12 | loss: 0.04168 | val_0_mse: 0.03663 |  0:01:17s\n",
      "epoch 13 | loss: 0.03146 | val_0_mse: 0.04179 |  0:01:23s\n",
      "epoch 14 | loss: 0.03892 | val_0_mse: 0.07192 |  0:01:29s\n",
      "epoch 15 | loss: 0.02815 | val_0_mse: 0.02069 |  0:01:35s\n",
      "epoch 16 | loss: 0.0308  | val_0_mse: 0.05327 |  0:01:41s\n",
      "epoch 17 | loss: 0.02564 | val_0_mse: 0.02525 |  0:01:47s\n",
      "epoch 18 | loss: 0.02239 | val_0_mse: 0.01954 |  0:01:53s\n",
      "epoch 19 | loss: 0.03436 | val_0_mse: 0.01316 |  0:01:59s\n",
      "epoch 20 | loss: 0.02414 | val_0_mse: 0.02097 |  0:02:05s\n",
      "epoch 21 | loss: 0.02323 | val_0_mse: 0.02662 |  0:02:12s\n",
      "epoch 22 | loss: 0.02437 | val_0_mse: 0.03637 |  0:02:18s\n",
      "epoch 23 | loss: 0.02192 | val_0_mse: 0.01674 |  0:02:24s\n",
      "epoch 24 | loss: 0.0206  | val_0_mse: 0.02376 |  0:02:30s\n",
      "epoch 25 | loss: 0.01934 | val_0_mse: 0.03569 |  0:02:37s\n",
      "epoch 26 | loss: 0.02788 | val_0_mse: 0.0208  |  0:02:44s\n",
      "epoch 27 | loss: 0.02472 | val_0_mse: 0.02261 |  0:02:51s\n",
      "epoch 28 | loss: 0.02044 | val_0_mse: 0.03381 |  0:02:57s\n",
      "epoch 29 | loss: 0.01976 | val_0_mse: 0.01498 |  0:03:04s\n",
      "\n",
      "Early stopping occurred at epoch 29 with best_epoch = 19 and best_val_0_mse = 0.01316\n"
     ]
    },
    {
     "name": "stderr",
     "output_type": "stream",
     "text": [
      "C:\\Users\\franc\\AppData\\Local\\Packages\\PythonSoftwareFoundation.Python.3.10_qbz5n2kfra8p0\\LocalCache\\local-packages\\Python310\\site-packages\\pytorch_tabnet\\callbacks.py:172: UserWarning: Best weights from best epoch are automatically used!\n",
      "  warnings.warn(wrn_msg)\n"
     ]
    },
    {
     "name": "stdout",
     "output_type": "stream",
     "text": [
      "Model MSE: 0.013325 - Best MSE: 0.004804\n",
      "Model R2 Score: 0.940925 - Best R2 Score: 0.978703\n",
      "\n",
      "Iterations 109/120 - Hyperparameters:  batch_sizes=64, nums_epochs=100, n_d=32, n_a=32, n_step=6, n_indipendent=3, n_shared=2, gamma=1.3, epsilon=1e-08\n"
     ]
    },
    {
     "name": "stderr",
     "output_type": "stream",
     "text": [
      "C:\\Users\\franc\\AppData\\Local\\Packages\\PythonSoftwareFoundation.Python.3.10_qbz5n2kfra8p0\\LocalCache\\local-packages\\Python310\\site-packages\\pytorch_tabnet\\abstract_model.py:75: UserWarning: Device used : cuda\n",
      "  warnings.warn(f\"Device used : {self.device}\")\n"
     ]
    },
    {
     "name": "stdout",
     "output_type": "stream",
     "text": [
      "epoch 0  | loss: 1.56439 | val_0_mse: 0.27597 |  0:00:12s\n",
      "epoch 1  | loss: 0.19525 | val_0_mse: 0.13795 |  0:00:24s\n",
      "epoch 2  | loss: 0.15442 | val_0_mse: 0.1031  |  0:00:35s\n",
      "epoch 3  | loss: 0.08771 | val_0_mse: 0.06338 |  0:00:45s\n",
      "epoch 4  | loss: 0.07717 | val_0_mse: 0.0518  |  0:00:58s\n",
      "epoch 5  | loss: 0.06083 | val_0_mse: 0.09112 |  0:01:08s\n",
      "epoch 6  | loss: 0.06364 | val_0_mse: 0.03775 |  0:01:19s\n",
      "epoch 7  | loss: 0.05074 | val_0_mse: 0.0607  |  0:01:28s\n",
      "epoch 8  | loss: 0.03544 | val_0_mse: 0.03877 |  0:01:38s\n",
      "epoch 9  | loss: 0.03907 | val_0_mse: 0.01956 |  0:01:48s\n",
      "epoch 10 | loss: 0.03041 | val_0_mse: 0.03399 |  0:01:57s\n",
      "epoch 11 | loss: 0.03381 | val_0_mse: 0.05979 |  0:02:08s\n",
      "epoch 12 | loss: 0.0248  | val_0_mse: 0.02142 |  0:02:17s\n",
      "epoch 13 | loss: 0.025   | val_0_mse: 0.03055 |  0:02:27s\n",
      "epoch 14 | loss: 0.02159 | val_0_mse: 0.01813 |  0:02:37s\n",
      "epoch 15 | loss: 0.03158 | val_0_mse: 0.05547 |  0:02:46s\n",
      "epoch 16 | loss: 0.0225  | val_0_mse: 0.02564 |  0:02:57s\n",
      "epoch 17 | loss: 0.02997 | val_0_mse: 0.01023 |  0:03:06s\n",
      "epoch 18 | loss: 0.01981 | val_0_mse: 0.01112 |  0:03:16s\n",
      "epoch 19 | loss: 0.0184  | val_0_mse: 0.04243 |  0:03:26s\n",
      "epoch 20 | loss: 0.0241  | val_0_mse: 0.01234 |  0:03:36s\n",
      "epoch 21 | loss: 0.01872 | val_0_mse: 0.03852 |  0:03:46s\n",
      "epoch 22 | loss: 0.01892 | val_0_mse: 0.01673 |  0:03:55s\n",
      "epoch 23 | loss: 0.02545 | val_0_mse: 0.01209 |  0:04:05s\n",
      "epoch 24 | loss: 0.01651 | val_0_mse: 0.0073  |  0:04:15s\n",
      "epoch 25 | loss: 0.01704 | val_0_mse: 0.0336  |  0:04:25s\n",
      "epoch 26 | loss: 0.0144  | val_0_mse: 0.00653 |  0:04:35s\n",
      "epoch 27 | loss: 0.01704 | val_0_mse: 0.00551 |  0:04:44s\n",
      "epoch 28 | loss: 0.01524 | val_0_mse: 0.01531 |  0:04:55s\n",
      "epoch 29 | loss: 0.01609 | val_0_mse: 0.01022 |  0:05:04s\n",
      "epoch 30 | loss: 0.0151  | val_0_mse: 0.01379 |  0:05:14s\n",
      "epoch 31 | loss: 0.01952 | val_0_mse: 0.04769 |  0:05:24s\n",
      "epoch 32 | loss: 0.02201 | val_0_mse: 0.09366 |  0:05:34s\n",
      "epoch 33 | loss: 0.0181  | val_0_mse: 0.05032 |  0:05:44s\n",
      "epoch 34 | loss: 0.02065 | val_0_mse: 0.01503 |  0:05:54s\n",
      "epoch 35 | loss: 0.0169  | val_0_mse: 0.00681 |  0:06:04s\n",
      "epoch 36 | loss: 0.01985 | val_0_mse: 0.03884 |  0:06:14s\n",
      "epoch 37 | loss: 0.01911 | val_0_mse: 0.02621 |  0:06:24s\n",
      "\n",
      "Early stopping occurred at epoch 37 with best_epoch = 27 and best_val_0_mse = 0.00551\n"
     ]
    },
    {
     "name": "stderr",
     "output_type": "stream",
     "text": [
      "C:\\Users\\franc\\AppData\\Local\\Packages\\PythonSoftwareFoundation.Python.3.10_qbz5n2kfra8p0\\LocalCache\\local-packages\\Python310\\site-packages\\pytorch_tabnet\\callbacks.py:172: UserWarning: Best weights from best epoch are automatically used!\n",
      "  warnings.warn(wrn_msg)\n"
     ]
    },
    {
     "name": "stdout",
     "output_type": "stream",
     "text": [
      "Model MSE: 0.006216 - Best MSE: 0.004804\n",
      "Model R2 Score: 0.972442 - Best R2 Score: 0.978703\n",
      "\n",
      "Iterations 110/120 - Hyperparameters:  batch_sizes=128, nums_epochs=100, n_d=32, n_a=32, n_step=6, n_indipendent=3, n_shared=2, gamma=1.3, epsilon=1e-08\n"
     ]
    },
    {
     "name": "stderr",
     "output_type": "stream",
     "text": [
      "C:\\Users\\franc\\AppData\\Local\\Packages\\PythonSoftwareFoundation.Python.3.10_qbz5n2kfra8p0\\LocalCache\\local-packages\\Python310\\site-packages\\pytorch_tabnet\\abstract_model.py:75: UserWarning: Device used : cuda\n",
      "  warnings.warn(f\"Device used : {self.device}\")\n"
     ]
    },
    {
     "name": "stdout",
     "output_type": "stream",
     "text": [
      "epoch 0  | loss: 2.64215 | val_0_mse: 1.65854 |  0:00:05s\n",
      "epoch 1  | loss: 0.31794 | val_0_mse: 0.23382 |  0:00:10s\n",
      "epoch 2  | loss: 0.14187 | val_0_mse: 0.14749 |  0:00:16s\n",
      "epoch 3  | loss: 0.10431 | val_0_mse: 0.07145 |  0:00:21s\n",
      "epoch 4  | loss: 0.10606 | val_0_mse: 0.09429 |  0:00:27s\n",
      "epoch 5  | loss: 0.09423 | val_0_mse: 0.083   |  0:00:32s\n",
      "epoch 6  | loss: 0.08122 | val_0_mse: 0.0729  |  0:00:37s\n",
      "epoch 7  | loss: 0.07686 | val_0_mse: 0.08746 |  0:00:43s\n",
      "epoch 8  | loss: 0.08366 | val_0_mse: 0.08072 |  0:00:48s\n",
      "epoch 9  | loss: 0.08412 | val_0_mse: 0.08994 |  0:00:54s\n",
      "epoch 10 | loss: 0.07001 | val_0_mse: 0.0658  |  0:00:59s\n",
      "epoch 11 | loss: 0.07128 | val_0_mse: 0.05794 |  0:01:05s\n",
      "epoch 12 | loss: 0.062   | val_0_mse: 0.05797 |  0:01:10s\n",
      "epoch 13 | loss: 0.06801 | val_0_mse: 0.05138 |  0:01:16s\n",
      "epoch 14 | loss: 0.05865 | val_0_mse: 0.05296 |  0:01:21s\n",
      "epoch 15 | loss: 0.05426 | val_0_mse: 0.04958 |  0:01:26s\n",
      "epoch 16 | loss: 0.04681 | val_0_mse: 0.04283 |  0:01:32s\n",
      "epoch 17 | loss: 0.04915 | val_0_mse: 0.02929 |  0:01:37s\n",
      "epoch 18 | loss: 0.03755 | val_0_mse: 0.0472  |  0:01:43s\n",
      "epoch 19 | loss: 0.03408 | val_0_mse: 0.03629 |  0:01:48s\n",
      "epoch 20 | loss: 0.03252 | val_0_mse: 0.02622 |  0:01:53s\n",
      "epoch 21 | loss: 0.0267  | val_0_mse: 0.02963 |  0:01:59s\n",
      "epoch 22 | loss: 0.02846 | val_0_mse: 0.02004 |  0:02:04s\n",
      "epoch 23 | loss: 0.0258  | val_0_mse: 0.02082 |  0:02:10s\n",
      "epoch 24 | loss: 0.02154 | val_0_mse: 0.01627 |  0:02:15s\n",
      "epoch 25 | loss: 0.02635 | val_0_mse: 0.03698 |  0:02:21s\n",
      "epoch 26 | loss: 0.01822 | val_0_mse: 0.03636 |  0:02:26s\n",
      "epoch 27 | loss: 0.01923 | val_0_mse: 0.00884 |  0:02:31s\n",
      "epoch 28 | loss: 0.0167  | val_0_mse: 0.16517 |  0:02:37s\n",
      "epoch 29 | loss: 0.0157  | val_0_mse: 0.00823 |  0:02:42s\n",
      "epoch 30 | loss: 0.01317 | val_0_mse: 0.01146 |  0:02:48s\n",
      "epoch 31 | loss: 0.0165  | val_0_mse: 0.00845 |  0:02:53s\n",
      "epoch 32 | loss: 0.01304 | val_0_mse: 0.00878 |  0:02:58s\n",
      "epoch 33 | loss: 0.01114 | val_0_mse: 0.01161 |  0:03:04s\n",
      "epoch 34 | loss: 0.01617 | val_0_mse: 0.01139 |  0:03:09s\n",
      "epoch 35 | loss: 0.01078 | val_0_mse: 0.00894 |  0:03:15s\n",
      "epoch 36 | loss: 0.01405 | val_0_mse: 0.01726 |  0:03:20s\n",
      "epoch 37 | loss: 0.01198 | val_0_mse: 0.01243 |  0:03:25s\n",
      "epoch 38 | loss: 0.02017 | val_0_mse: 0.00879 |  0:03:31s\n",
      "epoch 39 | loss: 0.01349 | val_0_mse: 0.01089 |  0:03:36s\n",
      "\n",
      "Early stopping occurred at epoch 39 with best_epoch = 29 and best_val_0_mse = 0.00823\n"
     ]
    },
    {
     "name": "stderr",
     "output_type": "stream",
     "text": [
      "C:\\Users\\franc\\AppData\\Local\\Packages\\PythonSoftwareFoundation.Python.3.10_qbz5n2kfra8p0\\LocalCache\\local-packages\\Python310\\site-packages\\pytorch_tabnet\\callbacks.py:172: UserWarning: Best weights from best epoch are automatically used!\n",
      "  warnings.warn(wrn_msg)\n"
     ]
    },
    {
     "name": "stdout",
     "output_type": "stream",
     "text": [
      "Model MSE: 0.009023 - Best MSE: 0.004804\n",
      "Model R2 Score: 0.959998 - Best R2 Score: 0.978703\n",
      "\n",
      "Iterations 111/120 - Hyperparameters:  batch_sizes=64, nums_epochs=100, n_d=32, n_a=32, n_step=6, n_indipendent=3, n_shared=3, gamma=1.3, epsilon=1e-08\n"
     ]
    },
    {
     "name": "stderr",
     "output_type": "stream",
     "text": [
      "C:\\Users\\franc\\AppData\\Local\\Packages\\PythonSoftwareFoundation.Python.3.10_qbz5n2kfra8p0\\LocalCache\\local-packages\\Python310\\site-packages\\pytorch_tabnet\\abstract_model.py:75: UserWarning: Device used : cuda\n",
      "  warnings.warn(f\"Device used : {self.device}\")\n"
     ]
    },
    {
     "name": "stdout",
     "output_type": "stream",
     "text": [
      "epoch 0  | loss: 1.01497 | val_0_mse: 0.38471 |  0:00:11s\n",
      "epoch 1  | loss: 0.2091  | val_0_mse: 0.1775  |  0:00:23s\n",
      "epoch 2  | loss: 0.15615 | val_0_mse: 0.22368 |  0:00:37s\n",
      "epoch 3  | loss: 0.13848 | val_0_mse: 0.11088 |  0:00:49s\n",
      "epoch 4  | loss: 0.1237  | val_0_mse: 0.09368 |  0:01:03s\n",
      "epoch 5  | loss: 0.11286 | val_0_mse: 0.07961 |  0:01:17s\n",
      "epoch 6  | loss: 0.09328 | val_0_mse: 0.11354 |  0:01:30s\n",
      "epoch 7  | loss: 0.09193 | val_0_mse: 0.09568 |  0:01:43s\n",
      "epoch 8  | loss: 0.08214 | val_0_mse: 0.08047 |  0:01:57s\n",
      "epoch 9  | loss: 0.07821 | val_0_mse: 0.07134 |  0:02:11s\n",
      "epoch 10 | loss: 0.07707 | val_0_mse: 0.06324 |  0:02:25s\n",
      "epoch 11 | loss: 0.07148 | val_0_mse: 0.063   |  0:02:38s\n",
      "epoch 12 | loss: 0.07048 | val_0_mse: 0.09703 |  0:02:52s\n",
      "epoch 13 | loss: 0.04516 | val_0_mse: 0.07246 |  0:03:05s\n",
      "epoch 14 | loss: 0.035   | val_0_mse: 0.04972 |  0:03:17s\n",
      "epoch 15 | loss: 0.03364 | val_0_mse: 0.01615 |  0:03:29s\n",
      "epoch 16 | loss: 0.02333 | val_0_mse: 0.02101 |  0:03:41s\n",
      "epoch 17 | loss: 0.02463 | val_0_mse: 0.02051 |  0:03:54s\n",
      "epoch 18 | loss: 0.0216  | val_0_mse: 0.03398 |  0:04:07s\n",
      "epoch 19 | loss: 0.02141 | val_0_mse: 0.00975 |  0:04:21s\n",
      "epoch 20 | loss: 0.01979 | val_0_mse: 0.01389 |  0:04:35s\n",
      "epoch 21 | loss: 0.01984 | val_0_mse: 0.0221  |  0:04:48s\n",
      "epoch 22 | loss: 0.02146 | val_0_mse: 0.02942 |  0:05:01s\n",
      "epoch 23 | loss: 0.01944 | val_0_mse: 0.03868 |  0:05:15s\n",
      "epoch 24 | loss: 0.02353 | val_0_mse: 0.00847 |  0:05:28s\n",
      "epoch 25 | loss: 0.02097 | val_0_mse: 0.06083 |  0:05:41s\n",
      "epoch 26 | loss: 0.02698 | val_0_mse: 0.01488 |  0:05:54s\n",
      "epoch 27 | loss: 0.01949 | val_0_mse: 0.00987 |  0:06:07s\n",
      "epoch 28 | loss: 0.01992 | val_0_mse: 0.01166 |  0:06:20s\n",
      "epoch 29 | loss: 0.0169  | val_0_mse: 0.03394 |  0:06:34s\n",
      "epoch 30 | loss: 0.01664 | val_0_mse: 0.01745 |  0:06:47s\n",
      "epoch 31 | loss: 0.0153  | val_0_mse: 0.00853 |  0:07:00s\n",
      "epoch 32 | loss: 0.01364 | val_0_mse: 0.0074  |  0:07:14s\n",
      "epoch 33 | loss: 0.01633 | val_0_mse: 0.00886 |  0:07:27s\n",
      "epoch 34 | loss: 0.01396 | val_0_mse: 0.00597 |  0:07:40s\n",
      "epoch 35 | loss: 0.0214  | val_0_mse: 0.04481 |  0:07:53s\n",
      "epoch 36 | loss: 0.01309 | val_0_mse: 0.00717 |  0:08:05s\n",
      "epoch 37 | loss: 0.01724 | val_0_mse: 0.01117 |  0:08:18s\n",
      "epoch 38 | loss: 0.01391 | val_0_mse: 0.03997 |  0:08:30s\n",
      "epoch 39 | loss: 0.01546 | val_0_mse: 0.00685 |  0:08:42s\n",
      "epoch 40 | loss: 0.01515 | val_0_mse: 0.00711 |  0:08:54s\n",
      "epoch 41 | loss: 0.02343 | val_0_mse: 0.02014 |  0:09:07s\n",
      "epoch 42 | loss: 0.01387 | val_0_mse: 0.01074 |  0:09:20s\n",
      "epoch 43 | loss: 0.01359 | val_0_mse: 0.01461 |  0:09:33s\n",
      "epoch 44 | loss: 0.01588 | val_0_mse: 0.01194 |  0:09:47s\n",
      "\n",
      "Early stopping occurred at epoch 44 with best_epoch = 34 and best_val_0_mse = 0.00597\n"
     ]
    },
    {
     "name": "stderr",
     "output_type": "stream",
     "text": [
      "C:\\Users\\franc\\AppData\\Local\\Packages\\PythonSoftwareFoundation.Python.3.10_qbz5n2kfra8p0\\LocalCache\\local-packages\\Python310\\site-packages\\pytorch_tabnet\\callbacks.py:172: UserWarning: Best weights from best epoch are automatically used!\n",
      "  warnings.warn(wrn_msg)\n"
     ]
    },
    {
     "name": "stdout",
     "output_type": "stream",
     "text": [
      "Model MSE: 0.006098 - Best MSE: 0.004804\n",
      "Model R2 Score: 0.972966 - Best R2 Score: 0.978703\n",
      "\n",
      "Iterations 112/120 - Hyperparameters:  batch_sizes=128, nums_epochs=100, n_d=32, n_a=32, n_step=6, n_indipendent=3, n_shared=3, gamma=1.3, epsilon=1e-08\n"
     ]
    },
    {
     "name": "stderr",
     "output_type": "stream",
     "text": [
      "C:\\Users\\franc\\AppData\\Local\\Packages\\PythonSoftwareFoundation.Python.3.10_qbz5n2kfra8p0\\LocalCache\\local-packages\\Python310\\site-packages\\pytorch_tabnet\\abstract_model.py:75: UserWarning: Device used : cuda\n",
      "  warnings.warn(f\"Device used : {self.device}\")\n"
     ]
    },
    {
     "name": "stdout",
     "output_type": "stream",
     "text": [
      "epoch 0  | loss: 1.58195 | val_0_mse: 0.96749 |  0:00:06s\n",
      "epoch 1  | loss: 0.33001 | val_0_mse: 0.18124 |  0:00:12s\n",
      "epoch 2  | loss: 0.14201 | val_0_mse: 0.14765 |  0:00:18s\n",
      "epoch 3  | loss: 0.10586 | val_0_mse: 0.08732 |  0:00:24s\n",
      "epoch 4  | loss: 0.10123 | val_0_mse: 0.08426 |  0:00:30s\n",
      "epoch 5  | loss: 0.08142 | val_0_mse: 0.08713 |  0:00:35s\n",
      "epoch 6  | loss: 0.0812  | val_0_mse: 0.06091 |  0:00:41s\n",
      "epoch 7  | loss: 0.07388 | val_0_mse: 0.0645  |  0:00:48s\n",
      "epoch 8  | loss: 0.07425 | val_0_mse: 0.06699 |  0:00:54s\n",
      "epoch 9  | loss: 0.06791 | val_0_mse: 0.07846 |  0:01:00s\n",
      "epoch 10 | loss: 0.06751 | val_0_mse: 0.05621 |  0:01:06s\n",
      "epoch 11 | loss: 0.06713 | val_0_mse: 0.06007 |  0:01:12s\n",
      "epoch 12 | loss: 0.0645  | val_0_mse: 0.04807 |  0:01:18s\n",
      "epoch 13 | loss: 0.05671 | val_0_mse: 0.06497 |  0:01:24s\n",
      "epoch 14 | loss: 0.05582 | val_0_mse: 0.04423 |  0:01:30s\n",
      "epoch 15 | loss: 0.04897 | val_0_mse: 0.03725 |  0:01:36s\n",
      "epoch 16 | loss: 0.04859 | val_0_mse: 0.02991 |  0:01:42s\n",
      "epoch 17 | loss: 0.03456 | val_0_mse: 0.05381 |  0:01:48s\n",
      "epoch 18 | loss: 0.03422 | val_0_mse: 0.02312 |  0:01:54s\n",
      "epoch 19 | loss: 0.02728 | val_0_mse: 0.02517 |  0:02:00s\n",
      "epoch 20 | loss: 0.02481 | val_0_mse: 0.01833 |  0:02:06s\n",
      "epoch 21 | loss: 0.02239 | val_0_mse: 0.02264 |  0:02:12s\n",
      "epoch 22 | loss: 0.02963 | val_0_mse: 0.02679 |  0:02:18s\n",
      "epoch 23 | loss: 0.02688 | val_0_mse: 0.02439 |  0:02:24s\n",
      "epoch 24 | loss: 0.02242 | val_0_mse: 0.01282 |  0:02:30s\n",
      "epoch 25 | loss: 0.01849 | val_0_mse: 0.01363 |  0:02:36s\n",
      "epoch 26 | loss: 0.01965 | val_0_mse: 0.01166 |  0:02:42s\n",
      "epoch 27 | loss: 0.01402 | val_0_mse: 0.02643 |  0:02:49s\n",
      "epoch 28 | loss: 0.01654 | val_0_mse: 0.0124  |  0:02:55s\n",
      "epoch 29 | loss: 0.01613 | val_0_mse: 0.01301 |  0:03:01s\n",
      "epoch 30 | loss: 0.01336 | val_0_mse: 0.01556 |  0:03:07s\n",
      "epoch 31 | loss: 0.01326 | val_0_mse: 0.01617 |  0:03:13s\n",
      "epoch 32 | loss: 0.02373 | val_0_mse: 0.0291  |  0:03:19s\n",
      "epoch 33 | loss: 0.01816 | val_0_mse: 0.01128 |  0:03:25s\n",
      "epoch 34 | loss: 0.01434 | val_0_mse: 0.0098  |  0:03:31s\n",
      "epoch 35 | loss: 0.01603 | val_0_mse: 0.02349 |  0:03:37s\n",
      "epoch 36 | loss: 0.01352 | val_0_mse: 0.01692 |  0:03:44s\n",
      "epoch 37 | loss: 0.01154 | val_0_mse: 0.01378 |  0:03:50s\n",
      "epoch 38 | loss: 0.01047 | val_0_mse: 0.01282 |  0:03:56s\n",
      "epoch 39 | loss: 0.013   | val_0_mse: 0.00768 |  0:04:02s\n",
      "epoch 40 | loss: 0.0106  | val_0_mse: 0.00822 |  0:04:08s\n",
      "epoch 41 | loss: 0.0138  | val_0_mse: 0.01904 |  0:04:14s\n",
      "epoch 42 | loss: 0.0124  | val_0_mse: 0.00938 |  0:04:20s\n",
      "epoch 43 | loss: 0.01258 | val_0_mse: 0.01342 |  0:04:26s\n",
      "epoch 44 | loss: 0.01204 | val_0_mse: 0.00947 |  0:04:32s\n",
      "epoch 45 | loss: 0.01165 | val_0_mse: 0.00809 |  0:04:38s\n",
      "epoch 46 | loss: 0.00908 | val_0_mse: 0.00953 |  0:04:44s\n",
      "epoch 47 | loss: 0.01645 | val_0_mse: 0.02287 |  0:04:50s\n",
      "epoch 48 | loss: 0.0112  | val_0_mse: 0.01473 |  0:04:56s\n",
      "epoch 49 | loss: 0.01141 | val_0_mse: 0.02635 |  0:05:02s\n",
      "\n",
      "Early stopping occurred at epoch 49 with best_epoch = 39 and best_val_0_mse = 0.00768\n"
     ]
    },
    {
     "name": "stderr",
     "output_type": "stream",
     "text": [
      "C:\\Users\\franc\\AppData\\Local\\Packages\\PythonSoftwareFoundation.Python.3.10_qbz5n2kfra8p0\\LocalCache\\local-packages\\Python310\\site-packages\\pytorch_tabnet\\callbacks.py:172: UserWarning: Best weights from best epoch are automatically used!\n",
      "  warnings.warn(wrn_msg)\n"
     ]
    },
    {
     "name": "stdout",
     "output_type": "stream",
     "text": [
      "Model MSE: 0.007415 - Best MSE: 0.004804\n",
      "Model R2 Score: 0.967128 - Best R2 Score: 0.978703\n",
      "\n",
      "Iterations 113/120 - Hyperparameters:  batch_sizes=64, nums_epochs=100, n_d=32, n_a=32, n_step=7, n_indipendent=2, n_shared=2, gamma=1.3, epsilon=1e-08\n"
     ]
    },
    {
     "name": "stderr",
     "output_type": "stream",
     "text": [
      "C:\\Users\\franc\\AppData\\Local\\Packages\\PythonSoftwareFoundation.Python.3.10_qbz5n2kfra8p0\\LocalCache\\local-packages\\Python310\\site-packages\\pytorch_tabnet\\abstract_model.py:75: UserWarning: Device used : cuda\n",
      "  warnings.warn(f\"Device used : {self.device}\")\n"
     ]
    },
    {
     "name": "stdout",
     "output_type": "stream",
     "text": [
      "epoch 0  | loss: 2.65854 | val_0_mse: 0.37387 |  0:00:10s\n",
      "epoch 1  | loss: 0.19785 | val_0_mse: 0.15009 |  0:00:20s\n",
      "epoch 2  | loss: 0.10721 | val_0_mse: 0.06841 |  0:00:30s\n",
      "epoch 3  | loss: 0.08763 | val_0_mse: 0.12856 |  0:00:40s\n",
      "epoch 4  | loss: 0.08474 | val_0_mse: 0.09877 |  0:00:51s\n",
      "epoch 5  | loss: 0.08414 | val_0_mse: 0.09678 |  0:01:01s\n",
      "epoch 6  | loss: 0.05607 | val_0_mse: 0.03472 |  0:01:10s\n",
      "epoch 7  | loss: 0.04428 | val_0_mse: 0.0351  |  0:01:20s\n",
      "epoch 8  | loss: 0.04135 | val_0_mse: 0.02127 |  0:01:30s\n",
      "epoch 9  | loss: 0.03612 | val_0_mse: 0.0197  |  0:01:40s\n",
      "epoch 10 | loss: 0.03492 | val_0_mse: 0.03126 |  0:01:50s\n",
      "epoch 11 | loss: 0.03372 | val_0_mse: 0.02367 |  0:02:00s\n",
      "epoch 12 | loss: 0.02849 | val_0_mse: 0.06375 |  0:02:10s\n",
      "epoch 13 | loss: 0.03276 | val_0_mse: 0.02582 |  0:02:21s\n",
      "epoch 14 | loss: 0.0232  | val_0_mse: 0.04032 |  0:02:31s\n",
      "epoch 15 | loss: 0.02165 | val_0_mse: 0.01119 |  0:02:40s\n",
      "epoch 16 | loss: 0.02644 | val_0_mse: 0.00957 |  0:02:50s\n",
      "epoch 17 | loss: 0.01816 | val_0_mse: 0.0272  |  0:03:00s\n",
      "epoch 18 | loss: 0.02668 | val_0_mse: 0.03782 |  0:03:10s\n",
      "epoch 19 | loss: 0.01559 | val_0_mse: 0.01033 |  0:03:20s\n",
      "epoch 20 | loss: 0.01823 | val_0_mse: 0.01203 |  0:03:29s\n",
      "epoch 21 | loss: 0.02048 | val_0_mse: 0.02471 |  0:03:39s\n",
      "epoch 22 | loss: 0.01846 | val_0_mse: 0.02442 |  0:03:49s\n",
      "epoch 23 | loss: 0.01897 | val_0_mse: 0.03433 |  0:03:58s\n",
      "epoch 24 | loss: 0.02177 | val_0_mse: 0.00932 |  0:04:09s\n",
      "epoch 25 | loss: 0.01679 | val_0_mse: 0.02597 |  0:04:18s\n",
      "epoch 26 | loss: 0.0181  | val_0_mse: 0.01111 |  0:04:28s\n",
      "epoch 27 | loss: 0.01858 | val_0_mse: 0.02292 |  0:04:38s\n",
      "epoch 28 | loss: 0.01665 | val_0_mse: 0.01555 |  0:04:47s\n",
      "epoch 29 | loss: 0.01592 | val_0_mse: 0.01857 |  0:04:57s\n",
      "epoch 30 | loss: 0.01694 | val_0_mse: 0.02419 |  0:05:07s\n",
      "epoch 31 | loss: 0.01614 | val_0_mse: 0.01069 |  0:05:17s\n",
      "epoch 32 | loss: 0.01577 | val_0_mse: 0.018   |  0:05:26s\n",
      "epoch 33 | loss: 0.01764 | val_0_mse: 0.00896 |  0:05:36s\n",
      "epoch 34 | loss: 0.01799 | val_0_mse: 0.01017 |  0:05:46s\n",
      "epoch 35 | loss: 0.01654 | val_0_mse: 0.00852 |  0:05:56s\n",
      "epoch 36 | loss: 0.01661 | val_0_mse: 0.03147 |  0:06:05s\n",
      "epoch 37 | loss: 0.01418 | val_0_mse: 0.00603 |  0:06:15s\n",
      "epoch 38 | loss: 0.01676 | val_0_mse: 0.00876 |  0:06:25s\n",
      "epoch 39 | loss: 0.01407 | val_0_mse: 0.00987 |  0:06:35s\n",
      "epoch 40 | loss: 0.01627 | val_0_mse: 0.0128  |  0:06:44s\n",
      "epoch 41 | loss: 0.01395 | val_0_mse: 0.01222 |  0:06:54s\n",
      "epoch 42 | loss: 0.0134  | val_0_mse: 0.00702 |  0:07:04s\n",
      "epoch 43 | loss: 0.0159  | val_0_mse: 0.00552 |  0:07:13s\n",
      "epoch 44 | loss: 0.01646 | val_0_mse: 0.01546 |  0:07:24s\n",
      "epoch 45 | loss: 0.01648 | val_0_mse: 0.00819 |  0:07:34s\n",
      "epoch 46 | loss: 0.01196 | val_0_mse: 0.01467 |  0:07:44s\n",
      "epoch 47 | loss: 0.01364 | val_0_mse: 0.01143 |  0:07:54s\n",
      "epoch 48 | loss: 0.01259 | val_0_mse: 0.00841 |  0:08:05s\n",
      "epoch 49 | loss: 0.01527 | val_0_mse: 0.00953 |  0:08:14s\n",
      "epoch 50 | loss: 0.01296 | val_0_mse: 0.0165  |  0:08:24s\n",
      "epoch 51 | loss: 0.01715 | val_0_mse: 0.01363 |  0:08:34s\n",
      "epoch 52 | loss: 0.01139 | val_0_mse: 0.02103 |  0:08:45s\n",
      "epoch 53 | loss: 0.01393 | val_0_mse: 0.0204  |  0:08:55s\n",
      "\n",
      "Early stopping occurred at epoch 53 with best_epoch = 43 and best_val_0_mse = 0.00552\n"
     ]
    },
    {
     "name": "stderr",
     "output_type": "stream",
     "text": [
      "C:\\Users\\franc\\AppData\\Local\\Packages\\PythonSoftwareFoundation.Python.3.10_qbz5n2kfra8p0\\LocalCache\\local-packages\\Python310\\site-packages\\pytorch_tabnet\\callbacks.py:172: UserWarning: Best weights from best epoch are automatically used!\n",
      "  warnings.warn(wrn_msg)\n"
     ]
    },
    {
     "name": "stdout",
     "output_type": "stream",
     "text": [
      "Model MSE: 0.005780 - Best MSE: 0.004804\n",
      "Model R2 Score: 0.974377 - Best R2 Score: 0.978703\n",
      "\n",
      "Iterations 114/120 - Hyperparameters:  batch_sizes=128, nums_epochs=100, n_d=32, n_a=32, n_step=7, n_indipendent=2, n_shared=2, gamma=1.3, epsilon=1e-08\n"
     ]
    },
    {
     "name": "stderr",
     "output_type": "stream",
     "text": [
      "C:\\Users\\franc\\AppData\\Local\\Packages\\PythonSoftwareFoundation.Python.3.10_qbz5n2kfra8p0\\LocalCache\\local-packages\\Python310\\site-packages\\pytorch_tabnet\\abstract_model.py:75: UserWarning: Device used : cuda\n",
      "  warnings.warn(f\"Device used : {self.device}\")\n"
     ]
    },
    {
     "name": "stdout",
     "output_type": "stream",
     "text": [
      "epoch 0  | loss: 3.59718 | val_0_mse: 0.59913 |  0:00:05s\n",
      "epoch 1  | loss: 0.30828 | val_0_mse: 0.22486 |  0:00:10s\n",
      "epoch 2  | loss: 0.18023 | val_0_mse: 0.18032 |  0:00:16s\n",
      "epoch 3  | loss: 0.14514 | val_0_mse: 0.1149  |  0:00:21s\n",
      "epoch 4  | loss: 0.12403 | val_0_mse: 0.12675 |  0:00:26s\n",
      "epoch 5  | loss: 0.10411 | val_0_mse: 0.10154 |  0:00:31s\n",
      "epoch 6  | loss: 0.08546 | val_0_mse: 0.07031 |  0:00:36s\n",
      "epoch 7  | loss: 0.08513 | val_0_mse: 0.06046 |  0:00:41s\n",
      "epoch 8  | loss: 0.07847 | val_0_mse: 0.07037 |  0:00:47s\n",
      "epoch 9  | loss: 0.06773 | val_0_mse: 0.05064 |  0:00:52s\n",
      "epoch 10 | loss: 0.06319 | val_0_mse: 0.04703 |  0:00:57s\n",
      "epoch 11 | loss: 0.06114 | val_0_mse: 0.06073 |  0:01:02s\n",
      "epoch 12 | loss: 0.05006 | val_0_mse: 0.04139 |  0:01:08s\n",
      "epoch 13 | loss: 0.04346 | val_0_mse: 0.03916 |  0:01:13s\n",
      "epoch 14 | loss: 0.03786 | val_0_mse: 0.04411 |  0:01:19s\n",
      "epoch 15 | loss: 0.03452 | val_0_mse: 0.02758 |  0:01:24s\n",
      "epoch 16 | loss: 0.03151 | val_0_mse: 0.03036 |  0:01:30s\n",
      "epoch 17 | loss: 0.02467 | val_0_mse: 0.02704 |  0:01:35s\n",
      "epoch 18 | loss: 0.02738 | val_0_mse: 0.05433 |  0:01:40s\n",
      "epoch 19 | loss: 0.0286  | val_0_mse: 0.0176  |  0:01:46s\n",
      "epoch 20 | loss: 0.0225  | val_0_mse: 0.025   |  0:01:51s\n",
      "epoch 21 | loss: 0.0297  | val_0_mse: 0.03768 |  0:01:57s\n",
      "epoch 22 | loss: 0.02874 | val_0_mse: 0.0223  |  0:02:02s\n",
      "epoch 23 | loss: 0.01758 | val_0_mse: 0.02046 |  0:02:07s\n",
      "epoch 24 | loss: 0.01861 | val_0_mse: 0.01042 |  0:02:13s\n",
      "epoch 25 | loss: 0.01681 | val_0_mse: 0.04396 |  0:02:18s\n",
      "epoch 26 | loss: 0.02552 | val_0_mse: 0.01576 |  0:02:23s\n",
      "epoch 27 | loss: 0.01661 | val_0_mse: 0.01131 |  0:02:29s\n",
      "epoch 28 | loss: 0.01507 | val_0_mse: 0.00788 |  0:02:34s\n",
      "epoch 29 | loss: 0.01598 | val_0_mse: 0.02399 |  0:02:40s\n",
      "epoch 30 | loss: 0.01612 | val_0_mse: 0.02878 |  0:02:45s\n",
      "epoch 31 | loss: 0.02001 | val_0_mse: 0.02145 |  0:02:51s\n",
      "epoch 32 | loss: 0.0184  | val_0_mse: 0.02494 |  0:02:56s\n",
      "epoch 33 | loss: 0.01406 | val_0_mse: 0.00952 |  0:03:01s\n",
      "epoch 34 | loss: 0.01617 | val_0_mse: 0.00778 |  0:03:06s\n",
      "epoch 35 | loss: 0.01546 | val_0_mse: 0.00997 |  0:03:12s\n",
      "epoch 36 | loss: 0.0142  | val_0_mse: 0.01026 |  0:03:17s\n",
      "epoch 37 | loss: 0.01328 | val_0_mse: 0.01072 |  0:03:22s\n",
      "epoch 38 | loss: 0.01327 | val_0_mse: 0.00981 |  0:03:27s\n",
      "epoch 39 | loss: 0.01185 | val_0_mse: 0.01335 |  0:03:32s\n",
      "epoch 40 | loss: 0.0117  | val_0_mse: 0.009   |  0:03:37s\n",
      "epoch 41 | loss: 0.01229 | val_0_mse: 0.00742 |  0:03:43s\n",
      "epoch 42 | loss: 0.01146 | val_0_mse: 0.01142 |  0:03:48s\n",
      "epoch 43 | loss: 0.01324 | val_0_mse: 0.01078 |  0:03:54s\n",
      "epoch 44 | loss: 0.0113  | val_0_mse: 0.00619 |  0:03:59s\n",
      "epoch 45 | loss: 0.01228 | val_0_mse: 0.00992 |  0:04:05s\n",
      "epoch 46 | loss: 0.01277 | val_0_mse: 0.01053 |  0:04:10s\n",
      "epoch 47 | loss: 0.0109  | val_0_mse: 0.00704 |  0:04:16s\n",
      "epoch 48 | loss: 0.01073 | val_0_mse: 0.00967 |  0:04:21s\n",
      "epoch 49 | loss: 0.01297 | val_0_mse: 0.0112  |  0:04:27s\n",
      "epoch 50 | loss: 0.01384 | val_0_mse: 0.0221  |  0:04:32s\n",
      "epoch 51 | loss: 0.0135  | val_0_mse: 0.00876 |  0:04:37s\n",
      "epoch 52 | loss: 0.0151  | val_0_mse: 0.0115  |  0:04:43s\n",
      "epoch 53 | loss: 0.01372 | val_0_mse: 0.01319 |  0:04:48s\n",
      "epoch 54 | loss: 0.01036 | val_0_mse: 0.00769 |  0:04:53s\n",
      "\n",
      "Early stopping occurred at epoch 54 with best_epoch = 44 and best_val_0_mse = 0.00619\n"
     ]
    },
    {
     "name": "stderr",
     "output_type": "stream",
     "text": [
      "C:\\Users\\franc\\AppData\\Local\\Packages\\PythonSoftwareFoundation.Python.3.10_qbz5n2kfra8p0\\LocalCache\\local-packages\\Python310\\site-packages\\pytorch_tabnet\\callbacks.py:172: UserWarning: Best weights from best epoch are automatically used!\n",
      "  warnings.warn(wrn_msg)\n"
     ]
    },
    {
     "name": "stdout",
     "output_type": "stream",
     "text": [
      "Model MSE: 0.006448 - Best MSE: 0.004804\n",
      "Model R2 Score: 0.971414 - Best R2 Score: 0.978703\n",
      "\n",
      "Iterations 115/120 - Hyperparameters:  batch_sizes=64, nums_epochs=100, n_d=32, n_a=32, n_step=7, n_indipendent=2, n_shared=3, gamma=1.3, epsilon=1e-08\n"
     ]
    },
    {
     "name": "stderr",
     "output_type": "stream",
     "text": [
      "C:\\Users\\franc\\AppData\\Local\\Packages\\PythonSoftwareFoundation.Python.3.10_qbz5n2kfra8p0\\LocalCache\\local-packages\\Python310\\site-packages\\pytorch_tabnet\\abstract_model.py:75: UserWarning: Device used : cuda\n",
      "  warnings.warn(f\"Device used : {self.device}\")\n"
     ]
    },
    {
     "name": "stdout",
     "output_type": "stream",
     "text": [
      "epoch 0  | loss: 1.28135 | val_0_mse: 0.4384  |  0:00:11s\n",
      "epoch 1  | loss: 0.1693  | val_0_mse: 0.11674 |  0:00:22s\n",
      "epoch 2  | loss: 0.12635 | val_0_mse: 0.09312 |  0:00:33s\n",
      "epoch 3  | loss: 0.11026 | val_0_mse: 0.0746  |  0:00:44s\n",
      "epoch 4  | loss: 0.09343 | val_0_mse: 0.07541 |  0:00:56s\n",
      "epoch 5  | loss: 0.07058 | val_0_mse: 0.07597 |  0:01:07s\n",
      "epoch 6  | loss: 0.05641 | val_0_mse: 0.04419 |  0:01:18s\n",
      "epoch 7  | loss: 0.0592  | val_0_mse: 0.07103 |  0:01:29s\n",
      "epoch 8  | loss: 0.06291 | val_0_mse: 0.04126 |  0:01:40s\n",
      "epoch 9  | loss: 0.06607 | val_0_mse: 0.05735 |  0:01:52s\n",
      "epoch 10 | loss: 0.05582 | val_0_mse: 0.04885 |  0:02:03s\n",
      "epoch 11 | loss: 0.04398 | val_0_mse: 0.03413 |  0:02:14s\n",
      "epoch 12 | loss: 0.03874 | val_0_mse: 0.04827 |  0:02:25s\n",
      "epoch 13 | loss: 0.03301 | val_0_mse: 0.02367 |  0:02:36s\n",
      "epoch 14 | loss: 0.03199 | val_0_mse: 0.04096 |  0:02:47s\n",
      "epoch 15 | loss: 0.02457 | val_0_mse: 0.08481 |  0:02:58s\n",
      "epoch 16 | loss: 0.03077 | val_0_mse: 0.03408 |  0:03:09s\n",
      "epoch 17 | loss: 0.02328 | val_0_mse: 0.0395  |  0:03:21s\n",
      "epoch 18 | loss: 0.02243 | val_0_mse: 0.01336 |  0:03:32s\n",
      "epoch 19 | loss: 0.02515 | val_0_mse: 0.04527 |  0:03:43s\n",
      "epoch 20 | loss: 0.02939 | val_0_mse: 0.02133 |  0:03:54s\n",
      "epoch 21 | loss: 0.0199  | val_0_mse: 0.01991 |  0:04:05s\n",
      "epoch 22 | loss: 0.02096 | val_0_mse: 0.04726 |  0:04:17s\n",
      "epoch 23 | loss: 0.02502 | val_0_mse: 0.05861 |  0:04:28s\n",
      "epoch 24 | loss: 0.02899 | val_0_mse: 0.06799 |  0:04:40s\n",
      "epoch 25 | loss: 0.02239 | val_0_mse: 0.01413 |  0:04:51s\n",
      "epoch 26 | loss: 0.02085 | val_0_mse: 0.06222 |  0:05:03s\n",
      "epoch 27 | loss: 0.01944 | val_0_mse: 0.0152  |  0:05:14s\n",
      "epoch 28 | loss: 0.0175  | val_0_mse: 0.00873 |  0:05:25s\n",
      "epoch 29 | loss: 0.01769 | val_0_mse: 0.03244 |  0:05:36s\n",
      "epoch 30 | loss: 0.01815 | val_0_mse: 0.02953 |  0:05:47s\n",
      "epoch 31 | loss: 0.01887 | val_0_mse: 0.01979 |  0:05:58s\n",
      "epoch 32 | loss: 0.01809 | val_0_mse: 0.03618 |  0:06:10s\n",
      "epoch 33 | loss: 0.02095 | val_0_mse: 0.02749 |  0:06:21s\n",
      "epoch 34 | loss: 0.02102 | val_0_mse: 0.08275 |  0:06:32s\n",
      "epoch 35 | loss: 0.02277 | val_0_mse: 0.027   |  0:06:43s\n",
      "epoch 36 | loss: 0.02254 | val_0_mse: 0.03617 |  0:06:54s\n",
      "epoch 37 | loss: 0.02029 | val_0_mse: 0.01755 |  0:07:05s\n",
      "epoch 38 | loss: 0.02675 | val_0_mse: 0.03085 |  0:07:16s\n",
      "\n",
      "Early stopping occurred at epoch 38 with best_epoch = 28 and best_val_0_mse = 0.00873\n"
     ]
    },
    {
     "name": "stderr",
     "output_type": "stream",
     "text": [
      "C:\\Users\\franc\\AppData\\Local\\Packages\\PythonSoftwareFoundation.Python.3.10_qbz5n2kfra8p0\\LocalCache\\local-packages\\Python310\\site-packages\\pytorch_tabnet\\callbacks.py:172: UserWarning: Best weights from best epoch are automatically used!\n",
      "  warnings.warn(wrn_msg)\n"
     ]
    },
    {
     "name": "stdout",
     "output_type": "stream",
     "text": [
      "Model MSE: 0.008697 - Best MSE: 0.004804\n",
      "Model R2 Score: 0.961442 - Best R2 Score: 0.978703\n",
      "\n",
      "Iterations 116/120 - Hyperparameters:  batch_sizes=128, nums_epochs=100, n_d=32, n_a=32, n_step=7, n_indipendent=2, n_shared=3, gamma=1.3, epsilon=1e-08\n"
     ]
    },
    {
     "name": "stderr",
     "output_type": "stream",
     "text": [
      "C:\\Users\\franc\\AppData\\Local\\Packages\\PythonSoftwareFoundation.Python.3.10_qbz5n2kfra8p0\\LocalCache\\local-packages\\Python310\\site-packages\\pytorch_tabnet\\abstract_model.py:75: UserWarning: Device used : cuda\n",
      "  warnings.warn(f\"Device used : {self.device}\")\n"
     ]
    },
    {
     "name": "stdout",
     "output_type": "stream",
     "text": [
      "epoch 0  | loss: 1.67973 | val_0_mse: 0.20577 |  0:00:06s\n",
      "epoch 1  | loss: 0.40378 | val_0_mse: 0.26334 |  0:00:12s\n",
      "epoch 2  | loss: 0.19064 | val_0_mse: 0.1461  |  0:00:18s\n",
      "epoch 3  | loss: 0.12705 | val_0_mse: 0.08701 |  0:00:24s\n",
      "epoch 4  | loss: 0.0812  | val_0_mse: 0.10493 |  0:00:30s\n",
      "epoch 5  | loss: 0.10026 | val_0_mse: 0.06557 |  0:00:36s\n",
      "epoch 6  | loss: 0.07913 | val_0_mse: 0.05757 |  0:00:43s\n",
      "epoch 7  | loss: 0.07259 | val_0_mse: 0.0488  |  0:00:49s\n",
      "epoch 8  | loss: 0.07324 | val_0_mse: 0.05058 |  0:00:55s\n",
      "epoch 9  | loss: 0.0729  | val_0_mse: 0.08101 |  0:01:01s\n",
      "epoch 10 | loss: 0.06124 | val_0_mse: 0.04411 |  0:01:07s\n",
      "epoch 11 | loss: 0.05735 | val_0_mse: 0.07043 |  0:01:13s\n",
      "epoch 12 | loss: 0.05926 | val_0_mse: 0.04972 |  0:01:19s\n",
      "epoch 13 | loss: 0.05795 | val_0_mse: 0.09052 |  0:01:25s\n",
      "epoch 14 | loss: 0.05162 | val_0_mse: 0.04654 |  0:01:31s\n",
      "epoch 15 | loss: 0.03975 | val_0_mse: 0.04009 |  0:01:37s\n",
      "epoch 16 | loss: 0.04003 | val_0_mse: 0.04081 |  0:01:44s\n",
      "epoch 17 | loss: 0.03644 | val_0_mse: 0.04667 |  0:01:50s\n",
      "epoch 18 | loss: 0.03697 | val_0_mse: 0.03166 |  0:01:56s\n",
      "epoch 19 | loss: 0.03506 | val_0_mse: 0.02794 |  0:02:02s\n",
      "epoch 20 | loss: 0.02634 | val_0_mse: 0.03493 |  0:02:08s\n",
      "epoch 21 | loss: 0.02419 | val_0_mse: 0.0349  |  0:02:14s\n",
      "epoch 22 | loss: 0.02369 | val_0_mse: 0.0128  |  0:02:20s\n",
      "epoch 23 | loss: 0.01941 | val_0_mse: 0.0117  |  0:02:26s\n",
      "epoch 24 | loss: 0.01914 | val_0_mse: 0.01865 |  0:02:32s\n",
      "epoch 25 | loss: 0.02282 | val_0_mse: 0.04253 |  0:02:38s\n",
      "epoch 26 | loss: 0.0203  | val_0_mse: 0.01889 |  0:02:44s\n",
      "epoch 27 | loss: 0.02201 | val_0_mse: 0.02713 |  0:02:50s\n",
      "epoch 28 | loss: 0.01933 | val_0_mse: 0.01556 |  0:02:56s\n",
      "epoch 29 | loss: 0.01868 | val_0_mse: 0.02178 |  0:03:02s\n",
      "epoch 30 | loss: 0.0204  | val_0_mse: 0.01626 |  0:03:08s\n",
      "epoch 31 | loss: 0.01605 | val_0_mse: 0.00782 |  0:03:14s\n",
      "epoch 32 | loss: 0.01453 | val_0_mse: 0.00836 |  0:03:19s\n",
      "epoch 33 | loss: 0.01286 | val_0_mse: 0.01067 |  0:03:25s\n",
      "epoch 34 | loss: 0.01126 | val_0_mse: 0.00694 |  0:03:31s\n",
      "epoch 35 | loss: 0.01394 | val_0_mse: 0.00701 |  0:03:37s\n",
      "epoch 36 | loss: 0.01207 | val_0_mse: 0.00917 |  0:03:43s\n",
      "epoch 37 | loss: 0.01575 | val_0_mse: 0.00946 |  0:03:50s\n",
      "epoch 38 | loss: 0.01113 | val_0_mse: 0.00957 |  0:03:56s\n",
      "epoch 39 | loss: 0.0123  | val_0_mse: 0.01385 |  0:04:02s\n",
      "epoch 40 | loss: 0.01183 | val_0_mse: 0.01236 |  0:04:08s\n",
      "epoch 41 | loss: 0.01562 | val_0_mse: 0.00831 |  0:04:14s\n",
      "epoch 42 | loss: 0.01545 | val_0_mse: 0.00702 |  0:04:20s\n",
      "epoch 43 | loss: 0.01339 | val_0_mse: 0.00633 |  0:04:26s\n",
      "epoch 44 | loss: 0.01209 | val_0_mse: 0.01871 |  0:04:32s\n",
      "epoch 45 | loss: 0.01147 | val_0_mse: 0.00645 |  0:04:38s\n",
      "epoch 46 | loss: 0.01088 | val_0_mse: 0.00725 |  0:04:44s\n",
      "epoch 47 | loss: 0.01296 | val_0_mse: 0.0083  |  0:04:50s\n",
      "epoch 48 | loss: 0.01177 | val_0_mse: 0.00605 |  0:04:56s\n",
      "epoch 49 | loss: 0.01309 | val_0_mse: 0.01141 |  0:05:03s\n",
      "epoch 50 | loss: 0.0099  | val_0_mse: 0.00779 |  0:05:09s\n",
      "epoch 51 | loss: 0.01117 | val_0_mse: 0.00797 |  0:05:15s\n",
      "epoch 52 | loss: 0.01464 | val_0_mse: 0.0051  |  0:05:21s\n",
      "epoch 53 | loss: 0.01158 | val_0_mse: 0.014   |  0:05:27s\n",
      "epoch 54 | loss: 0.01433 | val_0_mse: 0.01265 |  0:05:33s\n",
      "epoch 55 | loss: 0.01048 | val_0_mse: 0.00737 |  0:05:39s\n",
      "epoch 56 | loss: 0.01078 | val_0_mse: 0.01527 |  0:05:45s\n",
      "epoch 57 | loss: 0.01037 | val_0_mse: 0.00676 |  0:05:52s\n",
      "epoch 58 | loss: 0.01073 | val_0_mse: 0.00575 |  0:05:58s\n",
      "epoch 59 | loss: 0.01267 | val_0_mse: 0.0126  |  0:06:04s\n",
      "epoch 60 | loss: 0.01065 | val_0_mse: 0.00673 |  0:06:10s\n",
      "epoch 61 | loss: 0.01218 | val_0_mse: 0.01197 |  0:06:16s\n",
      "epoch 62 | loss: 0.01013 | val_0_mse: 0.01151 |  0:06:22s\n",
      "\n",
      "Early stopping occurred at epoch 62 with best_epoch = 52 and best_val_0_mse = 0.0051\n"
     ]
    },
    {
     "name": "stderr",
     "output_type": "stream",
     "text": [
      "C:\\Users\\franc\\AppData\\Local\\Packages\\PythonSoftwareFoundation.Python.3.10_qbz5n2kfra8p0\\LocalCache\\local-packages\\Python310\\site-packages\\pytorch_tabnet\\callbacks.py:172: UserWarning: Best weights from best epoch are automatically used!\n",
      "  warnings.warn(wrn_msg)\n"
     ]
    },
    {
     "name": "stdout",
     "output_type": "stream",
     "text": [
      "Model MSE: 0.005620 - Best MSE: 0.004804\n",
      "Model R2 Score: 0.975086 - Best R2 Score: 0.978703\n",
      "\n",
      "Iterations 117/120 - Hyperparameters:  batch_sizes=64, nums_epochs=100, n_d=32, n_a=32, n_step=7, n_indipendent=3, n_shared=2, gamma=1.3, epsilon=1e-08\n"
     ]
    },
    {
     "name": "stderr",
     "output_type": "stream",
     "text": [
      "C:\\Users\\franc\\AppData\\Local\\Packages\\PythonSoftwareFoundation.Python.3.10_qbz5n2kfra8p0\\LocalCache\\local-packages\\Python310\\site-packages\\pytorch_tabnet\\abstract_model.py:75: UserWarning: Device used : cuda\n",
      "  warnings.warn(f\"Device used : {self.device}\")\n"
     ]
    },
    {
     "name": "stdout",
     "output_type": "stream",
     "text": [
      "epoch 0  | loss: 2.06395 | val_0_mse: 0.43634 |  0:00:11s\n",
      "epoch 1  | loss: 0.27038 | val_0_mse: 0.14478 |  0:00:22s\n",
      "epoch 2  | loss: 0.15898 | val_0_mse: 0.13822 |  0:00:33s\n",
      "epoch 3  | loss: 0.15569 | val_0_mse: 0.19494 |  0:00:45s\n",
      "epoch 4  | loss: 0.14638 | val_0_mse: 0.11717 |  0:00:56s\n",
      "epoch 5  | loss: 0.12156 | val_0_mse: 0.12247 |  0:01:07s\n",
      "epoch 6  | loss: 0.11457 | val_0_mse: 0.12128 |  0:01:18s\n",
      "epoch 7  | loss: 0.10891 | val_0_mse: 0.09515 |  0:01:30s\n",
      "epoch 8  | loss: 0.0978  | val_0_mse: 0.10662 |  0:01:41s\n",
      "epoch 9  | loss: 0.10383 | val_0_mse: 0.08572 |  0:01:52s\n",
      "epoch 10 | loss: 0.09544 | val_0_mse: 0.08488 |  0:02:03s\n",
      "epoch 11 | loss: 0.07859 | val_0_mse: 0.09628 |  0:02:14s\n",
      "epoch 12 | loss: 0.08977 | val_0_mse: 0.06055 |  0:02:25s\n",
      "epoch 13 | loss: 0.06417 | val_0_mse: 0.03939 |  0:02:37s\n",
      "epoch 14 | loss: 0.04837 | val_0_mse: 0.05308 |  0:02:48s\n",
      "epoch 15 | loss: 0.04956 | val_0_mse: 0.0435  |  0:02:59s\n",
      "epoch 16 | loss: 0.04743 | val_0_mse: 0.03512 |  0:03:10s\n",
      "epoch 17 | loss: 0.0423  | val_0_mse: 0.04148 |  0:03:21s\n",
      "epoch 18 | loss: 0.03459 | val_0_mse: 0.02458 |  0:03:32s\n",
      "epoch 19 | loss: 0.02873 | val_0_mse: 0.01969 |  0:03:43s\n",
      "epoch 20 | loss: 0.02709 | val_0_mse: 0.0173  |  0:03:54s\n",
      "epoch 21 | loss: 0.02803 | val_0_mse: 0.05693 |  0:04:06s\n",
      "epoch 22 | loss: 0.02903 | val_0_mse: 0.04082 |  0:04:18s\n",
      "epoch 23 | loss: 0.02031 | val_0_mse: 0.022   |  0:04:31s\n",
      "epoch 24 | loss: 0.02723 | val_0_mse: 0.0129  |  0:04:44s\n",
      "epoch 25 | loss: 0.02221 | val_0_mse: 0.0593  |  0:04:56s\n",
      "epoch 26 | loss: 0.02445 | val_0_mse: 0.01188 |  0:05:09s\n",
      "epoch 27 | loss: 0.01922 | val_0_mse: 0.0401  |  0:05:22s\n",
      "epoch 28 | loss: 0.01856 | val_0_mse: 0.00707 |  0:05:34s\n",
      "epoch 29 | loss: 0.02026 | val_0_mse: 0.01132 |  0:05:47s\n",
      "epoch 30 | loss: 0.01963 | val_0_mse: 0.00855 |  0:06:00s\n",
      "epoch 31 | loss: 0.01647 | val_0_mse: 0.01017 |  0:06:12s\n",
      "epoch 32 | loss: 0.01861 | val_0_mse: 0.05572 |  0:06:25s\n",
      "epoch 33 | loss: 0.01962 | val_0_mse: 0.07382 |  0:06:38s\n",
      "epoch 34 | loss: 0.01794 | val_0_mse: 0.09243 |  0:06:51s\n",
      "epoch 35 | loss: 0.02489 | val_0_mse: 0.06096 |  0:07:04s\n",
      "epoch 36 | loss: 0.0208  | val_0_mse: 0.01577 |  0:07:17s\n",
      "epoch 37 | loss: 0.01654 | val_0_mse: 0.0368  |  0:07:29s\n",
      "epoch 38 | loss: 0.01826 | val_0_mse: 0.03229 |  0:07:42s\n",
      "\n",
      "Early stopping occurred at epoch 38 with best_epoch = 28 and best_val_0_mse = 0.00707\n"
     ]
    },
    {
     "name": "stderr",
     "output_type": "stream",
     "text": [
      "C:\\Users\\franc\\AppData\\Local\\Packages\\PythonSoftwareFoundation.Python.3.10_qbz5n2kfra8p0\\LocalCache\\local-packages\\Python310\\site-packages\\pytorch_tabnet\\callbacks.py:172: UserWarning: Best weights from best epoch are automatically used!\n",
      "  warnings.warn(wrn_msg)\n"
     ]
    },
    {
     "name": "stdout",
     "output_type": "stream",
     "text": [
      "Model MSE: 0.007455 - Best MSE: 0.004804\n",
      "Model R2 Score: 0.966949 - Best R2 Score: 0.978703\n",
      "\n",
      "Iterations 118/120 - Hyperparameters:  batch_sizes=128, nums_epochs=100, n_d=32, n_a=32, n_step=7, n_indipendent=3, n_shared=2, gamma=1.3, epsilon=1e-08\n"
     ]
    },
    {
     "name": "stderr",
     "output_type": "stream",
     "text": [
      "C:\\Users\\franc\\AppData\\Local\\Packages\\PythonSoftwareFoundation.Python.3.10_qbz5n2kfra8p0\\LocalCache\\local-packages\\Python310\\site-packages\\pytorch_tabnet\\abstract_model.py:75: UserWarning: Device used : cuda\n",
      "  warnings.warn(f\"Device used : {self.device}\")\n"
     ]
    },
    {
     "name": "stdout",
     "output_type": "stream",
     "text": [
      "epoch 0  | loss: 3.70615 | val_0_mse: 1.84594 |  0:00:06s\n",
      "epoch 1  | loss: 0.80416 | val_0_mse: 0.17106 |  0:00:12s\n",
      "epoch 2  | loss: 0.21647 | val_0_mse: 0.16182 |  0:00:18s\n",
      "epoch 3  | loss: 0.15967 | val_0_mse: 0.12883 |  0:00:24s\n",
      "epoch 4  | loss: 0.12377 | val_0_mse: 0.11236 |  0:00:30s\n",
      "epoch 5  | loss: 0.10289 | val_0_mse: 0.08572 |  0:00:36s\n",
      "epoch 6  | loss: 0.09276 | val_0_mse: 0.0829  |  0:00:42s\n",
      "epoch 7  | loss: 0.07748 | val_0_mse: 0.09842 |  0:00:49s\n",
      "epoch 8  | loss: 0.08412 | val_0_mse: 0.06603 |  0:00:55s\n",
      "epoch 9  | loss: 0.06616 | val_0_mse: 0.06737 |  0:01:01s\n",
      "epoch 10 | loss: 0.06691 | val_0_mse: 0.05231 |  0:01:07s\n",
      "epoch 11 | loss: 0.06307 | val_0_mse: 0.06367 |  0:01:13s\n",
      "epoch 12 | loss: 0.05461 | val_0_mse: 0.04842 |  0:01:19s\n",
      "epoch 13 | loss: 0.04854 | val_0_mse: 0.03506 |  0:01:25s\n",
      "epoch 14 | loss: 0.04039 | val_0_mse: 0.03818 |  0:01:31s\n",
      "epoch 15 | loss: 0.0394  | val_0_mse: 0.03721 |  0:01:37s\n",
      "epoch 16 | loss: 0.04535 | val_0_mse: 0.03993 |  0:01:44s\n",
      "epoch 17 | loss: 0.03788 | val_0_mse: 0.02669 |  0:01:50s\n",
      "epoch 18 | loss: 0.03288 | val_0_mse: 0.02805 |  0:01:56s\n",
      "epoch 19 | loss: 0.03078 | val_0_mse: 0.03798 |  0:02:03s\n",
      "epoch 20 | loss: 0.03281 | val_0_mse: 0.03444 |  0:02:09s\n",
      "epoch 21 | loss: 0.02279 | val_0_mse: 0.03051 |  0:02:15s\n",
      "epoch 22 | loss: 0.0289  | val_0_mse: 0.01307 |  0:02:21s\n",
      "epoch 23 | loss: 0.01805 | val_0_mse: 0.01278 |  0:02:27s\n",
      "epoch 24 | loss: 0.01976 | val_0_mse: 0.01044 |  0:02:33s\n",
      "epoch 25 | loss: 0.01822 | val_0_mse: 0.10146 |  0:02:40s\n",
      "epoch 26 | loss: 0.02031 | val_0_mse: 0.18837 |  0:02:46s\n",
      "epoch 27 | loss: 0.0164  | val_0_mse: 0.01274 |  0:02:52s\n",
      "epoch 28 | loss: 0.02146 | val_0_mse: 0.01371 |  0:02:58s\n",
      "epoch 29 | loss: 0.01488 | val_0_mse: 0.01347 |  0:03:04s\n",
      "epoch 30 | loss: 0.01397 | val_0_mse: 0.01049 |  0:03:10s\n",
      "epoch 31 | loss: 0.01697 | val_0_mse: 0.01011 |  0:03:16s\n",
      "epoch 32 | loss: 0.01882 | val_0_mse: 0.11766 |  0:03:22s\n",
      "epoch 33 | loss: 0.03582 | val_0_mse: 0.03026 |  0:03:28s\n",
      "epoch 34 | loss: 0.02266 | val_0_mse: 0.03082 |  0:03:34s\n",
      "epoch 35 | loss: 0.02083 | val_0_mse: 0.01805 |  0:03:40s\n",
      "epoch 36 | loss: 0.01878 | val_0_mse: 0.00926 |  0:03:46s\n",
      "epoch 37 | loss: 0.01625 | val_0_mse: 0.01687 |  0:03:53s\n",
      "epoch 38 | loss: 0.0178  | val_0_mse: 0.12565 |  0:03:59s\n",
      "epoch 39 | loss: 0.01684 | val_0_mse: 0.03113 |  0:04:05s\n",
      "epoch 40 | loss: 0.02039 | val_0_mse: 0.01616 |  0:04:11s\n",
      "epoch 41 | loss: 0.01737 | val_0_mse: 0.02233 |  0:04:17s\n",
      "epoch 42 | loss: 0.01379 | val_0_mse: 0.02506 |  0:04:24s\n",
      "epoch 43 | loss: 0.01442 | val_0_mse: 0.01823 |  0:04:31s\n",
      "epoch 44 | loss: 0.011   | val_0_mse: 0.0124  |  0:04:38s\n",
      "epoch 45 | loss: 0.012   | val_0_mse: 0.00879 |  0:04:45s\n",
      "epoch 46 | loss: 0.01035 | val_0_mse: 0.00967 |  0:04:52s\n",
      "epoch 47 | loss: 0.01355 | val_0_mse: 0.01023 |  0:04:58s\n",
      "epoch 48 | loss: 0.0112  | val_0_mse: 0.00672 |  0:05:04s\n",
      "epoch 49 | loss: 0.01248 | val_0_mse: 0.01529 |  0:05:10s\n",
      "epoch 50 | loss: 0.0132  | val_0_mse: 0.00703 |  0:05:16s\n",
      "epoch 51 | loss: 0.01025 | val_0_mse: 0.63414 |  0:05:22s\n",
      "epoch 52 | loss: 0.01281 | val_0_mse: 0.00577 |  0:05:29s\n",
      "epoch 53 | loss: 0.00965 | val_0_mse: 0.00961 |  0:05:35s\n",
      "epoch 54 | loss: 0.00896 | val_0_mse: 0.00884 |  0:05:41s\n",
      "epoch 55 | loss: 0.01165 | val_0_mse: 0.01512 |  0:05:47s\n",
      "epoch 56 | loss: 0.01591 | val_0_mse: 0.02437 |  0:05:53s\n",
      "epoch 57 | loss: 0.01161 | val_0_mse: 0.00558 |  0:05:59s\n",
      "epoch 58 | loss: 0.01    | val_0_mse: 0.01174 |  0:06:05s\n",
      "epoch 59 | loss: 0.01649 | val_0_mse: 0.04496 |  0:06:11s\n",
      "epoch 60 | loss: 0.02101 | val_0_mse: 0.06059 |  0:06:17s\n",
      "epoch 61 | loss: 0.01614 | val_0_mse: 0.01315 |  0:06:24s\n",
      "epoch 62 | loss: 0.01604 | val_0_mse: 0.0074  |  0:06:30s\n",
      "epoch 63 | loss: 0.01039 | val_0_mse: 0.00935 |  0:06:36s\n",
      "epoch 64 | loss: 0.01126 | val_0_mse: 0.01757 |  0:06:42s\n",
      "epoch 65 | loss: 0.01228 | val_0_mse: 0.01375 |  0:06:48s\n",
      "epoch 66 | loss: 0.01366 | val_0_mse: 0.0083  |  0:06:54s\n",
      "epoch 67 | loss: 0.009   | val_0_mse: 0.57147 |  0:07:00s\n",
      "\n",
      "Early stopping occurred at epoch 67 with best_epoch = 57 and best_val_0_mse = 0.00558\n"
     ]
    },
    {
     "name": "stderr",
     "output_type": "stream",
     "text": [
      "C:\\Users\\franc\\AppData\\Local\\Packages\\PythonSoftwareFoundation.Python.3.10_qbz5n2kfra8p0\\LocalCache\\local-packages\\Python310\\site-packages\\pytorch_tabnet\\callbacks.py:172: UserWarning: Best weights from best epoch are automatically used!\n",
      "  warnings.warn(wrn_msg)\n"
     ]
    },
    {
     "name": "stdout",
     "output_type": "stream",
     "text": [
      "Model MSE: 0.005443 - Best MSE: 0.004804\n",
      "Model R2 Score: 0.975867 - Best R2 Score: 0.978703\n",
      "\n",
      "Iterations 119/120 - Hyperparameters:  batch_sizes=64, nums_epochs=100, n_d=32, n_a=32, n_step=7, n_indipendent=3, n_shared=3, gamma=1.3, epsilon=1e-08\n"
     ]
    },
    {
     "name": "stderr",
     "output_type": "stream",
     "text": [
      "C:\\Users\\franc\\AppData\\Local\\Packages\\PythonSoftwareFoundation.Python.3.10_qbz5n2kfra8p0\\LocalCache\\local-packages\\Python310\\site-packages\\pytorch_tabnet\\abstract_model.py:75: UserWarning: Device used : cuda\n",
      "  warnings.warn(f\"Device used : {self.device}\")\n"
     ]
    },
    {
     "name": "stdout",
     "output_type": "stream",
     "text": [
      "epoch 0  | loss: 1.35581 | val_0_mse: 0.21795 |  0:00:12s\n",
      "epoch 1  | loss: 0.2228  | val_0_mse: 0.10759 |  0:00:25s\n",
      "epoch 2  | loss: 0.12275 | val_0_mse: 0.10459 |  0:00:38s\n",
      "epoch 3  | loss: 0.1055  | val_0_mse: 0.10792 |  0:00:50s\n",
      "epoch 4  | loss: 0.09902 | val_0_mse: 0.0935  |  0:01:03s\n",
      "epoch 5  | loss: 0.09275 | val_0_mse: 0.07788 |  0:01:15s\n",
      "epoch 6  | loss: 0.08021 | val_0_mse: 0.11048 |  0:01:27s\n",
      "epoch 7  | loss: 0.08944 | val_0_mse: 0.07711 |  0:01:41s\n",
      "epoch 8  | loss: 0.07918 | val_0_mse: 0.09206 |  0:01:54s\n",
      "epoch 9  | loss: 0.08145 | val_0_mse: 0.07222 |  0:02:07s\n",
      "epoch 10 | loss: 0.07135 | val_0_mse: 0.0774  |  0:02:19s\n",
      "epoch 11 | loss: 0.07403 | val_0_mse: 0.06787 |  0:02:32s\n",
      "epoch 12 | loss: 0.07044 | val_0_mse: 0.07681 |  0:02:44s\n",
      "epoch 13 | loss: 0.06619 | val_0_mse: 0.06232 |  0:02:57s\n",
      "epoch 14 | loss: 0.062   | val_0_mse: 0.05396 |  0:03:09s\n",
      "epoch 15 | loss: 0.06049 | val_0_mse: 0.05616 |  0:03:22s\n",
      "epoch 16 | loss: 0.06009 | val_0_mse: 0.06144 |  0:03:35s\n",
      "epoch 17 | loss: 0.05658 | val_0_mse: 0.05797 |  0:03:47s\n",
      "epoch 18 | loss: 0.0578  | val_0_mse: 0.0552  |  0:04:00s\n",
      "epoch 19 | loss: 0.05657 | val_0_mse: 0.05711 |  0:04:12s\n",
      "epoch 20 | loss: 0.05245 | val_0_mse: 0.04222 |  0:04:25s\n",
      "epoch 21 | loss: 0.05229 | val_0_mse: 0.0311  |  0:04:37s\n",
      "epoch 22 | loss: 0.0377  | val_0_mse: 0.03728 |  0:04:50s\n",
      "epoch 23 | loss: 0.03608 | val_0_mse: 0.04666 |  0:05:03s\n",
      "epoch 24 | loss: 0.03435 | val_0_mse: 0.02233 |  0:05:15s\n",
      "epoch 25 | loss: 0.02394 | val_0_mse: 0.02453 |  0:05:28s\n",
      "epoch 26 | loss: 0.02308 | val_0_mse: 0.03475 |  0:05:40s\n",
      "epoch 27 | loss: 0.02735 | val_0_mse: 0.027   |  0:05:53s\n",
      "epoch 28 | loss: 0.01805 | val_0_mse: 0.02034 |  0:06:06s\n",
      "epoch 29 | loss: 0.02466 | val_0_mse: 0.01275 |  0:06:18s\n",
      "epoch 30 | loss: 0.0155  | val_0_mse: 0.00972 |  0:06:31s\n",
      "epoch 31 | loss: 0.0176  | val_0_mse: 0.03541 |  0:06:43s\n",
      "epoch 32 | loss: 0.022   | val_0_mse: 0.0151  |  0:06:56s\n",
      "epoch 33 | loss: 0.01821 | val_0_mse: 0.00978 |  0:07:08s\n",
      "epoch 34 | loss: 0.01697 | val_0_mse: 0.01011 |  0:07:20s\n",
      "epoch 35 | loss: 0.01409 | val_0_mse: 0.01503 |  0:07:33s\n",
      "epoch 36 | loss: 0.01535 | val_0_mse: 0.01914 |  0:07:46s\n",
      "epoch 37 | loss: 0.01433 | val_0_mse: 0.01205 |  0:07:58s\n",
      "epoch 38 | loss: 0.013   | val_0_mse: 0.01207 |  0:08:11s\n",
      "epoch 39 | loss: 0.0146  | val_0_mse: 0.01032 |  0:08:24s\n",
      "epoch 40 | loss: 0.01589 | val_0_mse: 0.02171 |  0:08:36s\n",
      "\n",
      "Early stopping occurred at epoch 40 with best_epoch = 30 and best_val_0_mse = 0.00972\n"
     ]
    },
    {
     "name": "stderr",
     "output_type": "stream",
     "text": [
      "C:\\Users\\franc\\AppData\\Local\\Packages\\PythonSoftwareFoundation.Python.3.10_qbz5n2kfra8p0\\LocalCache\\local-packages\\Python310\\site-packages\\pytorch_tabnet\\callbacks.py:172: UserWarning: Best weights from best epoch are automatically used!\n",
      "  warnings.warn(wrn_msg)\n"
     ]
    },
    {
     "name": "stdout",
     "output_type": "stream",
     "text": [
      "Model MSE: 0.009777 - Best MSE: 0.004804\n",
      "Model R2 Score: 0.956655 - Best R2 Score: 0.978703\n",
      "\n",
      "Iterations 120/120 - Hyperparameters:  batch_sizes=128, nums_epochs=100, n_d=32, n_a=32, n_step=7, n_indipendent=3, n_shared=3, gamma=1.3, epsilon=1e-08\n"
     ]
    },
    {
     "name": "stderr",
     "output_type": "stream",
     "text": [
      "C:\\Users\\franc\\AppData\\Local\\Packages\\PythonSoftwareFoundation.Python.3.10_qbz5n2kfra8p0\\LocalCache\\local-packages\\Python310\\site-packages\\pytorch_tabnet\\abstract_model.py:75: UserWarning: Device used : cuda\n",
      "  warnings.warn(f\"Device used : {self.device}\")\n"
     ]
    },
    {
     "name": "stdout",
     "output_type": "stream",
     "text": [
      "epoch 0  | loss: 2.04621 | val_0_mse: 0.89179 |  0:00:06s\n",
      "epoch 1  | loss: 0.65459 | val_0_mse: 0.55104 |  0:00:13s\n",
      "epoch 2  | loss: 0.27058 | val_0_mse: 0.21246 |  0:00:20s\n",
      "epoch 3  | loss: 0.14727 | val_0_mse: 0.17287 |  0:00:27s\n",
      "epoch 4  | loss: 0.1315  | val_0_mse: 0.11316 |  0:00:34s\n",
      "epoch 5  | loss: 0.09004 | val_0_mse: 0.09714 |  0:00:41s\n",
      "epoch 6  | loss: 0.08564 | val_0_mse: 0.0746  |  0:00:48s\n",
      "epoch 7  | loss: 0.08673 | val_0_mse: 0.09315 |  0:00:55s\n",
      "epoch 8  | loss: 0.07454 | val_0_mse: 0.07321 |  0:01:01s\n",
      "epoch 9  | loss: 0.08269 | val_0_mse: 0.07691 |  0:01:08s\n",
      "epoch 10 | loss: 0.08133 | val_0_mse: 0.10324 |  0:01:15s\n",
      "epoch 11 | loss: 0.07636 | val_0_mse: 0.06642 |  0:01:22s\n",
      "epoch 12 | loss: 0.0662  | val_0_mse: 0.06662 |  0:01:29s\n",
      "epoch 13 | loss: 0.05649 | val_0_mse: 0.04664 |  0:01:36s\n",
      "epoch 14 | loss: 0.04468 | val_0_mse: 0.04308 |  0:01:42s\n",
      "epoch 15 | loss: 0.03865 | val_0_mse: 0.04028 |  0:01:49s\n",
      "epoch 16 | loss: 0.0495  | val_0_mse: 0.0324  |  0:01:56s\n",
      "epoch 17 | loss: 0.03362 | val_0_mse: 0.02815 |  0:02:03s\n",
      "epoch 18 | loss: 0.03435 | val_0_mse: 0.04866 |  0:02:10s\n",
      "epoch 19 | loss: 0.02756 | val_0_mse: 0.02469 |  0:02:17s\n",
      "epoch 20 | loss: 0.02086 | val_0_mse: 0.01503 |  0:02:24s\n",
      "epoch 21 | loss: 0.02241 | val_0_mse: 0.01645 |  0:02:31s\n",
      "epoch 22 | loss: 0.02276 | val_0_mse: 0.01765 |  0:02:38s\n",
      "epoch 23 | loss: 0.02835 | val_0_mse: 0.03331 |  0:02:44s\n",
      "epoch 24 | loss: 0.02251 | val_0_mse: 0.01913 |  0:02:51s\n",
      "epoch 25 | loss: 0.02309 | val_0_mse: 0.01319 |  0:02:58s\n",
      "epoch 26 | loss: 0.02077 | val_0_mse: 0.01697 |  0:03:05s\n",
      "epoch 27 | loss: 0.02042 | val_0_mse: 0.02267 |  0:03:12s\n",
      "epoch 28 | loss: 0.02101 | val_0_mse: 0.01935 |  0:03:19s\n",
      "epoch 29 | loss: 0.01534 | val_0_mse: 0.01453 |  0:03:25s\n",
      "epoch 30 | loss: 0.01287 | val_0_mse: 0.0082  |  0:03:32s\n",
      "epoch 31 | loss: 0.0223  | val_0_mse: 0.03907 |  0:03:39s\n",
      "epoch 32 | loss: 0.01334 | val_0_mse: 0.01846 |  0:03:46s\n",
      "epoch 33 | loss: 0.01978 | val_0_mse: 0.02151 |  0:03:53s\n",
      "epoch 34 | loss: 0.01843 | val_0_mse: 0.01833 |  0:03:59s\n",
      "epoch 35 | loss: 0.01192 | val_0_mse: 0.0112  |  0:04:06s\n",
      "epoch 36 | loss: 0.02194 | val_0_mse: 0.04762 |  0:04:13s\n",
      "epoch 37 | loss: 0.01754 | val_0_mse: 0.01196 |  0:04:20s\n",
      "epoch 38 | loss: 0.01468 | val_0_mse: 0.00752 |  0:04:26s\n",
      "epoch 39 | loss: 0.01804 | val_0_mse: 0.03437 |  0:04:33s\n",
      "epoch 40 | loss: 0.0127  | val_0_mse: 0.00856 |  0:04:40s\n",
      "epoch 41 | loss: 0.02101 | val_0_mse: 0.04202 |  0:04:47s\n",
      "epoch 42 | loss: 0.02906 | val_0_mse: 0.01818 |  0:04:53s\n",
      "epoch 43 | loss: 0.01494 | val_0_mse: 0.0295  |  0:05:00s\n",
      "epoch 44 | loss: 0.02382 | val_0_mse: 0.01184 |  0:05:07s\n",
      "epoch 45 | loss: 0.01398 | val_0_mse: 0.01417 |  0:05:14s\n",
      "epoch 46 | loss: 0.01108 | val_0_mse: 0.02394 |  0:05:20s\n",
      "epoch 47 | loss: 0.01451 | val_0_mse: 0.00671 |  0:05:27s\n",
      "epoch 48 | loss: 0.012   | val_0_mse: 0.00999 |  0:05:34s\n",
      "epoch 49 | loss: 0.01237 | val_0_mse: 0.00989 |  0:05:41s\n",
      "epoch 50 | loss: 0.01402 | val_0_mse: 0.02371 |  0:05:48s\n",
      "epoch 51 | loss: 0.02029 | val_0_mse: 0.01595 |  0:05:54s\n",
      "epoch 52 | loss: 0.01171 | val_0_mse: 0.00777 |  0:06:01s\n",
      "epoch 53 | loss: 0.01192 | val_0_mse: 0.00706 |  0:06:08s\n",
      "epoch 54 | loss: 0.01104 | val_0_mse: 0.01032 |  0:06:15s\n",
      "epoch 55 | loss: 0.01091 | val_0_mse: 0.00569 |  0:06:22s\n",
      "epoch 56 | loss: 0.01372 | val_0_mse: 0.0055  |  0:06:28s\n",
      "epoch 57 | loss: 0.0105  | val_0_mse: 0.01083 |  0:06:35s\n",
      "epoch 58 | loss: 0.01123 | val_0_mse: 0.01037 |  0:06:42s\n",
      "epoch 59 | loss: 0.01217 | val_0_mse: 0.01224 |  0:06:49s\n",
      "epoch 60 | loss: 0.01003 | val_0_mse: 0.00846 |  0:06:56s\n",
      "epoch 61 | loss: 0.00956 | val_0_mse: 0.00979 |  0:07:02s\n",
      "epoch 62 | loss: 0.01118 | val_0_mse: 0.01735 |  0:07:09s\n",
      "epoch 63 | loss: 0.01042 | val_0_mse: 0.02513 |  0:07:16s\n",
      "epoch 64 | loss: 0.01303 | val_0_mse: 0.01708 |  0:07:23s\n",
      "epoch 65 | loss: 0.01696 | val_0_mse: 0.01142 |  0:07:29s\n",
      "epoch 66 | loss: 0.0111  | val_0_mse: 0.01548 |  0:07:36s\n",
      "\n",
      "Early stopping occurred at epoch 66 with best_epoch = 56 and best_val_0_mse = 0.0055\n"
     ]
    },
    {
     "name": "stderr",
     "output_type": "stream",
     "text": [
      "C:\\Users\\franc\\AppData\\Local\\Packages\\PythonSoftwareFoundation.Python.3.10_qbz5n2kfra8p0\\LocalCache\\local-packages\\Python310\\site-packages\\pytorch_tabnet\\callbacks.py:172: UserWarning: Best weights from best epoch are automatically used!\n",
      "  warnings.warn(wrn_msg)\n"
     ]
    },
    {
     "name": "stdout",
     "output_type": "stream",
     "text": [
      "Model MSE: 0.006136 - Best MSE: 0.004804\n",
      "Model R2 Score: 0.972795 - Best R2 Score: 0.978703\n"
     ]
    }
   ],
   "source": [
    "if os.path.exists('tabularML/training'):\n",
    "    os.system('rm -r tabularML/training')\n",
    "else:\n",
    "    os.makedirs('tabularML/training')\n",
    "\n",
    "current_iter = 0\n",
    "\n",
    "best_mse = float('inf')\n",
    "best_model = None\n",
    "best_n_d = None\n",
    "best_n_a = None\n",
    "best_n_step = None\n",
    "best_n_indipendent = None\n",
    "best_n_shared = None\n",
    "best_gamma = None\n",
    "best_batch_size = None\n",
    "\n",
    "for n_d_a, n_step,n_indipendent,n_shared, gamma, epsilon,nums_epochs, batch_sizes in hyperparameters:\n",
    "    current_iter += 1\n",
    "\n",
    "    print(\"\\nIterations {}/{} - Hyperparameters:  batch_sizes={}, nums_epochs={}, n_d={}, n_a={}, n_step={}, n_indipendent={}, n_shared={}, gamma={}, epsilon={}\".format(\n",
    "        current_iter, n_comb, batch_sizes, nums_epochs, n_d_a, n_d_a, n_step, n_indipendent, n_shared, gamma, epsilon ))\n",
    "\n",
    "    model = get_model(n_d_a, n_step, n_indipendent, n_shared, gamma, epsilon)\n",
    "    \n",
    "    log_name = \"batch_size=\"+str(batch_sizes)+\"n_d=\"+str(n_d_a)+\"n_a=\"+str(n_d_a)+\"n_step=\"+str(n_step)+\"n_indipendent=\"+str(n_indipendent)+\"n_shared=\"+str(n_shared)+\"gamma=\"+str(gamma)+\"epsilon=\"+str(epsilon)\n",
    "    \n",
    "    # start tensorboard\n",
    "    writer = SummaryWriter('run/tabularML/training/'+log_name)\n",
    "    \n",
    "    # train\n",
    "    model.fit(\n",
    "                X_train=X_train,\n",
    "                y_train=Y_train,\n",
    "                eval_set=[(X_val, Y_val)],\n",
    "                eval_metric=['mse'],\n",
    "                patience=10,\n",
    "                batch_size=batch_sizes,\n",
    "                virtual_batch_size=128,\n",
    "                num_workers=0,\n",
    "                drop_last=False,\n",
    "                max_epochs=nums_epochs,\n",
    "            )\n",
    "    \n",
    "\n",
    "    preds = model.predict(X_test)\n",
    "    mse = mean_squared_error(Y_test, preds)\n",
    "    \n",
    "    writer.add_hparams({'n_d':n_d_a, 'n_a':n_d_a, 'n_step':n_step, 'n_indipendent':n_indipendent, 'n_shared':n_shared, 'gamma':gamma, 'epsilon':epsilon, 'batch_sizes':batch_sizes, 'nums_epochs':nums_epochs }, {'hparam/mse': mse})\n",
    "\n",
    "    if mse < best_mse:\n",
    "        best_mse = mse\n",
    "        best_n_d = n_d_a\n",
    "        best_n_a = n_d_a\n",
    "        best_n_step = n_step\n",
    "        best_n_indipendent = n_indipendent\n",
    "        best_n_shared = n_shared\n",
    "        best_gamma = gamma\n",
    "        best_batch_size = batch_sizes\n",
    "        best_model = copy.deepcopy(model) \n",
    "        \n",
    "    writer.flush()            \n",
    "            \n",
    "    print(\"Model MSE: {:.6f} - Best MSE: {:.6f}\".format(mse, best_mse))\n",
    "    print(\"Model R2 Score: {:.6f} - Best R2 Score: {:.6f}\".format(r2_score(Y_test, preds), r2_score(Y_test, best_model.predict(X_test))))\n"
   ]
  },
  {
   "cell_type": "code",
   "execution_count": 11,
   "metadata": {},
   "outputs": [
    {
     "name": "stdout",
     "output_type": "stream",
     "text": [
      "8\n",
      "8\n",
      "4\n",
      "2\n",
      "2\n",
      "1.3\n",
      "128\n"
     ]
    }
   ],
   "source": [
    "\n",
    "print(best_n_d)\n",
    "print(best_n_a)\n",
    "print(best_n_step)\n",
    "print(best_n_indipendent)\n",
    "print(best_n_shared)\n",
    "print(best_gamma)\n",
    "print(best_batch_size)"
   ]
  },
  {
   "cell_type": "code",
   "execution_count": null,
   "metadata": {},
   "outputs": [],
   "source": []
  }
 ],
 "metadata": {
  "kernelspec": {
   "display_name": "Python 3",
   "language": "python",
   "name": "python3"
  },
  "language_info": {
   "codemirror_mode": {
    "name": "ipython",
    "version": 3
   },
   "file_extension": ".py",
   "mimetype": "text/x-python",
   "name": "python",
   "nbconvert_exporter": "python",
   "pygments_lexer": "ipython3",
   "version": "3.10.11"
  },
  "orig_nbformat": 4
 },
 "nbformat": 4,
 "nbformat_minor": 2
}
